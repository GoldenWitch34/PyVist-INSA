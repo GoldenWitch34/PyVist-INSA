{
 "cells": [
  {
   "cell_type": "code",
   "execution_count": 1,
   "id": "2284965e",
   "metadata": {},
   "outputs": [],
   "source": [
    "import pyvista as pv\n",
    "import numpy as np\n",
    "import matplotlib.pyplot as plt\n",
    "import vtk as vtk"
   ]
  },
  {
   "cell_type": "code",
   "execution_count": 2,
   "id": "60989356",
   "metadata": {},
   "outputs": [],
   "source": [
    "%matplotlib inline"
   ]
  },
  {
   "cell_type": "markdown",
   "id": "f1e0f5be",
   "metadata": {},
   "source": [
    "# Try to load case with `pyvista.read`"
   ]
  },
  {
   "cell_type": "markdown",
   "id": "0615fc6e",
   "metadata": {},
   "source": [
    "PyVista is smart enough to allow the load of an OpenFOAM case (`.foam` extension here)"
   ]
  },
  {
   "cell_type": "code",
   "execution_count": 3,
   "id": "c4348f64",
   "metadata": {},
   "outputs": [],
   "source": [
    "# Import the OpenFOAM example case\n",
    "case = pv.read('./case.foam')"
   ]
  },
  {
   "cell_type": "code",
   "execution_count": 4,
   "id": "e5cfabb3",
   "metadata": {},
   "outputs": [
    {
     "data": {
      "text/plain": [
       "['internalMesh']"
      ]
     },
     "execution_count": 4,
     "metadata": {},
     "output_type": "execute_result"
    }
   ],
   "source": [
    "case.keys()"
   ]
  },
  {
   "cell_type": "code",
   "execution_count": 5,
   "id": "846bba7f",
   "metadata": {},
   "outputs": [],
   "source": [
    "mesh = case[0]"
   ]
  },
  {
   "cell_type": "code",
   "execution_count": 6,
   "id": "5940a287",
   "metadata": {},
   "outputs": [
    {
     "data": {
      "text/html": [
       "<table><tr><th>Header</th><th>Data Arrays</th></tr><tr><td>\n",
       "<table>\n",
       "<tr><th>UnstructuredGrid</th><th>Information</th></tr>\n",
       "<tr><td>N Cells</td><td>12225</td></tr>\n",
       "<tr><td>N Points</td><td>25012</td></tr>\n",
       "<tr><td>X Bounds</td><td>-2.060e-02, 2.900e-01</td></tr>\n",
       "<tr><td>Y Bounds</td><td>-2.540e-02, 2.540e-02</td></tr>\n",
       "<tr><td>Z Bounds</td><td>-5.000e-04, 5.000e-04</td></tr>\n",
       "<tr><td>N Arrays</td><td>10</td></tr>\n",
       "</table>\n",
       "\n",
       "</td><td>\n",
       "<table>\n",
       "<tr><th>Name</th><th>Field</th><th>Type</th><th>N Comp</th><th>Min</th><th>Max</th></tr>\n",
       "<tr><td>U</td><td>Points</td><td>float32</td><td>3</td><td>0.000e+00</td><td>1.000e+01</td></tr>\n",
       "<tr><td>epsilon</td><td>Points</td><td>float32</td><td>1</td><td>1.485e+01</td><td>1.485e+01</td></tr>\n",
       "<tr><td>k</td><td>Points</td><td>float32</td><td>1</td><td>3.750e-01</td><td>3.750e-01</td></tr>\n",
       "<tr><td>nut</td><td>Points</td><td>float32</td><td>1</td><td>0.000e+00</td><td>0.000e+00</td></tr>\n",
       "<tr><td><b>p</b></td><td>Points</td><td>float32</td><td>1</td><td>0.000e+00</td><td>0.000e+00</td></tr>\n",
       "<tr><td>U</td><td>Cells</td><td>float32</td><td>3</td><td>0.000e+00</td><td>0.000e+00</td></tr>\n",
       "<tr><td>epsilon</td><td>Cells</td><td>float32</td><td>1</td><td>1.485e+01</td><td>1.485e+01</td></tr>\n",
       "<tr><td>k</td><td>Cells</td><td>float32</td><td>1</td><td>3.750e-01</td><td>3.750e-01</td></tr>\n",
       "<tr><td>nut</td><td>Cells</td><td>float32</td><td>1</td><td>0.000e+00</td><td>0.000e+00</td></tr>\n",
       "<tr><td><b>p</b></td><td>Cells</td><td>float32</td><td>1</td><td>0.000e+00</td><td>0.000e+00</td></tr>\n",
       "</table>\n",
       "\n",
       "</td></tr> </table>"
      ],
      "text/plain": [
       "UnstructuredGrid (0x1cd3f0ed460)\n",
       "  N Cells:\t12225\n",
       "  N Points:\t25012\n",
       "  X Bounds:\t-2.060e-02, 2.900e-01\n",
       "  Y Bounds:\t-2.540e-02, 2.540e-02\n",
       "  Z Bounds:\t-5.000e-04, 5.000e-04\n",
       "  N Arrays:\t10"
      ]
     },
     "execution_count": 6,
     "metadata": {},
     "output_type": "execute_result"
    }
   ],
   "source": [
    "mesh"
   ]
  },
  {
   "cell_type": "markdown",
   "id": "52eff850",
   "metadata": {},
   "source": [
    "* It looks like the number of arrays is doubled here, there is 2 times the `Data Arrays` (don't know why)\n",
    "* It looks like the case is loaded for `time=0`, I don't know how to change the time value.\n",
    "\n",
    "Here is for example below the U field where it's 0 everywhere expect at the inlet which is the intial condtion at `time=0`."
   ]
  },
  {
   "cell_type": "code",
   "execution_count": 7,
   "id": "dce1fbcb",
   "metadata": {},
   "outputs": [],
   "source": [
    "mesh.plot(scalars='U',cpos='xy')"
   ]
  },
  {
   "cell_type": "markdown",
   "id": "aa63fe34",
   "metadata": {},
   "source": [
    "# Load the case with `vtkOpenFOAMReader`"
   ]
  },
  {
   "cell_type": "code",
   "execution_count": 8,
   "id": "51481a05",
   "metadata": {},
   "outputs": [],
   "source": [
    "reader = vtk.vtkOpenFOAMReader() \n",
    "# vtkOpenFOAMReader creates a multiblock dataset. \n",
    "# reads a controlDict file, mesh information, and time dependent data. \n",
    "# The controlDict file contains timestep information. \n",
    "# The polyMesh folders contains mesh information \n",
    "# The time folders contains transient data for the cells. Each folder can contain any number of data files.\n",
    "reader.SetFileName(\"case.foam\")\n",
    "# Indicate the file name\n",
    "reader.UpdateInformation()\n",
    "# Update the data if the file was modified \n",
    "time_array = reader.GetTimeValues()\n",
    "# store the time values in an array\n",
    "reader.SetTimeValue(time_array.GetRange()[1]) \n",
    "# Set read time to latest time step\n",
    "reader.CreateCellToPointOff()\n",
    "reader.Update()\n",
    "# updates\n",
    "multi_block = pv.wrap(reader.GetOutput())\n",
    "# includes vtk objects (output of reader) in multiblock\n",
    "mesh = multi_block[0]"
   ]
  },
  {
   "cell_type": "code",
   "execution_count": 9,
   "id": "18c2c206",
   "metadata": {},
   "outputs": [
    {
     "data": {
      "text/html": [
       "<table><tr><th>Header</th><th>Data Arrays</th></tr><tr><td>\n",
       "<table>\n",
       "<tr><th>UnstructuredGrid</th><th>Information</th></tr>\n",
       "<tr><td>N Cells</td><td>12225</td></tr>\n",
       "<tr><td>N Points</td><td>25012</td></tr>\n",
       "<tr><td>X Bounds</td><td>-2.060e-02, 2.900e-01</td></tr>\n",
       "<tr><td>Y Bounds</td><td>-2.540e-02, 2.540e-02</td></tr>\n",
       "<tr><td>Z Bounds</td><td>-5.000e-04, 5.000e-04</td></tr>\n",
       "<tr><td>N Arrays</td><td>5</td></tr>\n",
       "</table>\n",
       "\n",
       "</td><td>\n",
       "<table>\n",
       "<tr><th>Name</th><th>Field</th><th>Type</th><th>N Comp</th><th>Min</th><th>Max</th></tr>\n",
       "<tr><td>U</td><td>Cells</td><td>float32</td><td>3</td><td>-2.553e+00</td><td>1.018e+01</td></tr>\n",
       "<tr><td>epsilon</td><td>Cells</td><td>float32</td><td>1</td><td>1.277e-01</td><td>5.788e+03</td></tr>\n",
       "<tr><td>k</td><td>Cells</td><td>float32</td><td>1</td><td>4.460e-04</td><td>5.498e+00</td></tr>\n",
       "<tr><td>nut</td><td>Cells</td><td>float32</td><td>1</td><td>1.402e-07</td><td>5.140e-03</td></tr>\n",
       "<tr><td><b>p</b></td><td>Cells</td><td>float32</td><td>1</td><td>-8.014e+00</td><td>1.504e+01</td></tr>\n",
       "</table>\n",
       "\n",
       "</td></tr> </table>"
      ],
      "text/plain": [
       "UnstructuredGrid (0x1cd3f0eda60)\n",
       "  N Cells:\t12225\n",
       "  N Points:\t25012\n",
       "  X Bounds:\t-2.060e-02, 2.900e-01\n",
       "  Y Bounds:\t-2.540e-02, 2.540e-02\n",
       "  Z Bounds:\t-5.000e-04, 5.000e-04\n",
       "  N Arrays:\t5"
      ]
     },
     "execution_count": 9,
     "metadata": {},
     "output_type": "execute_result"
    }
   ],
   "source": [
    "multi_block[0]"
   ]
  },
  {
   "cell_type": "code",
   "execution_count": null,
   "id": "ab5b94bc",
   "metadata": {},
   "outputs": [],
   "source": []
  },
  {
   "cell_type": "markdown",
   "id": "7bbb9e80",
   "metadata": {},
   "source": [
    "## Let's make a simple contour plot"
   ]
  },
  {
   "cell_type": "markdown",
   "id": "bde6f8d5",
   "metadata": {},
   "source": [
    "Let's plot the $u_x$ component of the velocity field"
   ]
  },
  {
   "cell_type": "code",
   "execution_count": 10,
   "id": "424f0f5c",
   "metadata": {},
   "outputs": [],
   "source": [
    "mesh.plot(scalars='U',component=0, cpos='xy')"
   ]
  },
  {
   "cell_type": "markdown",
   "id": "33f59d96",
   "metadata": {},
   "source": [
    "## Let's use a different and more useful API"
   ]
  },
  {
   "cell_type": "markdown",
   "id": "3595d591",
   "metadata": {},
   "source": [
    "### Show the mesh "
   ]
  },
  {
   "cell_type": "code",
   "execution_count": 11,
   "id": "2463c456",
   "metadata": {},
   "outputs": [],
   "source": [
    "# Create a plotting object to display vtk meshes or numpy arrays\n",
    "p1 = pv.Plotter()\n",
    "# Show the mesh in wireframe style\n",
    "p1.add_mesh(mesh,style=\"wireframe\",color=\"w\")\n",
    "# View in the xy plane\n",
    "p1.view_xy()\n",
    "# Show the axes\n",
    "p1.add_axes()\n",
    "# Display the plotting window\n",
    "p1.show()"
   ]
  },
  {
   "cell_type": "code",
   "execution_count": null,
   "id": "bacd6b8d",
   "metadata": {},
   "outputs": [],
   "source": []
  },
  {
   "cell_type": "markdown",
   "id": "0b63373f",
   "metadata": {},
   "source": [
    "### An example with a field contour"
   ]
  },
  {
   "cell_type": "code",
   "execution_count": 12,
   "id": "b437b85d",
   "metadata": {},
   "outputs": [],
   "source": [
    "p2 = pv.Plotter()\n",
    "p2.add_mesh(mesh,scalars='U')\n",
    "p2.view_xy()\n",
    "p2.add_axes()\n",
    "p2.show()"
   ]
  },
  {
   "cell_type": "markdown",
   "id": "6801eb7d",
   "metadata": {},
   "source": [
    " "
   ]
  },
  {
   "cell_type": "markdown",
   "id": "c289118d",
   "metadata": {},
   "source": [
    "### Another one with the mesh surimposed"
   ]
  },
  {
   "cell_type": "code",
   "execution_count": 13,
   "id": "dc19c5dd",
   "metadata": {},
   "outputs": [],
   "source": [
    "p3 = pv.Plotter()\n",
    "p3.add_mesh(mesh,scalars='U', show_edges=True)\n",
    "p3.view_xy()\n",
    "p3.add_axes()\n",
    "p3.show()"
   ]
  },
  {
   "cell_type": "code",
   "execution_count": null,
   "id": "87bfcd69",
   "metadata": {},
   "outputs": [],
   "source": []
  },
  {
   "cell_type": "markdown",
   "id": "d6c6aa85",
   "metadata": {},
   "source": [
    "### Plot the velocity field using glyphs"
   ]
  },
  {
   "cell_type": "code",
   "execution_count": 14,
   "id": "bf53ec2f",
   "metadata": {},
   "outputs": [],
   "source": [
    "geom = pv.Arrow()\n",
    "glyphs = mesh.glyph(orient='U',scale='U-normed',factor=0.0005,geom=geom)\n",
    "p4 = pv.Plotter()\n",
    "p4.add_mesh(glyphs)\n",
    "p4.view_xy()\n",
    "p4.add_axes()\n",
    "p4.show()"
   ]
  },
  {
   "cell_type": "markdown",
   "id": "298c8966",
   "metadata": {},
   "source": [
    "### Plot over line example"
   ]
  },
  {
   "cell_type": "code",
   "execution_count": 15,
   "id": "7ee80759",
   "metadata": {},
   "outputs": [],
   "source": [
    "# Create the 2 points defining the line\n",
    "a = [0, 0, 0]\n",
    "b = [0, mesh.bounds[3], 0]\n",
    "\n",
    "# Create a Line object\n",
    "line = pv.Line(a, b)"
   ]
  },
  {
   "cell_type": "code",
   "execution_count": 16,
   "id": "a85f7b0a",
   "metadata": {},
   "outputs": [
    {
     "data": {
      "text/plain": [
       "[-0.020600000396370888,\n",
       " 0.28999999165534973,\n",
       " -0.02539999969303608,\n",
       " 0.02539999969303608,\n",
       " -0.0005000000237487257,\n",
       " 0.0005000000237487257]"
      ]
     },
     "execution_count": 16,
     "metadata": {},
     "output_type": "execute_result"
    }
   ],
   "source": [
    "mesh.bounds"
   ]
  },
  {
   "cell_type": "markdown",
   "id": "ec9704c0",
   "metadata": {},
   "source": [
    "Let's show the line in the computational domain"
   ]
  },
  {
   "cell_type": "code",
   "execution_count": 44,
   "id": "3f0128b4",
   "metadata": {},
   "outputs": [],
   "source": [
    "p5 = pv.Plotter()\n",
    "p5.add_mesh(mesh, style=\"wireframe\", color='white')\n",
    "# Show the line in red in the domain\n",
    "p5.add_mesh(line, color=\"r\", line_width=10)\n",
    "p5.view_xy()\n",
    "p5.add_axes()\n",
    "p5.show()"
   ]
  },
  {
   "cell_type": "markdown",
   "id": "bb761431",
   "metadata": {},
   "source": [
    "Let's make a plot overline ..."
   ]
  },
  {
   "cell_type": "code",
   "execution_count": 18,
   "id": "8da784a2",
   "metadata": {},
   "outputs": [
    {
     "data": {
      "image/png": "[encoded data removed]",
      "text/plain": [
       "<Figure size 432x288 with 1 Axes>"
      ]
     },
     "metadata": {},
     "output_type": "display_data"
    }
   ],
   "source": [
    "mesh.plot_over_line(a, b, resolution=100, scalars='U')"
   ]
  },
  {
   "cell_type": "markdown",
   "id": "f2a847ad",
   "metadata": {},
   "source": [
    "### How to access the vector components"
   ]
  },
  {
   "cell_type": "markdown",
   "id": "8adc155b",
   "metadata": {},
   "source": [
    "List the available arrays "
   ]
  },
  {
   "cell_type": "code",
   "execution_count": 19,
   "id": "1665a46c",
   "metadata": {},
   "outputs": [
    {
     "data": {
      "text/plain": [
       "pyvista DataSetAttributes\n",
       "Association     : CELL\n",
       "Active Scalars  : U-normed\n",
       "Active Vectors  : U\n",
       "Active Texture  : None\n",
       "Active Normals  : None\n",
       "Contains arrays :\n",
       "    U                       float32  (12225, 3)           VECTORS\n",
       "    epsilon                 float32  (12225,)\n",
       "    k                       float32  (12225,)\n",
       "    nut                     float32  (12225,)\n",
       "    p                       float32  (12225,)\n",
       "    U-0                     float32  (12225,)\n",
       "    U-normed                float32  (12225,)             SCALARS"
      ]
     },
     "execution_count": 19,
     "metadata": {},
     "output_type": "execute_result"
    }
   ],
   "source": [
    "mesh.cell_data"
   ]
  },
  {
   "cell_type": "markdown",
   "id": "ff3e14f9",
   "metadata": {},
   "source": [
    "Let's put the velocity vector field in `U`"
   ]
  },
  {
   "cell_type": "code",
   "execution_count": 20,
   "id": "4c9810f2",
   "metadata": {},
   "outputs": [
    {
     "data": {
      "text/plain": [
       "(12225, 3)"
      ]
     },
     "execution_count": 20,
     "metadata": {},
     "output_type": "execute_result"
    }
   ],
   "source": [
    "U= mesh.cell_data['U']\n",
    "np.shape(U)"
   ]
  },
  {
   "cell_type": "markdown",
   "id": "548f835d",
   "metadata": {},
   "source": [
    "Put each component in numpy arrays"
   ]
  },
  {
   "cell_type": "code",
   "execution_count": 21,
   "id": "1835d7cc",
   "metadata": {},
   "outputs": [],
   "source": [
    "ux = U[:,0]\n",
    "uy = U[:,1]\n",
    "uz = U[:,2]\n",
    "\n",
    "# One can also use\n",
    "ux = mesh['U'][:,0]\n",
    "uy = mesh['U'][:,1]\n",
    "uz = mesh['U'][:,2]"
   ]
  },
  {
   "cell_type": "code",
   "execution_count": 22,
   "id": "3f28da99",
   "metadata": {},
   "outputs": [],
   "source": [
    "mesh.cell_data[\"ux\"] = ux\n",
    "mesh.cell_data[\"uy\"] = uy\n",
    "mesh.cell_data[\"uz\"] = uz"
   ]
  },
  {
   "cell_type": "code",
   "execution_count": null,
   "id": "85e7aaba",
   "metadata": {},
   "outputs": [],
   "source": []
  },
  {
   "cell_type": "code",
   "execution_count": 23,
   "id": "06aca0ac",
   "metadata": {},
   "outputs": [
    {
     "data": {
      "image/png": "[encoded data removed]",
      "text/plain": [
       "<Figure size 432x288 with 1 Axes>"
      ]
     },
     "metadata": {},
     "output_type": "display_data"
    }
   ],
   "source": [
    "mesh.plot_over_line(a, b, resolution=100, scalars='ux')"
   ]
  },
  {
   "cell_type": "markdown",
   "id": "05525d54",
   "metadata": {},
   "source": [
    "### Plot a scalar over a circular arc"
   ]
  },
  {
   "cell_type": "code",
   "execution_count": 24,
   "id": "0dd99d38",
   "metadata": {},
   "outputs": [],
   "source": [
    "# Make two points at the bounds of the mesh and one at the center to\n",
    "# construct a circular arc.\n",
    "normal = [0, 0, 1]\n",
    "polar = [0.02, 0, 0]\n",
    "center = [0, 0, 0]\n",
    "angle = 100.0\n",
    "\n",
    "# Preview how this circular arc intersects this mesh\n",
    "arc = pv.CircularArcFromNormal(center, 100, normal, polar, angle)\n",
    "\n",
    "p = pv.Plotter()\n",
    "p.add_mesh(mesh, style=\"wireframe\", color=\"w\")\n",
    "p.add_mesh(arc, color=\"r\")\n",
    "a = arc.points[0]\n",
    "b = arc.points[-1]\n",
    "p.add_point_labels(\n",
    "    [a, b], [\"A\", \"B\"], font_size=48, point_color=\"red\", text_color=\"red\"\n",
    ")\n",
    "p.view_xy()\n",
    "p.show()\n"
   ]
  },
  {
   "cell_type": "markdown",
   "id": "38f31742",
   "metadata": {},
   "source": [
    "Let's see what's in the arc object."
   ]
  },
  {
   "cell_type": "code",
   "execution_count": 25,
   "id": "4b6e4925",
   "metadata": {},
   "outputs": [
    {
     "data": {
      "text/html": [
       "<table><tr><th>Header</th><th>Data Arrays</th></tr><tr><td>\n",
       "<table>\n",
       "<tr><th>PolyData</th><th>Information</th></tr>\n",
       "<tr><td>N Cells</td><td>1</td></tr>\n",
       "<tr><td>N Points</td><td>101</td></tr>\n",
       "<tr><td>X Bounds</td><td>-3.473e-03, 2.000e-02</td></tr>\n",
       "<tr><td>Y Bounds</td><td>0.000e+00, 2.000e-02</td></tr>\n",
       "<tr><td>Z Bounds</td><td>0.000e+00, 0.000e+00</td></tr>\n",
       "<tr><td>N Arrays</td><td>2</td></tr>\n",
       "</table>\n",
       "\n",
       "</td><td>\n",
       "<table>\n",
       "<tr><th>Name</th><th>Field</th><th>Type</th><th>N Comp</th><th>Min</th><th>Max</th></tr>\n",
       "<tr><td>Texture Coordinates</td><td>Points</td><td>float32</td><td>2</td><td>0.000e+00</td><td>1.000e+00</td></tr>\n",
       "<tr><td><b>Distance</b></td><td>Points</td><td>float64</td><td>1</td><td>0.000e+00</td><td>3.491e-02</td></tr>\n",
       "</table>\n",
       "\n",
       "</td></tr> </table>"
      ],
      "text/plain": [
       "PolyData (0x1cd3b3d0dc0)\n",
       "  N Cells:\t1\n",
       "  N Points:\t101\n",
       "  X Bounds:\t-3.473e-03, 2.000e-02\n",
       "  Y Bounds:\t0.000e+00, 2.000e-02\n",
       "  Z Bounds:\t0.000e+00, 0.000e+00\n",
       "  N Arrays:\t2"
      ]
     },
     "execution_count": 25,
     "metadata": {},
     "output_type": "execute_result"
    }
   ],
   "source": [
    "arc"
   ]
  },
  {
   "cell_type": "markdown",
   "id": "c75fa723",
   "metadata": {},
   "source": [
    "I don't know how to add another plot on the same figure, it's perhaps only possible to plot one scalar or one vector at a time with this API."
   ]
  },
  {
   "cell_type": "code",
   "execution_count": 26,
   "id": "2c988336",
   "metadata": {},
   "outputs": [
    {
     "data": {
      "image/png": "[encoded data removed]",
      "text/plain": [
       "<Figure size 432x288 with 1 Axes>"
      ]
     },
     "metadata": {},
     "output_type": "display_data"
    }
   ],
   "source": [
    "mesh.plot_over_circular_arc_normal(center, 100, normal, polar, angle,scalars='ux')\n",
    "#mesh.plot_over_circular_arc_normal(center, 100, normal, polar, angle, scalars='uy')"
   ]
  },
  {
   "cell_type": "markdown",
   "id": "aef95847",
   "metadata": {},
   "source": [
    "So let's try another way and create the figure ourself (there may be better ways to do this by the way)."
   ]
  },
  {
   "cell_type": "code",
   "execution_count": 27,
   "id": "6d39e3f5",
   "metadata": {},
   "outputs": [],
   "source": [
    "sampled = pv.DataSetFilters.sample_over_circular_arc_normal(mesh,\n",
    "                                                         center,\n",
    "                                                         100,\n",
    "                                                         normal,\n",
    "                                                         polar,\n",
    "                                                         angle,\n",
    "                                                         )"
   ]
  },
  {
   "cell_type": "code",
   "execution_count": 28,
   "id": "4447fa02",
   "metadata": {},
   "outputs": [
    {
     "data": {
      "image/png": "[encoded data removed]",
      "text/plain": [
       "<Figure size 432x288 with 1 Axes>"
      ]
     },
     "metadata": {},
     "output_type": "display_data"
    }
   ],
   "source": [
    "plt.figure()\n",
    "plt.plot(sampled['Distance'],sampled['ux'],label='$u_x$')\n",
    "plt.plot(sampled['Distance'],sampled['uy'],label='$u_x$')\n",
    "plt.xlabel('Arc distance')\n",
    "plt.ylabel('Velocity')\n",
    "plt.title('Distribution of the velocity components along the arc')\n",
    "plt.grid(linestyle='dotted')\n",
    "plt.legend()\n",
    "plt.show()"
   ]
  },
  {
   "cell_type": "code",
   "execution_count": 29,
   "id": "35faddb4",
   "metadata": {},
   "outputs": [],
   "source": [
    "### fields"
   ]
  },
  {
   "cell_type": "code",
   "execution_count": 30,
   "id": "b1c4cc32",
   "metadata": {},
   "outputs": [],
   "source": [
    "### k field \n",
    "\n",
    "p6 = pv.Plotter()\n",
    "p6.add_mesh(mesh,scalars='k')\n",
    "p6.view_xy()\n",
    "p6.add_axes()\n",
    "p6.show()"
   ]
  },
  {
   "cell_type": "code",
   "execution_count": 31,
   "id": "d599170d",
   "metadata": {},
   "outputs": [],
   "source": [
    "### espilon field \n",
    "\n",
    "p6 = pv.Plotter()\n",
    "p6.add_mesh(mesh,scalars='epsilon')\n",
    "p6.view_xy()\n",
    "p6.add_axes()\n",
    "p6.show()"
   ]
  },
  {
   "cell_type": "code",
   "execution_count": 32,
   "id": "c5804eb4",
   "metadata": {},
   "outputs": [],
   "source": [
    "### nut field \n",
    "\n",
    "p6 = pv.Plotter()\n",
    "p6.add_mesh(mesh,scalars='nut')\n",
    "p6.view_xy()\n",
    "p6.add_axes()\n",
    "p6.show()"
   ]
  },
  {
   "cell_type": "code",
   "execution_count": 33,
   "id": "3ed071e1",
   "metadata": {},
   "outputs": [],
   "source": [
    "### pressure field \n",
    "\n",
    "p6 = pv.Plotter()\n",
    "p6.add_mesh(mesh,scalars='p')\n",
    "p6.view_xy()\n",
    "p6.add_axes()\n",
    "p6.show()"
   ]
  },
  {
   "cell_type": "code",
   "execution_count": 34,
   "id": "c6515708",
   "metadata": {},
   "outputs": [
    {
     "data": {
      "text/html": [
       "<table><tr><th>Header</th><th>Data Arrays</th></tr><tr><td>\n",
       "<table>\n",
       "<tr><th>UnstructuredGrid</th><th>Information</th></tr>\n",
       "<tr><td>N Cells</td><td>12225</td></tr>\n",
       "<tr><td>N Points</td><td>25012</td></tr>\n",
       "<tr><td>X Bounds</td><td>-2.060e-02, 2.900e-01</td></tr>\n",
       "<tr><td>Y Bounds</td><td>-2.540e-02, 2.540e-02</td></tr>\n",
       "<tr><td>Z Bounds</td><td>-5.000e-04, 5.000e-04</td></tr>\n",
       "<tr><td>N Arrays</td><td>11</td></tr>\n",
       "</table>\n",
       "\n",
       "</td><td>\n",
       "<table>\n",
       "<tr><th>Name</th><th>Field</th><th>Type</th><th>N Comp</th><th>Min</th><th>Max</th></tr>\n",
       "<tr><td>U</td><td>Cells</td><td>float32</td><td>3</td><td>-2.553e+00</td><td>1.018e+01</td></tr>\n",
       "<tr><td>epsilon</td><td>Cells</td><td>float32</td><td>1</td><td>1.277e-01</td><td>5.788e+03</td></tr>\n",
       "<tr><td>k</td><td>Cells</td><td>float32</td><td>1</td><td>4.460e-04</td><td>5.498e+00</td></tr>\n",
       "<tr><td>nut</td><td>Cells</td><td>float32</td><td>1</td><td>1.402e-07</td><td>5.140e-03</td></tr>\n",
       "<tr><td><b>p</b></td><td>Cells</td><td>float32</td><td>1</td><td>-8.014e+00</td><td>1.504e+01</td></tr>\n",
       "<tr><td>U-0</td><td>Cells</td><td>float32</td><td>1</td><td>-2.553e+00</td><td>1.018e+01</td></tr>\n",
       "<tr><td>U-normed</td><td>Cells</td><td>float32</td><td>1</td><td>5.320e-03</td><td>1.018e+01</td></tr>\n",
       "<tr><td>ux</td><td>Cells</td><td>float32</td><td>1</td><td>-2.553e+00</td><td>1.018e+01</td></tr>\n",
       "<tr><td>uy</td><td>Cells</td><td>float32</td><td>1</td><td>-9.007e-01</td><td>7.526e-01</td></tr>\n",
       "<tr><td>uz</td><td>Cells</td><td>float32</td><td>1</td><td>-3.396e-16</td><td>2.769e-16</td></tr>\n",
       "<tr><td>gradient</td><td>Cells</td><td>float32</td><td>9</td><td>-4.141e+03</td><td>1.191e+04</td></tr>\n",
       "</table>\n",
       "\n",
       "</td></tr> </table>"
      ],
      "text/plain": [
       "UnstructuredGrid (0x1cd3b557160)\n",
       "  N Cells:\t12225\n",
       "  N Points:\t25012\n",
       "  X Bounds:\t-2.060e-02, 2.900e-01\n",
       "  Y Bounds:\t-2.540e-02, 2.540e-02\n",
       "  Z Bounds:\t-5.000e-04, 5.000e-04\n",
       "  N Arrays:\t11"
      ]
     },
     "execution_count": 34,
     "metadata": {},
     "output_type": "execute_result"
    }
   ],
   "source": [
    "### gradient \n",
    "\n",
    "### modification of the previous mesh \"mesh\" into a new mesh \"mesh_g\" with gradient calculated \n",
    "\n",
    "mesh_g = mesh.compute_derivative(scalars=\"U\")\n",
    "mesh_g"
   ]
  },
  {
   "cell_type": "code",
   "execution_count": 35,
   "id": "d3e10c3f",
   "metadata": {},
   "outputs": [],
   "source": [
    "### plotting of du/dx \n",
    "\n",
    "p7 = pv.Plotter()\n",
    "p7.add_mesh(mesh_g,scalars=mesh_g['gradient'][:,0])\n",
    "p7.view_xy()\n",
    "p7.add_axes()\n",
    "p7.show()"
   ]
  },
  {
   "cell_type": "code",
   "execution_count": 36,
   "id": "788de0bd",
   "metadata": {},
   "outputs": [],
   "source": [
    "### plotting of dv/dx\n",
    "\n",
    "p8 = pv.Plotter()\n",
    "p8.add_mesh(mesh_g,scalars=mesh_g['gradient'][:,1])\n",
    "p8.view_xy()\n",
    "p8.add_axes()\n",
    "p8.show()"
   ]
  },
  {
   "cell_type": "code",
   "execution_count": 37,
   "id": "fbba8bb7",
   "metadata": {},
   "outputs": [],
   "source": [
    "### multiplot, plotting of du/dx and dv/dx : hard visualization because of scaling pb (same scale for all the graphs)\n",
    "\n",
    "plotter = pv.Plotter(shape=(1, 2))\n",
    "\n",
    "plotter.subplot(0, 0)\n",
    "plotter.add_text(\"du/dx\", font_size=20)\n",
    "plotter.add_mesh(mesh_g,scalars=mesh_g['gradient'][:,0])\n",
    "plotter.view_xy()\n",
    "plotter.add_axes()\n",
    "\n",
    "plotter.subplot(0, 1)\n",
    "plotter.add_text(\"dv/dx\", font_size=20)\n",
    "plotter.add_mesh(mesh_g.copy(),scalars=mesh_g['gradient'][:,1])\n",
    "plotter.view_xy()\n",
    "plotter.add_axes()\n",
    "\n",
    "plotter.show()"
   ]
  },
  {
   "cell_type": "code",
   "execution_count": 38,
   "id": "589c3ed7",
   "metadata": {},
   "outputs": [],
   "source": [
    "### multiplot, plotting all the gradient components \n",
    "### {du/dx, du/dy, du/dz, dv/dx, dv/dy, dv/dz, dw/dx, dw/dy, dw/dz}"
   ]
  },
  {
   "cell_type": "code",
   "execution_count": 39,
   "id": "27955d58",
   "metadata": {},
   "outputs": [],
   "source": [
    "plotter = pv.Plotter(shape=(3, 3))\n",
    "\n",
    "plotter.subplot(0, 0)\n",
    "plotter.add_text(\"du/dx\", font_size=20)\n",
    "plotter.add_mesh(mesh_g,scalars=mesh_g['gradient'][:,0])\n",
    "plotter.view_xy()\n",
    "plotter.add_axes()\n",
    "\n",
    "plotter.subplot(0, 1)\n",
    "plotter.add_text(\"du/dy\", font_size=20)\n",
    "plotter.add_mesh(mesh_g.copy(),scalars=mesh_g['gradient'][:,1])\n",
    "plotter.view_xy()\n",
    "plotter.add_axes()\n",
    "\n",
    "plotter.subplot(0, 2)\n",
    "plotter.add_text(\"du/dz\", font_size=20)\n",
    "plotter.add_mesh(mesh_g.copy(),scalars=mesh_g['gradient'][:,2])\n",
    "plotter.view_xy()\n",
    "plotter.add_axes()\n",
    "\n",
    "plotter.subplot(1, 0)\n",
    "plotter.add_text(\"dv/dx\", font_size=20)\n",
    "plotter.add_mesh(mesh_g.copy(),scalars=mesh_g['gradient'][:,3])\n",
    "plotter.view_xy()\n",
    "plotter.add_axes()\n",
    "\n",
    "plotter.subplot(1, 1)\n",
    "plotter.add_text(\"dv/dy\", font_size=20)\n",
    "plotter.add_mesh(mesh_g.copy(),scalars=mesh_g['gradient'][:,4])\n",
    "plotter.view_xy()\n",
    "plotter.add_axes()\n",
    "\n",
    "plotter.subplot(1, 2)\n",
    "plotter.add_text(\"dv/dz\", font_size=20)\n",
    "plotter.add_mesh(mesh_g.copy(),scalars=mesh_g['gradient'][:,5])\n",
    "plotter.view_xy()\n",
    "plotter.add_axes()\n",
    "\n",
    "plotter.subplot(2, 0)\n",
    "plotter.add_text(\"dw/dx\", font_size=20)\n",
    "plotter.add_mesh(mesh_g.copy(),scalars=mesh_g['gradient'][:,6])\n",
    "plotter.view_xy()\n",
    "plotter.add_axes()\n",
    "\n",
    "plotter.subplot(2, 1)\n",
    "plotter.add_text(\"dw/dy\", font_size=20)\n",
    "plotter.add_mesh(mesh_g.copy(),scalars=mesh_g['gradient'][:,7])\n",
    "plotter.view_xy()\n",
    "plotter.add_axes()\n",
    "\n",
    "plotter.subplot(2, 2)\n",
    "plotter.add_text(\"dw/dz\", font_size=20)\n",
    "plotter.add_mesh(mesh_g.copy(),scalars=mesh_g['gradient'][:,8])\n",
    "plotter.view_xy()\n",
    "plotter.add_axes()\n",
    "\n",
    "plotter.show()"
   ]
  },
  {
   "cell_type": "code",
   "execution_count": 90,
   "id": "c93182e5",
   "metadata": {},
   "outputs": [],
   "source": [
    "### wall shear stress \n",
    "\n",
    "mu=0.000018\n",
    "tau=mu*(mesh_g['gradient'][:,1])\n",
    "\n",
    "p9 = pv.Plotter()\n",
    "p9.add_mesh(mesh_g,scalars=tau)\n",
    "p9.view_xy()\n",
    "p9.add_axes()\n",
    "p9.show()"
   ]
  },
  {
   "cell_type": "code",
   "execution_count": null,
   "id": "87dc4bda",
   "metadata": {},
   "outputs": [],
   "source": [
    "### plotting wall shear stress along the bottom "
   ]
  },
  {
   "cell_type": "code",
   "execution_count": 82,
   "id": "62508f98",
   "metadata": {},
   "outputs": [],
   "source": [
    "### creation of the line which corresponds to the bottom \n",
    "\n",
    "a = [0, mesh.bounds[2], 0]\n",
    "b = [mesh.bounds[1]-0.085, mesh.bounds[2], 0]\n",
    "\n",
    "line1 = pv.Line(a, b)\n",
    "\n",
    "p10 = pv.Plotter()\n",
    "p10.add_mesh(mesh, style=\"wireframe\", color='white')\n",
    "p10.add_mesh(line1, color=\"r\", line_width=10)\n",
    "p10.view_xy()\n",
    "p10.add_axes()\n",
    "p10.show()"
   ]
  },
  {
   "cell_type": "code",
   "execution_count": null,
   "id": "498b6337",
   "metadata": {},
   "outputs": [],
   "source": [
    "mesh_g.point_data.update(gradients)"
   ]
  },
  {
   "cell_type": "code",
   "execution_count": 92,
   "id": "ebaa81d8",
   "metadata": {},
   "outputs": [
    {
     "data": {
      "image/png": "[encoded data removed]",
      "text/plain": [
       "<Figure size 432x288 with 1 Axes>"
      ]
     },
     "metadata": {},
     "output_type": "display_data"
    }
   ],
   "source": [
    "### plotting of wall shear stress over the line (bottom here) \n",
    "mesh.plot_over_line(a, b, resolution=100, scalars='U')"
   ]
  },
  {
   "cell_type": "code",
   "execution_count": 98,
   "id": "124f88eb",
   "metadata": {},
   "outputs": [
    {
     "ename": "TypeError",
     "evalue": "GetAbstractArray argument %Id: %V",
     "output_type": "error",
     "traceback": [
      "Traceback \u001b[1;36m(most recent call last)\u001b[0m:\n",
      "  File \u001b[0;32m\"<ipython-input-98-a2ffa9c2d95e>\"\u001b[0m, line \u001b[0;32m3\u001b[0m, in \u001b[0;35m<module>\u001b[0m\n    mesh.plot_over_line(a, b, resolution=100, scalars=mu*(mesh_g['gradient'][:,1]))\n",
      "  File \u001b[0;32m\"C:\\ProgramData\\Anaconda3\\lib\\site-packages\\pyvista\\core\\filters\\data_set.py\"\u001b[0m, line \u001b[0;32m3222\u001b[0m, in \u001b[0;35mplot_over_line\u001b[0m\n    values = sampled.get_array(scalars)\n",
      "  File \u001b[0;32m\"C:\\ProgramData\\Anaconda3\\lib\\site-packages\\pyvista\\core\\dataset.py\"\u001b[0m, line \u001b[0;32m1567\u001b[0m, in \u001b[0;35mget_array\u001b[0m\n    arr = get_array(self, name, preference=preference, err=True)\n",
      "  File \u001b[0;32m\"C:\\ProgramData\\Anaconda3\\lib\\site-packages\\pyvista\\utilities\\helpers.py\"\u001b[0m, line \u001b[0;32m351\u001b[0m, in \u001b[0;35mget_array\u001b[0m\n    parr = point_array(mesh, name)\n",
      "\u001b[1;36m  File \u001b[1;32m\"C:\\ProgramData\\Anaconda3\\lib\\site-packages\\pyvista\\utilities\\helpers.py\"\u001b[1;36m, line \u001b[1;32m218\u001b[1;36m, in \u001b[1;35mpoint_array\u001b[1;36m\u001b[0m\n\u001b[1;33m    vtkarr = obj.GetPointData().GetAbstractArray(name)\u001b[0m\n",
      "\u001b[1;31mTypeError\u001b[0m\u001b[1;31m:\u001b[0m GetAbstractArray argument %Id: %V\n"
     ]
    }
   ],
   "source": [
    "### plotting of wall shear stress over the line (bottom here) \n",
    "\n",
    "mesh.plot_over_line(a, b, resolution=100, scalars=mu*(mesh_g['gradient'][:,1]))"
   ]
  },
  {
   "cell_type": "code",
   "execution_count": null,
   "id": "d2c380d4",
   "metadata": {},
   "outputs": [],
   "source": [
    "### essayer de mettre les gradients dans le mesh pour ensuite avoir le bon type de data pour le plot overline d"
   ]
  }
 ],
 "metadata": {
  "kernelspec": {
   "display_name": "Python 3 (Spyder)",
   "language": "python3",
   "name": "python3"
  },
  "language_info": {
   "codemirror_mode": {
    "name": "ipython",
    "version": 3
   },
   "file_extension": ".py",
   "mimetype": "text/x-python",
   "name": "python",
   "nbconvert_exporter": "python",
   "pygments_lexer": "ipython3",
   "version": "3.8.8"
  }
 },
 "nbformat": 4,
 "nbformat_minor": 5
}
