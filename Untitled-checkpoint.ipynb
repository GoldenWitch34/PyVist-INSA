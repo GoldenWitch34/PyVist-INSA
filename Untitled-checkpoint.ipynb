{
 "cells": [
  {
   "cell_type": "code",
   "execution_count": 1,
   "id": "68ba1b50",
   "metadata": {},
   "outputs": [],
   "source": [
    "import pyvista as pv\n",
    "import numpy as np\n",
    "import matplotlib.pyplot as plt\n",
    "import vtk as vtk"
   ]
  },
  {
   "cell_type": "code",
   "execution_count": 2,
   "id": "2e44844e",
   "metadata": {},
   "outputs": [],
   "source": [
    "%matplotlib widget"
   ]
  },
  {
   "cell_type": "markdown",
   "id": "49d40b70",
   "metadata": {},
   "source": [
    "# Try to load case with `pyvista.read`"
   ]
  },
  {
   "cell_type": "code",
   "execution_count": null,
   "id": "18b72bf3",
   "metadata": {},
   "outputs": [],
   "source": [
    "# Import the OpenFOAM example case\n",
    "case = pv.read('./case.foam')"
   ]
  },
  {
   "cell_type": "code",
   "execution_count": null,
   "id": "a719636d",
   "metadata": {},
   "outputs": [],
   "source": [
    "mesh = case[0]"
   ]
  },
  {
   "cell_type": "code",
   "execution_count": null,
   "id": "8a50eb57",
   "metadata": {},
   "outputs": [],
   "source": [
    "mesh"
   ]
  },
  {
   "cell_type": "markdown",
   "id": "b23446f0",
   "metadata": {},
   "source": [
    "It looks like the cas is loaded for `time=0`, I don't know how to change the time value.\n",
    "\n",
    "Here is for example below the U field where it's 0 everywhere expect at the inlet."
   ]
  },
  {
   "cell_type": "code",
   "execution_count": null,
   "id": "10245ed1",
   "metadata": {},
   "outputs": [],
   "source": [
    "mesh.plot(scalars='U')"
   ]
  },
  {
   "cell_type": "markdown",
   "id": "2d451878",
   "metadata": {},
   "source": [
    "# Load the case with `vtkOpenFOAMReader`"
   ]
  },
  {
   "cell_type": "code",
   "execution_count": 3,
   "id": "585d2ba0",
   "metadata": {},
   "outputs": [],
   "source": [
    "reader = vtk.vtkOpenFOAMReader()\n",
    "reader.SetFileName(\"cyclone_test_02_without_bl.foam\")\n",
    "reader.UpdateInformation()\n",
    "time_array = reader.GetTimeValues()\n",
    "reader.SetTimeValue(time_array.GetRange()[1])  # Set read time to latest time step\n",
    "reader.Update()\n",
    "multi_block = pv.wrap(reader.GetOutput())\n",
    "mesh = multi_block[0]\n"
   ]
  },
  {
   "cell_type": "markdown",
   "id": "0a295a61",
   "metadata": {},
   "source": [
    "## Let's make a simple contour plot"
   ]
  },
  {
   "cell_type": "code",
   "execution_count": 4,
   "id": "6ab58321",
   "metadata": {},
   "outputs": [
    {
     "data": {
      "application/vnd.jupyter.widget-view+json": {
       "model_id": "d2766c0c45584bec844912c02c172c4d",
       "version_major": 2,
       "version_minor": 0
      },
      "text/plain": [
       "ViewInteractiveWidget(height=768, layout=Layout(height='auto', width='100%'), width=1024)"
      ]
     },
     "metadata": {},
     "output_type": "display_data"
    }
   ],
   "source": [
    "mesh.plot(scalars='U')"
   ]
  },
  {
   "cell_type": "markdown",
   "id": "ae141347",
   "metadata": {},
   "source": [
    "## Let's use a different and more useful API"
   ]
  },
  {
   "cell_type": "markdown",
   "id": "1fadb514",
   "metadata": {},
   "source": [
    "### Show the mesh "
   ]
  },
  {
   "cell_type": "code",
   "execution_count": 18,
   "id": "e6079f85",
   "metadata": {},
   "outputs": [
    {
     "data": {
      "application/vnd.jupyter.widget-view+json": {
       "model_id": "c1c409995df748e6bd599f83b0feb04c",
       "version_major": 2,
       "version_minor": 0
      },
      "text/plain": [
       "ViewInteractiveWidget(height=768, layout=Layout(height='auto', width='100%'), width=1024)"
      ]
     },
     "metadata": {},
     "output_type": "display_data"
    }
   ],
   "source": [
    "p1 = pv.Plotter()\n",
    "p1.add_mesh(mesh, style=\"wireframe\", color=\"w\")\n",
    "p1.view_xy()\n",
    "p1.add_axes()\n",
    "p1.show()"
   ]
  },
  {
   "cell_type": "markdown",
   "id": "591771af",
   "metadata": {},
   "source": [
    "### An example with a field contour"
   ]
  },
  {
   "cell_type": "code",
   "execution_count": 59,
   "id": "aea4902d",
   "metadata": {
    "scrolled": false
   },
   "outputs": [
    {
     "data": {
      "application/vnd.jupyter.widget-view+json": {
       "model_id": "389694fcc4944d8da8e90e7b28a071cb",
       "version_major": 2,
       "version_minor": 0
      },
      "text/plain": [
       "ViewInteractiveWidget(height=768, layout=Layout(height='auto', width='100%'), width=1024)"
      ]
     },
     "metadata": {},
     "output_type": "display_data"
    }
   ],
   "source": [
    "p2 = pv.Plotter()\n",
    "p2.add_mesh(mesh,scalars='U')\n",
    "p2.view_xy()\n",
    "p2.add_axes()\n",
    "p2.show()"
   ]
  },
  {
   "cell_type": "markdown",
   "id": "b4d3d47b",
   "metadata": {},
   "source": [
    " "
   ]
  },
  {
   "cell_type": "markdown",
   "id": "c68f5361",
   "metadata": {},
   "source": [
    "### Another one with the mesh surimposed"
   ]
  },
  {
   "cell_type": "code",
   "execution_count": 60,
   "id": "6b63e5f4",
   "metadata": {
    "scrolled": false
   },
   "outputs": [
    {
     "data": {
      "application/vnd.jupyter.widget-view+json": {
       "model_id": "9e75cbbc9eef4a0eb65c8679d6263132",
       "version_major": 2,
       "version_minor": 0
      },
      "text/plain": [
       "ViewInteractiveWidget(height=768, layout=Layout(height='auto', width='100%'), width=1024)"
      ]
     },
     "metadata": {},
     "output_type": "display_data"
    }
   ],
   "source": [
    "p3 = pv.Plotter()\n",
    "p3.add_mesh(mesh,scalars='U', show_edges=True)\n",
    "p3.view_xy()\n",
    "p3.add_axes()\n",
    "p3.show()"
   ]
  },
  {
   "cell_type": "markdown",
   "id": "a37dd61e",
   "metadata": {},
   "source": [
    "### Plot over line example"
   ]
  },
  {
   "cell_type": "code",
   "execution_count": 14,
   "id": "1d738871",
   "metadata": {},
   "outputs": [
    {
     "data": {
      "application/vnd.jupyter.widget-view+json": {
       "model_id": "83305135cb644a36841c043e0108ef14",
       "version_major": 2,
       "version_minor": 0
      },
      "text/plain": [
       "ViewInteractiveWidget(height=768, layout=Layout(height='auto', width='100%'), width=1024)"
      ]
     },
     "metadata": {},
     "output_type": "display_data"
    }
   ],
   "source": [
    "# Create the 2 points defining the line\n",
    "a = [0, 0, 0]\n",
    "b = [0, mesh.bounds[3], 0]\n",
    "\n",
    "# Show the line in red in the domain\n",
    "line = pv.Line(a, b)\n",
    "\n",
    "p4 = pv.Plotter()\n",
    "p4.view_xy()\n",
    "p4.add_mesh(mesh, style=\"wireframe\", color='white')\n",
    "p4.add_mesh(line, color=\"r\", line_width=10)\n",
    "p4.add_axes()\n",
    "\n",
    "p4.show()"
   ]
  },
  {
   "cell_type": "markdown",
   "id": "7ffe5aec",
   "metadata": {},
   "source": [
    "Let's make a plot overline ..."
   ]
  },
  {
   "cell_type": "code",
   "execution_count": 23,
   "id": "5b803bf2",
   "metadata": {},
   "outputs": [
    {
     "data": {
      "application/vnd.jupyter.widget-view+json": {
       "model_id": "631f11acb64e4685b7601e219dad18d3",
       "version_major": 2,
       "version_minor": 0
      },
      "text/plain": [
       "Canvas(toolbar=Toolbar(toolitems=[('Home', 'Reset original view', 'home', 'home'), ('Back', 'Back to previous …"
      ]
     },
     "metadata": {},
     "output_type": "display_data"
    }
   ],
   "source": [
    "mesh.plot_over_line(a, b, resolution=100, scalars='U')"
   ]
  },
  {
   "cell_type": "markdown",
   "id": "1e05f84d",
   "metadata": {},
   "source": [
    "### How to access the vector components"
   ]
  },
  {
   "cell_type": "code",
   "execution_count": 32,
   "id": "b79c3855",
   "metadata": {},
   "outputs": [
    {
     "data": {
      "text/plain": [
       "pyvista DataSetAttributes\n",
       "Association: CELL\n",
       "Contains keys:\n",
       "\tU\n",
       "\tepsilon\n",
       "\tk\n",
       "\tnut\n",
       "\tp"
      ]
     },
     "execution_count": 32,
     "metadata": {},
     "output_type": "execute_result"
    }
   ],
   "source": [
    "mesh.cell_arrays"
   ]
  },
  {
   "cell_type": "code",
   "execution_count": 38,
   "id": "ca651ab7",
   "metadata": {},
   "outputs": [
    {
     "data": {
      "text/plain": [
       "(12225, 3)"
      ]
     },
     "execution_count": 38,
     "metadata": {},
     "output_type": "execute_result"
    }
   ],
   "source": [
    "U = mesh.cell_arrays[0]\n",
    "np.shape(U)"
   ]
  },
  {
   "cell_type": "code",
   "execution_count": 54,
   "id": "91815885",
   "metadata": {},
   "outputs": [],
   "source": [
    "ux = U[:,0]\n",
    "uy = U[:,1]\n",
    "uz = U[:,2]\n",
    "\n",
    "# One can also use\n",
    "ux = mesh['U'][:,0]\n",
    "uy = mesh['U'][:,1]\n",
    "uz = mesh['U'][:,2]"
   ]
  },
  {
   "cell_type": "code",
   "execution_count": 58,
   "id": "4f970005",
   "metadata": {},
   "outputs": [
    {
     "data": {
      "application/vnd.jupyter.widget-view+json": {
       "model_id": "18642828c9d24d19bcd6d738a5232fbe",
       "version_major": 2,
       "version_minor": 0
      },
      "text/plain": [
       "Canvas(toolbar=Toolbar(toolitems=[('Home', 'Reset original view', 'home', 'home'), ('Back', 'Back to previous …"
      ]
     },
     "metadata": {},
     "output_type": "display_data"
    }
   ],
   "source": [
    "mesh.cell_arrays[\"ux\"] = ux\n",
    "mesh.plot_over_line(a, b, resolution=50, scalars='ux')"
   ]
  },
  {
   "cell_type": "code",
   "execution_count": null,
   "id": "a955c2ed",
   "metadata": {},
   "outputs": [],
   "source": []
  }
 ],
 "metadata": {
  "kernelspec": {
   "display_name": "Python 3",
   "language": "python",
   "name": "python3"
  },
  "language_info": {
   "codemirror_mode": {
    "name": "ipython",
    "version": 3
   },
   "file_extension": ".py",
   "mimetype": "text/x-python",
   "name": "python",
   "nbconvert_exporter": "python",
   "pygments_lexer": "ipython3",
   "version": "3.9.5"
  }
 },
 "nbformat": 4,
 "nbformat_minor": 5
}
