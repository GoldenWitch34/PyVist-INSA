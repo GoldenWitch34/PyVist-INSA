{
 "cells": [
  {
   "cell_type": "code",
   "execution_count": 85,
   "id": "59c472c2",
   "metadata": {},
   "outputs": [],
   "source": [
    "import pyvista as pv\n",
    "import numpy as np\n",
    "import matplotlib.pyplot as plt\n",
    "import vtk as vtk"
   ]
  },
  {
   "cell_type": "code",
   "execution_count": 86,
   "id": "def7215a",
   "metadata": {},
   "outputs": [],
   "source": [
    "%matplotlib widget"
   ]
  },
  {
   "cell_type": "code",
   "execution_count": 87,
   "id": "038af8bd",
   "metadata": {},
   "outputs": [],
   "source": [
    "def gradients_to_dict(arr):\n",
    "    keys = np.array([\"dux/dx\", \"dux/dy\", \"dux/dz\", \"duy/dx\", \"duy/dy\", \"duy/dz\", \"duz/dx\", \"duz/dy\", \"duz/dz\"])\n",
    "    keys = keys.reshape((3,3))[:,:arr.shape[1]].ravel()\n",
    "    return dict(zip(keys, arr.T))\n",
    "\n",
    "def gradients_to_dict2(arr):\n",
    "    keys = np.array([\"dU/dx\", \"dU/dy\", \"dU/dz\"])\n",
    "    keys = keys.reshape((3,1))[:,:arr.shape[1]].ravel()\n",
    "    return dict(zip(keys, arr.T))"
   ]
  },
  {
   "cell_type": "markdown",
   "id": "92090056",
   "metadata": {},
   "source": [
    "# Try to load case with pyvista.read"
   ]
  },
  {
   "cell_type": "markdown",
   "id": "03b31e97",
   "metadata": {},
   "source": [
    "PyVista is smart enough to allow the load of an OpenFOAM case (.foam extension here)"
   ]
  },
  {
   "cell_type": "code",
   "execution_count": 88,
   "id": "57547e5f",
   "metadata": {},
   "outputs": [],
   "source": [
    "# Import the OpenFOAM example case\n",
    "case = pv.read('C:/Users/pret/Desktop/INSA HDF 5A/PLP 5A/OpenFOAM_example_case/case.foam')"
   ]
  },
  {
   "cell_type": "code",
   "execution_count": 89,
   "id": "4229ca6c",
   "metadata": {},
   "outputs": [
    {
     "data": {
      "text/plain": [
       "['internalMesh']"
      ]
     },
     "execution_count": 89,
     "metadata": {},
     "output_type": "execute_result"
    }
   ],
   "source": [
    "case.keys()"
   ]
  },
  {
   "cell_type": "code",
   "execution_count": 90,
   "id": "62ff8ec9",
   "metadata": {},
   "outputs": [],
   "source": [
    "mesh = case[0]"
   ]
  },
  {
   "cell_type": "code",
   "execution_count": 91,
   "id": "f53f4bf8",
   "metadata": {},
   "outputs": [
    {
     "data": {
      "text/html": [
       "<table><tr><th>Header</th><th>Data Arrays</th></tr><tr><td>\n",
       "<table>\n",
       "<tr><th>UnstructuredGrid</th><th>Information</th></tr>\n",
       "<tr><td>N Cells</td><td>12225</td></tr>\n",
       "<tr><td>N Points</td><td>25012</td></tr>\n",
       "<tr><td>X Bounds</td><td>-2.060e-02, 2.900e-01</td></tr>\n",
       "<tr><td>Y Bounds</td><td>-2.540e-02, 2.540e-02</td></tr>\n",
       "<tr><td>Z Bounds</td><td>-5.000e-04, 5.000e-04</td></tr>\n",
       "<tr><td>N Arrays</td><td>10</td></tr>\n",
       "</table>\n",
       "\n",
       "</td><td>\n",
       "<table>\n",
       "<tr><th>Name</th><th>Field</th><th>Type</th><th>N Comp</th><th>Min</th><th>Max</th></tr>\n",
       "<tr><td>U</td><td>Points</td><td>float32</td><td>3</td><td>0.000e+00</td><td>1.000e+01</td></tr>\n",
       "<tr><td>epsilon</td><td>Points</td><td>float32</td><td>1</td><td>1.485e+01</td><td>1.485e+01</td></tr>\n",
       "<tr><td>k</td><td>Points</td><td>float32</td><td>1</td><td>3.750e-01</td><td>3.750e-01</td></tr>\n",
       "<tr><td>nut</td><td>Points</td><td>float32</td><td>1</td><td>0.000e+00</td><td>0.000e+00</td></tr>\n",
       "<tr><td><b>p</b></td><td>Points</td><td>float32</td><td>1</td><td>0.000e+00</td><td>0.000e+00</td></tr>\n",
       "<tr><td>U</td><td>Cells</td><td>float32</td><td>3</td><td>0.000e+00</td><td>0.000e+00</td></tr>\n",
       "<tr><td>epsilon</td><td>Cells</td><td>float32</td><td>1</td><td>1.485e+01</td><td>1.485e+01</td></tr>\n",
       "<tr><td>k</td><td>Cells</td><td>float32</td><td>1</td><td>3.750e-01</td><td>3.750e-01</td></tr>\n",
       "<tr><td>nut</td><td>Cells</td><td>float32</td><td>1</td><td>0.000e+00</td><td>0.000e+00</td></tr>\n",
       "<tr><td><b>p</b></td><td>Cells</td><td>float32</td><td>1</td><td>0.000e+00</td><td>0.000e+00</td></tr>\n",
       "</table>\n",
       "\n",
       "</td></tr> </table>"
      ],
      "text/plain": [
       "UnstructuredGrid (0x25dd8c735e0)\n",
       "  N Cells:\t12225\n",
       "  N Points:\t25012\n",
       "  X Bounds:\t-2.060e-02, 2.900e-01\n",
       "  Y Bounds:\t-2.540e-02, 2.540e-02\n",
       "  Z Bounds:\t-5.000e-04, 5.000e-04\n",
       "  N Arrays:\t10"
      ]
     },
     "execution_count": 91,
     "metadata": {},
     "output_type": "execute_result"
    }
   ],
   "source": [
    "mesh"
   ]
  },
  {
   "cell_type": "markdown",
   "id": "6bc88d8c",
   "metadata": {},
   "source": [
    "* It looks like the number of arrays is doubled here, there is 2 times the `Data Arrays`.\n",
    "* It looks like the case is loaded for `time=0`.\n",
    "\n",
    "Here is for example below the U field where it's 0 everywhere expect at the inlet which is the intial condtion at `time=0`."
   ]
  },
  {
   "cell_type": "code",
   "execution_count": 92,
   "id": "3644d756",
   "metadata": {},
   "outputs": [
    {
     "data": {
      "application/vnd.jupyter.widget-view+json": {
       "model_id": "194ab48d3dc54404bcff53df255cf804",
       "version_major": 2,
       "version_minor": 0
      },
      "text/plain": [
       "ViewInteractiveWidget(height=768, layout=Layout(height='auto', width='100%'), width=1024)"
      ]
     },
     "metadata": {},
     "output_type": "display_data"
    }
   ],
   "source": [
    " mesh.plot(scalars='U',cpos='xy')"
   ]
  },
  {
   "cell_type": "markdown",
   "id": "b13197c8",
   "metadata": {},
   "source": [
    "A Jupyter widget could not be displayed because the widget state could not be found. This could happen if the kernel storing the widget is no longer available, or if the widget state was not saved in the notebook. You may be able to create the widget by running the appropriate cells.\n"
   ]
  },
  {
   "cell_type": "markdown",
   "id": "3587de99",
   "metadata": {},
   "source": [
    "# Load the case with `OpenFOAMReader`"
   ]
  },
  {
   "cell_type": "code",
   "execution_count": 93,
   "id": "bad08538",
   "metadata": {},
   "outputs": [
    {
     "name": "stdout",
     "output_type": "stream",
     "text": [
      "[0.0, 500.0, 1000.0]\n"
     ]
    }
   ],
   "source": [
    "reader = pv.OpenFOAMReader(\"C:/Users/pret/Desktop/INSA HDF 5A/PLP 5A/OpenFOAM_example_case/case.foam\")\n",
    "time = reader.time_values\n",
    "print(time)"
   ]
  },
  {
   "cell_type": "code",
   "execution_count": 94,
   "id": "a93770f3",
   "metadata": {},
   "outputs": [
    {
     "name": "stdout",
     "output_type": "stream",
     "text": [
      "['internalMesh', 'Patches']\n"
     ]
    },
    {
     "data": {
      "text/html": [
       "<table><tr><th>Information</th><th>Blocks</th></tr><tr><td>\n",
       "<table>\n",
       "<tr><th>MultiBlock</th><th>Values</th></tr>\n",
       "<tr><td>N Blocks</td><td>2</td></tr>\n",
       "<tr><td>X Bounds</td><td>-0.021, 0.290</td></tr>\n",
       "<tr><td>Y Bounds</td><td>-0.025, 0.025</td></tr>\n",
       "<tr><td>Z Bounds</td><td>-0.001, 0.001</td></tr>\n",
       "</table>\n",
       "\n",
       "</td><td>\n",
       "<table>\n",
       "<tr><th>Index</th><th>Name</th><th>Type</th></tr>\n",
       "<tr><th>0</th><th>internalMesh</th><th>UnstructuredGrid</th></tr>\n",
       "<tr><th>1</th><th>Patches</th><th>MultiBlock</th></tr>\n",
       "</table>\n",
       "\n",
       "</td></tr> </table>"
      ],
      "text/plain": [
       "MultiBlock (0x25dd8c73e20)\n",
       "  N Blocks:\t2\n",
       "  X Bounds:\t-0.021, 0.290\n",
       "  Y Bounds:\t-0.025, 0.025\n",
       "  Z Bounds:\t-0.001, 0.001"
      ]
     },
     "execution_count": 94,
     "metadata": {},
     "output_type": "execute_result"
    }
   ],
   "source": [
    "reader.enable_all_patch_arrays()\n",
    "reader.set_active_time_value(time[1]) # set time at whichever value we want to visualise\n",
    "multi_block = reader.read()\n",
    "print(multi_block.keys())\n",
    "multi_block "
   ]
  },
  {
   "cell_type": "markdown",
   "id": "b1c21d7c",
   "metadata": {},
   "source": [
    "Let's create two datasets: one that only contains the cell data and one that only contains the point data."
   ]
  },
  {
   "cell_type": "code",
   "execution_count": 95,
   "id": "82f6fc59",
   "metadata": {
    "scrolled": true
   },
   "outputs": [
    {
     "data": {
      "text/html": [
       "<table><tr><th>Header</th><th>Data Arrays</th></tr><tr><td>\n",
       "<table>\n",
       "<tr><th>UnstructuredGrid</th><th>Information</th></tr>\n",
       "<tr><td>N Cells</td><td>12225</td></tr>\n",
       "<tr><td>N Points</td><td>25012</td></tr>\n",
       "<tr><td>X Bounds</td><td>-2.060e-02, 2.900e-01</td></tr>\n",
       "<tr><td>Y Bounds</td><td>-2.540e-02, 2.540e-02</td></tr>\n",
       "<tr><td>Z Bounds</td><td>-5.000e-04, 5.000e-04</td></tr>\n",
       "<tr><td>N Arrays</td><td>5</td></tr>\n",
       "</table>\n",
       "\n",
       "</td><td>\n",
       "<table>\n",
       "<tr><th>Name</th><th>Field</th><th>Type</th><th>N Comp</th><th>Min</th><th>Max</th></tr>\n",
       "<tr><td>U</td><td>Cells</td><td>float32</td><td>3</td><td>-2.553e+00</td><td>1.018e+01</td></tr>\n",
       "<tr><td>epsilon</td><td>Cells</td><td>float32</td><td>1</td><td>1.280e-01</td><td>5.784e+03</td></tr>\n",
       "<tr><td>k</td><td>Cells</td><td>float32</td><td>1</td><td>4.465e-04</td><td>5.500e+00</td></tr>\n",
       "<tr><td>nut</td><td>Cells</td><td>float32</td><td>1</td><td>1.402e-07</td><td>5.141e-03</td></tr>\n",
       "<tr><td><b>p</b></td><td>Cells</td><td>float32</td><td>1</td><td>-8.017e+00</td><td>1.505e+01</td></tr>\n",
       "</table>\n",
       "\n",
       "</td></tr> </table>"
      ],
      "text/plain": [
       "UnstructuredGrid (0x25dd8ca08e0)\n",
       "  N Cells:\t12225\n",
       "  N Points:\t25012\n",
       "  X Bounds:\t-2.060e-02, 2.900e-01\n",
       "  Y Bounds:\t-2.540e-02, 2.540e-02\n",
       "  Z Bounds:\t-5.000e-04, 5.000e-04\n",
       "  N Arrays:\t5"
      ]
     },
     "execution_count": 95,
     "metadata": {},
     "output_type": "execute_result"
    }
   ],
   "source": [
    "mesh_cell = multi_block[0]\n",
    "mesh_point = mesh_cell.cell_data_to_point_data()\n",
    "mesh_cell"
   ]
  },
  {
   "cell_type": "code",
   "execution_count": 96,
   "id": "321b960b",
   "metadata": {},
   "outputs": [
    {
     "data": {
      "text/html": [
       "<table><tr><th>Header</th><th>Data Arrays</th></tr><tr><td>\n",
       "<table>\n",
       "<tr><th>UnstructuredGrid</th><th>Information</th></tr>\n",
       "<tr><td>N Cells</td><td>12225</td></tr>\n",
       "<tr><td>N Points</td><td>25012</td></tr>\n",
       "<tr><td>X Bounds</td><td>-2.060e-02, 2.900e-01</td></tr>\n",
       "<tr><td>Y Bounds</td><td>-2.540e-02, 2.540e-02</td></tr>\n",
       "<tr><td>Z Bounds</td><td>-5.000e-04, 5.000e-04</td></tr>\n",
       "<tr><td>N Arrays</td><td>5</td></tr>\n",
       "</table>\n",
       "\n",
       "</td><td>\n",
       "<table>\n",
       "<tr><th>Name</th><th>Field</th><th>Type</th><th>N Comp</th><th>Min</th><th>Max</th></tr>\n",
       "<tr><td>U</td><td>Points</td><td>float32</td><td>3</td><td>-2.553e+00</td><td>1.018e+01</td></tr>\n",
       "<tr><td>epsilon</td><td>Points</td><td>float32</td><td>1</td><td>1.280e-01</td><td>5.170e+03</td></tr>\n",
       "<tr><td>k</td><td>Points</td><td>float32</td><td>1</td><td>4.465e-04</td><td>5.496e+00</td></tr>\n",
       "<tr><td>nut</td><td>Points</td><td>float32</td><td>1</td><td>1.402e-07</td><td>5.137e-03</td></tr>\n",
       "<tr><td><b>p</b></td><td>Points</td><td>float32</td><td>1</td><td>-8.015e+00</td><td>1.454e+01</td></tr>\n",
       "</table>\n",
       "\n",
       "</td></tr> </table>"
      ],
      "text/plain": [
       "UnstructuredGrid (0x25dd8c73520)\n",
       "  N Cells:\t12225\n",
       "  N Points:\t25012\n",
       "  X Bounds:\t-2.060e-02, 2.900e-01\n",
       "  Y Bounds:\t-2.540e-02, 2.540e-02\n",
       "  Z Bounds:\t-5.000e-04, 5.000e-04\n",
       "  N Arrays:\t5"
      ]
     },
     "execution_count": 96,
     "metadata": {},
     "output_type": "execute_result"
    }
   ],
   "source": [
    "mesh_point"
   ]
  },
  {
   "cell_type": "code",
   "execution_count": 97,
   "id": "eed9dc05",
   "metadata": {},
   "outputs": [
    {
     "data": {
      "text/html": [
       "<table><tr><th>Information</th><th>Blocks</th></tr><tr><td>\n",
       "<table>\n",
       "<tr><th>MultiBlock</th><th>Values</th></tr>\n",
       "<tr><td>N Blocks</td><td>5</td></tr>\n",
       "<tr><td>X Bounds</td><td>-0.021, 0.290</td></tr>\n",
       "<tr><td>Y Bounds</td><td>-0.025, 0.025</td></tr>\n",
       "<tr><td>Z Bounds</td><td>-0.001, 0.001</td></tr>\n",
       "</table>\n",
       "\n",
       "</td><td>\n",
       "<table>\n",
       "<tr><th>Index</th><th>Name</th><th>Type</th></tr>\n",
       "<tr><th>0</th><th>inlet</th><th>PolyData</th></tr>\n",
       "<tr><th>1</th><th>outlet</th><th>PolyData</th></tr>\n",
       "<tr><th>2</th><th>upperWall</th><th>PolyData</th></tr>\n",
       "<tr><th>3</th><th>lowerWall</th><th>PolyData</th></tr>\n",
       "<tr><th>4</th><th>frontAndBack</th><th>PolyData</th></tr>\n",
       "</table>\n",
       "\n",
       "</td></tr> </table>"
      ],
      "text/plain": [
       "MultiBlock (0x25dd8ca0a60)\n",
       "  N Blocks:\t5\n",
       "  X Bounds:\t-0.021, 0.290\n",
       "  Y Bounds:\t-0.025, 0.025\n",
       "  Z Bounds:\t-0.001, 0.001"
      ]
     },
     "execution_count": 97,
     "metadata": {},
     "output_type": "execute_result"
    }
   ],
   "source": [
    "mesh_bound_cell = multi_block[1]\n",
    "mesh_bound_point = mesh_bound_cell.cell_data_to_point_data()\n",
    "mesh_bound_cell"
   ]
  },
  {
   "cell_type": "code",
   "execution_count": 98,
   "id": "03d15bfd",
   "metadata": {},
   "outputs": [
    {
     "data": {
      "text/html": [
       "<table><tr><th>Header</th><th>Data Arrays</th></tr><tr><td>\n",
       "<table>\n",
       "<tr><th>PolyData</th><th>Information</th></tr>\n",
       "<tr><td>N Cells</td><td>250</td></tr>\n",
       "<tr><td>N Points</td><td>502</td></tr>\n",
       "<tr><td>X Bounds</td><td>-2.060e-02, 2.900e-01</td></tr>\n",
       "<tr><td>Y Bounds</td><td>-2.540e-02, 0.000e+00</td></tr>\n",
       "<tr><td>Z Bounds</td><td>-5.000e-04, 5.000e-04</td></tr>\n",
       "<tr><td>N Arrays</td><td>5</td></tr>\n",
       "</table>\n",
       "\n",
       "</td><td>\n",
       "<table>\n",
       "<tr><th>Name</th><th>Field</th><th>Type</th><th>N Comp</th><th>Min</th><th>Max</th></tr>\n",
       "<tr><td>U</td><td>Cells</td><td>float32</td><td>3</td><td>-2.553e+00</td><td>9.852e+00</td></tr>\n",
       "<tr><td>epsilon</td><td>Cells</td><td>float32</td><td>1</td><td>1.280e-01</td><td>1.158e+03</td></tr>\n",
       "<tr><td>k</td><td>Cells</td><td>float32</td><td>1</td><td>4.465e-04</td><td>8.891e-01</td></tr>\n",
       "<tr><td>nut</td><td>Cells</td><td>float32</td><td>1</td><td>0.000e+00</td><td>9.415e-06</td></tr>\n",
       "<tr><td><b>p</b></td><td>Cells</td><td>float32</td><td>1</td><td>-7.995e+00</td><td>1.243e+01</td></tr>\n",
       "</table>\n",
       "\n",
       "</td></tr> </table>"
      ],
      "text/plain": [
       "PolyData (0x25dd8c73d00)\n",
       "  N Cells:\t250\n",
       "  N Points:\t502\n",
       "  X Bounds:\t-2.060e-02, 2.900e-01\n",
       "  Y Bounds:\t-2.540e-02, 0.000e+00\n",
       "  Z Bounds:\t-5.000e-04, 5.000e-04\n",
       "  N Arrays:\t5"
      ]
     },
     "execution_count": 98,
     "metadata": {},
     "output_type": "execute_result"
    }
   ],
   "source": [
    "lower_wall_cell = mesh_bound_cell[3]\n",
    "lower_wall_cell"
   ]
  },
  {
   "cell_type": "code",
   "execution_count": 99,
   "id": "8b63e020",
   "metadata": {},
   "outputs": [
    {
     "data": {
      "text/html": [
       "<table><tr><th>Information</th><th>Blocks</th></tr><tr><td>\n",
       "<table>\n",
       "<tr><th>MultiBlock</th><th>Values</th></tr>\n",
       "<tr><td>N Blocks</td><td>5</td></tr>\n",
       "<tr><td>X Bounds</td><td>-0.021, 0.290</td></tr>\n",
       "<tr><td>Y Bounds</td><td>-0.025, 0.025</td></tr>\n",
       "<tr><td>Z Bounds</td><td>-0.001, 0.001</td></tr>\n",
       "</table>\n",
       "\n",
       "</td><td>\n",
       "<table>\n",
       "<tr><th>Index</th><th>Name</th><th>Type</th></tr>\n",
       "<tr><th>0</th><th>inlet</th><th>PolyData</th></tr>\n",
       "<tr><th>1</th><th>outlet</th><th>PolyData</th></tr>\n",
       "<tr><th>2</th><th>upperWall</th><th>PolyData</th></tr>\n",
       "<tr><th>3</th><th>lowerWall</th><th>PolyData</th></tr>\n",
       "<tr><th>4</th><th>frontAndBack</th><th>PolyData</th></tr>\n",
       "</table>\n",
       "\n",
       "</td></tr> </table>"
      ],
      "text/plain": [
       "MultiBlock (0x25d16fdddc0)\n",
       "  N Blocks:\t5\n",
       "  X Bounds:\t-0.021, 0.290\n",
       "  Y Bounds:\t-0.025, 0.025\n",
       "  Z Bounds:\t-0.001, 0.001"
      ]
     },
     "execution_count": 99,
     "metadata": {},
     "output_type": "execute_result"
    }
   ],
   "source": [
    "mesh_bound_point"
   ]
  },
  {
   "cell_type": "code",
   "execution_count": 100,
   "id": "90c45136",
   "metadata": {},
   "outputs": [
    {
     "data": {
      "text/html": [
       "<table><tr><th>Header</th><th>Data Arrays</th></tr><tr><td>\n",
       "<table>\n",
       "<tr><th>PolyData</th><th>Information</th></tr>\n",
       "<tr><td>N Cells</td><td>250</td></tr>\n",
       "<tr><td>N Points</td><td>502</td></tr>\n",
       "<tr><td>X Bounds</td><td>-2.060e-02, 2.900e-01</td></tr>\n",
       "<tr><td>Y Bounds</td><td>-2.540e-02, 0.000e+00</td></tr>\n",
       "<tr><td>Z Bounds</td><td>-5.000e-04, 5.000e-04</td></tr>\n",
       "<tr><td>N Arrays</td><td>5</td></tr>\n",
       "</table>\n",
       "\n",
       "</td><td>\n",
       "<table>\n",
       "<tr><th>Name</th><th>Field</th><th>Type</th><th>N Comp</th><th>Min</th><th>Max</th></tr>\n",
       "<tr><td>U</td><td>Points</td><td>float32</td><td>3</td><td>-2.553e+00</td><td>9.852e+00</td></tr>\n",
       "<tr><td>epsilon</td><td>Points</td><td>float32</td><td>1</td><td>1.280e-01</td><td>1.158e+03</td></tr>\n",
       "<tr><td>k</td><td>Points</td><td>float32</td><td>1</td><td>4.465e-04</td><td>8.891e-01</td></tr>\n",
       "<tr><td>nut</td><td>Points</td><td>float32</td><td>1</td><td>0.000e+00</td><td>9.415e-06</td></tr>\n",
       "<tr><td><b>p</b></td><td>Points</td><td>float32</td><td>1</td><td>-7.994e+00</td><td>1.243e+01</td></tr>\n",
       "</table>\n",
       "\n",
       "</td></tr> </table>"
      ],
      "text/plain": [
       "PolyData (0x25d16fcd2e0)\n",
       "  N Cells:\t250\n",
       "  N Points:\t502\n",
       "  X Bounds:\t-2.060e-02, 2.900e-01\n",
       "  Y Bounds:\t-2.540e-02, 0.000e+00\n",
       "  Z Bounds:\t-5.000e-04, 5.000e-04\n",
       "  N Arrays:\t5"
      ]
     },
     "execution_count": 100,
     "metadata": {},
     "output_type": "execute_result"
    }
   ],
   "source": [
    "lower_wall_point = mesh_bound_point[3]\n",
    "lower_wall_point"
   ]
  },
  {
   "cell_type": "markdown",
   "id": "26d9e6a0",
   "metadata": {},
   "source": [
    "## Let's get the gradients at one of the patches"
   ]
  },
  {
   "cell_type": "markdown",
   "id": "98feedbd",
   "metadata": {},
   "source": [
    "The following cells can be applied to any of the patches in `mesh_bound_cell` and `mesh_bound_point`. Here, we choose to apply it to the lower wall."
   ]
  },
  {
   "cell_type": "code",
   "execution_count": 101,
   "id": "6779eb58",
   "metadata": {},
   "outputs": [
    {
     "data": {
      "text/html": [
       "<table><tr><th>Header</th><th>Data Arrays</th></tr><tr><td>\n",
       "<table>\n",
       "<tr><th>PolyData</th><th>Information</th></tr>\n",
       "<tr><td>N Cells</td><td>250</td></tr>\n",
       "<tr><td>N Points</td><td>502</td></tr>\n",
       "<tr><td>X Bounds</td><td>-2.060e-02, 2.900e-01</td></tr>\n",
       "<tr><td>Y Bounds</td><td>-2.540e-02, 0.000e+00</td></tr>\n",
       "<tr><td>Z Bounds</td><td>-5.000e-04, 5.000e-04</td></tr>\n",
       "<tr><td>N Arrays</td><td>6</td></tr>\n",
       "</table>\n",
       "\n",
       "</td><td>\n",
       "<table>\n",
       "<tr><th>Name</th><th>Field</th><th>Type</th><th>N Comp</th><th>Min</th><th>Max</th></tr>\n",
       "<tr><td>U</td><td>Cells</td><td>float32</td><td>3</td><td>-2.553e+00</td><td>9.852e+00</td></tr>\n",
       "<tr><td>epsilon</td><td>Cells</td><td>float32</td><td>1</td><td>1.280e-01</td><td>1.158e+03</td></tr>\n",
       "<tr><td>k</td><td>Cells</td><td>float32</td><td>1</td><td>4.465e-04</td><td>8.891e-01</td></tr>\n",
       "<tr><td>nut</td><td>Cells</td><td>float32</td><td>1</td><td>0.000e+00</td><td>9.415e-06</td></tr>\n",
       "<tr><td><b>p</b></td><td>Cells</td><td>float32</td><td>1</td><td>-7.995e+00</td><td>1.243e+01</td></tr>\n",
       "<tr><td>gradient</td><td>Cells</td><td>float32</td><td>9</td><td>-4.278e+03</td><td>1.045e+04</td></tr>\n",
       "</table>\n",
       "\n",
       "</td></tr> </table>"
      ],
      "text/plain": [
       "PolyData (0x25d16fcd040)\n",
       "  N Cells:\t250\n",
       "  N Points:\t502\n",
       "  X Bounds:\t-2.060e-02, 2.900e-01\n",
       "  Y Bounds:\t-2.540e-02, 0.000e+00\n",
       "  Z Bounds:\t-5.000e-04, 5.000e-04\n",
       "  N Arrays:\t6"
      ]
     },
     "execution_count": 101,
     "metadata": {},
     "output_type": "execute_result"
    }
   ],
   "source": [
    "lower_wall_cell = lower_wall_cell.compute_derivative(scalars=\"U\")\n",
    "lower_wall_cell"
   ]
  },
  {
   "cell_type": "code",
   "execution_count": 102,
   "id": "0b82df41",
   "metadata": {},
   "outputs": [
    {
     "data": {
      "text/html": [
       "<table><tr><th>Header</th><th>Data Arrays</th></tr><tr><td>\n",
       "<table>\n",
       "<tr><th>PolyData</th><th>Information</th></tr>\n",
       "<tr><td>N Cells</td><td>250</td></tr>\n",
       "<tr><td>N Points</td><td>502</td></tr>\n",
       "<tr><td>X Bounds</td><td>-2.060e-02, 2.900e-01</td></tr>\n",
       "<tr><td>Y Bounds</td><td>-2.540e-02, 0.000e+00</td></tr>\n",
       "<tr><td>Z Bounds</td><td>-5.000e-04, 5.000e-04</td></tr>\n",
       "<tr><td>N Arrays</td><td>15</td></tr>\n",
       "</table>\n",
       "\n",
       "</td><td>\n",
       "<table>\n",
       "<tr><th>Name</th><th>Field</th><th>Type</th><th>N Comp</th><th>Min</th><th>Max</th></tr>\n",
       "<tr><td>U</td><td>Cells</td><td>float32</td><td>3</td><td>-2.553e+00</td><td>9.852e+00</td></tr>\n",
       "<tr><td>epsilon</td><td>Cells</td><td>float32</td><td>1</td><td>1.280e-01</td><td>1.158e+03</td></tr>\n",
       "<tr><td>k</td><td>Cells</td><td>float32</td><td>1</td><td>4.465e-04</td><td>8.891e-01</td></tr>\n",
       "<tr><td>nut</td><td>Cells</td><td>float32</td><td>1</td><td>0.000e+00</td><td>9.415e-06</td></tr>\n",
       "<tr><td>p</td><td>Cells</td><td>float32</td><td>1</td><td>-7.995e+00</td><td>1.243e+01</td></tr>\n",
       "<tr><td>gradient</td><td>Cells</td><td>float32</td><td>9</td><td>-4.278e+03</td><td>1.045e+04</td></tr>\n",
       "<tr><td>dux/dx</td><td>Cells</td><td>float32</td><td>1</td><td>-4.278e+03</td><td>7.750e+01</td></tr>\n",
       "<tr><td>dux/dy</td><td>Cells</td><td>float32</td><td>1</td><td>-2.026e+02</td><td>1.045e+04</td></tr>\n",
       "<tr><td>dux/dz</td><td>Cells</td><td>float32</td><td>1</td><td>-2.608e-14</td><td>3.380e-14</td></tr>\n",
       "<tr><td>duy/dx</td><td>Cells</td><td>float32</td><td>1</td><td>-4.211e+01</td><td>2.524e+02</td></tr>\n",
       "<tr><td>duy/dy</td><td>Cells</td><td>float32</td><td>1</td><td>-9.717e+02</td><td>2.438e+02</td></tr>\n",
       "<tr><td>duy/dz</td><td>Cells</td><td>float32</td><td>1</td><td>-2.474e-15</td><td>2.550e-15</td></tr>\n",
       "<tr><td>duz/dx</td><td>Cells</td><td>float32</td><td>1</td><td>-6.682e-14</td><td>4.964e-14</td></tr>\n",
       "<tr><td>duz/dy</td><td>Cells</td><td>float32</td><td>1</td><td>-7.000e-15</td><td>5.200e-15</td></tr>\n",
       "<tr><td><b>duz/dz</b></td><td>Cells</td><td>float32</td><td>1</td><td>-1.457e-29</td><td>5.511e-30</td></tr>\n",
       "</table>\n",
       "\n",
       "</td></tr> </table>"
      ],
      "text/plain": [
       "PolyData (0x25d16fcd040)\n",
       "  N Cells:\t250\n",
       "  N Points:\t502\n",
       "  X Bounds:\t-2.060e-02, 2.900e-01\n",
       "  Y Bounds:\t-2.540e-02, 0.000e+00\n",
       "  Z Bounds:\t-5.000e-04, 5.000e-04\n",
       "  N Arrays:\t15"
      ]
     },
     "execution_count": 102,
     "metadata": {},
     "output_type": "execute_result"
    }
   ],
   "source": [
    "# deriv will contain the data from the gradient of U (9 components)\n",
    "deriv_cell = lower_wall_cell.compute_derivative(scalars=\"U\")\n",
    "\n",
    "grad_cell = gradients_to_dict(deriv_cell[\"gradient\"])\n",
    "\n",
    "lower_wall_cell.cell_data[\"dux/dx\"] = grad_cell[\"dux/dx\"]\n",
    "lower_wall_cell.cell_data[\"dux/dy\"] = grad_cell[\"dux/dy\"]\n",
    "lower_wall_cell.cell_data[\"dux/dz\"] = grad_cell[\"dux/dz\"]\n",
    "lower_wall_cell.cell_data[\"duy/dx\"] = grad_cell[\"duy/dx\"]\n",
    "lower_wall_cell.cell_data[\"duy/dy\"] = grad_cell[\"duy/dy\"]\n",
    "lower_wall_cell.cell_data[\"duy/dz\"] = grad_cell[\"duy/dz\"]\n",
    "lower_wall_cell.cell_data[\"duz/dx\"] = grad_cell[\"duz/dx\"]\n",
    "lower_wall_cell.cell_data[\"duz/dy\"] = grad_cell[\"duz/dy\"]\n",
    "lower_wall_cell.cell_data[\"duz/dz\"] = grad_cell[\"duz/dz\"]\n",
    "\n",
    "lower_wall_cell"
   ]
  },
  {
   "cell_type": "code",
   "execution_count": 103,
   "id": "049c720f",
   "metadata": {},
   "outputs": [
    {
     "data": {
      "text/html": [
       "<table><tr><th>Header</th><th>Data Arrays</th></tr><tr><td>\n",
       "<table>\n",
       "<tr><th>PolyData</th><th>Information</th></tr>\n",
       "<tr><td>N Cells</td><td>250</td></tr>\n",
       "<tr><td>N Points</td><td>502</td></tr>\n",
       "<tr><td>X Bounds</td><td>-2.060e-02, 2.900e-01</td></tr>\n",
       "<tr><td>Y Bounds</td><td>-2.540e-02, 0.000e+00</td></tr>\n",
       "<tr><td>Z Bounds</td><td>-5.000e-04, 5.000e-04</td></tr>\n",
       "<tr><td>N Arrays</td><td>6</td></tr>\n",
       "</table>\n",
       "\n",
       "</td><td>\n",
       "<table>\n",
       "<tr><th>Name</th><th>Field</th><th>Type</th><th>N Comp</th><th>Min</th><th>Max</th></tr>\n",
       "<tr><td>U</td><td>Points</td><td>float32</td><td>3</td><td>-2.553e+00</td><td>9.852e+00</td></tr>\n",
       "<tr><td>epsilon</td><td>Points</td><td>float32</td><td>1</td><td>1.280e-01</td><td>1.158e+03</td></tr>\n",
       "<tr><td>k</td><td>Points</td><td>float32</td><td>1</td><td>4.465e-04</td><td>8.891e-01</td></tr>\n",
       "<tr><td>nut</td><td>Points</td><td>float32</td><td>1</td><td>0.000e+00</td><td>9.415e-06</td></tr>\n",
       "<tr><td><b>p</b></td><td>Points</td><td>float32</td><td>1</td><td>-7.994e+00</td><td>1.243e+01</td></tr>\n",
       "<tr><td>gradient</td><td>Points</td><td>float32</td><td>9</td><td>-2.157e+03</td><td>5.861e+03</td></tr>\n",
       "</table>\n",
       "\n",
       "</td></tr> </table>"
      ],
      "text/plain": [
       "PolyData (0x25db9b26160)\n",
       "  N Cells:\t250\n",
       "  N Points:\t502\n",
       "  X Bounds:\t-2.060e-02, 2.900e-01\n",
       "  Y Bounds:\t-2.540e-02, 0.000e+00\n",
       "  Z Bounds:\t-5.000e-04, 5.000e-04\n",
       "  N Arrays:\t6"
      ]
     },
     "execution_count": 103,
     "metadata": {},
     "output_type": "execute_result"
    }
   ],
   "source": [
    "lower_wall_point = lower_wall_point.compute_derivative(scalars=\"U\")\n",
    "lower_wall_point"
   ]
  },
  {
   "cell_type": "code",
   "execution_count": 104,
   "id": "18ac9848",
   "metadata": {},
   "outputs": [
    {
     "data": {
      "text/html": [
       "<table><tr><th>Header</th><th>Data Arrays</th></tr><tr><td>\n",
       "<table>\n",
       "<tr><th>PolyData</th><th>Information</th></tr>\n",
       "<tr><td>N Cells</td><td>250</td></tr>\n",
       "<tr><td>N Points</td><td>502</td></tr>\n",
       "<tr><td>X Bounds</td><td>-2.060e-02, 2.900e-01</td></tr>\n",
       "<tr><td>Y Bounds</td><td>-2.540e-02, 0.000e+00</td></tr>\n",
       "<tr><td>Z Bounds</td><td>-5.000e-04, 5.000e-04</td></tr>\n",
       "<tr><td>N Arrays</td><td>15</td></tr>\n",
       "</table>\n",
       "\n",
       "</td><td>\n",
       "<table>\n",
       "<tr><th>Name</th><th>Field</th><th>Type</th><th>N Comp</th><th>Min</th><th>Max</th></tr>\n",
       "<tr><td>U</td><td>Points</td><td>float32</td><td>3</td><td>-2.553e+00</td><td>9.852e+00</td></tr>\n",
       "<tr><td>epsilon</td><td>Points</td><td>float32</td><td>1</td><td>1.280e-01</td><td>1.158e+03</td></tr>\n",
       "<tr><td>k</td><td>Points</td><td>float32</td><td>1</td><td>4.465e-04</td><td>8.891e-01</td></tr>\n",
       "<tr><td>nut</td><td>Points</td><td>float32</td><td>1</td><td>0.000e+00</td><td>9.415e-06</td></tr>\n",
       "<tr><td>p</td><td>Points</td><td>float32</td><td>1</td><td>-7.994e+00</td><td>1.243e+01</td></tr>\n",
       "<tr><td>gradient</td><td>Points</td><td>float32</td><td>9</td><td>-2.157e+03</td><td>5.861e+03</td></tr>\n",
       "<tr><td>dux/dx</td><td>Points</td><td>float32</td><td>1</td><td>-2.157e+03</td><td>6.960e+01</td></tr>\n",
       "<tr><td>dux/dy</td><td>Points</td><td>float32</td><td>1</td><td>-1.116e+02</td><td>5.861e+03</td></tr>\n",
       "<tr><td>dux/dz</td><td>Points</td><td>float32</td><td>1</td><td>-2.608e-14</td><td>5.381e-14</td></tr>\n",
       "<tr><td>duy/dx</td><td>Points</td><td>float32</td><td>1</td><td>-3.511e+01</td><td>1.672e+02</td></tr>\n",
       "<tr><td>duy/dy</td><td>Points</td><td>float32</td><td>1</td><td>-5.959e+02</td><td>1.854e+02</td></tr>\n",
       "<tr><td>duy/dz</td><td>Points</td><td>float32</td><td>1</td><td>-2.474e-15</td><td>2.550e-15</td></tr>\n",
       "<tr><td>duz/dx</td><td>Points</td><td>float32</td><td>1</td><td>-4.392e-14</td><td>3.080e-14</td></tr>\n",
       "<tr><td>duz/dy</td><td>Points</td><td>float32</td><td>1</td><td>-4.602e-15</td><td>3.227e-15</td></tr>\n",
       "<tr><td><b>duz/dz</b></td><td>Points</td><td>float32</td><td>1</td><td>-1.457e-29</td><td>5.511e-30</td></tr>\n",
       "</table>\n",
       "\n",
       "</td></tr> </table>"
      ],
      "text/plain": [
       "PolyData (0x25db9b26160)\n",
       "  N Cells:\t250\n",
       "  N Points:\t502\n",
       "  X Bounds:\t-2.060e-02, 2.900e-01\n",
       "  Y Bounds:\t-2.540e-02, 0.000e+00\n",
       "  Z Bounds:\t-5.000e-04, 5.000e-04\n",
       "  N Arrays:\t15"
      ]
     },
     "execution_count": 104,
     "metadata": {},
     "output_type": "execute_result"
    }
   ],
   "source": [
    "# deriv will contain the data from the gradient of U (9 components)\n",
    "deriv_point = lower_wall_point.compute_derivative(scalars=\"U\")\n",
    "\n",
    "grad_point = gradients_to_dict(deriv_point[\"gradient\"])\n",
    "\n",
    "lower_wall_point.point_data[\"dux/dx\"] = grad_point[\"dux/dx\"]\n",
    "lower_wall_point.point_data[\"dux/dy\"] = grad_point[\"dux/dy\"]\n",
    "lower_wall_point.point_data[\"dux/dz\"] = grad_point[\"dux/dz\"]\n",
    "lower_wall_point.point_data[\"duy/dx\"] = grad_point[\"duy/dx\"]\n",
    "lower_wall_point.point_data[\"duy/dy\"] = grad_point[\"duy/dy\"]\n",
    "lower_wall_point.point_data[\"duy/dz\"] = grad_point[\"duy/dz\"]\n",
    "lower_wall_point.point_data[\"duz/dx\"] = grad_point[\"duz/dx\"]\n",
    "lower_wall_point.point_data[\"duz/dy\"] = grad_point[\"duz/dy\"]\n",
    "lower_wall_point.point_data[\"duz/dz\"] = grad_point[\"duz/dz\"]\n",
    "\n",
    "lower_wall_point"
   ]
  },
  {
   "cell_type": "code",
   "execution_count": 105,
   "id": "2bd45307",
   "metadata": {},
   "outputs": [
    {
     "data": {
      "text/plain": [
       "(502, 3)"
      ]
     },
     "execution_count": 105,
     "metadata": {},
     "output_type": "execute_result"
    }
   ],
   "source": [
    "lower_wall_cell= lower_wall_cell.compute_normals()\n",
    "normals_cell = lower_wall_cell.active_normals\n",
    "normals_cell.shape"
   ]
  },
  {
   "cell_type": "code",
   "execution_count": 106,
   "id": "0c1ccd6f",
   "metadata": {},
   "outputs": [
    {
     "data": {
      "text/html": [
       "<table><tr><th>Header</th><th>Data Arrays</th></tr><tr><td>\n",
       "<table>\n",
       "<tr><th>PolyData</th><th>Information</th></tr>\n",
       "<tr><td>N Cells</td><td>250</td></tr>\n",
       "<tr><td>N Points</td><td>502</td></tr>\n",
       "<tr><td>X Bounds</td><td>-2.060e-02, 2.900e-01</td></tr>\n",
       "<tr><td>Y Bounds</td><td>-2.540e-02, 0.000e+00</td></tr>\n",
       "<tr><td>Z Bounds</td><td>-5.000e-04, 5.000e-04</td></tr>\n",
       "<tr><td>N Arrays</td><td>17</td></tr>\n",
       "</table>\n",
       "\n",
       "</td><td>\n",
       "<table>\n",
       "<tr><th>Name</th><th>Field</th><th>Type</th><th>N Comp</th><th>Min</th><th>Max</th></tr>\n",
       "<tr><td>Normals</td><td>Points</td><td>float32</td><td>3</td><td>-1.000e+00</td><td>1.042e-01</td></tr>\n",
       "<tr><td>U</td><td>Cells</td><td>float32</td><td>3</td><td>-2.553e+00</td><td>9.852e+00</td></tr>\n",
       "<tr><td>epsilon</td><td>Cells</td><td>float32</td><td>1</td><td>1.280e-01</td><td>1.158e+03</td></tr>\n",
       "<tr><td>k</td><td>Cells</td><td>float32</td><td>1</td><td>4.465e-04</td><td>8.891e-01</td></tr>\n",
       "<tr><td>nut</td><td>Cells</td><td>float32</td><td>1</td><td>0.000e+00</td><td>9.415e-06</td></tr>\n",
       "<tr><td>p</td><td>Cells</td><td>float32</td><td>1</td><td>-7.995e+00</td><td>1.243e+01</td></tr>\n",
       "<tr><td>gradient</td><td>Cells</td><td>float32</td><td>9</td><td>-4.278e+03</td><td>1.045e+04</td></tr>\n",
       "<tr><td>dux/dx</td><td>Cells</td><td>float32</td><td>1</td><td>-4.278e+03</td><td>7.750e+01</td></tr>\n",
       "<tr><td>dux/dy</td><td>Cells</td><td>float32</td><td>1</td><td>-2.026e+02</td><td>1.045e+04</td></tr>\n",
       "<tr><td>dux/dz</td><td>Cells</td><td>float32</td><td>1</td><td>-2.608e-14</td><td>3.380e-14</td></tr>\n",
       "<tr><td>duy/dx</td><td>Cells</td><td>float32</td><td>1</td><td>-4.211e+01</td><td>2.524e+02</td></tr>\n",
       "<tr><td>duy/dy</td><td>Cells</td><td>float32</td><td>1</td><td>-9.717e+02</td><td>2.438e+02</td></tr>\n",
       "<tr><td>duy/dz</td><td>Cells</td><td>float32</td><td>1</td><td>-2.474e-15</td><td>2.550e-15</td></tr>\n",
       "<tr><td>duz/dx</td><td>Cells</td><td>float32</td><td>1</td><td>-6.682e-14</td><td>4.964e-14</td></tr>\n",
       "<tr><td>duz/dy</td><td>Cells</td><td>float32</td><td>1</td><td>-7.000e-15</td><td>5.200e-15</td></tr>\n",
       "<tr><td><b>duz/dz</b></td><td>Cells</td><td>float32</td><td>1</td><td>-1.457e-29</td><td>5.511e-30</td></tr>\n",
       "<tr><td>Normals</td><td>Cells</td><td>float32</td><td>3</td><td>-1.000e+00</td><td>1.042e-01</td></tr>\n",
       "</table>\n",
       "\n",
       "</td></tr> </table>"
      ],
      "text/plain": [
       "PolyData (0x25d767d6d60)\n",
       "  N Cells:\t250\n",
       "  N Points:\t502\n",
       "  X Bounds:\t-2.060e-02, 2.900e-01\n",
       "  Y Bounds:\t-2.540e-02, 0.000e+00\n",
       "  Z Bounds:\t-5.000e-04, 5.000e-04\n",
       "  N Arrays:\t17"
      ]
     },
     "execution_count": 106,
     "metadata": {},
     "output_type": "execute_result"
    }
   ],
   "source": [
    "lower_wall_cell"
   ]
  },
  {
   "cell_type": "code",
   "execution_count": 107,
   "id": "e85a2de8",
   "metadata": {},
   "outputs": [
    {
     "data": {
      "text/plain": [
       "(502, 3)"
      ]
     },
     "execution_count": 107,
     "metadata": {},
     "output_type": "execute_result"
    }
   ],
   "source": [
    "lower_wall_point= lower_wall_point.compute_normals()\n",
    "normals_point = lower_wall_point.active_normals\n",
    "normals_point.shape"
   ]
  },
  {
   "cell_type": "code",
   "execution_count": 108,
   "id": "9ff7791f",
   "metadata": {},
   "outputs": [
    {
     "data": {
      "text/html": [
       "<table><tr><th>Header</th><th>Data Arrays</th></tr><tr><td>\n",
       "<table>\n",
       "<tr><th>PolyData</th><th>Information</th></tr>\n",
       "<tr><td>N Cells</td><td>250</td></tr>\n",
       "<tr><td>N Points</td><td>502</td></tr>\n",
       "<tr><td>X Bounds</td><td>-2.060e-02, 2.900e-01</td></tr>\n",
       "<tr><td>Y Bounds</td><td>-2.540e-02, 0.000e+00</td></tr>\n",
       "<tr><td>Z Bounds</td><td>-5.000e-04, 5.000e-04</td></tr>\n",
       "<tr><td>N Arrays</td><td>16</td></tr>\n",
       "</table>\n",
       "\n",
       "</td><td>\n",
       "<table>\n",
       "<tr><th>Name</th><th>Field</th><th>Type</th><th>N Comp</th><th>Min</th><th>Max</th></tr>\n",
       "<tr><td>U</td><td>Points</td><td>float32</td><td>3</td><td>-2.553e+00</td><td>9.852e+00</td></tr>\n",
       "<tr><td>epsilon</td><td>Points</td><td>float32</td><td>1</td><td>1.280e-01</td><td>1.158e+03</td></tr>\n",
       "<tr><td>k</td><td>Points</td><td>float32</td><td>1</td><td>4.465e-04</td><td>8.891e-01</td></tr>\n",
       "<tr><td>nut</td><td>Points</td><td>float32</td><td>1</td><td>0.000e+00</td><td>9.415e-06</td></tr>\n",
       "<tr><td>p</td><td>Points</td><td>float32</td><td>1</td><td>-7.994e+00</td><td>1.243e+01</td></tr>\n",
       "<tr><td>gradient</td><td>Points</td><td>float32</td><td>9</td><td>-2.157e+03</td><td>5.861e+03</td></tr>\n",
       "<tr><td>dux/dx</td><td>Points</td><td>float32</td><td>1</td><td>-2.157e+03</td><td>6.960e+01</td></tr>\n",
       "<tr><td>dux/dy</td><td>Points</td><td>float32</td><td>1</td><td>-1.116e+02</td><td>5.861e+03</td></tr>\n",
       "<tr><td>dux/dz</td><td>Points</td><td>float32</td><td>1</td><td>-2.608e-14</td><td>5.381e-14</td></tr>\n",
       "<tr><td>duy/dx</td><td>Points</td><td>float32</td><td>1</td><td>-3.511e+01</td><td>1.672e+02</td></tr>\n",
       "<tr><td>duy/dy</td><td>Points</td><td>float32</td><td>1</td><td>-5.959e+02</td><td>1.854e+02</td></tr>\n",
       "<tr><td>duy/dz</td><td>Points</td><td>float32</td><td>1</td><td>-2.474e-15</td><td>2.550e-15</td></tr>\n",
       "<tr><td>duz/dx</td><td>Points</td><td>float32</td><td>1</td><td>-4.392e-14</td><td>3.080e-14</td></tr>\n",
       "<tr><td>duz/dy</td><td>Points</td><td>float32</td><td>1</td><td>-4.602e-15</td><td>3.227e-15</td></tr>\n",
       "<tr><td><b>duz/dz</b></td><td>Points</td><td>float32</td><td>1</td><td>-1.457e-29</td><td>5.511e-30</td></tr>\n",
       "<tr><td>Normals</td><td>Points</td><td>float32</td><td>3</td><td>-1.000e+00</td><td>1.042e-01</td></tr>\n",
       "</table>\n",
       "\n",
       "</td></tr> </table>"
      ],
      "text/plain": [
       "PolyData (0x25d767d2700)\n",
       "  N Cells:\t250\n",
       "  N Points:\t502\n",
       "  X Bounds:\t-2.060e-02, 2.900e-01\n",
       "  Y Bounds:\t-2.540e-02, 0.000e+00\n",
       "  Z Bounds:\t-5.000e-04, 5.000e-04\n",
       "  N Arrays:\t16"
      ]
     },
     "execution_count": 108,
     "metadata": {},
     "output_type": "execute_result"
    }
   ],
   "source": [
    "lower_wall_point.clear_cell_data()\n",
    "lower_wall_point"
   ]
  },
  {
   "cell_type": "markdown",
   "id": "81daecef",
   "metadata": {},
   "source": [
    "## Show the mesh "
   ]
  },
  {
   "cell_type": "code",
   "execution_count": 109,
   "id": "0edf9bbe",
   "metadata": {
    "scrolled": true
   },
   "outputs": [
    {
     "data": {
      "application/vnd.jupyter.widget-view+json": {
       "model_id": "25eb235ff3394f08a44f2d3666d88405",
       "version_major": 2,
       "version_minor": 0
      },
      "text/plain": [
       "ViewInteractiveWidget(height=768, layout=Layout(height='auto', width='100%'), width=1024)"
      ]
     },
     "metadata": {},
     "output_type": "display_data"
    }
   ],
   "source": [
    "# Create a plotting object to display vtk meshes or numpy arrays\n",
    "p = pv.Plotter()\n",
    "# Show the mesh in wireframe style\n",
    "p.add_mesh(mesh_cell, style=\"wireframe\", color=\"w\")\n",
    "# View in the xy plane\n",
    "p.view_xy()\n",
    "# Show the axes\n",
    "p.add_axes()\n",
    "# Display the plotting window\n",
    "p.show()"
   ]
  },
  {
   "cell_type": "code",
   "execution_count": 110,
   "id": "85e175fa",
   "metadata": {},
   "outputs": [
    {
     "data": {
      "application/vnd.jupyter.widget-view+json": {
       "model_id": "eb642c1911c444d19503fc09d97ab0ac",
       "version_major": 2,
       "version_minor": 0
      },
      "text/plain": [
       "ViewInteractiveWidget(height=768, layout=Layout(height='auto', width='100%'), width=1024)"
      ]
     },
     "metadata": {},
     "output_type": "display_data"
    }
   ],
   "source": [
    "# Create a plotting object to display vtk meshes or numpy arrays\n",
    "p = pv.Plotter()\n",
    "# Show the mesh in wireframe style\n",
    "p.add_mesh(mesh_point, style=\"wireframe\", color=\"w\")\n",
    "# View in the xy plane\n",
    "p.view_xy()\n",
    "# Show the axes\n",
    "p.add_axes()\n",
    "# Display the plotting window\n",
    "p.show()"
   ]
  },
  {
   "cell_type": "markdown",
   "id": "40de9086",
   "metadata": {},
   "source": [
    "## Plot the domain with a scalar field\n"
   ]
  },
  {
   "cell_type": "code",
   "execution_count": 111,
   "id": "bee96a41",
   "metadata": {},
   "outputs": [
    {
     "data": {
      "application/vnd.jupyter.widget-view+json": {
       "model_id": "97e0491f124b4a38b8a564194a635f91",
       "version_major": 2,
       "version_minor": 0
      },
      "text/plain": [
       "ViewInteractiveWidget(height=768, layout=Layout(height='auto', width='100%'), width=1024)"
      ]
     },
     "metadata": {},
     "output_type": "display_data"
    }
   ],
   "source": [
    "# Plot the domain based on the cell data\n",
    "p2 = pv.Plotter()\n",
    "p2.add_mesh(mesh_cell, scalars='U')\n",
    "p2.view_xy()\n",
    "p2.add_axes()\n",
    "p2.show()"
   ]
  },
  {
   "cell_type": "code",
   "execution_count": 112,
   "id": "058d1d8a",
   "metadata": {},
   "outputs": [
    {
     "data": {
      "text/html": [
       "<table><tr><th>Header</th><th>Data Arrays</th></tr><tr><td>\n",
       "<table>\n",
       "<tr><th>UnstructuredGrid</th><th>Information</th></tr>\n",
       "<tr><td>N Cells</td><td>12225</td></tr>\n",
       "<tr><td>N Points</td><td>25012</td></tr>\n",
       "<tr><td>X Bounds</td><td>-2.060e-02, 2.900e-01</td></tr>\n",
       "<tr><td>Y Bounds</td><td>-2.540e-02, 2.540e-02</td></tr>\n",
       "<tr><td>Z Bounds</td><td>-5.000e-04, 5.000e-04</td></tr>\n",
       "<tr><td>N Arrays</td><td>6</td></tr>\n",
       "</table>\n",
       "\n",
       "</td><td>\n",
       "<table>\n",
       "<tr><th>Name</th><th>Field</th><th>Type</th><th>N Comp</th><th>Min</th><th>Max</th></tr>\n",
       "<tr><td>U</td><td>Cells</td><td>float32</td><td>3</td><td>-2.553e+00</td><td>1.018e+01</td></tr>\n",
       "<tr><td>epsilon</td><td>Cells</td><td>float32</td><td>1</td><td>1.280e-01</td><td>5.784e+03</td></tr>\n",
       "<tr><td>k</td><td>Cells</td><td>float32</td><td>1</td><td>4.465e-04</td><td>5.500e+00</td></tr>\n",
       "<tr><td>nut</td><td>Cells</td><td>float32</td><td>1</td><td>1.402e-07</td><td>5.141e-03</td></tr>\n",
       "<tr><td>p</td><td>Cells</td><td>float32</td><td>1</td><td>-8.017e+00</td><td>1.505e+01</td></tr>\n",
       "<tr><td><b>U-normed</b></td><td>Cells</td><td>float32</td><td>1</td><td>5.540e-03</td><td>1.018e+01</td></tr>\n",
       "</table>\n",
       "\n",
       "</td></tr> </table>"
      ],
      "text/plain": [
       "UnstructuredGrid (0x25dd8ca08e0)\n",
       "  N Cells:\t12225\n",
       "  N Points:\t25012\n",
       "  X Bounds:\t-2.060e-02, 2.900e-01\n",
       "  Y Bounds:\t-2.540e-02, 2.540e-02\n",
       "  Z Bounds:\t-5.000e-04, 5.000e-04\n",
       "  N Arrays:\t6"
      ]
     },
     "execution_count": 112,
     "metadata": {},
     "output_type": "execute_result"
    }
   ],
   "source": [
    "mesh_cell"
   ]
  },
  {
   "cell_type": "code",
   "execution_count": 113,
   "id": "8a7deb8e",
   "metadata": {},
   "outputs": [
    {
     "data": {
      "application/vnd.jupyter.widget-view+json": {
       "model_id": "ab20edf861954a0eb58bd3901ff2539c",
       "version_major": 2,
       "version_minor": 0
      },
      "text/plain": [
       "ViewInteractiveWidget(height=768, layout=Layout(height='auto', width='100%'), width=1024)"
      ]
     },
     "metadata": {},
     "output_type": "display_data"
    }
   ],
   "source": [
    "# Plot the domain based on the point data\n",
    "p2 = pv.Plotter()\n",
    "p2.add_mesh(mesh_point, scalars='U')\n",
    "p2.view_xy()\n",
    "p2.add_axes()\n",
    "p2.show()"
   ]
  },
  {
   "cell_type": "code",
   "execution_count": 114,
   "id": "59e0957b",
   "metadata": {},
   "outputs": [
    {
     "data": {
      "text/html": [
       "<table><tr><th>Header</th><th>Data Arrays</th></tr><tr><td>\n",
       "<table>\n",
       "<tr><th>UnstructuredGrid</th><th>Information</th></tr>\n",
       "<tr><td>N Cells</td><td>12225</td></tr>\n",
       "<tr><td>N Points</td><td>25012</td></tr>\n",
       "<tr><td>X Bounds</td><td>-2.060e-02, 2.900e-01</td></tr>\n",
       "<tr><td>Y Bounds</td><td>-2.540e-02, 2.540e-02</td></tr>\n",
       "<tr><td>Z Bounds</td><td>-5.000e-04, 5.000e-04</td></tr>\n",
       "<tr><td>N Arrays</td><td>6</td></tr>\n",
       "</table>\n",
       "\n",
       "</td><td>\n",
       "<table>\n",
       "<tr><th>Name</th><th>Field</th><th>Type</th><th>N Comp</th><th>Min</th><th>Max</th></tr>\n",
       "<tr><td>U</td><td>Points</td><td>float32</td><td>3</td><td>-2.553e+00</td><td>1.018e+01</td></tr>\n",
       "<tr><td>epsilon</td><td>Points</td><td>float32</td><td>1</td><td>1.280e-01</td><td>5.170e+03</td></tr>\n",
       "<tr><td>k</td><td>Points</td><td>float32</td><td>1</td><td>4.465e-04</td><td>5.496e+00</td></tr>\n",
       "<tr><td>nut</td><td>Points</td><td>float32</td><td>1</td><td>1.402e-07</td><td>5.137e-03</td></tr>\n",
       "<tr><td>p</td><td>Points</td><td>float32</td><td>1</td><td>-8.015e+00</td><td>1.454e+01</td></tr>\n",
       "<tr><td><b>U-normed</b></td><td>Points</td><td>float32</td><td>1</td><td>2.250e-03</td><td>1.018e+01</td></tr>\n",
       "</table>\n",
       "\n",
       "</td></tr> </table>"
      ],
      "text/plain": [
       "UnstructuredGrid (0x25dd8c73520)\n",
       "  N Cells:\t12225\n",
       "  N Points:\t25012\n",
       "  X Bounds:\t-2.060e-02, 2.900e-01\n",
       "  Y Bounds:\t-2.540e-02, 2.540e-02\n",
       "  Z Bounds:\t-5.000e-04, 5.000e-04\n",
       "  N Arrays:\t6"
      ]
     },
     "execution_count": 114,
     "metadata": {},
     "output_type": "execute_result"
    }
   ],
   "source": [
    "mesh_point"
   ]
  },
  {
   "cell_type": "markdown",
   "id": "07e060a5",
   "metadata": {},
   "source": [
    "### Another one with the mesh surimposed"
   ]
  },
  {
   "cell_type": "code",
   "execution_count": 115,
   "id": "05b6e0b1",
   "metadata": {},
   "outputs": [
    {
     "data": {
      "application/vnd.jupyter.widget-view+json": {
       "model_id": "750678ad91b44fc8855b574c96f5e624",
       "version_major": 2,
       "version_minor": 0
      },
      "text/plain": [
       "ViewInteractiveWidget(height=768, layout=Layout(height='auto', width='100%'), width=1024)"
      ]
     },
     "metadata": {},
     "output_type": "display_data"
    }
   ],
   "source": [
    "p3 = pv.Plotter()\n",
    "p3.add_mesh(mesh_cell ,scalars='U', show_edges=True)\n",
    "p3.view_xy()\n",
    "p3.add_axes()\n",
    "p3.show()"
   ]
  },
  {
   "cell_type": "code",
   "execution_count": 116,
   "id": "30bedfa5",
   "metadata": {},
   "outputs": [
    {
     "data": {
      "application/vnd.jupyter.widget-view+json": {
       "model_id": "c186456f43844385be24538be2afa23f",
       "version_major": 2,
       "version_minor": 0
      },
      "text/plain": [
       "ViewInteractiveWidget(height=768, layout=Layout(height='auto', width='100%'), width=1024)"
      ]
     },
     "metadata": {},
     "output_type": "display_data"
    }
   ],
   "source": [
    "p3 = pv.Plotter()\n",
    "p3.add_mesh(mesh_point ,scalars='U', show_edges=True)\n",
    "p3.view_xy()\n",
    "p3.add_axes()\n",
    "p3.show()"
   ]
  },
  {
   "cell_type": "markdown",
   "id": "abbc7a84",
   "metadata": {},
   "source": [
    "### Plot the velocity field using glyphs"
   ]
  },
  {
   "cell_type": "code",
   "execution_count": 117,
   "id": "cc06d3f4",
   "metadata": {},
   "outputs": [
    {
     "data": {
      "application/vnd.jupyter.widget-view+json": {
       "model_id": "01e4165fd872475d8b91fb764a4bacd6",
       "version_major": 2,
       "version_minor": 0
      },
      "text/plain": [
       "ViewInteractiveWidget(height=768, layout=Layout(height='auto', width='100%'), width=1024)"
      ]
     },
     "metadata": {},
     "output_type": "display_data"
    }
   ],
   "source": [
    "geom = pv.Arrow()\n",
    "glyphs = mesh_cell.glyph(orient='U',scale='U-normed',factor=0.0005,geom=geom)\n",
    "p4 = pv.Plotter()\n",
    "p4.add_mesh(glyphs)\n",
    "p4.view_xy()\n",
    "p4.add_axes()\n",
    "p4.show()"
   ]
  },
  {
   "cell_type": "code",
   "execution_count": 118,
   "id": "55d3b41a",
   "metadata": {},
   "outputs": [
    {
     "data": {
      "application/vnd.jupyter.widget-view+json": {
       "model_id": "e3e35a9e52184376b6f66bbf867e995f",
       "version_major": 2,
       "version_minor": 0
      },
      "text/plain": [
       "ViewInteractiveWidget(height=768, layout=Layout(height='auto', width='100%'), width=1024)"
      ]
     },
     "metadata": {},
     "output_type": "display_data"
    }
   ],
   "source": [
    "geom = pv.Arrow()\n",
    "glyphs = mesh_point.glyph(orient='U',scale='U-normed',factor=0.0005,geom=geom)\n",
    "p4 = pv.Plotter()\n",
    "p4.add_mesh(glyphs)\n",
    "p4.view_xy()\n",
    "p4.add_axes()\n",
    "p4.show()"
   ]
  },
  {
   "cell_type": "markdown",
   "id": "1a1901ad",
   "metadata": {},
   "source": [
    "### Plot over line example"
   ]
  },
  {
   "cell_type": "code",
   "execution_count": 119,
   "id": "43c2828d",
   "metadata": {},
   "outputs": [],
   "source": [
    "# Create the 2 points defining the line\n",
    "a = [0, 0, 0]\n",
    "b = [0, mesh.bounds[3], 0]\n",
    "\n",
    "# Create a Line object\n",
    "line = pv.Line(a, b)"
   ]
  },
  {
   "cell_type": "code",
   "execution_count": 120,
   "id": "f458ff4f",
   "metadata": {},
   "outputs": [
    {
     "data": {
      "text/plain": [
       "[-0.020600000396370888,\n",
       " 0.28999999165534973,\n",
       " -0.02539999969303608,\n",
       " 0.02539999969303608,\n",
       " -0.0005000000237487257,\n",
       " 0.0005000000237487257]"
      ]
     },
     "execution_count": 120,
     "metadata": {},
     "output_type": "execute_result"
    }
   ],
   "source": [
    "mesh.bounds"
   ]
  },
  {
   "cell_type": "markdown",
   "id": "5bb2ce8d",
   "metadata": {},
   "source": [
    "Let's show the line in the computational domain"
   ]
  },
  {
   "cell_type": "code",
   "execution_count": 121,
   "id": "48925e9b",
   "metadata": {},
   "outputs": [
    {
     "data": {
      "application/vnd.jupyter.widget-view+json": {
       "model_id": "75aa63a6864c489c8ed80b44ee6c171d",
       "version_major": 2,
       "version_minor": 0
      },
      "text/plain": [
       "ViewInteractiveWidget(height=768, layout=Layout(height='auto', width='100%'), width=1024)"
      ]
     },
     "metadata": {},
     "output_type": "display_data"
    }
   ],
   "source": [
    "p5 = pv.Plotter()\n",
    "p5.add_mesh(mesh_cell, style=\"wireframe\", color='white')\n",
    "# Show the line in red in the domain\n",
    "p5.add_mesh(line, color=\"r\", line_width=10)\n",
    "p5.view_xy()\n",
    "p5.add_axes()\n",
    "p5.show()"
   ]
  },
  {
   "cell_type": "markdown",
   "id": "b9a2bd0f",
   "metadata": {},
   "source": [
    "Let's make a plot overline ..."
   ]
  },
  {
   "cell_type": "code",
   "execution_count": 122,
   "id": "0a2a213e",
   "metadata": {},
   "outputs": [
    {
     "data": {
      "application/vnd.jupyter.widget-view+json": {
       "model_id": "f78257215e62466a993c6092975470c7",
       "version_major": 2,
       "version_minor": 0
      },
      "image/png": "[encoded data removed]",
      "text/plain": [
       "Canvas(toolbar=Toolbar(toolitems=[('Home', 'Reset original view', 'home', 'home'), ('Back', 'Back to previous …"
      ]
     },
     "metadata": {},
     "output_type": "display_data"
    }
   ],
   "source": [
    "mesh_cell.plot_over_line(a, b, resolution=100, scalars='U')"
   ]
  },
  {
   "cell_type": "code",
   "execution_count": 123,
   "id": "99ea06a6",
   "metadata": {},
   "outputs": [
    {
     "data": {
      "application/vnd.jupyter.widget-view+json": {
       "model_id": "0b83bbd7129d4a54a8b0d14938aedadc",
       "version_major": 2,
       "version_minor": 0
      },
      "text/plain": [
       "ViewInteractiveWidget(height=768, layout=Layout(height='auto', width='100%'), width=1024)"
      ]
     },
     "metadata": {},
     "output_type": "display_data"
    }
   ],
   "source": [
    "p5 = pv.Plotter()\n",
    "p5.add_mesh(mesh_point, style=\"wireframe\", color='white')\n",
    "# Show the line in red in the domain\n",
    "p5.add_mesh(line, color=\"r\", line_width=10)\n",
    "p5.view_xy()\n",
    "p5.add_axes()\n",
    "p5.show()"
   ]
  },
  {
   "cell_type": "code",
   "execution_count": 124,
   "id": "1c98fac5",
   "metadata": {},
   "outputs": [
    {
     "data": {
      "application/vnd.jupyter.widget-view+json": {
       "model_id": "8df39a4178da408a8c06aac4cd9ee68c",
       "version_major": 2,
       "version_minor": 0
      },
      "image/png": "[encoded data removed]",
      "text/plain": [
       "Canvas(toolbar=Toolbar(toolitems=[('Home', 'Reset original view', 'home', 'home'), ('Back', 'Back to previous …"
      ]
     },
     "metadata": {},
     "output_type": "display_data"
    }
   ],
   "source": [
    "mesh_point.plot_over_line(a, b, resolution=100, scalars='U')"
   ]
  },
  {
   "cell_type": "markdown",
   "id": "cb7cf3fa",
   "metadata": {},
   "source": [
    "### How to access the vector components"
   ]
  },
  {
   "cell_type": "code",
   "execution_count": 125,
   "id": "11ca8807",
   "metadata": {},
   "outputs": [
    {
     "data": {
      "text/plain": [
       "pyvista DataSetAttributes\n",
       "Association     : CELL\n",
       "Active Scalars  : U-normed\n",
       "Active Vectors  : U\n",
       "Active Texture  : None\n",
       "Active Normals  : None\n",
       "Contains arrays :\n",
       "    U                       float32  (12225, 3)           VECTORS\n",
       "    epsilon                 float32  (12225,)\n",
       "    k                       float32  (12225,)\n",
       "    nut                     float32  (12225,)\n",
       "    p                       float32  (12225,)\n",
       "    U-normed                float32  (12225,)             SCALARS"
      ]
     },
     "execution_count": 125,
     "metadata": {},
     "output_type": "execute_result"
    }
   ],
   "source": [
    "mesh_cell.cell_data"
   ]
  },
  {
   "cell_type": "code",
   "execution_count": 126,
   "id": "674c3677",
   "metadata": {},
   "outputs": [
    {
     "data": {
      "text/html": [
       "<table><tr><th>Header</th><th>Data Arrays</th></tr><tr><td>\n",
       "<table>\n",
       "<tr><th>UnstructuredGrid</th><th>Information</th></tr>\n",
       "<tr><td>N Cells</td><td>12225</td></tr>\n",
       "<tr><td>N Points</td><td>25012</td></tr>\n",
       "<tr><td>X Bounds</td><td>-2.060e-02, 2.900e-01</td></tr>\n",
       "<tr><td>Y Bounds</td><td>-2.540e-02, 2.540e-02</td></tr>\n",
       "<tr><td>Z Bounds</td><td>-5.000e-04, 5.000e-04</td></tr>\n",
       "<tr><td>N Arrays</td><td>9</td></tr>\n",
       "</table>\n",
       "\n",
       "</td><td>\n",
       "<table>\n",
       "<tr><th>Name</th><th>Field</th><th>Type</th><th>N Comp</th><th>Min</th><th>Max</th></tr>\n",
       "<tr><td>U</td><td>Cells</td><td>float32</td><td>3</td><td>-2.553e+00</td><td>1.018e+01</td></tr>\n",
       "<tr><td>epsilon</td><td>Cells</td><td>float32</td><td>1</td><td>1.280e-01</td><td>5.784e+03</td></tr>\n",
       "<tr><td>k</td><td>Cells</td><td>float32</td><td>1</td><td>4.465e-04</td><td>5.500e+00</td></tr>\n",
       "<tr><td>nut</td><td>Cells</td><td>float32</td><td>1</td><td>1.402e-07</td><td>5.141e-03</td></tr>\n",
       "<tr><td>p</td><td>Cells</td><td>float32</td><td>1</td><td>-8.017e+00</td><td>1.505e+01</td></tr>\n",
       "<tr><td>U-normed</td><td>Cells</td><td>float32</td><td>1</td><td>5.540e-03</td><td>1.018e+01</td></tr>\n",
       "<tr><td>ux</td><td>Cells</td><td>float32</td><td>1</td><td>-2.553e+00</td><td>1.018e+01</td></tr>\n",
       "<tr><td>uy</td><td>Cells</td><td>float32</td><td>1</td><td>-9.007e-01</td><td>7.511e-01</td></tr>\n",
       "<tr><td><b>uz</b></td><td>Cells</td><td>float32</td><td>1</td><td>-3.398e-16</td><td>2.772e-16</td></tr>\n",
       "</table>\n",
       "\n",
       "</td></tr> </table>"
      ],
      "text/plain": [
       "UnstructuredGrid (0x25dd8ca08e0)\n",
       "  N Cells:\t12225\n",
       "  N Points:\t25012\n",
       "  X Bounds:\t-2.060e-02, 2.900e-01\n",
       "  Y Bounds:\t-2.540e-02, 2.540e-02\n",
       "  Z Bounds:\t-5.000e-04, 5.000e-04\n",
       "  N Arrays:\t9"
      ]
     },
     "execution_count": 126,
     "metadata": {},
     "output_type": "execute_result"
    }
   ],
   "source": [
    "ux = mesh_cell['U'][:,0]\n",
    "uy = mesh_cell['U'][:,1]\n",
    "uz = mesh_cell['U'][:,2]\n",
    "\n",
    "mesh_cell.cell_data[\"ux\"] = ux\n",
    "mesh_cell.cell_data[\"uy\"] = uy\n",
    "mesh_cell.cell_data[\"uz\"] = uz\n",
    "\n",
    "mesh_cell"
   ]
  },
  {
   "cell_type": "code",
   "execution_count": 127,
   "id": "b6e70999",
   "metadata": {},
   "outputs": [
    {
     "data": {
      "application/vnd.jupyter.widget-view+json": {
       "model_id": "6883c7d9658948cd93740a0410431168",
       "version_major": 2,
       "version_minor": 0
      },
      "image/png": "[encoded data removed]",
      "text/plain": [
       "Canvas(toolbar=Toolbar(toolitems=[('Home', 'Reset original view', 'home', 'home'), ('Back', 'Back to previous …"
      ]
     },
     "metadata": {},
     "output_type": "display_data"
    }
   ],
   "source": [
    "mesh_cell.plot_over_line(a, b, resolution=100, scalars='ux')"
   ]
  },
  {
   "cell_type": "code",
   "execution_count": 128,
   "id": "54ea13a6",
   "metadata": {},
   "outputs": [
    {
     "data": {
      "text/plain": [
       "pyvista DataSetAttributes\n",
       "Association     : POINT\n",
       "Active Scalars  : U-normed\n",
       "Active Vectors  : U\n",
       "Active Texture  : None\n",
       "Active Normals  : None\n",
       "Contains arrays :\n",
       "    U                       float32  (25012, 3)           VECTORS\n",
       "    epsilon                 float32  (25012,)\n",
       "    k                       float32  (25012,)\n",
       "    nut                     float32  (25012,)\n",
       "    p                       float32  (25012,)\n",
       "    U-normed                float32  (25012,)             SCALARS"
      ]
     },
     "execution_count": 128,
     "metadata": {},
     "output_type": "execute_result"
    }
   ],
   "source": [
    "mesh_point.point_data"
   ]
  },
  {
   "cell_type": "code",
   "execution_count": 129,
   "id": "11b7708b",
   "metadata": {},
   "outputs": [
    {
     "data": {
      "text/html": [
       "<table><tr><th>Header</th><th>Data Arrays</th></tr><tr><td>\n",
       "<table>\n",
       "<tr><th>UnstructuredGrid</th><th>Information</th></tr>\n",
       "<tr><td>N Cells</td><td>12225</td></tr>\n",
       "<tr><td>N Points</td><td>25012</td></tr>\n",
       "<tr><td>X Bounds</td><td>-2.060e-02, 2.900e-01</td></tr>\n",
       "<tr><td>Y Bounds</td><td>-2.540e-02, 2.540e-02</td></tr>\n",
       "<tr><td>Z Bounds</td><td>-5.000e-04, 5.000e-04</td></tr>\n",
       "<tr><td>N Arrays</td><td>9</td></tr>\n",
       "</table>\n",
       "\n",
       "</td><td>\n",
       "<table>\n",
       "<tr><th>Name</th><th>Field</th><th>Type</th><th>N Comp</th><th>Min</th><th>Max</th></tr>\n",
       "<tr><td>U</td><td>Points</td><td>float32</td><td>3</td><td>-2.553e+00</td><td>1.018e+01</td></tr>\n",
       "<tr><td>epsilon</td><td>Points</td><td>float32</td><td>1</td><td>1.280e-01</td><td>5.170e+03</td></tr>\n",
       "<tr><td>k</td><td>Points</td><td>float32</td><td>1</td><td>4.465e-04</td><td>5.496e+00</td></tr>\n",
       "<tr><td>nut</td><td>Points</td><td>float32</td><td>1</td><td>1.402e-07</td><td>5.137e-03</td></tr>\n",
       "<tr><td>p</td><td>Points</td><td>float32</td><td>1</td><td>-8.015e+00</td><td>1.454e+01</td></tr>\n",
       "<tr><td>U-normed</td><td>Points</td><td>float32</td><td>1</td><td>2.250e-03</td><td>1.018e+01</td></tr>\n",
       "<tr><td>ux</td><td>Points</td><td>float32</td><td>1</td><td>-2.553e+00</td><td>1.018e+01</td></tr>\n",
       "<tr><td>uy</td><td>Points</td><td>float32</td><td>1</td><td>-9.007e-01</td><td>6.768e-01</td></tr>\n",
       "<tr><td><b>uz</b></td><td>Points</td><td>float32</td><td>1</td><td>-2.462e-16</td><td>2.218e-16</td></tr>\n",
       "</table>\n",
       "\n",
       "</td></tr> </table>"
      ],
      "text/plain": [
       "UnstructuredGrid (0x25dd8c73520)\n",
       "  N Cells:\t12225\n",
       "  N Points:\t25012\n",
       "  X Bounds:\t-2.060e-02, 2.900e-01\n",
       "  Y Bounds:\t-2.540e-02, 2.540e-02\n",
       "  Z Bounds:\t-5.000e-04, 5.000e-04\n",
       "  N Arrays:\t9"
      ]
     },
     "execution_count": 129,
     "metadata": {},
     "output_type": "execute_result"
    }
   ],
   "source": [
    "ux = mesh_point['U'][:,0]\n",
    "uy = mesh_point['U'][:,1]\n",
    "uz = mesh_point['U'][:,2]\n",
    "\n",
    "mesh_point.point_data[\"ux\"] = ux\n",
    "mesh_point.point_data[\"uy\"] = uy\n",
    "mesh_point.point_data[\"uz\"] = uz\n",
    "\n",
    "mesh_point"
   ]
  },
  {
   "cell_type": "code",
   "execution_count": 130,
   "id": "fb402967",
   "metadata": {},
   "outputs": [
    {
     "data": {
      "application/vnd.jupyter.widget-view+json": {
       "model_id": "d6cd6cf24ca044f4b7be774a00d386df",
       "version_major": 2,
       "version_minor": 0
      },
      "image/png": "[encoded data removed]",
      "text/plain": [
       "Canvas(toolbar=Toolbar(toolitems=[('Home', 'Reset original view', 'home', 'home'), ('Back', 'Back to previous …"
      ]
     },
     "metadata": {},
     "output_type": "display_data"
    }
   ],
   "source": [
    "mesh_point.plot_over_line(a, b, resolution=100, scalars='ux')"
   ]
  },
  {
   "cell_type": "markdown",
   "id": "5951b97f",
   "metadata": {},
   "source": [
    "## Plot a scalar over a circular arc"
   ]
  },
  {
   "cell_type": "code",
   "execution_count": 131,
   "id": "a33154f5",
   "metadata": {},
   "outputs": [],
   "source": [
    "# Make two points at the bounds of the mesh and one at the center to\n",
    "# construct a circular arc.\n",
    "normal = [0, 0, 1]\n",
    "polar = [0.02, 0, 0]\n",
    "center = [0, 0, 0]\n",
    "angle = 100.0\n",
    "\n",
    "# Preview how this circular arc intersects this mesh\n",
    "arc = pv.CircularArcFromNormal(center, 100, normal, polar, angle)"
   ]
  },
  {
   "cell_type": "markdown",
   "id": "1c789553",
   "metadata": {},
   "source": [
    "Let's see what's in the arc object."
   ]
  },
  {
   "cell_type": "code",
   "execution_count": 132,
   "id": "4a7a4d21",
   "metadata": {},
   "outputs": [
    {
     "data": {
      "text/html": [
       "<table><tr><th>Header</th><th>Data Arrays</th></tr><tr><td>\n",
       "<table>\n",
       "<tr><th>PolyData</th><th>Information</th></tr>\n",
       "<tr><td>N Cells</td><td>1</td></tr>\n",
       "<tr><td>N Points</td><td>101</td></tr>\n",
       "<tr><td>X Bounds</td><td>-3.473e-03, 2.000e-02</td></tr>\n",
       "<tr><td>Y Bounds</td><td>0.000e+00, 2.000e-02</td></tr>\n",
       "<tr><td>Z Bounds</td><td>0.000e+00, 0.000e+00</td></tr>\n",
       "<tr><td>N Arrays</td><td>2</td></tr>\n",
       "</table>\n",
       "\n",
       "</td><td>\n",
       "<table>\n",
       "<tr><th>Name</th><th>Field</th><th>Type</th><th>N Comp</th><th>Min</th><th>Max</th></tr>\n",
       "<tr><td>Texture Coordinates</td><td>Points</td><td>float32</td><td>2</td><td>0.000e+00</td><td>1.000e+00</td></tr>\n",
       "<tr><td><b>Distance</b></td><td>Points</td><td>float64</td><td>1</td><td>0.000e+00</td><td>3.491e-02</td></tr>\n",
       "</table>\n",
       "\n",
       "</td></tr> </table>"
      ],
      "text/plain": [
       "PolyData (0x25dfcef6ac0)\n",
       "  N Cells:\t1\n",
       "  N Points:\t101\n",
       "  X Bounds:\t-3.473e-03, 2.000e-02\n",
       "  Y Bounds:\t0.000e+00, 2.000e-02\n",
       "  Z Bounds:\t0.000e+00, 0.000e+00\n",
       "  N Arrays:\t2"
      ]
     },
     "execution_count": 132,
     "metadata": {},
     "output_type": "execute_result"
    }
   ],
   "source": [
    "arc"
   ]
  },
  {
   "cell_type": "code",
   "execution_count": 133,
   "id": "b17fcab2",
   "metadata": {},
   "outputs": [
    {
     "data": {
      "application/vnd.jupyter.widget-view+json": {
       "model_id": "a2fc41cdd7e14d628d2918fe11a90145",
       "version_major": 2,
       "version_minor": 0
      },
      "text/plain": [
       "ViewInteractiveWidget(height=768, layout=Layout(height='auto', width='100%'), width=1024)"
      ]
     },
     "metadata": {},
     "output_type": "display_data"
    }
   ],
   "source": [
    "p6 = pv.Plotter()\n",
    "p6.add_mesh(mesh_cell, style=\"wireframe\", color=\"w\")\n",
    "p6.add_mesh(arc, color=\"r\")\n",
    "a = arc.points[0]\n",
    "b = arc.points[-1]\n",
    "p6.add_point_labels(\n",
    "    [a, b], [\"A\", \"B\"], font_size=48, point_color=\"red\", text_color=\"red\"\n",
    ")\n",
    "p6.view_xy()\n",
    "p6.show()"
   ]
  },
  {
   "cell_type": "markdown",
   "id": "d4a116ea",
   "metadata": {},
   "source": [
    "I don't know how to add another plot on the same figure, it's perhaps only possible to plot one scalar or one vector at a time with this API."
   ]
  },
  {
   "cell_type": "code",
   "execution_count": 134,
   "id": "ea865e43",
   "metadata": {},
   "outputs": [],
   "source": [
    "#mesh_cell.plot_over_circular_arc_normal(center, 100, normal, polar, angle, scalars='ux')\n",
    "#mesh_cell.plot_over_circular_arc_normal(center, 100, normal, polar, angle, scalars='uy')"
   ]
  },
  {
   "cell_type": "markdown",
   "id": "396dfb79",
   "metadata": {},
   "source": [
    "So let's try another way and create the figure ourself (there may be better ways to do this by the way)."
   ]
  },
  {
   "cell_type": "code",
   "execution_count": 135,
   "id": "443e4d4d",
   "metadata": {},
   "outputs": [],
   "source": [
    "sampled = pv.DataSetFilters.sample_over_circular_arc_normal(mesh_cell,center,100,normal,polar,angle)"
   ]
  },
  {
   "cell_type": "code",
   "execution_count": 136,
   "id": "c13c1c69",
   "metadata": {
    "scrolled": true
   },
   "outputs": [
    {
     "data": {
      "application/vnd.jupyter.widget-view+json": {
       "model_id": "fbbfad940c77466f8b80572b5eef5e86",
       "version_major": 2,
       "version_minor": 0
      },
      "image/png": "[encoded data removed]",
      "text/plain": [
       "Canvas(toolbar=Toolbar(toolitems=[('Home', 'Reset original view', 'home', 'home'), ('Back', 'Back to previous …"
      ]
     },
     "metadata": {},
     "output_type": "display_data"
    }
   ],
   "source": [
    "plt.figure()\n",
    "plt.plot(sampled['Distance'],sampled['ux'],label='$u_x$')\n",
    "plt.plot(sampled['Distance'],sampled['uy'],label='$u_y$')\n",
    "plt.xlabel('Arc distance')\n",
    "plt.ylabel('Velocity')\n",
    "plt.title('Distribution of the velocity components along the arc')\n",
    "plt.grid(linestyle='dotted')\n",
    "plt.legend()\n",
    "plt.show()"
   ]
  },
  {
   "cell_type": "code",
   "execution_count": 137,
   "id": "7ff7dbfb",
   "metadata": {},
   "outputs": [],
   "source": [
    "sampled = pv.DataSetFilters.sample_over_circular_arc_normal(mesh_point,center,100,normal,polar,angle)"
   ]
  },
  {
   "cell_type": "code",
   "execution_count": 138,
   "id": "24c40e24",
   "metadata": {},
   "outputs": [
    {
     "data": {
      "application/vnd.jupyter.widget-view+json": {
       "model_id": "bfb89bc5d92d4599a13da97c17bcd0bd",
       "version_major": 2,
       "version_minor": 0
      },
      "image/png": "[encoded data removed]",
      "text/plain": [
       "Canvas(toolbar=Toolbar(toolitems=[('Home', 'Reset original view', 'home', 'home'), ('Back', 'Back to previous …"
      ]
     },
     "metadata": {},
     "output_type": "display_data"
    }
   ],
   "source": [
    "plt.figure()\n",
    "plt.plot(sampled['Distance'],sampled['ux'],label='$u_x$')\n",
    "plt.plot(sampled['Distance'],sampled['uy'],label='$u_y$')\n",
    "plt.xlabel('Arc distance')\n",
    "plt.ylabel('Velocity')\n",
    "plt.title('Distribution of the velocity components along the arc')\n",
    "plt.grid(linestyle='dotted')\n",
    "plt.legend()\n",
    "plt.show()"
   ]
  },
  {
   "cell_type": "markdown",
   "id": "8e5e9188",
   "metadata": {},
   "source": [
    "## Fields"
   ]
  },
  {
   "cell_type": "code",
   "execution_count": 139,
   "id": "0d3cbc74",
   "metadata": {},
   "outputs": [
    {
     "data": {
      "application/vnd.jupyter.widget-view+json": {
       "model_id": "8d61ac04ada8473490e4832d4883121c",
       "version_major": 2,
       "version_minor": 0
      },
      "text/plain": [
       "ViewInteractiveWidget(height=768, layout=Layout(height='auto', width='100%'), width=1024)"
      ]
     },
     "metadata": {},
     "output_type": "display_data"
    }
   ],
   "source": [
    "### k field (cell data)\n",
    "\n",
    "p7 = pv.Plotter()\n",
    "p7.add_mesh(mesh_cell,scalars='k')\n",
    "p7.view_xy()\n",
    "p7.add_axes()\n",
    "p7.show()"
   ]
  },
  {
   "cell_type": "code",
   "execution_count": 140,
   "id": "8820fa7c",
   "metadata": {},
   "outputs": [
    {
     "data": {
      "application/vnd.jupyter.widget-view+json": {
       "model_id": "6deb3466fc4049d0ac6df696cf2ffc0f",
       "version_major": 2,
       "version_minor": 0
      },
      "text/plain": [
       "ViewInteractiveWidget(height=768, layout=Layout(height='auto', width='100%'), width=1024)"
      ]
     },
     "metadata": {},
     "output_type": "display_data"
    }
   ],
   "source": [
    "### k field (point data)\n",
    "\n",
    "p7 = pv.Plotter()\n",
    "p7.add_mesh(mesh_point,scalars='k')\n",
    "p7.view_xy()\n",
    "p7.add_axes()\n",
    "p7.show()"
   ]
  },
  {
   "cell_type": "code",
   "execution_count": 141,
   "id": "b13cb55d",
   "metadata": {},
   "outputs": [
    {
     "data": {
      "application/vnd.jupyter.widget-view+json": {
       "model_id": "37627375f27c41d78b53a7017affc3bf",
       "version_major": 2,
       "version_minor": 0
      },
      "text/plain": [
       "ViewInteractiveWidget(height=768, layout=Layout(height='auto', width='100%'), width=1024)"
      ]
     },
     "metadata": {},
     "output_type": "display_data"
    }
   ],
   "source": [
    "### epsilon field (cell data)\n",
    "\n",
    "p7 = pv.Plotter()\n",
    "p7.add_mesh(mesh_cell,scalars='epsilon')\n",
    "p7.view_xy()\n",
    "p7.add_axes()\n",
    "p7.show()"
   ]
  },
  {
   "cell_type": "code",
   "execution_count": 142,
   "id": "61924dc6",
   "metadata": {},
   "outputs": [
    {
     "data": {
      "application/vnd.jupyter.widget-view+json": {
       "model_id": "c2d5c49ba5e94b96b9d3947888eada83",
       "version_major": 2,
       "version_minor": 0
      },
      "text/plain": [
       "ViewInteractiveWidget(height=768, layout=Layout(height='auto', width='100%'), width=1024)"
      ]
     },
     "metadata": {},
     "output_type": "display_data"
    }
   ],
   "source": [
    "### epsilon field (point data)\n",
    "\n",
    "p7 = pv.Plotter()\n",
    "p7.add_mesh(mesh_point,scalars='epsilon')\n",
    "p7.view_xy()\n",
    "p7.add_axes()\n",
    "p7.show()"
   ]
  },
  {
   "cell_type": "code",
   "execution_count": 143,
   "id": "d2c45c8b",
   "metadata": {},
   "outputs": [
    {
     "data": {
      "application/vnd.jupyter.widget-view+json": {
       "model_id": "11c9f8779dd64318845bf383889c754a",
       "version_major": 2,
       "version_minor": 0
      },
      "text/plain": [
       "ViewInteractiveWidget(height=768, layout=Layout(height='auto', width='100%'), width=1024)"
      ]
     },
     "metadata": {},
     "output_type": "display_data"
    }
   ],
   "source": [
    "### nut field (cell data)\n",
    "\n",
    "p7 = pv.Plotter()\n",
    "p7.add_mesh(mesh_cell,scalars='nut')\n",
    "p7.view_xy()\n",
    "p7.add_axes()\n",
    "p7.show()"
   ]
  },
  {
   "cell_type": "code",
   "execution_count": 144,
   "id": "45534142",
   "metadata": {},
   "outputs": [
    {
     "data": {
      "application/vnd.jupyter.widget-view+json": {
       "model_id": "74899d61b229431da4c73841df9b5ba4",
       "version_major": 2,
       "version_minor": 0
      },
      "text/plain": [
       "ViewInteractiveWidget(height=768, layout=Layout(height='auto', width='100%'), width=1024)"
      ]
     },
     "metadata": {},
     "output_type": "display_data"
    }
   ],
   "source": [
    "### nut field (point data)\n",
    "\n",
    "p7 = pv.Plotter()\n",
    "p7.add_mesh(mesh_point,scalars='nut')\n",
    "p7.view_xy()\n",
    "p7.add_axes()\n",
    "p7.show()"
   ]
  },
  {
   "cell_type": "code",
   "execution_count": 145,
   "id": "bb7d1299",
   "metadata": {},
   "outputs": [
    {
     "data": {
      "application/vnd.jupyter.widget-view+json": {
       "model_id": "8414c12411aa41c396cd10b1d226fc1c",
       "version_major": 2,
       "version_minor": 0
      },
      "text/plain": [
       "ViewInteractiveWidget(height=768, layout=Layout(height='auto', width='100%'), width=1024)"
      ]
     },
     "metadata": {},
     "output_type": "display_data"
    }
   ],
   "source": [
    "### pressure field (cell data)\n",
    "\n",
    "p7 = pv.Plotter()\n",
    "p7.add_mesh(mesh_cell,scalars='p')\n",
    "p7.view_xy()\n",
    "p7.add_axes()\n",
    "p7.show()"
   ]
  },
  {
   "cell_type": "code",
   "execution_count": 146,
   "id": "b31c1c77",
   "metadata": {},
   "outputs": [
    {
     "data": {
      "application/vnd.jupyter.widget-view+json": {
       "model_id": "4878521db58044438b2a8b33a8f7ff61",
       "version_major": 2,
       "version_minor": 0
      },
      "text/plain": [
       "ViewInteractiveWidget(height=768, layout=Layout(height='auto', width='100%'), width=1024)"
      ]
     },
     "metadata": {},
     "output_type": "display_data"
    }
   ],
   "source": [
    "### pressure field (point data)\n",
    "\n",
    "p7 = pv.Plotter()\n",
    "p7.add_mesh(mesh_point,scalars='p')\n",
    "p7.view_xy()\n",
    "p7.add_axes()\n",
    "p7.show()"
   ]
  },
  {
   "cell_type": "markdown",
   "id": "e5fe5669",
   "metadata": {},
   "source": [
    "## Let's plot the streamlines"
   ]
  },
  {
   "cell_type": "code",
   "execution_count": 147,
   "id": "b9a9b884",
   "metadata": {},
   "outputs": [],
   "source": [
    "X_center = (mesh_cell.bounds[0]+mesh_cell.bounds[1])/2\n",
    "Y_center = (mesh_cell.bounds[2]+mesh_cell.bounds[3])/2\n",
    "Z_center = (mesh_cell.bounds[4]+mesh_cell.bounds[5])/2\n",
    "centers = [X_center, Y_center, Z_center] "
   ]
  },
  {
   "cell_type": "code",
   "execution_count": 148,
   "id": "cec079ec",
   "metadata": {},
   "outputs": [],
   "source": [
    "face = mesh_point.slice(normal='x') # \"normal\" should be set as the direction of the flow\n",
    "slices = mesh_point.slice_along_axis(n=8, axis=\"x\") # axis is the axis of the flow\n",
    "faces = slices.combine() # converts Multiblock into UnstructuredGrid \n",
    "\n",
    "str1 = mesh_point.streamlines_from_source(faces, vectors='U') # streamlines using multiple surfaces\n",
    "str2 = mesh_point.streamlines_from_source(face, vectors='U') # streamlines using a singular surface\n",
    "# both require a dataset for the surface\n",
    "\n",
    "str3 = mesh_point.streamlines( \n",
    "n_points=100,\n",
    "vectors='U',\n",
    "pointa=(mesh_cell.bounds[0], mesh_cell.bounds[2], centers[2]),\n",
    "pointb=(mesh_cell.bounds[0], mesh_cell.bounds[3], centers[2])\n",
    ")  # Streamlines using a line"
   ]
  },
  {
   "cell_type": "markdown",
   "id": "c12a523b",
   "metadata": {},
   "source": [
    "We'll compare between the streamlines obtained from one singular surface (str1) and those obtained using a higher number of equidistant parallel surfaces (str2). \n",
    "The most accurate of the two cases is the one that resembles what we obtain with ParaView the most."
   ]
  },
  {
   "cell_type": "code",
   "execution_count": 149,
   "id": "6a4ba36f",
   "metadata": {},
   "outputs": [
    {
     "data": {
      "application/vnd.jupyter.widget-view+json": {
       "model_id": "df92c0bc70e64c6aaede81c20d35ab57",
       "version_major": 2,
       "version_minor": 0
      },
      "text/plain": [
       "ViewInteractiveWidget(height=768, layout=Layout(height='auto', width='100%'), width=1024)"
      ]
     },
     "metadata": {},
     "output_type": "display_data"
    }
   ],
   "source": [
    "# Streamlines obtained from a higher number of equidistant parallel surfaces\n",
    "p8 = pv.Plotter()\n",
    "p8.add_mesh(mesh_point, color=\"w\")\n",
    "p8.add_mesh(str1.tube(radius=0.0004))\n",
    "# View in the xy plane\n",
    "p8.view_xy()\n",
    "# Show the axes\n",
    "p8.add_axes()\n",
    "# Display the plotting window\n",
    "p8.show()"
   ]
  },
  {
   "cell_type": "code",
   "execution_count": 150,
   "id": "5611dd07",
   "metadata": {},
   "outputs": [
    {
     "data": {
      "application/vnd.jupyter.widget-view+json": {
       "model_id": "2de07dcc8e6742bf9a2e3eb80b011f5e",
       "version_major": 2,
       "version_minor": 0
      },
      "text/plain": [
       "ViewInteractiveWidget(height=768, layout=Layout(height='auto', width='100%'), width=1024)"
      ]
     },
     "metadata": {},
     "output_type": "display_data"
    }
   ],
   "source": [
    "# Streamlines obtained from one singular surface\n",
    "p9 = pv.Plotter()\n",
    "p9.add_mesh(mesh_point, color=\"w\")\n",
    "p9.add_mesh(str2.tube(radius=0.0004))\n",
    "# View in the xy plane\n",
    "p9.view_xy()\n",
    "# Show the axes\n",
    "p9.add_axes()\n",
    "# Display the plotting window\n",
    "p9.show()"
   ]
  },
  {
   "cell_type": "markdown",
   "id": "c209a727",
   "metadata": {},
   "source": [
    "It seems this only works with `mesh_point` and not with `mesh_cell`"
   ]
  },
  {
   "cell_type": "markdown",
   "id": "c1c28ac4",
   "metadata": {},
   "source": [
    "## Let's determine the friction velocity"
   ]
  },
  {
   "cell_type": "code",
   "execution_count": 151,
   "id": "2c9496e7",
   "metadata": {},
   "outputs": [
    {
     "data": {
      "text/html": [
       "<table><tr><th>Header</th><th>Data Arrays</th></tr><tr><td>\n",
       "<table>\n",
       "<tr><th>UnstructuredGrid</th><th>Information</th></tr>\n",
       "<tr><td>N Cells</td><td>12225</td></tr>\n",
       "<tr><td>N Points</td><td>25012</td></tr>\n",
       "<tr><td>X Bounds</td><td>-2.060e-02, 2.900e-01</td></tr>\n",
       "<tr><td>Y Bounds</td><td>-2.540e-02, 2.540e-02</td></tr>\n",
       "<tr><td>Z Bounds</td><td>-5.000e-04, 5.000e-04</td></tr>\n",
       "<tr><td>N Arrays</td><td>21</td></tr>\n",
       "</table>\n",
       "\n",
       "</td><td>\n",
       "<table>\n",
       "<tr><th>Name</th><th>Field</th><th>Type</th><th>N Comp</th><th>Min</th><th>Max</th></tr>\n",
       "<tr><td>U</td><td>Cells</td><td>float32</td><td>3</td><td>-2.553e+00</td><td>1.018e+01</td></tr>\n",
       "<tr><td>epsilon</td><td>Cells</td><td>float32</td><td>1</td><td>1.280e-01</td><td>5.784e+03</td></tr>\n",
       "<tr><td>k</td><td>Cells</td><td>float32</td><td>1</td><td>4.465e-04</td><td>5.500e+00</td></tr>\n",
       "<tr><td>nut</td><td>Cells</td><td>float32</td><td>1</td><td>1.402e-07</td><td>5.141e-03</td></tr>\n",
       "<tr><td>p</td><td>Cells</td><td>float32</td><td>1</td><td>-8.017e+00</td><td>1.505e+01</td></tr>\n",
       "<tr><td>U-normed</td><td>Cells</td><td>float32</td><td>1</td><td>5.540e-03</td><td>1.018e+01</td></tr>\n",
       "<tr><td>ux</td><td>Cells</td><td>float32</td><td>1</td><td>-2.553e+00</td><td>1.018e+01</td></tr>\n",
       "<tr><td>uy</td><td>Cells</td><td>float32</td><td>1</td><td>-9.007e-01</td><td>7.511e-01</td></tr>\n",
       "<tr><td>uz</td><td>Cells</td><td>float32</td><td>1</td><td>-3.398e-16</td><td>2.772e-16</td></tr>\n",
       "<tr><td>dU/dx</td><td>Cells</td><td>float32</td><td>1</td><td>-1.468e+03</td><td>4.741e+02</td></tr>\n",
       "<tr><td>dU/dy</td><td>Cells</td><td>float32</td><td>1</td><td>-4.161e+03</td><td>1.191e+04</td></tr>\n",
       "<tr><td>dU/dz</td><td>Cells</td><td>float32</td><td>1</td><td>-0.000e+00</td><td>-0.000e+00</td></tr>\n",
       "<tr><td>dux/dx</td><td>Cells</td><td>float32</td><td>1</td><td>-1.485e+03</td><td>6.469e+02</td></tr>\n",
       "<tr><td>dux/dy</td><td>Cells</td><td>float32</td><td>1</td><td>-4.141e+03</td><td>1.196e+04</td></tr>\n",
       "<tr><td>dux/dz</td><td>Cells</td><td>float32</td><td>1</td><td>-0.000e+00</td><td>-0.000e+00</td></tr>\n",
       "<tr><td>duy/dx</td><td>Cells</td><td>float32</td><td>1</td><td>-2.181e+02</td><td>1.228e+02</td></tr>\n",
       "<tr><td>duy/dy</td><td>Cells</td><td>float32</td><td>1</td><td>-1.105e+03</td><td>1.797e+03</td></tr>\n",
       "<tr><td>duy/dz</td><td>Cells</td><td>float32</td><td>1</td><td>0.000e+00</td><td>0.000e+00</td></tr>\n",
       "<tr><td>duz/dx</td><td>Cells</td><td>float32</td><td>1</td><td>-7.226e-14</td><td>7.260e-14</td></tr>\n",
       "<tr><td>duz/dy</td><td>Cells</td><td>float32</td><td>1</td><td>-5.781e-13</td><td>6.592e-13</td></tr>\n",
       "<tr><td><b>duz/dz</b></td><td>Cells</td><td>float32</td><td>1</td><td>-0.000e+00</td><td>-0.000e+00</td></tr>\n",
       "</table>\n",
       "\n",
       "</td></tr> </table>"
      ],
      "text/plain": [
       "UnstructuredGrid (0x25dd8ca08e0)\n",
       "  N Cells:\t12225\n",
       "  N Points:\t25012\n",
       "  X Bounds:\t-2.060e-02, 2.900e-01\n",
       "  Y Bounds:\t-2.540e-02, 2.540e-02\n",
       "  Z Bounds:\t-5.000e-04, 5.000e-04\n",
       "  N Arrays:\t21"
      ]
     },
     "execution_count": 151,
     "metadata": {},
     "output_type": "execute_result"
    }
   ],
   "source": [
    "# deriv will contain the data from the gradient of U (9 components)\n",
    "deriv_cell = mesh_cell.compute_derivative(scalars=\"U\")\n",
    "# deriv2 will contain the data from the gradient of U-normed (3 components)\n",
    "deriv2_cell = mesh_cell.compute_derivative(scalars=\"U-normed\")\n",
    "\n",
    "grad_cell = gradients_to_dict(deriv_cell[\"gradient\"])\n",
    "grad2_cell = gradients_to_dict2(deriv2_cell[\"gradient\"])\n",
    "\n",
    "mesh_cell.cell_data[\"dU/dx\"] = grad2_cell[\"dU/dx\"]\n",
    "mesh_cell.cell_data[\"dU/dy\"] = grad2_cell[\"dU/dy\"]\n",
    "mesh_cell.cell_data[\"dU/dz\"] = grad2_cell[\"dU/dz\"]\n",
    "mesh_cell.cell_data[\"dux/dx\"] = grad_cell[\"dux/dx\"]\n",
    "mesh_cell.cell_data[\"dux/dy\"] = grad_cell[\"dux/dy\"]\n",
    "mesh_cell.cell_data[\"dux/dz\"] = grad_cell[\"dux/dz\"]\n",
    "mesh_cell.cell_data[\"duy/dx\"] = grad_cell[\"duy/dx\"]\n",
    "mesh_cell.cell_data[\"duy/dy\"] = grad_cell[\"duy/dy\"]\n",
    "mesh_cell.cell_data[\"duy/dz\"] = grad_cell[\"duy/dz\"]\n",
    "mesh_cell.cell_data[\"duz/dx\"] = grad_cell[\"duz/dx\"]\n",
    "mesh_cell.cell_data[\"duz/dy\"] = grad_cell[\"duz/dy\"]\n",
    "mesh_cell.cell_data[\"duz/dz\"] = grad_cell[\"duz/dz\"]\n",
    "\n",
    "mesh_cell"
   ]
  },
  {
   "cell_type": "code",
   "execution_count": 152,
   "id": "d06fe8af",
   "metadata": {},
   "outputs": [
    {
     "data": {
      "text/html": [
       "<table><tr><th>Header</th><th>Data Arrays</th></tr><tr><td>\n",
       "<table>\n",
       "<tr><th>UnstructuredGrid</th><th>Information</th></tr>\n",
       "<tr><td>N Cells</td><td>12225</td></tr>\n",
       "<tr><td>N Points</td><td>25012</td></tr>\n",
       "<tr><td>X Bounds</td><td>-2.060e-02, 2.900e-01</td></tr>\n",
       "<tr><td>Y Bounds</td><td>-2.540e-02, 2.540e-02</td></tr>\n",
       "<tr><td>Z Bounds</td><td>-5.000e-04, 5.000e-04</td></tr>\n",
       "<tr><td>N Arrays</td><td>21</td></tr>\n",
       "</table>\n",
       "\n",
       "</td><td>\n",
       "<table>\n",
       "<tr><th>Name</th><th>Field</th><th>Type</th><th>N Comp</th><th>Min</th><th>Max</th></tr>\n",
       "<tr><td>U</td><td>Points</td><td>float32</td><td>3</td><td>-2.553e+00</td><td>1.018e+01</td></tr>\n",
       "<tr><td>epsilon</td><td>Points</td><td>float32</td><td>1</td><td>1.280e-01</td><td>5.170e+03</td></tr>\n",
       "<tr><td>k</td><td>Points</td><td>float32</td><td>1</td><td>4.465e-04</td><td>5.496e+00</td></tr>\n",
       "<tr><td>nut</td><td>Points</td><td>float32</td><td>1</td><td>1.402e-07</td><td>5.137e-03</td></tr>\n",
       "<tr><td>p</td><td>Points</td><td>float32</td><td>1</td><td>-8.015e+00</td><td>1.454e+01</td></tr>\n",
       "<tr><td>U-normed</td><td>Points</td><td>float32</td><td>1</td><td>2.250e-03</td><td>1.018e+01</td></tr>\n",
       "<tr><td>ux</td><td>Points</td><td>float32</td><td>1</td><td>-2.553e+00</td><td>1.018e+01</td></tr>\n",
       "<tr><td>uy</td><td>Points</td><td>float32</td><td>1</td><td>-9.007e-01</td><td>6.768e-01</td></tr>\n",
       "<tr><td>uz</td><td>Points</td><td>float32</td><td>1</td><td>-2.462e-16</td><td>2.218e-16</td></tr>\n",
       "<tr><td>dU/dx</td><td>Points</td><td>float32</td><td>1</td><td>-2.238e+03</td><td>7.574e+02</td></tr>\n",
       "<tr><td>dU/dy</td><td>Points</td><td>float32</td><td>1</td><td>-3.724e+03</td><td>1.111e+04</td></tr>\n",
       "<tr><td>dU/dz</td><td>Points</td><td>float32</td><td>1</td><td>-7.109e-13</td><td>6.044e-13</td></tr>\n",
       "<tr><td>dux/dx</td><td>Points</td><td>float32</td><td>1</td><td>-2.239e+03</td><td>8.186e+02</td></tr>\n",
       "<tr><td>dux/dy</td><td>Points</td><td>float32</td><td>1</td><td>-3.705e+03</td><td>1.135e+04</td></tr>\n",
       "<tr><td>dux/dz</td><td>Points</td><td>float32</td><td>1</td><td>-7.109e-13</td><td>6.043e-13</td></tr>\n",
       "<tr><td>duy/dx</td><td>Points</td><td>float32</td><td>1</td><td>-2.322e+02</td><td>1.672e+02</td></tr>\n",
       "<tr><td>duy/dy</td><td>Points</td><td>float32</td><td>1</td><td>-7.487e+02</td><td>1.816e+03</td></tr>\n",
       "<tr><td>duy/dz</td><td>Points</td><td>float32</td><td>1</td><td>-1.309e-13</td><td>2.949e-13</td></tr>\n",
       "<tr><td>duz/dx</td><td>Points</td><td>float32</td><td>1</td><td>-9.278e-14</td><td>8.473e-14</td></tr>\n",
       "<tr><td>duz/dy</td><td>Points</td><td>float32</td><td>1</td><td>-7.084e-13</td><td>6.748e-13</td></tr>\n",
       "<tr><td><b>duz/dz</b></td><td>Points</td><td>float32</td><td>1</td><td>-9.860e-29</td><td>1.485e-28</td></tr>\n",
       "</table>\n",
       "\n",
       "</td></tr> </table>"
      ],
      "text/plain": [
       "UnstructuredGrid (0x25dd8c73520)\n",
       "  N Cells:\t12225\n",
       "  N Points:\t25012\n",
       "  X Bounds:\t-2.060e-02, 2.900e-01\n",
       "  Y Bounds:\t-2.540e-02, 2.540e-02\n",
       "  Z Bounds:\t-5.000e-04, 5.000e-04\n",
       "  N Arrays:\t21"
      ]
     },
     "execution_count": 152,
     "metadata": {},
     "output_type": "execute_result"
    }
   ],
   "source": [
    "# deriv will contain the data from the gradient of U (9 components)\n",
    "deriv_point = mesh_point.compute_derivative(scalars=\"U\")\n",
    "# deriv2 will contain the data from the gradient of U-normed (3 components)\n",
    "deriv2_point = mesh_point.compute_derivative(scalars=\"U-normed\")\n",
    "\n",
    "grad_point = gradients_to_dict(deriv_point[\"gradient\"])\n",
    "grad2_point = gradients_to_dict2(deriv2_point[\"gradient\"])\n",
    "\n",
    "mesh_point.point_data[\"dU/dx\"] = grad2_point[\"dU/dx\"]\n",
    "mesh_point.point_data[\"dU/dy\"] = grad2_point[\"dU/dy\"]\n",
    "mesh_point.point_data[\"dU/dz\"] = grad2_point[\"dU/dz\"]\n",
    "mesh_point.point_data[\"dux/dx\"] = grad_point[\"dux/dx\"]\n",
    "mesh_point.point_data[\"dux/dy\"] = grad_point[\"dux/dy\"]\n",
    "mesh_point.point_data[\"dux/dz\"] = grad_point[\"dux/dz\"]\n",
    "mesh_point.point_data[\"duy/dx\"] = grad_point[\"duy/dx\"]\n",
    "mesh_point.point_data[\"duy/dy\"] = grad_point[\"duy/dy\"]\n",
    "mesh_point.point_data[\"duy/dz\"] = grad_point[\"duy/dz\"]\n",
    "mesh_point.point_data[\"duz/dx\"] = grad_point[\"duz/dx\"]\n",
    "mesh_point.point_data[\"duz/dy\"] = grad_point[\"duz/dy\"]\n",
    "mesh_point.point_data[\"duz/dz\"] = grad_point[\"duz/dz\"]\n",
    "\n",
    "mesh_point"
   ]
  },
  {
   "cell_type": "markdown",
   "id": "b2b97e20",
   "metadata": {},
   "source": [
    "## Let's plot gradient components "
   ]
  },
  {
   "cell_type": "code",
   "execution_count": 153,
   "id": "de94642c",
   "metadata": {},
   "outputs": [
    {
     "data": {
      "application/vnd.jupyter.widget-view+json": {
       "model_id": "0b8b34cb3aea4080b3824fe1a208c21d",
       "version_major": 2,
       "version_minor": 0
      },
      "text/plain": [
       "ViewInteractiveWidget(height=768, layout=Layout(height='auto', width='100%'), width=1024)"
      ]
     },
     "metadata": {},
     "output_type": "display_data"
    }
   ],
   "source": [
    "### plotting of dux/dx (cell data)\n",
    "\n",
    "p10 = pv.Plotter()\n",
    "p10.add_mesh(mesh_cell,scalars=\"dux/dx\")\n",
    "p10.view_xy()\n",
    "p10.add_axes()\n",
    "p10.show()"
   ]
  },
  {
   "cell_type": "code",
   "execution_count": 154,
   "id": "9bb0faeb",
   "metadata": {},
   "outputs": [
    {
     "data": {
      "application/vnd.jupyter.widget-view+json": {
       "model_id": "3648ef69a23a4213a14356e3222abdd7",
       "version_major": 2,
       "version_minor": 0
      },
      "text/plain": [
       "ViewInteractiveWidget(height=768, layout=Layout(height='auto', width='100%'), width=1024)"
      ]
     },
     "metadata": {},
     "output_type": "display_data"
    }
   ],
   "source": [
    "### plotting of dux/dx (point data)\n",
    "\n",
    "p10 = pv.Plotter()\n",
    "p10.add_mesh(mesh_point,scalars=\"dux/dx\")\n",
    "p10.view_xy()\n",
    "p10.add_axes()\n",
    "p10.show()"
   ]
  },
  {
   "cell_type": "code",
   "execution_count": 155,
   "id": "2760a501",
   "metadata": {},
   "outputs": [
    {
     "data": {
      "application/vnd.jupyter.widget-view+json": {
       "model_id": "3524e8cf4b1442bf86ef1939811cbc57",
       "version_major": 2,
       "version_minor": 0
      },
      "text/plain": [
       "ViewInteractiveWidget(height=768, layout=Layout(height='auto', width='100%'), width=1024)"
      ]
     },
     "metadata": {},
     "output_type": "display_data"
    }
   ],
   "source": [
    "### multiplot, plotting of du/dx and dv/dx (cell data)\n",
    "\n",
    "plotter = pv.Plotter(shape=(1, 2))\n",
    "\n",
    "plotter.subplot(0, 0)\n",
    "plotter.add_text(\"dux/dx\", font_size=20)\n",
    "plotter.add_mesh(mesh_cell,scalars=\"dux/dx\")\n",
    "plotter.view_xy()\n",
    "plotter.add_axes()\n",
    "\n",
    "plotter.subplot(0, 1)\n",
    "plotter.add_text(\"duy/dx\", font_size=20)\n",
    "plotter.add_mesh(mesh_cell.copy(),scalars=\"duy/dx\")\n",
    "plotter.view_xy()\n",
    "plotter.add_axes()\n",
    "\n",
    "plotter.show()"
   ]
  },
  {
   "cell_type": "code",
   "execution_count": 156,
   "id": "946ea6f0",
   "metadata": {},
   "outputs": [
    {
     "data": {
      "application/vnd.jupyter.widget-view+json": {
       "model_id": "7f6e2ec5afa849c684315d76ad271490",
       "version_major": 2,
       "version_minor": 0
      },
      "text/plain": [
       "ViewInteractiveWidget(height=768, layout=Layout(height='auto', width='100%'), width=1024)"
      ]
     },
     "metadata": {},
     "output_type": "display_data"
    }
   ],
   "source": [
    "### multiplot, plotting of du/dx and dv/dx (point data)\n",
    "\n",
    "plotter = pv.Plotter(shape=(1, 2))\n",
    "\n",
    "plotter.subplot(0, 0)\n",
    "plotter.add_text(\"dux/dx\", font_size=20)\n",
    "plotter.add_mesh(mesh_point,scalars=\"dux/dx\")\n",
    "plotter.view_xy()\n",
    "plotter.add_axes()\n",
    "\n",
    "plotter.subplot(0, 1)\n",
    "plotter.add_text(\"duy/dx\", font_size=20)\n",
    "plotter.add_mesh(mesh_point.copy(),scalars=\"duy/dx\")\n",
    "plotter.view_xy()\n",
    "plotter.add_axes()\n",
    "\n",
    "plotter.show()"
   ]
  },
  {
   "cell_type": "code",
   "execution_count": 157,
   "id": "e0c2dd08",
   "metadata": {
    "scrolled": true
   },
   "outputs": [
    {
     "data": {
      "application/vnd.jupyter.widget-view+json": {
       "model_id": "9d836c8518fe4747a6e582eb5500c681",
       "version_major": 2,
       "version_minor": 0
      },
      "text/plain": [
       "ViewInteractiveWidget(height=768, layout=Layout(height='auto', width='100%'), width=1024)"
      ]
     },
     "metadata": {},
     "output_type": "display_data"
    }
   ],
   "source": [
    "### multiplot, plotting all the gradient components \n",
    "### {du/dx, du/dy, du/dz, dv/dx, dv/dy, dv/dz, dw/dx, dw/dy, dw/dz}\n",
    "\n",
    "plotter = pv.Plotter(shape=(3, 3))\n",
    "\n",
    "plotter.subplot(0, 0)\n",
    "plotter.add_text(\"dux/dx\", font_size=20)\n",
    "plotter.add_mesh(mesh_cell,scalars=\"dux/dx\")\n",
    "plotter.view_xy()\n",
    "plotter.add_axes()\n",
    "\n",
    "plotter.subplot(0, 1)\n",
    "plotter.add_text(\"dux/dy\", font_size=20)\n",
    "plotter.add_mesh(mesh_cell.copy(),scalars=\"dux/dy\")\n",
    "plotter.view_xy()\n",
    "plotter.add_axes()\n",
    "\n",
    "plotter.subplot(0, 2)\n",
    "plotter.add_text(\"dux/dz\", font_size=20)\n",
    "plotter.add_mesh(mesh_cell.copy(),scalars=\"dux/dz\")\n",
    "plotter.view_xy()\n",
    "plotter.add_axes()\n",
    "\n",
    "plotter.subplot(1, 0)\n",
    "plotter.add_text(\"duy/dx\", font_size=20)\n",
    "plotter.add_mesh(mesh_cell.copy(),scalars=\"duy/dx\")\n",
    "plotter.view_xy()\n",
    "plotter.add_axes()\n",
    "\n",
    "plotter.subplot(1, 1)\n",
    "plotter.add_text(\"duy/dy\", font_size=20)\n",
    "plotter.add_mesh(mesh_cell.copy(),scalars=\"duy/dy\")\n",
    "plotter.view_xy()\n",
    "plotter.add_axes()\n",
    "\n",
    "plotter.subplot(1, 2)\n",
    "plotter.add_text(\"duy/dz\", font_size=20)\n",
    "plotter.add_mesh(mesh_cell.copy(),scalars=\"duy/dz\")\n",
    "plotter.view_xy()\n",
    "plotter.add_axes()\n",
    "\n",
    "plotter.subplot(2, 0)\n",
    "plotter.add_text(\"duz/dx\", font_size=20)\n",
    "plotter.add_mesh(mesh_cell.copy(),scalars=\"duz/dx\")\n",
    "plotter.view_xy()\n",
    "plotter.add_axes()\n",
    "\n",
    "plotter.subplot(2, 1)\n",
    "plotter.add_text(\"duz/dy\", font_size=20)\n",
    "plotter.add_mesh(mesh_cell.copy(),scalars=\"duz/dy\")\n",
    "plotter.view_xy()\n",
    "plotter.add_axes()\n",
    "\n",
    "plotter.subplot(2, 2)\n",
    "plotter.add_text(\"duz/dz\", font_size=20)\n",
    "plotter.add_mesh(mesh_cell.copy(),scalars=\"duz/dz\")\n",
    "plotter.view_xy()\n",
    "plotter.add_axes()\n",
    "\n",
    "plotter.show()"
   ]
  },
  {
   "cell_type": "code",
   "execution_count": 158,
   "id": "033ab959",
   "metadata": {},
   "outputs": [
    {
     "data": {
      "application/vnd.jupyter.widget-view+json": {
       "model_id": "db7cfe4c62d04f0f861c05feb88f983d",
       "version_major": 2,
       "version_minor": 0
      },
      "text/plain": [
       "ViewInteractiveWidget(height=768, layout=Layout(height='auto', width='100%'), width=1024)"
      ]
     },
     "metadata": {},
     "output_type": "display_data"
    }
   ],
   "source": [
    "### multiplot, plotting all the gradient components \n",
    "### {du/dx, du/dy, du/dz, dv/dx, dv/dy, dv/dz, dw/dx, dw/dy, dw/dz}\n",
    "\n",
    "plotter = pv.Plotter(shape=(3, 3))\n",
    "\n",
    "plotter.subplot(0, 0)\n",
    "plotter.add_text(\"dux/dx\", font_size=20)\n",
    "plotter.add_mesh(mesh_point,scalars=\"dux/dx\")\n",
    "plotter.view_xy()\n",
    "plotter.add_axes()\n",
    "\n",
    "plotter.subplot(0, 1)\n",
    "plotter.add_text(\"dux/dy\", font_size=20)\n",
    "plotter.add_mesh(mesh_point.copy(),scalars=\"dux/dy\")\n",
    "plotter.view_xy()\n",
    "plotter.add_axes()\n",
    "\n",
    "plotter.subplot(0, 2)\n",
    "plotter.add_text(\"dux/dz\", font_size=20)\n",
    "plotter.add_mesh(mesh_point.copy(),scalars=\"dux/dz\")\n",
    "plotter.view_xy()\n",
    "plotter.add_axes()\n",
    "\n",
    "plotter.subplot(1, 0)\n",
    "plotter.add_text(\"duy/dx\", font_size=20)\n",
    "plotter.add_mesh(mesh_point.copy(),scalars=\"duy/dx\")\n",
    "plotter.view_xy()\n",
    "plotter.add_axes()\n",
    "\n",
    "plotter.subplot(1, 1)\n",
    "plotter.add_text(\"duy/dy\", font_size=20)\n",
    "plotter.add_mesh(mesh_point.copy(),scalars=\"duy/dy\")\n",
    "plotter.view_xy()\n",
    "plotter.add_axes()\n",
    "\n",
    "plotter.subplot(1, 2)\n",
    "plotter.add_text(\"duy/dz\", font_size=20)\n",
    "plotter.add_mesh(mesh_point.copy(),scalars=\"duy/dz\")\n",
    "plotter.view_xy()\n",
    "plotter.add_axes()\n",
    "\n",
    "plotter.subplot(2, 0)\n",
    "plotter.add_text(\"duz/dx\", font_size=20)\n",
    "plotter.add_mesh(mesh_point.copy(),scalars=\"duz/dx\")\n",
    "plotter.view_xy()\n",
    "plotter.add_axes()\n",
    "\n",
    "plotter.subplot(2, 1)\n",
    "plotter.add_text(\"duz/dy\", font_size=20)\n",
    "plotter.add_mesh(mesh_point.copy(),scalars=\"duz/dy\")\n",
    "plotter.view_xy()\n",
    "plotter.add_axes()\n",
    "\n",
    "plotter.subplot(2, 2)\n",
    "plotter.add_text(\"duz/dz\", font_size=20)\n",
    "plotter.add_mesh(mesh_point.copy(),scalars=\"duz/dz\")\n",
    "plotter.view_xy()\n",
    "plotter.add_axes()\n",
    "\n",
    "plotter.show()"
   ]
  },
  {
   "cell_type": "markdown",
   "id": "7c65acb3",
   "metadata": {},
   "source": [
    "## Vectors normalization compared to the maximal component "
   ]
  },
  {
   "cell_type": "code",
   "execution_count": 159,
   "id": "b668494a",
   "metadata": {},
   "outputs": [],
   "source": [
    "duxdx_norm=(mesh_cell[\"dux/dx\"]-min(mesh_cell[\"dux/dx\"]))/(max(mesh_cell[\"dux/dx\"])-min(mesh_cell[\"dux/dx\"]))\n",
    "duydx_norm=(mesh_cell[\"duy/dx\"]-min(mesh_cell[\"duy/dx\"]))/(max(mesh_cell[\"duy/dx\"])-min(mesh_cell[\"duy/dx\"]))\n",
    "duzdx_norm=(mesh_cell[\"duz/dx\"]-min(mesh_cell[\"duz/dx\"]))/(max(mesh_cell[\"duz/dx\"])-min(mesh_cell[\"duz/dx\"]))\n",
    "duxdy_norm=(mesh_cell[\"dux/dy\"]-min(mesh_cell[\"dux/dy\"]))/(max(mesh_cell[\"dux/dy\"])-min(mesh_cell[\"dux/dy\"]))\n",
    "duydy_norm=(mesh_cell[\"duy/dy\"]-min(mesh_cell[\"duy/dy\"]))/(max(mesh_cell[\"duy/dy\"])-min(mesh_cell[\"duy/dy\"]))\n",
    "duzdy_norm=(mesh_cell[\"duz/dy\"]-min(mesh_cell[\"duz/dy\"]))/(max(mesh_cell[\"duz/dy\"])-min(mesh_cell[\"duz/dy\"]))\n",
    "#duxdz_norm=(mesh_cell[\"dux/dz\"]-min(mesh_cell[\"dux/dz\"]))/(max(mesh_cell[\"dux/dz\"])-min(mesh_cell[\"dux/dz\"]))\n",
    "#duydz_norm=(mesh_cell[\"duy/dz\"]-min(mesh_cell[\"duy/dz\"]))/(max(mesh_cell[\"duy/dz\"])-min(mesh_cell[\"duy/dz\"]))\n",
    "#duzdz_norm=(mesh_cell[\"duz/dz\"]-min(mesh_cell[\"duz/dz\"]))/(max(mesh_cell[\"duz/dz\"])-min(mesh_cell[\"duz/dz\"]))"
   ]
  },
  {
   "cell_type": "markdown",
   "id": "567c69b1",
   "metadata": {},
   "source": [
    "We have to add these data to the `mesh_cell` available fields if we want to plot them. Otherwise, their names would be \"Data\" (see last attempt with \"a\")."
   ]
  },
  {
   "cell_type": "code",
   "execution_count": 160,
   "id": "8e2b8517",
   "metadata": {},
   "outputs": [],
   "source": [
    "mesh_cell.cell_data[\"dux/dx n\"] = duxdx_norm\n",
    "mesh_cell.cell_data[\"duy/dx n\"] = duydx_norm\n",
    "mesh_cell.cell_data[\"duz/dx n\"] = duzdx_norm\n",
    "mesh_cell.cell_data[\"dux/dy n\"] = duxdy_norm\n",
    "mesh_cell.cell_data[\"duy/dy n\"] = duydy_norm\n",
    "mesh_cell.cell_data[\"duz/dy n\"] = duzdy_norm\n",
    "#mesh_cell.cell_data[\"dux/dz n\"] = duxdz_norm\n",
    "#mesh_cell.cell_data[\"duy/dz n\"] = duydz_norm\n",
    "#mesh_cell.cell_data[\"duz/dz n\"] = duzdz_norm"
   ]
  },
  {
   "cell_type": "markdown",
   "id": "a54f609b",
   "metadata": {},
   "source": [
    "Be careful: 0 division in the case of z gradient components "
   ]
  },
  {
   "cell_type": "markdown",
   "id": "765a34e6",
   "metadata": {},
   "source": [
    "And the script is pretty big s*** for the moment: we have to impove that with \"for\" loop ect..."
   ]
  },
  {
   "cell_type": "code",
   "execution_count": 161,
   "id": "1c483a7b",
   "metadata": {},
   "outputs": [
    {
     "data": {
      "text/html": [
       "<table><tr><th>Header</th><th>Data Arrays</th></tr><tr><td>\n",
       "<table>\n",
       "<tr><th>UnstructuredGrid</th><th>Information</th></tr>\n",
       "<tr><td>N Cells</td><td>12225</td></tr>\n",
       "<tr><td>N Points</td><td>25012</td></tr>\n",
       "<tr><td>X Bounds</td><td>-2.060e-02, 2.900e-01</td></tr>\n",
       "<tr><td>Y Bounds</td><td>-2.540e-02, 2.540e-02</td></tr>\n",
       "<tr><td>Z Bounds</td><td>-5.000e-04, 5.000e-04</td></tr>\n",
       "<tr><td>N Arrays</td><td>27</td></tr>\n",
       "</table>\n",
       "\n",
       "</td><td>\n",
       "<table>\n",
       "<tr><th>Name</th><th>Field</th><th>Type</th><th>N Comp</th><th>Min</th><th>Max</th></tr>\n",
       "<tr><td>U</td><td>Cells</td><td>float32</td><td>3</td><td>-2.553e+00</td><td>1.018e+01</td></tr>\n",
       "<tr><td>epsilon</td><td>Cells</td><td>float32</td><td>1</td><td>1.280e-01</td><td>5.784e+03</td></tr>\n",
       "<tr><td>k</td><td>Cells</td><td>float32</td><td>1</td><td>4.465e-04</td><td>5.500e+00</td></tr>\n",
       "<tr><td>nut</td><td>Cells</td><td>float32</td><td>1</td><td>1.402e-07</td><td>5.141e-03</td></tr>\n",
       "<tr><td>p</td><td>Cells</td><td>float32</td><td>1</td><td>-8.017e+00</td><td>1.505e+01</td></tr>\n",
       "<tr><td>U-normed</td><td>Cells</td><td>float32</td><td>1</td><td>5.540e-03</td><td>1.018e+01</td></tr>\n",
       "<tr><td>ux</td><td>Cells</td><td>float32</td><td>1</td><td>-2.553e+00</td><td>1.018e+01</td></tr>\n",
       "<tr><td>uy</td><td>Cells</td><td>float32</td><td>1</td><td>-9.007e-01</td><td>7.511e-01</td></tr>\n",
       "<tr><td>uz</td><td>Cells</td><td>float32</td><td>1</td><td>-3.398e-16</td><td>2.772e-16</td></tr>\n",
       "<tr><td>dU/dx</td><td>Cells</td><td>float32</td><td>1</td><td>-1.468e+03</td><td>4.741e+02</td></tr>\n",
       "<tr><td>dU/dy</td><td>Cells</td><td>float32</td><td>1</td><td>-4.161e+03</td><td>1.191e+04</td></tr>\n",
       "<tr><td>dU/dz</td><td>Cells</td><td>float32</td><td>1</td><td>-0.000e+00</td><td>-0.000e+00</td></tr>\n",
       "<tr><td>dux/dx</td><td>Cells</td><td>float32</td><td>1</td><td>-1.485e+03</td><td>6.469e+02</td></tr>\n",
       "<tr><td>dux/dy</td><td>Cells</td><td>float32</td><td>1</td><td>-4.141e+03</td><td>1.196e+04</td></tr>\n",
       "<tr><td>dux/dz</td><td>Cells</td><td>float32</td><td>1</td><td>-0.000e+00</td><td>-0.000e+00</td></tr>\n",
       "<tr><td>duy/dx</td><td>Cells</td><td>float32</td><td>1</td><td>-2.181e+02</td><td>1.228e+02</td></tr>\n",
       "<tr><td>duy/dy</td><td>Cells</td><td>float32</td><td>1</td><td>-1.105e+03</td><td>1.797e+03</td></tr>\n",
       "<tr><td>duy/dz</td><td>Cells</td><td>float32</td><td>1</td><td>0.000e+00</td><td>0.000e+00</td></tr>\n",
       "<tr><td>duz/dx</td><td>Cells</td><td>float32</td><td>1</td><td>-7.226e-14</td><td>7.260e-14</td></tr>\n",
       "<tr><td>duz/dy</td><td>Cells</td><td>float32</td><td>1</td><td>-5.781e-13</td><td>6.592e-13</td></tr>\n",
       "<tr><td>duz/dz</td><td>Cells</td><td>float32</td><td>1</td><td>-0.000e+00</td><td>-0.000e+00</td></tr>\n",
       "<tr><td>dux/dx n</td><td>Cells</td><td>float32</td><td>1</td><td>0.000e+00</td><td>1.000e+00</td></tr>\n",
       "<tr><td>duy/dx n</td><td>Cells</td><td>float32</td><td>1</td><td>0.000e+00</td><td>1.000e+00</td></tr>\n",
       "<tr><td>duz/dx n</td><td>Cells</td><td>float32</td><td>1</td><td>0.000e+00</td><td>1.000e+00</td></tr>\n",
       "<tr><td>dux/dy n</td><td>Cells</td><td>float32</td><td>1</td><td>0.000e+00</td><td>1.000e+00</td></tr>\n",
       "<tr><td>duy/dy n</td><td>Cells</td><td>float32</td><td>1</td><td>0.000e+00</td><td>1.000e+00</td></tr>\n",
       "<tr><td><b>duz/dy n</b></td><td>Cells</td><td>float32</td><td>1</td><td>0.000e+00</td><td>1.000e+00</td></tr>\n",
       "</table>\n",
       "\n",
       "</td></tr> </table>"
      ],
      "text/plain": [
       "UnstructuredGrid (0x25dd8ca08e0)\n",
       "  N Cells:\t12225\n",
       "  N Points:\t25012\n",
       "  X Bounds:\t-2.060e-02, 2.900e-01\n",
       "  Y Bounds:\t-2.540e-02, 2.540e-02\n",
       "  Z Bounds:\t-5.000e-04, 5.000e-04\n",
       "  N Arrays:\t27"
      ]
     },
     "execution_count": 161,
     "metadata": {},
     "output_type": "execute_result"
    }
   ],
   "source": [
    "mesh_cell"
   ]
  },
  {
   "cell_type": "code",
   "execution_count": 162,
   "id": "9fe1bdcc",
   "metadata": {},
   "outputs": [
    {
     "data": {
      "application/vnd.jupyter.widget-view+json": {
       "model_id": "1806bae4ef4e483fbe7876c336b3aaa5",
       "version_major": 2,
       "version_minor": 0
      },
      "text/plain": [
       "ViewInteractiveWidget(height=768, layout=Layout(height='auto', width='100%'), width=1024)"
      ]
     },
     "metadata": {},
     "output_type": "display_data"
    }
   ],
   "source": [
    "#plot\n",
    "plotter = pv.Plotter(shape=(3, 3))\n",
    "\n",
    "plotter.subplot(0, 0)\n",
    "plotter.add_text(\"dux/dx n\", font_size=20)\n",
    "plotter.add_mesh(mesh_cell,scalars='dux/dx n')\n",
    "plotter.view_xy()\n",
    "plotter.add_axes()\n",
    "\n",
    "plotter.subplot(0, 1)\n",
    "plotter.add_text(\"dux/dy n\", font_size=20)\n",
    "plotter.add_mesh(mesh_cell.copy(),scalars=\"dux/dy n\")\n",
    "plotter.view_xy()\n",
    "plotter.add_axes()\n",
    "\n",
    "plotter.subplot(0, 2)\n",
    "plotter.add_text(\"dux/dz n\", font_size=20)\n",
    "plotter.add_mesh(mesh_cell.copy(),scalars=\"dux/dz\")\n",
    "plotter.view_xy()\n",
    "plotter.add_axes()\n",
    "\n",
    "plotter.subplot(1, 0)\n",
    "plotter.add_text(\"duy/dx n\", font_size=20)\n",
    "plotter.add_mesh(mesh_cell.copy(),scalars=\"duy/dx n\")\n",
    "plotter.view_xy()\n",
    "plotter.add_axes()\n",
    "\n",
    "plotter.subplot(1, 1)\n",
    "plotter.add_text(\"duy/dy n\", font_size=20)\n",
    "plotter.add_mesh(mesh_cell.copy(),scalars=\"duy/dy n\")\n",
    "plotter.view_xy()\n",
    "plotter.add_axes()\n",
    "\n",
    "plotter.subplot(1, 2)\n",
    "plotter.add_text(\"duy/dz n\", font_size=20)\n",
    "plotter.add_mesh(mesh_cell.copy(),scalars=\"duy/dz\")\n",
    "plotter.view_xy()\n",
    "plotter.add_axes()\n",
    "\n",
    "plotter.subplot(2, 0)\n",
    "plotter.add_text(\"duz/dx n\", font_size=20)\n",
    "plotter.add_mesh(mesh_cell.copy(),scalars=\"duz/dx n\")\n",
    "plotter.view_xy()\n",
    "plotter.add_axes()\n",
    "\n",
    "plotter.subplot(2, 1)\n",
    "plotter.add_text(\"duz/dy n\", font_size=20)\n",
    "plotter.add_mesh(mesh_cell.copy(),scalars=\"duz/dy n\")\n",
    "plotter.view_xy()\n",
    "plotter.add_axes()\n",
    "\n",
    "plotter.subplot(2, 2)\n",
    "plotter.add_text(\"duz/dz n\", font_size=20)\n",
    "plotter.add_mesh(mesh_cell.copy(),scalars=\"duz/dz\")\n",
    "plotter.view_xy()\n",
    "plotter.add_axes()\n",
    "\n",
    "plotter.show()"
   ]
  },
  {
   "cell_type": "code",
   "execution_count": 163,
   "id": "5bdc3486",
   "metadata": {},
   "outputs": [],
   "source": [
    "duxdx_norm=(mesh_point[\"dux/dx\"]-min(mesh_point[\"dux/dx\"]))/(max(mesh_point[\"dux/dx\"])-min(mesh_point[\"dux/dx\"]))\n",
    "duydx_norm=(mesh_point[\"duy/dx\"]-min(mesh_point[\"duy/dx\"]))/(max(mesh_point[\"duy/dx\"])-min(mesh_point[\"duy/dx\"]))\n",
    "duzdx_norm=(mesh_point[\"duz/dx\"]-min(mesh_point[\"duz/dx\"]))/(max(mesh_point[\"duz/dx\"])-min(mesh_point[\"duz/dx\"]))\n",
    "duxdy_norm=(mesh_point[\"dux/dy\"]-min(mesh_point[\"dux/dy\"]))/(max(mesh_point[\"dux/dy\"])-min(mesh_point[\"dux/dy\"]))\n",
    "duydy_norm=(mesh_point[\"duy/dy\"]-min(mesh_point[\"duy/dy\"]))/(max(mesh_point[\"duy/dy\"])-min(mesh_point[\"duy/dy\"]))\n",
    "duzdy_norm=(mesh_point[\"duz/dy\"]-min(mesh_point[\"duz/dy\"]))/(max(mesh_point[\"duz/dy\"])-min(mesh_point[\"duz/dy\"]))\n",
    "#duxdz_norm=(mesh_point[\"dux/dz\"]-min(mesh_point[\"dux/dz\"]))/(max(mesh_point[\"dux/dz\"])-min(mesh_point[\"dux/dz\"]))\n",
    "#duydz_norm=(mesh_point[\"duy/dz\"]-min(mesh_point[\"duy/dz\"]))/(max(mesh_point[\"duy/dz\"])-min(mesh_point[\"duy/dz\"]))\n",
    "#duzdz_norm=(mesh_point[\"duz/dz\"]-min(mesh_point[\"duz/dz\"]))/(max(mesh_point[\"duz/dz\"])-min(mesh_point[\"duz/dz\"]))"
   ]
  },
  {
   "cell_type": "code",
   "execution_count": 164,
   "id": "c001e1ba",
   "metadata": {},
   "outputs": [],
   "source": [
    "mesh_point.point_data[\"dux/dx n\"] = duxdx_norm\n",
    "mesh_point.point_data[\"duy/dx n\"] = duydx_norm\n",
    "mesh_point.point_data[\"duz/dx n\"] = duzdx_norm\n",
    "mesh_point.point_data[\"dux/dy n\"] = duxdy_norm\n",
    "mesh_point.point_data[\"duy/dy n\"] = duydy_norm\n",
    "mesh_point.point_data[\"duz/dy n\"] = duzdy_norm\n",
    "#mesh_point.point_data[\"dux/dz n\"] = duxdz_norm\n",
    "#mesh_point.point_data[\"duy/dz n\"] = duydz_norm\n",
    "#mesh_point.point_data[\"duz/dz n\"] = duzdz_norm"
   ]
  },
  {
   "cell_type": "code",
   "execution_count": 165,
   "id": "e8bbafaa",
   "metadata": {},
   "outputs": [
    {
     "data": {
      "text/html": [
       "<table><tr><th>Header</th><th>Data Arrays</th></tr><tr><td>\n",
       "<table>\n",
       "<tr><th>UnstructuredGrid</th><th>Information</th></tr>\n",
       "<tr><td>N Cells</td><td>12225</td></tr>\n",
       "<tr><td>N Points</td><td>25012</td></tr>\n",
       "<tr><td>X Bounds</td><td>-2.060e-02, 2.900e-01</td></tr>\n",
       "<tr><td>Y Bounds</td><td>-2.540e-02, 2.540e-02</td></tr>\n",
       "<tr><td>Z Bounds</td><td>-5.000e-04, 5.000e-04</td></tr>\n",
       "<tr><td>N Arrays</td><td>27</td></tr>\n",
       "</table>\n",
       "\n",
       "</td><td>\n",
       "<table>\n",
       "<tr><th>Name</th><th>Field</th><th>Type</th><th>N Comp</th><th>Min</th><th>Max</th></tr>\n",
       "<tr><td>U</td><td>Points</td><td>float32</td><td>3</td><td>-2.553e+00</td><td>1.018e+01</td></tr>\n",
       "<tr><td>epsilon</td><td>Points</td><td>float32</td><td>1</td><td>1.280e-01</td><td>5.170e+03</td></tr>\n",
       "<tr><td>k</td><td>Points</td><td>float32</td><td>1</td><td>4.465e-04</td><td>5.496e+00</td></tr>\n",
       "<tr><td>nut</td><td>Points</td><td>float32</td><td>1</td><td>1.402e-07</td><td>5.137e-03</td></tr>\n",
       "<tr><td>p</td><td>Points</td><td>float32</td><td>1</td><td>-8.015e+00</td><td>1.454e+01</td></tr>\n",
       "<tr><td>U-normed</td><td>Points</td><td>float32</td><td>1</td><td>2.250e-03</td><td>1.018e+01</td></tr>\n",
       "<tr><td>ux</td><td>Points</td><td>float32</td><td>1</td><td>-2.553e+00</td><td>1.018e+01</td></tr>\n",
       "<tr><td>uy</td><td>Points</td><td>float32</td><td>1</td><td>-9.007e-01</td><td>6.768e-01</td></tr>\n",
       "<tr><td>uz</td><td>Points</td><td>float32</td><td>1</td><td>-2.462e-16</td><td>2.218e-16</td></tr>\n",
       "<tr><td>dU/dx</td><td>Points</td><td>float32</td><td>1</td><td>-2.238e+03</td><td>7.574e+02</td></tr>\n",
       "<tr><td>dU/dy</td><td>Points</td><td>float32</td><td>1</td><td>-3.724e+03</td><td>1.111e+04</td></tr>\n",
       "<tr><td>dU/dz</td><td>Points</td><td>float32</td><td>1</td><td>-7.109e-13</td><td>6.044e-13</td></tr>\n",
       "<tr><td>dux/dx</td><td>Points</td><td>float32</td><td>1</td><td>-2.239e+03</td><td>8.186e+02</td></tr>\n",
       "<tr><td>dux/dy</td><td>Points</td><td>float32</td><td>1</td><td>-3.705e+03</td><td>1.135e+04</td></tr>\n",
       "<tr><td>dux/dz</td><td>Points</td><td>float32</td><td>1</td><td>-7.109e-13</td><td>6.043e-13</td></tr>\n",
       "<tr><td>duy/dx</td><td>Points</td><td>float32</td><td>1</td><td>-2.322e+02</td><td>1.672e+02</td></tr>\n",
       "<tr><td>duy/dy</td><td>Points</td><td>float32</td><td>1</td><td>-7.487e+02</td><td>1.816e+03</td></tr>\n",
       "<tr><td>duy/dz</td><td>Points</td><td>float32</td><td>1</td><td>-1.309e-13</td><td>2.949e-13</td></tr>\n",
       "<tr><td>duz/dx</td><td>Points</td><td>float32</td><td>1</td><td>-9.278e-14</td><td>8.473e-14</td></tr>\n",
       "<tr><td>duz/dy</td><td>Points</td><td>float32</td><td>1</td><td>-7.084e-13</td><td>6.748e-13</td></tr>\n",
       "<tr><td>duz/dz</td><td>Points</td><td>float32</td><td>1</td><td>-9.860e-29</td><td>1.485e-28</td></tr>\n",
       "<tr><td>dux/dx n</td><td>Points</td><td>float32</td><td>1</td><td>0.000e+00</td><td>1.000e+00</td></tr>\n",
       "<tr><td>duy/dx n</td><td>Points</td><td>float32</td><td>1</td><td>0.000e+00</td><td>1.000e+00</td></tr>\n",
       "<tr><td>duz/dx n</td><td>Points</td><td>float32</td><td>1</td><td>0.000e+00</td><td>1.000e+00</td></tr>\n",
       "<tr><td>dux/dy n</td><td>Points</td><td>float32</td><td>1</td><td>0.000e+00</td><td>1.000e+00</td></tr>\n",
       "<tr><td>duy/dy n</td><td>Points</td><td>float32</td><td>1</td><td>0.000e+00</td><td>1.000e+00</td></tr>\n",
       "<tr><td><b>duz/dy n</b></td><td>Points</td><td>float32</td><td>1</td><td>0.000e+00</td><td>1.000e+00</td></tr>\n",
       "</table>\n",
       "\n",
       "</td></tr> </table>"
      ],
      "text/plain": [
       "UnstructuredGrid (0x25dd8c73520)\n",
       "  N Cells:\t12225\n",
       "  N Points:\t25012\n",
       "  X Bounds:\t-2.060e-02, 2.900e-01\n",
       "  Y Bounds:\t-2.540e-02, 2.540e-02\n",
       "  Z Bounds:\t-5.000e-04, 5.000e-04\n",
       "  N Arrays:\t27"
      ]
     },
     "execution_count": 165,
     "metadata": {},
     "output_type": "execute_result"
    }
   ],
   "source": [
    "mesh_point"
   ]
  },
  {
   "cell_type": "code",
   "execution_count": 166,
   "id": "224fac9f",
   "metadata": {},
   "outputs": [
    {
     "data": {
      "application/vnd.jupyter.widget-view+json": {
       "model_id": "d6af148f20db4dccbba863406bae5ffa",
       "version_major": 2,
       "version_minor": 0
      },
      "text/plain": [
       "ViewInteractiveWidget(height=768, layout=Layout(height='auto', width='100%'), width=1024)"
      ]
     },
     "metadata": {},
     "output_type": "display_data"
    }
   ],
   "source": [
    "#plot\n",
    "plotter = pv.Plotter(shape=(3, 3))\n",
    "\n",
    "plotter.subplot(0, 0)\n",
    "plotter.add_text(\"dux/dx n\", font_size=20)\n",
    "plotter.add_mesh(mesh_point,scalars='dux/dx n')\n",
    "plotter.view_xy()\n",
    "plotter.add_axes()\n",
    "\n",
    "plotter.subplot(0, 1)\n",
    "plotter.add_text(\"dux/dy n\", font_size=20)\n",
    "plotter.add_mesh(mesh_point.copy(),scalars=\"dux/dy n\")\n",
    "plotter.view_xy()\n",
    "plotter.add_axes()\n",
    "\n",
    "plotter.subplot(0, 2)\n",
    "plotter.add_text(\"dux/dz n\", font_size=20)\n",
    "plotter.add_mesh(mesh_point.copy(),scalars=\"dux/dz\")\n",
    "plotter.view_xy()\n",
    "plotter.add_axes()\n",
    "\n",
    "plotter.subplot(1, 0)\n",
    "plotter.add_text(\"duy/dx n\", font_size=20)\n",
    "plotter.add_mesh(mesh_point.copy(),scalars=\"duy/dx n\")\n",
    "plotter.view_xy()\n",
    "plotter.add_axes()\n",
    "\n",
    "plotter.subplot(1, 1)\n",
    "plotter.add_text(\"duy/dy n\", font_size=20)\n",
    "plotter.add_mesh(mesh_point.copy(),scalars=\"duy/dy n\")\n",
    "plotter.view_xy()\n",
    "plotter.add_axes()\n",
    "\n",
    "plotter.subplot(1, 2)\n",
    "plotter.add_text(\"duy/dz n\", font_size=20)\n",
    "plotter.add_mesh(mesh_point.copy(),scalars=\"duy/dz\")\n",
    "plotter.view_xy()\n",
    "plotter.add_axes()\n",
    "\n",
    "plotter.subplot(2, 0)\n",
    "plotter.add_text(\"duz/dx n\", font_size=20)\n",
    "plotter.add_mesh(mesh_point.copy(),scalars=\"duz/dx n\")\n",
    "plotter.view_xy()\n",
    "plotter.add_axes()\n",
    "\n",
    "plotter.subplot(2, 1)\n",
    "plotter.add_text(\"duz/dy n\", font_size=20)\n",
    "plotter.add_mesh(mesh_point.copy(),scalars=\"duz/dy n\")\n",
    "plotter.view_xy()\n",
    "plotter.add_axes()\n",
    "\n",
    "plotter.subplot(2, 2)\n",
    "plotter.add_text(\"duz/dz n\", font_size=20)\n",
    "plotter.add_mesh(mesh_point.copy(),scalars=\"duz/dz\")\n",
    "plotter.view_xy()\n",
    "plotter.add_axes()\n",
    "\n",
    "plotter.show()"
   ]
  },
  {
   "cell_type": "markdown",
   "id": "efae81ef",
   "metadata": {},
   "source": [
    "## Wall shear stress"
   ]
  },
  {
   "cell_type": "markdown",
   "id": "04cc1e0b",
   "metadata": {},
   "source": [
    "This part requires an updated version of PyVista."
   ]
  },
  {
   "cell_type": "markdown",
   "id": "aee86477",
   "metadata": {},
   "source": [
    "In the Anaconda prompt, please type \"conda install git\" and execute."
   ]
  },
  {
   "cell_type": "markdown",
   "id": "d8a66bc7",
   "metadata": {},
   "source": [
    "Then, in the cell just below, copy paste and execute this instruction: "
   ]
  },
  {
   "cell_type": "markdown",
   "id": "766b900f",
   "metadata": {},
   "source": [
    "pip install git+https://github.com/pyvista/pyvista.git@refs/pull/1896/head"
   ]
  },
  {
   "cell_type": "markdown",
   "id": "112c35fb",
   "metadata": {},
   "source": [
    "(Be aware of having the administrator rights in both cases)"
   ]
  },
  {
   "cell_type": "code",
   "execution_count": 83,
   "id": "e2cd69e5",
   "metadata": {},
   "outputs": [],
   "source": [
    "# copy paste last instruction here (to do the installation only one time)"
   ]
  },
  {
   "cell_type": "code",
   "execution_count": 169,
   "id": "06563c15",
   "metadata": {},
   "outputs": [
    {
     "data": {
      "text/plain": [
       "pyvista_ndarray([-19793.492 ,  -7672.8223,      0.    ], dtype=float32)"
      ]
     },
     "execution_count": 169,
     "metadata": {},
     "output_type": "execute_result"
    }
   ],
   "source": [
    "pdt_scal=np.dot(lower_wall_point.point_data[\"dux/dy\"],lower_wall_point.point_data[\"Normals\"])\n",
    "lower_wall_point.point_data[\"dux/dy\"].shape\n",
    "pdt_scal"
   ]
  },
  {
   "cell_type": "code",
   "execution_count": 170,
   "id": "92d9965e",
   "metadata": {
    "scrolled": true
   },
   "outputs": [
    {
     "data": {
      "text/html": [
       "<table><tr><th>Header</th><th>Data Arrays</th></tr><tr><td>\n",
       "<table>\n",
       "<tr><th>PolyData</th><th>Information</th></tr>\n",
       "<tr><td>N Cells</td><td>250</td></tr>\n",
       "<tr><td>N Points</td><td>502</td></tr>\n",
       "<tr><td>X Bounds</td><td>-2.060e-02, 2.900e-01</td></tr>\n",
       "<tr><td>Y Bounds</td><td>-2.540e-02, 0.000e+00</td></tr>\n",
       "<tr><td>Z Bounds</td><td>-5.000e-04, 5.000e-04</td></tr>\n",
       "<tr><td>N Arrays</td><td>17</td></tr>\n",
       "</table>\n",
       "\n",
       "</td><td>\n",
       "<table>\n",
       "<tr><th>Name</th><th>Field</th><th>Type</th><th>N Comp</th><th>Min</th><th>Max</th></tr>\n",
       "<tr><td>U</td><td>Points</td><td>float32</td><td>3</td><td>-2.553e+00</td><td>9.852e+00</td></tr>\n",
       "<tr><td>epsilon</td><td>Points</td><td>float32</td><td>1</td><td>1.280e-01</td><td>1.158e+03</td></tr>\n",
       "<tr><td>k</td><td>Points</td><td>float32</td><td>1</td><td>4.465e-04</td><td>8.891e-01</td></tr>\n",
       "<tr><td>nut</td><td>Points</td><td>float32</td><td>1</td><td>0.000e+00</td><td>9.415e-06</td></tr>\n",
       "<tr><td>p</td><td>Points</td><td>float32</td><td>1</td><td>-7.994e+00</td><td>1.243e+01</td></tr>\n",
       "<tr><td>gradient</td><td>Points</td><td>float32</td><td>9</td><td>-2.157e+03</td><td>5.861e+03</td></tr>\n",
       "<tr><td>dux/dx</td><td>Points</td><td>float32</td><td>1</td><td>-2.157e+03</td><td>6.960e+01</td></tr>\n",
       "<tr><td>dux/dy</td><td>Points</td><td>float32</td><td>1</td><td>-1.116e+02</td><td>5.861e+03</td></tr>\n",
       "<tr><td>dux/dz</td><td>Points</td><td>float32</td><td>1</td><td>-2.608e-14</td><td>5.381e-14</td></tr>\n",
       "<tr><td>duy/dx</td><td>Points</td><td>float32</td><td>1</td><td>-3.511e+01</td><td>1.672e+02</td></tr>\n",
       "<tr><td>duy/dy</td><td>Points</td><td>float32</td><td>1</td><td>-5.959e+02</td><td>1.854e+02</td></tr>\n",
       "<tr><td>duy/dz</td><td>Points</td><td>float32</td><td>1</td><td>-2.474e-15</td><td>2.550e-15</td></tr>\n",
       "<tr><td>duz/dx</td><td>Points</td><td>float32</td><td>1</td><td>-4.392e-14</td><td>3.080e-14</td></tr>\n",
       "<tr><td>duz/dy</td><td>Points</td><td>float32</td><td>1</td><td>-4.602e-15</td><td>3.227e-15</td></tr>\n",
       "<tr><td><b>duz/dz</b></td><td>Points</td><td>float32</td><td>1</td><td>-1.457e-29</td><td>5.511e-30</td></tr>\n",
       "<tr><td>Normals</td><td>Points</td><td>float32</td><td>3</td><td>-1.000e+00</td><td>1.042e-01</td></tr>\n",
       "<tr><td>wss</td><td>Fields</td><td>float32</td><td>1</td><td>-3.662e-01</td><td>0.000e+00</td></tr>\n",
       "</table>\n",
       "\n",
       "</td></tr> </table>"
      ],
      "text/plain": [
       "PolyData (0x25d767d2700)\n",
       "  N Cells:\t250\n",
       "  N Points:\t502\n",
       "  X Bounds:\t-2.060e-02, 2.900e-01\n",
       "  Y Bounds:\t-2.540e-02, 0.000e+00\n",
       "  Z Bounds:\t-5.000e-04, 5.000e-04\n",
       "  N Arrays:\t17"
      ]
     },
     "execution_count": 170,
     "metadata": {},
     "output_type": "execute_result"
    }
   ],
   "source": [
    "visc=18.5e-6\n",
    "wss=visc*pdt_scal\n",
    "lower_wall_point.add_field_data(wss, 'wss')\n",
    "lower_wall_point"
   ]
  },
  {
   "cell_type": "code",
   "execution_count": null,
   "id": "16aa2418",
   "metadata": {},
   "outputs": [],
   "source": []
  },
  {
   "cell_type": "code",
   "execution_count": null,
   "id": "afedeb1b",
   "metadata": {},
   "outputs": [],
   "source": []
  }
 ],
 "metadata": {
  "kernelspec": {
   "display_name": "Python 3",
   "language": "python",
   "name": "python3"
  },
  "language_info": {
   "codemirror_mode": {
    "name": "ipython",
    "version": 3
   },
   "file_extension": ".py",
   "mimetype": "text/x-python",
   "name": "python",
   "nbconvert_exporter": "python",
   "pygments_lexer": "ipython3",
   "version": "3.8.8"
  }
 },
 "nbformat": 4,
 "nbformat_minor": 5
}
