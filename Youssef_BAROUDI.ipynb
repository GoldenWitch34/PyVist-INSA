{
 "cells": [
  {
   "cell_type": "markdown",
   "id": "164cd98b",
   "metadata": {},
   "source": [
    "# Experiments"
   ]
  },
  {
   "cell_type": "code",
   "execution_count": 99,
   "id": "59c472c2",
   "metadata": {},
   "outputs": [],
   "source": [
    "import pyvista as pv\n",
    "import numpy as np\n",
    "import matplotlib.pyplot as plt\n",
    "import vtk as vtk"
   ]
  },
  {
   "cell_type": "code",
   "execution_count": 100,
   "id": "def7215a",
   "metadata": {},
   "outputs": [],
   "source": [
    "%matplotlib widget"
   ]
  },
  {
   "cell_type": "markdown",
   "id": "3587de99",
   "metadata": {},
   "source": [
    "# Load the case with `vtkOpenFOAMReader`"
   ]
  },
  {
   "cell_type": "code",
   "execution_count": 101,
   "id": "bad08538",
   "metadata": {},
   "outputs": [],
   "source": [
    "def createTimeList(array): # T the list we want to create and array the vtkDoubleArray containing the time values\n",
    "    T = []\n",
    "    for i in range(0, array.GetMaxId()+1):\n",
    "        T.append(array.GetValue(i))\n",
    "    return T"
   ]
  },
  {
   "cell_type": "code",
   "execution_count": 102,
   "id": "a93770f3",
   "metadata": {},
   "outputs": [
    {
     "name": "stdout",
     "output_type": "stream",
     "text": [
      "vtkDoubleArray (00000287ED6A9880)\n",
      "  Debug: Off\n",
      "  Modified Time: 1761291\n",
      "  Reference Count: 2\n",
      "  Registered Events: (none)\n",
      "  Name: (none)\n",
      "  Data type: double\n",
      "  Size: 3\n",
      "  MaxId: 2\n",
      "  NumberOfComponents: 1\n",
      "  Information: 0000000000000000\n",
      "  Name: (none)\n",
      "  Number Of Components: 1\n",
      "  Number Of Tuples: 3\n",
      "  Size: 3\n",
      "  MaxId: 2\n",
      "  LookupTable: (none)\n",
      "\n",
      "\n"
     ]
    }
   ],
   "source": [
    "reader = vtk.vtkOpenFOAMReader()\n",
    "reader.SetFileName(\"C:/Users/pret/Desktop/INSA HDF 5A/PLP 5A/OpenFOAM_example_case/case.foam\")\n",
    "reader.UpdateInformation()\n",
    "time = reader.GetTimeValues() # All the time values of the simulation in the form of a vtkDoubleArray\n",
    "reader.SetTimeValue(time.GetValue(2)) # Set time value to whichever one we want to visualize \n",
    "reader.Update()\n",
    "multi_block = pv.wrap(reader.GetOutput()) \n",
    "print(time) "
   ]
  },
  {
   "cell_type": "code",
   "execution_count": 103,
   "id": "82f6fc59",
   "metadata": {},
   "outputs": [
    {
     "name": "stdout",
     "output_type": "stream",
     "text": [
      "[0.0, 500.0, 1000.0]\n"
     ]
    }
   ],
   "source": [
    "T = createTimeList(time) # This gives us a list of all the time values\n",
    "print(T)"
   ]
  },
  {
   "cell_type": "code",
   "execution_count": 104,
   "id": "321b960b",
   "metadata": {},
   "outputs": [
    {
     "data": {
      "text/html": [
       "<table><tr><th>Header</th><th>Data Arrays</th></tr><tr><td>\n",
       "<table>\n",
       "<tr><th>UnstructuredGrid</th><th>Information</th></tr>\n",
       "<tr><td>N Cells</td><td>12225</td></tr>\n",
       "<tr><td>N Points</td><td>25012</td></tr>\n",
       "<tr><td>X Bounds</td><td>-2.060e-02, 2.900e-01</td></tr>\n",
       "<tr><td>Y Bounds</td><td>-2.540e-02, 2.540e-02</td></tr>\n",
       "<tr><td>Z Bounds</td><td>-5.000e-04, 5.000e-04</td></tr>\n",
       "<tr><td>N Arrays</td><td>10</td></tr>\n",
       "</table>\n",
       "\n",
       "</td><td>\n",
       "<table>\n",
       "<tr><th>Name</th><th>Field</th><th>Type</th><th>N Comp</th><th>Min</th><th>Max</th></tr>\n",
       "<tr><td>U</td><td>Points</td><td>float32</td><td>3</td><td>-2.553e+00</td><td>1.018e+01</td></tr>\n",
       "<tr><td>epsilon</td><td>Points</td><td>float32</td><td>1</td><td>1.277e-01</td><td>5.175e+03</td></tr>\n",
       "<tr><td>k</td><td>Points</td><td>float32</td><td>1</td><td>4.460e-04</td><td>5.495e+00</td></tr>\n",
       "<tr><td>nut</td><td>Points</td><td>float32</td><td>1</td><td>0.000e+00</td><td>5.136e-03</td></tr>\n",
       "<tr><td><b>p</b></td><td>Points</td><td>float32</td><td>1</td><td>-8.012e+00</td><td>1.453e+01</td></tr>\n",
       "<tr><td>U</td><td>Cells</td><td>float32</td><td>3</td><td>-2.553e+00</td><td>1.018e+01</td></tr>\n",
       "<tr><td>epsilon</td><td>Cells</td><td>float32</td><td>1</td><td>1.277e-01</td><td>5.788e+03</td></tr>\n",
       "<tr><td>k</td><td>Cells</td><td>float32</td><td>1</td><td>4.460e-04</td><td>5.498e+00</td></tr>\n",
       "<tr><td>nut</td><td>Cells</td><td>float32</td><td>1</td><td>1.402e-07</td><td>5.140e-03</td></tr>\n",
       "<tr><td><b>p</b></td><td>Cells</td><td>float32</td><td>1</td><td>-8.014e+00</td><td>1.504e+01</td></tr>\n",
       "</table>\n",
       "\n",
       "</td></tr> </table>"
      ],
      "text/plain": [
       "UnstructuredGrid (0x287edb71280)\n",
       "  N Cells:\t12225\n",
       "  N Points:\t25012\n",
       "  X Bounds:\t-2.060e-02, 2.900e-01\n",
       "  Y Bounds:\t-2.540e-02, 2.540e-02\n",
       "  Z Bounds:\t-5.000e-04, 5.000e-04\n",
       "  N Arrays:\t10"
      ]
     },
     "execution_count": 104,
     "metadata": {},
     "output_type": "execute_result"
    }
   ],
   "source": [
    "mesh = multi_block[0]\n",
    "mesh"
   ]
  },
  {
   "cell_type": "markdown",
   "id": "91482dcb",
   "metadata": {},
   "source": [
    "We can notice that we have the same fields twice. \n",
    "Each field is stored as both point data and cell data, this means that we have 10 N arrays instead of 5."
   ]
  },
  {
   "cell_type": "markdown",
   "id": "b8e6d330",
   "metadata": {},
   "source": [
    "Let's create two datasets: one that only contains the cell data and one that only contains the point data."
   ]
  },
  {
   "cell_type": "code",
   "execution_count": 105,
   "id": "03d15bfd",
   "metadata": {},
   "outputs": [
    {
     "data": {
      "text/html": [
       "<table><tr><th>Header</th><th>Data Arrays</th></tr><tr><td>\n",
       "<table>\n",
       "<tr><th>UnstructuredGrid</th><th>Information</th></tr>\n",
       "<tr><td>N Cells</td><td>12225</td></tr>\n",
       "<tr><td>N Points</td><td>25012</td></tr>\n",
       "<tr><td>X Bounds</td><td>-2.060e-02, 2.900e-01</td></tr>\n",
       "<tr><td>Y Bounds</td><td>-2.540e-02, 2.540e-02</td></tr>\n",
       "<tr><td>Z Bounds</td><td>-5.000e-04, 5.000e-04</td></tr>\n",
       "<tr><td>N Arrays</td><td>5</td></tr>\n",
       "</table>\n",
       "\n",
       "</td><td>\n",
       "<table>\n",
       "<tr><th>Name</th><th>Field</th><th>Type</th><th>N Comp</th><th>Min</th><th>Max</th></tr>\n",
       "<tr><td>U</td><td>Cells</td><td>float32</td><td>3</td><td>-2.553e+00</td><td>1.018e+01</td></tr>\n",
       "<tr><td>epsilon</td><td>Cells</td><td>float32</td><td>1</td><td>1.277e-01</td><td>5.788e+03</td></tr>\n",
       "<tr><td>k</td><td>Cells</td><td>float32</td><td>1</td><td>4.460e-04</td><td>5.498e+00</td></tr>\n",
       "<tr><td>nut</td><td>Cells</td><td>float32</td><td>1</td><td>1.402e-07</td><td>5.140e-03</td></tr>\n",
       "<tr><td><b>p</b></td><td>Cells</td><td>float32</td><td>1</td><td>-8.014e+00</td><td>1.504e+01</td></tr>\n",
       "</table>\n",
       "\n",
       "</td></tr> </table>"
      ],
      "text/plain": [
       "UnstructuredGrid (0x287edb719a0)\n",
       "  N Cells:\t12225\n",
       "  N Points:\t25012\n",
       "  X Bounds:\t-2.060e-02, 2.900e-01\n",
       "  Y Bounds:\t-2.540e-02, 2.540e-02\n",
       "  Z Bounds:\t-5.000e-04, 5.000e-04\n",
       "  N Arrays:\t5"
      ]
     },
     "execution_count": 105,
     "metadata": {},
     "output_type": "execute_result"
    }
   ],
   "source": [
    "# This dataset will only contain cell data\n",
    "multi_block = pv.wrap(reader.GetOutput()) \n",
    "mesh_cell = multi_block[0]\n",
    "mesh_cell.clear_point_data()\n",
    "mesh_cell"
   ]
  },
  {
   "cell_type": "code",
   "execution_count": 106,
   "id": "347b8cfb",
   "metadata": {},
   "outputs": [
    {
     "data": {
      "text/html": [
       "<table><tr><th>Header</th><th>Data Arrays</th></tr><tr><td>\n",
       "<table>\n",
       "<tr><th>UnstructuredGrid</th><th>Information</th></tr>\n",
       "<tr><td>N Cells</td><td>12225</td></tr>\n",
       "<tr><td>N Points</td><td>25012</td></tr>\n",
       "<tr><td>X Bounds</td><td>-2.060e-02, 2.900e-01</td></tr>\n",
       "<tr><td>Y Bounds</td><td>-2.540e-02, 2.540e-02</td></tr>\n",
       "<tr><td>Z Bounds</td><td>-5.000e-04, 5.000e-04</td></tr>\n",
       "<tr><td>N Arrays</td><td>5</td></tr>\n",
       "</table>\n",
       "\n",
       "</td><td>\n",
       "<table>\n",
       "<tr><th>Name</th><th>Field</th><th>Type</th><th>N Comp</th><th>Min</th><th>Max</th></tr>\n",
       "<tr><td>U</td><td>Points</td><td>float32</td><td>3</td><td>-2.553e+00</td><td>1.018e+01</td></tr>\n",
       "<tr><td>epsilon</td><td>Points</td><td>float32</td><td>1</td><td>1.277e-01</td><td>5.175e+03</td></tr>\n",
       "<tr><td>k</td><td>Points</td><td>float32</td><td>1</td><td>4.460e-04</td><td>5.495e+00</td></tr>\n",
       "<tr><td>nut</td><td>Points</td><td>float32</td><td>1</td><td>0.000e+00</td><td>5.136e-03</td></tr>\n",
       "<tr><td><b>p</b></td><td>Points</td><td>float32</td><td>1</td><td>-8.012e+00</td><td>1.453e+01</td></tr>\n",
       "</table>\n",
       "\n",
       "</td></tr> </table>"
      ],
      "text/plain": [
       "UnstructuredGrid (0x287edb696a0)\n",
       "  N Cells:\t12225\n",
       "  N Points:\t25012\n",
       "  X Bounds:\t-2.060e-02, 2.900e-01\n",
       "  Y Bounds:\t-2.540e-02, 2.540e-02\n",
       "  Z Bounds:\t-5.000e-04, 5.000e-04\n",
       "  N Arrays:\t5"
      ]
     },
     "execution_count": 106,
     "metadata": {},
     "output_type": "execute_result"
    }
   ],
   "source": [
    "# This dataset will only contain point data\n",
    "multi_block = pv.wrap(reader.GetOutput()) \n",
    "mesh_point = multi_block[0]\n",
    "mesh_point.clear_cell_data()\n",
    "mesh_point"
   ]
  },
  {
   "cell_type": "code",
   "execution_count": 5,
   "id": "8b63e020",
   "metadata": {},
   "outputs": [],
   "source": [
    "# n = reader.GetNumberOfPatchArrays()\n",
    "# reader.SetPatchArrayStatus(reader.GetPatchArrayName(0), 1) # 0 for disabled, 1 for enabled "
   ]
  },
  {
   "cell_type": "markdown",
   "id": "81daecef",
   "metadata": {},
   "source": [
    "## Show the mesh "
   ]
  },
  {
   "cell_type": "code",
   "execution_count": 107,
   "id": "0edf9bbe",
   "metadata": {},
   "outputs": [
    {
     "data": {
      "application/vnd.jupyter.widget-view+json": {
       "model_id": "ea8127739dd74d65ba7dc216f5c01fe0",
       "version_major": 2,
       "version_minor": 0
      },
      "text/plain": [
       "ViewInteractiveWidget(height=768, layout=Layout(height='auto', width='100%'), width=1024)"
      ]
     },
     "metadata": {},
     "output_type": "display_data"
    }
   ],
   "source": [
    "# Create a plotting object to display vtk meshes or numpy arrays\n",
    "p = pv.Plotter()\n",
    "# Show the mesh in wireframe style\n",
    "p.add_mesh(mesh, style=\"wireframe\", color=\"w\")\n",
    "# View in the xy plane\n",
    "p.view_xy()\n",
    "# Show the axes\n",
    "p.add_axes()\n",
    "# Display the plotting window\n",
    "p.show()"
   ]
  },
  {
   "cell_type": "markdown",
   "id": "40de9086",
   "metadata": {},
   "source": [
    "## Plot the domain with a scalar field\n"
   ]
  },
  {
   "cell_type": "code",
   "execution_count": 108,
   "id": "bee96a41",
   "metadata": {},
   "outputs": [
    {
     "data": {
      "application/vnd.jupyter.widget-view+json": {
       "model_id": "1806c92d63dd411bbf8b54a5774aae83",
       "version_major": 2,
       "version_minor": 0
      },
      "text/plain": [
       "ViewInteractiveWidget(height=768, layout=Layout(height='auto', width='100%'), width=1024)"
      ]
     },
     "metadata": {},
     "output_type": "display_data"
    }
   ],
   "source": [
    "# Plot the domain based on the cell data\n",
    "p = pv.Plotter()\n",
    "p.add_mesh(mesh_cell, scalars='U')\n",
    "p.view_xy()\n",
    "p.add_axes()\n",
    "p.show()"
   ]
  },
  {
   "cell_type": "code",
   "execution_count": 109,
   "id": "058d1d8a",
   "metadata": {},
   "outputs": [
    {
     "data": {
      "text/html": [
       "<table><tr><th>Header</th><th>Data Arrays</th></tr><tr><td>\n",
       "<table>\n",
       "<tr><th>UnstructuredGrid</th><th>Information</th></tr>\n",
       "<tr><td>N Cells</td><td>12225</td></tr>\n",
       "<tr><td>N Points</td><td>25012</td></tr>\n",
       "<tr><td>X Bounds</td><td>-2.060e-02, 2.900e-01</td></tr>\n",
       "<tr><td>Y Bounds</td><td>-2.540e-02, 2.540e-02</td></tr>\n",
       "<tr><td>Z Bounds</td><td>-5.000e-04, 5.000e-04</td></tr>\n",
       "<tr><td>N Arrays</td><td>6</td></tr>\n",
       "</table>\n",
       "\n",
       "</td><td>\n",
       "<table>\n",
       "<tr><th>Name</th><th>Field</th><th>Type</th><th>N Comp</th><th>Min</th><th>Max</th></tr>\n",
       "<tr><td>U</td><td>Cells</td><td>float32</td><td>3</td><td>-2.553e+00</td><td>1.018e+01</td></tr>\n",
       "<tr><td>epsilon</td><td>Cells</td><td>float32</td><td>1</td><td>1.277e-01</td><td>5.788e+03</td></tr>\n",
       "<tr><td>k</td><td>Cells</td><td>float32</td><td>1</td><td>4.460e-04</td><td>5.498e+00</td></tr>\n",
       "<tr><td>nut</td><td>Cells</td><td>float32</td><td>1</td><td>1.402e-07</td><td>5.140e-03</td></tr>\n",
       "<tr><td>p</td><td>Cells</td><td>float32</td><td>1</td><td>-8.014e+00</td><td>1.504e+01</td></tr>\n",
       "<tr><td><b>U-normed</b></td><td>Cells</td><td>float32</td><td>1</td><td>5.320e-03</td><td>1.018e+01</td></tr>\n",
       "</table>\n",
       "\n",
       "</td></tr> </table>"
      ],
      "text/plain": [
       "UnstructuredGrid (0x287edb719a0)\n",
       "  N Cells:\t12225\n",
       "  N Points:\t25012\n",
       "  X Bounds:\t-2.060e-02, 2.900e-01\n",
       "  Y Bounds:\t-2.540e-02, 2.540e-02\n",
       "  Z Bounds:\t-5.000e-04, 5.000e-04\n",
       "  N Arrays:\t6"
      ]
     },
     "execution_count": 109,
     "metadata": {},
     "output_type": "execute_result"
    }
   ],
   "source": [
    "mesh_cell"
   ]
  },
  {
   "cell_type": "code",
   "execution_count": 110,
   "id": "8a7deb8e",
   "metadata": {},
   "outputs": [
    {
     "data": {
      "application/vnd.jupyter.widget-view+json": {
       "model_id": "3ff7e5784760421a840900b755a2b56b",
       "version_major": 2,
       "version_minor": 0
      },
      "text/plain": [
       "ViewInteractiveWidget(height=768, layout=Layout(height='auto', width='100%'), width=1024)"
      ]
     },
     "metadata": {},
     "output_type": "display_data"
    }
   ],
   "source": [
    "# Plot the domain based on the point data\n",
    "p = pv.Plotter()\n",
    "p.add_mesh(mesh_point, scalars='U')\n",
    "p.view_xy()\n",
    "p.add_axes()\n",
    "p.show()"
   ]
  },
  {
   "cell_type": "code",
   "execution_count": 111,
   "id": "59e0957b",
   "metadata": {},
   "outputs": [
    {
     "data": {
      "text/html": [
       "<table><tr><th>Header</th><th>Data Arrays</th></tr><tr><td>\n",
       "<table>\n",
       "<tr><th>UnstructuredGrid</th><th>Information</th></tr>\n",
       "<tr><td>N Cells</td><td>12225</td></tr>\n",
       "<tr><td>N Points</td><td>25012</td></tr>\n",
       "<tr><td>X Bounds</td><td>-2.060e-02, 2.900e-01</td></tr>\n",
       "<tr><td>Y Bounds</td><td>-2.540e-02, 2.540e-02</td></tr>\n",
       "<tr><td>Z Bounds</td><td>-5.000e-04, 5.000e-04</td></tr>\n",
       "<tr><td>N Arrays</td><td>6</td></tr>\n",
       "</table>\n",
       "\n",
       "</td><td>\n",
       "<table>\n",
       "<tr><th>Name</th><th>Field</th><th>Type</th><th>N Comp</th><th>Min</th><th>Max</th></tr>\n",
       "<tr><td>U</td><td>Points</td><td>float32</td><td>3</td><td>-2.553e+00</td><td>1.018e+01</td></tr>\n",
       "<tr><td>epsilon</td><td>Points</td><td>float32</td><td>1</td><td>1.277e-01</td><td>5.175e+03</td></tr>\n",
       "<tr><td>k</td><td>Points</td><td>float32</td><td>1</td><td>4.460e-04</td><td>5.495e+00</td></tr>\n",
       "<tr><td>nut</td><td>Points</td><td>float32</td><td>1</td><td>0.000e+00</td><td>5.136e-03</td></tr>\n",
       "<tr><td>p</td><td>Points</td><td>float32</td><td>1</td><td>-8.012e+00</td><td>1.453e+01</td></tr>\n",
       "<tr><td><b>U-normed</b></td><td>Points</td><td>float32</td><td>1</td><td>2.528e-03</td><td>1.018e+01</td></tr>\n",
       "</table>\n",
       "\n",
       "</td></tr> </table>"
      ],
      "text/plain": [
       "UnstructuredGrid (0x287edb696a0)\n",
       "  N Cells:\t12225\n",
       "  N Points:\t25012\n",
       "  X Bounds:\t-2.060e-02, 2.900e-01\n",
       "  Y Bounds:\t-2.540e-02, 2.540e-02\n",
       "  Z Bounds:\t-5.000e-04, 5.000e-04\n",
       "  N Arrays:\t6"
      ]
     },
     "execution_count": 111,
     "metadata": {},
     "output_type": "execute_result"
    }
   ],
   "source": [
    "mesh_point"
   ]
  },
  {
   "cell_type": "markdown",
   "id": "cb7cf3fa",
   "metadata": {},
   "source": [
    "### How to access the vector components"
   ]
  },
  {
   "cell_type": "code",
   "execution_count": 112,
   "id": "11ca8807",
   "metadata": {},
   "outputs": [
    {
     "data": {
      "text/plain": [
       "pyvista DataSetAttributes\n",
       "Association     : CELL\n",
       "Active Scalars  : U-normed\n",
       "Active Vectors  : U\n",
       "Active Texture  : None\n",
       "Active Normals  : None\n",
       "Contains arrays :\n",
       "    U                       float32  (12225, 3)           VECTORS\n",
       "    epsilon                 float32  (12225,)\n",
       "    k                       float32  (12225,)\n",
       "    nut                     float32  (12225,)\n",
       "    p                       float32  (12225,)\n",
       "    U-normed                float32  (12225,)             SCALARS"
      ]
     },
     "execution_count": 112,
     "metadata": {},
     "output_type": "execute_result"
    }
   ],
   "source": [
    "mesh_cell.cell_data"
   ]
  },
  {
   "cell_type": "code",
   "execution_count": 113,
   "id": "674c3677",
   "metadata": {},
   "outputs": [
    {
     "data": {
      "text/html": [
       "<table><tr><th>Header</th><th>Data Arrays</th></tr><tr><td>\n",
       "<table>\n",
       "<tr><th>UnstructuredGrid</th><th>Information</th></tr>\n",
       "<tr><td>N Cells</td><td>12225</td></tr>\n",
       "<tr><td>N Points</td><td>25012</td></tr>\n",
       "<tr><td>X Bounds</td><td>-2.060e-02, 2.900e-01</td></tr>\n",
       "<tr><td>Y Bounds</td><td>-2.540e-02, 2.540e-02</td></tr>\n",
       "<tr><td>Z Bounds</td><td>-5.000e-04, 5.000e-04</td></tr>\n",
       "<tr><td>N Arrays</td><td>9</td></tr>\n",
       "</table>\n",
       "\n",
       "</td><td>\n",
       "<table>\n",
       "<tr><th>Name</th><th>Field</th><th>Type</th><th>N Comp</th><th>Min</th><th>Max</th></tr>\n",
       "<tr><td>U</td><td>Cells</td><td>float32</td><td>3</td><td>-2.553e+00</td><td>1.018e+01</td></tr>\n",
       "<tr><td>epsilon</td><td>Cells</td><td>float32</td><td>1</td><td>1.277e-01</td><td>5.788e+03</td></tr>\n",
       "<tr><td>k</td><td>Cells</td><td>float32</td><td>1</td><td>4.460e-04</td><td>5.498e+00</td></tr>\n",
       "<tr><td>nut</td><td>Cells</td><td>float32</td><td>1</td><td>1.402e-07</td><td>5.140e-03</td></tr>\n",
       "<tr><td>p</td><td>Cells</td><td>float32</td><td>1</td><td>-8.014e+00</td><td>1.504e+01</td></tr>\n",
       "<tr><td>U-normed</td><td>Cells</td><td>float32</td><td>1</td><td>5.320e-03</td><td>1.018e+01</td></tr>\n",
       "<tr><td>ux</td><td>Cells</td><td>float32</td><td>1</td><td>-2.553e+00</td><td>1.018e+01</td></tr>\n",
       "<tr><td>uy</td><td>Cells</td><td>float32</td><td>1</td><td>-9.007e-01</td><td>7.526e-01</td></tr>\n",
       "<tr><td><b>uz</b></td><td>Cells</td><td>float32</td><td>1</td><td>-3.396e-16</td><td>2.769e-16</td></tr>\n",
       "</table>\n",
       "\n",
       "</td></tr> </table>"
      ],
      "text/plain": [
       "UnstructuredGrid (0x287edb719a0)\n",
       "  N Cells:\t12225\n",
       "  N Points:\t25012\n",
       "  X Bounds:\t-2.060e-02, 2.900e-01\n",
       "  Y Bounds:\t-2.540e-02, 2.540e-02\n",
       "  Z Bounds:\t-5.000e-04, 5.000e-04\n",
       "  N Arrays:\t9"
      ]
     },
     "execution_count": 113,
     "metadata": {},
     "output_type": "execute_result"
    }
   ],
   "source": [
    "ux = mesh_cell['U'][:,0]\n",
    "uy = mesh_cell['U'][:,1]\n",
    "uz = mesh_cell['U'][:,2]\n",
    "\n",
    "mesh_cell.cell_data[\"ux\"] = ux\n",
    "mesh_cell.cell_data[\"uy\"] = uy\n",
    "mesh_cell.cell_data[\"uz\"] = uz\n",
    "\n",
    "mesh_cell"
   ]
  },
  {
   "cell_type": "code",
   "execution_count": 114,
   "id": "54ea13a6",
   "metadata": {},
   "outputs": [
    {
     "data": {
      "text/plain": [
       "pyvista DataSetAttributes\n",
       "Association     : POINT\n",
       "Active Scalars  : U-normed\n",
       "Active Vectors  : U\n",
       "Active Texture  : None\n",
       "Active Normals  : None\n",
       "Contains arrays :\n",
       "    U                       float32  (25012, 3)           VECTORS\n",
       "    epsilon                 float32  (25012,)\n",
       "    k                       float32  (25012,)\n",
       "    nut                     float32  (25012,)\n",
       "    p                       float32  (25012,)\n",
       "    U-normed                float32  (25012,)             SCALARS"
      ]
     },
     "execution_count": 114,
     "metadata": {},
     "output_type": "execute_result"
    }
   ],
   "source": [
    "mesh_point.point_data"
   ]
  },
  {
   "cell_type": "code",
   "execution_count": 115,
   "id": "11b7708b",
   "metadata": {},
   "outputs": [
    {
     "data": {
      "text/html": [
       "<table><tr><th>Header</th><th>Data Arrays</th></tr><tr><td>\n",
       "<table>\n",
       "<tr><th>UnstructuredGrid</th><th>Information</th></tr>\n",
       "<tr><td>N Cells</td><td>12225</td></tr>\n",
       "<tr><td>N Points</td><td>25012</td></tr>\n",
       "<tr><td>X Bounds</td><td>-2.060e-02, 2.900e-01</td></tr>\n",
       "<tr><td>Y Bounds</td><td>-2.540e-02, 2.540e-02</td></tr>\n",
       "<tr><td>Z Bounds</td><td>-5.000e-04, 5.000e-04</td></tr>\n",
       "<tr><td>N Arrays</td><td>9</td></tr>\n",
       "</table>\n",
       "\n",
       "</td><td>\n",
       "<table>\n",
       "<tr><th>Name</th><th>Field</th><th>Type</th><th>N Comp</th><th>Min</th><th>Max</th></tr>\n",
       "<tr><td>U</td><td>Points</td><td>float32</td><td>3</td><td>-2.553e+00</td><td>1.018e+01</td></tr>\n",
       "<tr><td>epsilon</td><td>Points</td><td>float32</td><td>1</td><td>1.277e-01</td><td>5.175e+03</td></tr>\n",
       "<tr><td>k</td><td>Points</td><td>float32</td><td>1</td><td>4.460e-04</td><td>5.495e+00</td></tr>\n",
       "<tr><td>nut</td><td>Points</td><td>float32</td><td>1</td><td>0.000e+00</td><td>5.136e-03</td></tr>\n",
       "<tr><td>p</td><td>Points</td><td>float32</td><td>1</td><td>-8.012e+00</td><td>1.453e+01</td></tr>\n",
       "<tr><td>U-normed</td><td>Points</td><td>float32</td><td>1</td><td>2.528e-03</td><td>1.018e+01</td></tr>\n",
       "<tr><td>ux</td><td>Points</td><td>float32</td><td>1</td><td>-2.553e+00</td><td>1.018e+01</td></tr>\n",
       "<tr><td>uy</td><td>Points</td><td>float32</td><td>1</td><td>-8.254e-01</td><td>6.753e-01</td></tr>\n",
       "<tr><td><b>uz</b></td><td>Points</td><td>float32</td><td>1</td><td>-2.461e-16</td><td>2.216e-16</td></tr>\n",
       "</table>\n",
       "\n",
       "</td></tr> </table>"
      ],
      "text/plain": [
       "UnstructuredGrid (0x287edb696a0)\n",
       "  N Cells:\t12225\n",
       "  N Points:\t25012\n",
       "  X Bounds:\t-2.060e-02, 2.900e-01\n",
       "  Y Bounds:\t-2.540e-02, 2.540e-02\n",
       "  Z Bounds:\t-5.000e-04, 5.000e-04\n",
       "  N Arrays:\t9"
      ]
     },
     "execution_count": 115,
     "metadata": {},
     "output_type": "execute_result"
    }
   ],
   "source": [
    "ux = mesh_point['U'][:,0]\n",
    "uy = mesh_point['U'][:,1]\n",
    "uz = mesh_point['U'][:,2]\n",
    "\n",
    "mesh_point.point_data[\"ux\"] = ux\n",
    "mesh_point.point_data[\"uy\"] = uy\n",
    "mesh_point.point_data[\"uz\"] = uz\n",
    "\n",
    "mesh_point"
   ]
  },
  {
   "cell_type": "markdown",
   "id": "e5fe5669",
   "metadata": {},
   "source": [
    "## Let's plot the streamlines"
   ]
  },
  {
   "cell_type": "code",
   "execution_count": 116,
   "id": "cec079ec",
   "metadata": {},
   "outputs": [],
   "source": [
    "X_center = (mesh.bounds[0]+mesh.bounds[1])/2\n",
    "Y_center = (mesh.bounds[2]+mesh.bounds[3])/2\n",
    "Z_center = (mesh.bounds[4]+mesh.bounds[5])/2\n",
    "centers = [X_center, Y_center, Z_center] \n",
    "\n",
    "\n",
    "face = mesh.slice(normal='x') # \"normal\" should be set as the direction of the flow\n",
    "slices = mesh.slice_along_axis(n=8, axis=\"x\") # axis is the axis of the flow\n",
    "faces = slices.combine() # converts Multiblock into UnstructuredGrid \n",
    "\n",
    "str1 = mesh.streamlines_from_source(faces, vectors='U') # streamlines using multiple surfaces\n",
    "str2 = mesh.streamlines_from_source(face, vectors='U') # streamlines using a singular surface\n",
    "# both require a dataset for the surface\n",
    "\n",
    "str3 = mesh.streamlines( \n",
    "n_points=100,\n",
    "vectors='U',\n",
    "pointa=(mesh.bounds[0], mesh.bounds[2], centers[2]),\n",
    "pointb=(mesh.bounds[0], mesh.bounds[3], centers[2])\n",
    ")  # Streamlines using a line"
   ]
  },
  {
   "cell_type": "markdown",
   "id": "c12a523b",
   "metadata": {},
   "source": [
    "We'll compare between the streamlines obtained from one singular surface (str1) and those obtained using a higher number of equidistant parallel surfaces (str2). \n",
    "The most accurate of the two cases is the one that resembles what we obtain with ParaView the most."
   ]
  },
  {
   "cell_type": "code",
   "execution_count": 117,
   "id": "6a4ba36f",
   "metadata": {},
   "outputs": [
    {
     "data": {
      "application/vnd.jupyter.widget-view+json": {
       "model_id": "73e5da6ce371489da1735f81893294b2",
       "version_major": 2,
       "version_minor": 0
      },
      "text/plain": [
       "ViewInteractiveWidget(height=768, layout=Layout(height='auto', width='100%'), width=1024)"
      ]
     },
     "metadata": {},
     "output_type": "display_data"
    }
   ],
   "source": [
    "# Streamlines obtained from a higher number of equidistant parallel surfaces\n",
    "p = pv.Plotter()\n",
    "p.add_mesh(mesh, color=\"w\")\n",
    "p.add_mesh(str1.tube(radius=0.0004))\n",
    "# View in the xy plane\n",
    "p.view_xy()\n",
    "# Show the axes\n",
    "p.add_axes()\n",
    "# Display the plotting window\n",
    "p.show()"
   ]
  },
  {
   "cell_type": "code",
   "execution_count": 118,
   "id": "5611dd07",
   "metadata": {},
   "outputs": [
    {
     "data": {
      "application/vnd.jupyter.widget-view+json": {
       "model_id": "fd3acc063f8b41e98608be668502d1e4",
       "version_major": 2,
       "version_minor": 0
      },
      "text/plain": [
       "ViewInteractiveWidget(height=768, layout=Layout(height='auto', width='100%'), width=1024)"
      ]
     },
     "metadata": {},
     "output_type": "display_data"
    }
   ],
   "source": [
    "# Streamlines obtained from one singular surface\n",
    "p = pv.Plotter()\n",
    "p.add_mesh(mesh, color=\"w\")\n",
    "p.add_mesh(str2.tube(radius=0.0004))\n",
    "# View in the xy plane\n",
    "p.view_xy()\n",
    "# Show the axes\n",
    "p.add_axes()\n",
    "# Display the plotting window\n",
    "p.show()"
   ]
  },
  {
   "cell_type": "markdown",
   "id": "c1c28ac4",
   "metadata": {},
   "source": [
    "## Let's determine the friction velocity"
   ]
  },
  {
   "cell_type": "code",
   "execution_count": 9,
   "id": "c5f6216c",
   "metadata": {},
   "outputs": [
    {
     "data": {
      "application/vnd.jupyter.widget-view+json": {
       "model_id": "674faefbb08a45c58bb78017467e96e7",
       "version_major": 2,
       "version_minor": 0
      },
      "text/plain": [
       "ViewInteractiveWidget(height=768, layout=Layout(height='auto', width='100%'), width=1024)"
      ]
     },
     "metadata": {},
     "output_type": "display_data"
    }
   ],
   "source": [
    "wall = mesh.slice(normal='y', origin=(X_center, mesh.bounds[3], 0))\n",
    "wall2 = mesh.slice(normal='-y', origin=(X_center, mesh.bounds[2], 0))\n",
    "wall3 = mesh.slice(normal='-y', origin=(X_center, 0, 0))\n",
    "p = pv.Plotter()\n",
    "p.add_mesh(wall)\n",
    "p.add_mesh(wall2)\n",
    "p.add_mesh(wall3)\n",
    "p.view_xy()\n",
    "p.add_axes()\n",
    "p.show()"
   ]
  },
  {
   "cell_type": "code",
   "execution_count": 119,
   "id": "f4e4a87d",
   "metadata": {},
   "outputs": [],
   "source": [
    "def gradients_to_dict(arr):\n",
    "    keys = np.array([\"dux/dx\", \"dux/dy\", \"dux/dz\", \"duy/dx\", \"duy/dy\", \"duy/dz\", \"duz/dx\", \"duz/dy\", \"duz/dz\"])\n",
    "    keys = keys.reshape((3,3))[:,:arr.shape[1]].ravel()\n",
    "    return dict(zip(keys, arr.T))\n",
    "\n",
    "def gradients_to_dict2(arr):\n",
    "    keys = np.array([\"dU/dx\", \"dU/dy\", \"dU/dz\"])\n",
    "    keys = keys.reshape((3,1))[:,:arr.shape[1]].ravel()\n",
    "    return dict(zip(keys, arr.T))"
   ]
  },
  {
   "cell_type": "code",
   "execution_count": 120,
   "id": "c29d1b5d",
   "metadata": {},
   "outputs": [
    {
     "data": {
      "text/html": [
       "<table><tr><th>Header</th><th>Data Arrays</th></tr><tr><td>\n",
       "<table>\n",
       "<tr><th>UnstructuredGrid</th><th>Information</th></tr>\n",
       "<tr><td>N Cells</td><td>12225</td></tr>\n",
       "<tr><td>N Points</td><td>25012</td></tr>\n",
       "<tr><td>X Bounds</td><td>-2.060e-02, 2.900e-01</td></tr>\n",
       "<tr><td>Y Bounds</td><td>-2.540e-02, 2.540e-02</td></tr>\n",
       "<tr><td>Z Bounds</td><td>-5.000e-04, 5.000e-04</td></tr>\n",
       "<tr><td>N Arrays</td><td>21</td></tr>\n",
       "</table>\n",
       "\n",
       "</td><td>\n",
       "<table>\n",
       "<tr><th>Name</th><th>Field</th><th>Type</th><th>N Comp</th><th>Min</th><th>Max</th></tr>\n",
       "<tr><td>U</td><td>Cells</td><td>float32</td><td>3</td><td>-2.553e+00</td><td>1.018e+01</td></tr>\n",
       "<tr><td>epsilon</td><td>Cells</td><td>float32</td><td>1</td><td>1.277e-01</td><td>5.788e+03</td></tr>\n",
       "<tr><td>k</td><td>Cells</td><td>float32</td><td>1</td><td>4.460e-04</td><td>5.498e+00</td></tr>\n",
       "<tr><td>nut</td><td>Cells</td><td>float32</td><td>1</td><td>1.402e-07</td><td>5.140e-03</td></tr>\n",
       "<tr><td>p</td><td>Cells</td><td>float32</td><td>1</td><td>-8.014e+00</td><td>1.504e+01</td></tr>\n",
       "<tr><td>U-normed</td><td>Cells</td><td>float32</td><td>1</td><td>5.320e-03</td><td>1.018e+01</td></tr>\n",
       "<tr><td>ux</td><td>Cells</td><td>float32</td><td>1</td><td>-2.553e+00</td><td>1.018e+01</td></tr>\n",
       "<tr><td>uy</td><td>Cells</td><td>float32</td><td>1</td><td>-9.007e-01</td><td>7.526e-01</td></tr>\n",
       "<tr><td>uz</td><td>Cells</td><td>float32</td><td>1</td><td>-3.396e-16</td><td>2.769e-16</td></tr>\n",
       "<tr><td>dU/dx</td><td>Cells</td><td>float32</td><td>1</td><td>-1.452e+03</td><td>4.706e+02</td></tr>\n",
       "<tr><td>dU/dy</td><td>Cells</td><td>float32</td><td>1</td><td>-4.161e+03</td><td>1.187e+04</td></tr>\n",
       "<tr><td>dU/dz</td><td>Cells</td><td>float32</td><td>1</td><td>-0.000e+00</td><td>-0.000e+00</td></tr>\n",
       "<tr><td>dux/dx</td><td>Cells</td><td>float32</td><td>1</td><td>-1.469e+03</td><td>6.284e+02</td></tr>\n",
       "<tr><td>dux/dy</td><td>Cells</td><td>float32</td><td>1</td><td>-4.141e+03</td><td>1.191e+04</td></tr>\n",
       "<tr><td>dux/dz</td><td>Cells</td><td>float32</td><td>1</td><td>-0.000e+00</td><td>-0.000e+00</td></tr>\n",
       "<tr><td>duy/dx</td><td>Cells</td><td>float32</td><td>1</td><td>-2.269e+02</td><td>1.228e+02</td></tr>\n",
       "<tr><td>duy/dy</td><td>Cells</td><td>float32</td><td>1</td><td>-1.107e+03</td><td>1.797e+03</td></tr>\n",
       "<tr><td>duy/dz</td><td>Cells</td><td>float32</td><td>1</td><td>0.000e+00</td><td>0.000e+00</td></tr>\n",
       "<tr><td>duz/dx</td><td>Cells</td><td>float32</td><td>1</td><td>-7.221e-14</td><td>7.256e-14</td></tr>\n",
       "<tr><td>duz/dy</td><td>Cells</td><td>float32</td><td>1</td><td>-5.777e-13</td><td>6.588e-13</td></tr>\n",
       "<tr><td><b>duz/dz</b></td><td>Cells</td><td>float32</td><td>1</td><td>-0.000e+00</td><td>-0.000e+00</td></tr>\n",
       "</table>\n",
       "\n",
       "</td></tr> </table>"
      ],
      "text/plain": [
       "UnstructuredGrid (0x287edb719a0)\n",
       "  N Cells:\t12225\n",
       "  N Points:\t25012\n",
       "  X Bounds:\t-2.060e-02, 2.900e-01\n",
       "  Y Bounds:\t-2.540e-02, 2.540e-02\n",
       "  Z Bounds:\t-5.000e-04, 5.000e-04\n",
       "  N Arrays:\t21"
      ]
     },
     "execution_count": 120,
     "metadata": {},
     "output_type": "execute_result"
    }
   ],
   "source": [
    "# deriv will contain the data from the gradient of U (9 components)\n",
    "deriv_cell = mesh_cell.compute_derivative(scalars=\"U\")\n",
    "# deriv2 will contain the data from the gradient of U-normed (3 components)\n",
    "deriv2_cell = mesh_cell.compute_derivative(scalars=\"U-normed\")\n",
    "\n",
    "grad_cell = gradients_to_dict(deriv_cell[\"gradient\"])\n",
    "grad2_cell = gradients_to_dict2(deriv2_cell[\"gradient\"])\n",
    "\n",
    "mesh_cell.cell_data[\"dU/dx\"] = grad2_cell[\"dU/dx\"]\n",
    "mesh_cell.cell_data[\"dU/dy\"] = grad2_cell[\"dU/dy\"]\n",
    "mesh_cell.cell_data[\"dU/dz\"] = grad2_cell[\"dU/dz\"]\n",
    "mesh_cell.cell_data[\"dux/dx\"] = grad_cell[\"dux/dx\"]\n",
    "mesh_cell.cell_data[\"dux/dy\"] = grad_cell[\"dux/dy\"]\n",
    "mesh_cell.cell_data[\"dux/dz\"] = grad_cell[\"dux/dz\"]\n",
    "mesh_cell.cell_data[\"duy/dx\"] = grad_cell[\"duy/dx\"]\n",
    "mesh_cell.cell_data[\"duy/dy\"] = grad_cell[\"duy/dy\"]\n",
    "mesh_cell.cell_data[\"duy/dz\"] = grad_cell[\"duy/dz\"]\n",
    "mesh_cell.cell_data[\"duz/dx\"] = grad_cell[\"duz/dx\"]\n",
    "mesh_cell.cell_data[\"duz/dy\"] = grad_cell[\"duz/dy\"]\n",
    "mesh_cell.cell_data[\"duz/dz\"] = grad_cell[\"duz/dz\"]\n",
    "\n",
    "mesh_cell"
   ]
  },
  {
   "cell_type": "code",
   "execution_count": 121,
   "id": "d06fe8af",
   "metadata": {},
   "outputs": [
    {
     "data": {
      "text/html": [
       "<table><tr><th>Header</th><th>Data Arrays</th></tr><tr><td>\n",
       "<table>\n",
       "<tr><th>UnstructuredGrid</th><th>Information</th></tr>\n",
       "<tr><td>N Cells</td><td>12225</td></tr>\n",
       "<tr><td>N Points</td><td>25012</td></tr>\n",
       "<tr><td>X Bounds</td><td>-2.060e-02, 2.900e-01</td></tr>\n",
       "<tr><td>Y Bounds</td><td>-2.540e-02, 2.540e-02</td></tr>\n",
       "<tr><td>Z Bounds</td><td>-5.000e-04, 5.000e-04</td></tr>\n",
       "<tr><td>N Arrays</td><td>21</td></tr>\n",
       "</table>\n",
       "\n",
       "</td><td>\n",
       "<table>\n",
       "<tr><th>Name</th><th>Field</th><th>Type</th><th>N Comp</th><th>Min</th><th>Max</th></tr>\n",
       "<tr><td>U</td><td>Points</td><td>float32</td><td>3</td><td>-2.553e+00</td><td>1.018e+01</td></tr>\n",
       "<tr><td>epsilon</td><td>Points</td><td>float32</td><td>1</td><td>1.277e-01</td><td>5.175e+03</td></tr>\n",
       "<tr><td>k</td><td>Points</td><td>float32</td><td>1</td><td>4.460e-04</td><td>5.495e+00</td></tr>\n",
       "<tr><td>nut</td><td>Points</td><td>float32</td><td>1</td><td>0.000e+00</td><td>5.136e-03</td></tr>\n",
       "<tr><td>p</td><td>Points</td><td>float32</td><td>1</td><td>-8.012e+00</td><td>1.453e+01</td></tr>\n",
       "<tr><td>U-normed</td><td>Points</td><td>float32</td><td>1</td><td>2.528e-03</td><td>1.018e+01</td></tr>\n",
       "<tr><td>ux</td><td>Points</td><td>float32</td><td>1</td><td>-2.553e+00</td><td>1.018e+01</td></tr>\n",
       "<tr><td>uy</td><td>Points</td><td>float32</td><td>1</td><td>-8.254e-01</td><td>6.753e-01</td></tr>\n",
       "<tr><td>uz</td><td>Points</td><td>float32</td><td>1</td><td>-2.461e-16</td><td>2.216e-16</td></tr>\n",
       "<tr><td>dU/dx</td><td>Points</td><td>float32</td><td>1</td><td>-2.126e+03</td><td>7.585e+02</td></tr>\n",
       "<tr><td>dU/dy</td><td>Points</td><td>float32</td><td>1</td><td>-3.724e+03</td><td>1.187e+04</td></tr>\n",
       "<tr><td>dU/dz</td><td>Points</td><td>float32</td><td>1</td><td>-7.109e-13</td><td>6.043e-13</td></tr>\n",
       "<tr><td>dux/dx</td><td>Points</td><td>float32</td><td>1</td><td>-2.129e+03</td><td>8.058e+02</td></tr>\n",
       "<tr><td>dux/dy</td><td>Points</td><td>float32</td><td>1</td><td>-3.705e+03</td><td>1.214e+04</td></tr>\n",
       "<tr><td>dux/dz</td><td>Points</td><td>float32</td><td>1</td><td>-7.109e-13</td><td>6.043e-13</td></tr>\n",
       "<tr><td>duy/dx</td><td>Points</td><td>float32</td><td>1</td><td>-2.369e+02</td><td>1.837e+02</td></tr>\n",
       "<tr><td>duy/dy</td><td>Points</td><td>float32</td><td>1</td><td>-8.086e+02</td><td>1.779e+03</td></tr>\n",
       "<tr><td>duy/dz</td><td>Points</td><td>float32</td><td>1</td><td>-1.308e-13</td><td>2.950e-13</td></tr>\n",
       "<tr><td>duz/dx</td><td>Points</td><td>float32</td><td>1</td><td>-9.272e-14</td><td>8.467e-14</td></tr>\n",
       "<tr><td>duz/dy</td><td>Points</td><td>float32</td><td>1</td><td>-7.080e-13</td><td>6.744e-13</td></tr>\n",
       "<tr><td><b>duz/dz</b></td><td>Points</td><td>float32</td><td>1</td><td>-9.859e-29</td><td>1.485e-28</td></tr>\n",
       "</table>\n",
       "\n",
       "</td></tr> </table>"
      ],
      "text/plain": [
       "UnstructuredGrid (0x287edb696a0)\n",
       "  N Cells:\t12225\n",
       "  N Points:\t25012\n",
       "  X Bounds:\t-2.060e-02, 2.900e-01\n",
       "  Y Bounds:\t-2.540e-02, 2.540e-02\n",
       "  Z Bounds:\t-5.000e-04, 5.000e-04\n",
       "  N Arrays:\t21"
      ]
     },
     "execution_count": 121,
     "metadata": {},
     "output_type": "execute_result"
    }
   ],
   "source": [
    "# deriv will contain the data from the gradient of U (9 components)\n",
    "deriv_point = mesh_point.compute_derivative(scalars=\"U\")\n",
    "# deriv2 will contain the data from the gradient of U-normed (3 components)\n",
    "deriv2_point = mesh_point.compute_derivative(scalars=\"U-normed\")\n",
    "\n",
    "grad_point = gradients_to_dict(deriv_point[\"gradient\"])\n",
    "grad2_point = gradients_to_dict2(deriv2_point[\"gradient\"])\n",
    "\n",
    "mesh_point.point_data[\"dU/dx\"] = grad2_point[\"dU/dx\"]\n",
    "mesh_point.point_data[\"dU/dy\"] = grad2_point[\"dU/dy\"]\n",
    "mesh_point.point_data[\"dU/dz\"] = grad2_point[\"dU/dz\"]\n",
    "mesh_point.point_data[\"dux/dx\"] = grad_point[\"dux/dx\"]\n",
    "mesh_point.point_data[\"dux/dy\"] = grad_point[\"dux/dy\"]\n",
    "mesh_point.point_data[\"dux/dz\"] = grad_point[\"dux/dz\"]\n",
    "mesh_point.point_data[\"duy/dx\"] = grad_point[\"duy/dx\"]\n",
    "mesh_point.point_data[\"duy/dy\"] = grad_point[\"duy/dy\"]\n",
    "mesh_point.point_data[\"duy/dz\"] = grad_point[\"duy/dz\"]\n",
    "mesh_point.point_data[\"duz/dx\"] = grad_point[\"duz/dx\"]\n",
    "mesh_point.point_data[\"duz/dy\"] = grad_point[\"duz/dy\"]\n",
    "mesh_point.point_data[\"duz/dz\"] = grad_point[\"duz/dz\"]\n",
    "\n",
    "mesh_point"
   ]
  },
  {
   "cell_type": "code",
   "execution_count": 81,
   "id": "2d5d80af",
   "metadata": {},
   "outputs": [
    {
     "data": {
      "application/vnd.jupyter.widget-view+json": {
       "model_id": "98f962bffbac4a07aafb39e7c3aa9fb0",
       "version_major": 2,
       "version_minor": 0
      },
      "text/plain": [
       "ViewInteractiveWidget(height=768, layout=Layout(height='auto', width='100%'), width=1024)"
      ]
     },
     "metadata": {},
     "output_type": "display_data"
    }
   ],
   "source": [
    "p = pv.Plotter()\n",
    "p.add_mesh(mesh_cell, color=\"w\", scalars='dU/dy') \n",
    "# View in the xy plane\n",
    "p.view_xy()\n",
    "# Show the axes\n",
    "p.add_axes()\n",
    "# Display the plotting window\n",
    "p.show()"
   ]
  },
  {
   "cell_type": "code",
   "execution_count": null,
   "id": "8d6540bf",
   "metadata": {},
   "outputs": [],
   "source": []
  }
 ],
 "metadata": {
  "kernelspec": {
   "display_name": "Python 3",
   "language": "python",
   "name": "python3"
  },
  "language_info": {
   "codemirror_mode": {
    "name": "ipython",
    "version": 3
   },
   "file_extension": ".py",
   "mimetype": "text/x-python",
   "name": "python",
   "nbconvert_exporter": "python",
   "pygments_lexer": "ipython3",
   "version": "3.8.8"
  }
 },
 "nbformat": 4,
 "nbformat_minor": 5
}
