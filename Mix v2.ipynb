{
 "cells": [
  {
   "cell_type": "code",
   "execution_count": 218,
   "id": "59c472c2",
   "metadata": {},
   "outputs": [],
   "source": [
    "import pyvista as pv\n",
    "import numpy as np\n",
    "import matplotlib.pyplot as plt\n",
    "import vtk as vtk"
   ]
  },
  {
   "cell_type": "code",
   "execution_count": 219,
   "id": "def7215a",
   "metadata": {},
   "outputs": [],
   "source": [
    "%matplotlib widget"
   ]
  },
  {
   "cell_type": "markdown",
   "id": "92090056",
   "metadata": {},
   "source": [
    "# Try to load case with pyvista.read"
   ]
  },
  {
   "cell_type": "markdown",
   "id": "03b31e97",
   "metadata": {},
   "source": [
    "PyVista is smart enough to allow the load of an OpenFOAM case (.foam extension here)"
   ]
  },
  {
   "cell_type": "code",
   "execution_count": 220,
   "id": "57547e5f",
   "metadata": {},
   "outputs": [],
   "source": [
    "# Import the OpenFOAM example case\n",
    "case = pv.read('./case.foam')"
   ]
  },
  {
   "cell_type": "code",
   "execution_count": 221,
   "id": "4229ca6c",
   "metadata": {},
   "outputs": [
    {
     "data": {
      "text/plain": [
       "['internalMesh']"
      ]
     },
     "execution_count": 221,
     "metadata": {},
     "output_type": "execute_result"
    }
   ],
   "source": [
    "case.keys()"
   ]
  },
  {
   "cell_type": "code",
   "execution_count": 222,
   "id": "62ff8ec9",
   "metadata": {},
   "outputs": [],
   "source": [
    "mesh = case[0]"
   ]
  },
  {
   "cell_type": "code",
   "execution_count": 223,
   "id": "f53f4bf8",
   "metadata": {},
   "outputs": [
    {
     "data": {
      "text/html": [
       "<table><tr><th>Header</th><th>Data Arrays</th></tr><tr><td>\n",
       "<table>\n",
       "<tr><th>UnstructuredGrid</th><th>Information</th></tr>\n",
       "<tr><td>N Cells</td><td>12225</td></tr>\n",
       "<tr><td>N Points</td><td>25012</td></tr>\n",
       "<tr><td>X Bounds</td><td>-2.060e-02, 2.900e-01</td></tr>\n",
       "<tr><td>Y Bounds</td><td>-2.540e-02, 2.540e-02</td></tr>\n",
       "<tr><td>Z Bounds</td><td>-5.000e-04, 5.000e-04</td></tr>\n",
       "<tr><td>N Arrays</td><td>10</td></tr>\n",
       "</table>\n",
       "\n",
       "</td><td>\n",
       "<table>\n",
       "<tr><th>Name</th><th>Field</th><th>Type</th><th>N Comp</th><th>Min</th><th>Max</th></tr>\n",
       "<tr><td>U</td><td>Points</td><td>float32</td><td>3</td><td>0.000e+00</td><td>1.000e+01</td></tr>\n",
       "<tr><td>epsilon</td><td>Points</td><td>float32</td><td>1</td><td>1.485e+01</td><td>1.485e+01</td></tr>\n",
       "<tr><td>k</td><td>Points</td><td>float32</td><td>1</td><td>3.750e-01</td><td>3.750e-01</td></tr>\n",
       "<tr><td>nut</td><td>Points</td><td>float32</td><td>1</td><td>0.000e+00</td><td>0.000e+00</td></tr>\n",
       "<tr><td><b>p</b></td><td>Points</td><td>float32</td><td>1</td><td>0.000e+00</td><td>0.000e+00</td></tr>\n",
       "<tr><td>U</td><td>Cells</td><td>float32</td><td>3</td><td>0.000e+00</td><td>0.000e+00</td></tr>\n",
       "<tr><td>epsilon</td><td>Cells</td><td>float32</td><td>1</td><td>1.485e+01</td><td>1.485e+01</td></tr>\n",
       "<tr><td>k</td><td>Cells</td><td>float32</td><td>1</td><td>3.750e-01</td><td>3.750e-01</td></tr>\n",
       "<tr><td>nut</td><td>Cells</td><td>float32</td><td>1</td><td>0.000e+00</td><td>0.000e+00</td></tr>\n",
       "<tr><td><b>p</b></td><td>Cells</td><td>float32</td><td>1</td><td>0.000e+00</td><td>0.000e+00</td></tr>\n",
       "</table>\n",
       "\n",
       "</td></tr> </table>"
      ],
      "text/plain": [
       "UnstructuredGrid (0x1726c967c40)\n",
       "  N Cells:\t12225\n",
       "  N Points:\t25012\n",
       "  X Bounds:\t-2.060e-02, 2.900e-01\n",
       "  Y Bounds:\t-2.540e-02, 2.540e-02\n",
       "  Z Bounds:\t-5.000e-04, 5.000e-04\n",
       "  N Arrays:\t10"
      ]
     },
     "execution_count": 223,
     "metadata": {},
     "output_type": "execute_result"
    }
   ],
   "source": [
    "mesh"
   ]
  },
  {
   "cell_type": "markdown",
   "id": "6bc88d8c",
   "metadata": {},
   "source": [
    "* It looks like the number of arrays is doubled here, there is 2 times the `Data Arrays` (don't know why)\n",
    "* It looks like the case is loaded for `time=0`, I don't know how to change the time value.\n",
    "\n",
    "Here is for example below the U field where it's 0 everywhere expect at the inlet which is the intial condtion at `time=0`."
   ]
  },
  {
   "cell_type": "code",
   "execution_count": 224,
   "id": "3644d756",
   "metadata": {},
   "outputs": [
    {
     "data": {
      "application/vnd.jupyter.widget-view+json": {
       "model_id": "8bec34ad93ca4a2286d8a7235231ab2f",
       "version_major": 2,
       "version_minor": 0
      },
      "text/plain": [
       "ViewInteractiveWidget(height=768, layout=Layout(height='auto', width='100%'), width=1024)"
      ]
     },
     "metadata": {},
     "output_type": "display_data"
    }
   ],
   "source": [
    " mesh.plot(scalars='U',cpos='xy')"
   ]
  },
  {
   "cell_type": "markdown",
   "id": "b13197c8",
   "metadata": {},
   "source": [
    "A Jupyter widget could not be displayed because the widget state could not be found. This could happen if the kernel storing the widget is no longer available, or if the widget state was not saved in the notebook. You may be able to create the widget by running the appropriate cells.\n"
   ]
  },
  {
   "cell_type": "markdown",
   "id": "3587de99",
   "metadata": {},
   "source": [
    "# Load the case with `vtkOpenFOAMReader`"
   ]
  },
  {
   "cell_type": "code",
   "execution_count": 225,
   "id": "bad08538",
   "metadata": {},
   "outputs": [],
   "source": [
    "def createTimeList(array): # T the list we want to create and array the vtkDoubleArray containing the time values\n",
    "    T = []\n",
    "    for i in range(0, array.GetMaxId()+1):\n",
    "        T.append(array.GetValue(i))\n",
    "    return T"
   ]
  },
  {
   "cell_type": "code",
   "execution_count": 226,
   "id": "a93770f3",
   "metadata": {
    "scrolled": false
   },
   "outputs": [
    {
     "name": "stdout",
     "output_type": "stream",
     "text": [
      "vtkDoubleArray (0000017274E88D60)\n",
      "  Debug: Off\n",
      "  Modified Time: 5471402\n",
      "  Reference Count: 2\n",
      "  Registered Events: (none)\n",
      "  Name: (none)\n",
      "  Data type: double\n",
      "  Size: 3\n",
      "  MaxId: 2\n",
      "  NumberOfComponents: 1\n",
      "  Information: 0000000000000000\n",
      "  Name: (none)\n",
      "  Number Of Components: 1\n",
      "  Number Of Tuples: 3\n",
      "  Size: 3\n",
      "  MaxId: 2\n",
      "  LookupTable: (none)\n",
      "\n",
      "\n"
     ]
    }
   ],
   "source": [
    "reader = vtk.vtkOpenFOAMReader()\n",
    "reader.SetFileName(\"C:/Users/tondu/Desktop/PyVist-INSA-main/case.foam\")\n",
    "reader.UpdateInformation()\n",
    "time = reader.GetTimeValues() # All the time values of the simulation in the form of a vtkDoubleArray\n",
    "reader.SetTimeValue(time.GetValue(2)) # Set time value to whichever one we want to visualize \n",
    "reader.Update()\n",
    "multi_block = pv.wrap(reader.GetOutput()) \n",
    "print(time) "
   ]
  },
  {
   "cell_type": "code",
   "execution_count": 227,
   "id": "82f6fc59",
   "metadata": {
    "scrolled": true
   },
   "outputs": [
    {
     "name": "stdout",
     "output_type": "stream",
     "text": [
      "[0.0, 500.0, 1000.0]\n"
     ]
    }
   ],
   "source": [
    "T = createTimeList(time) # This gives us a list of all the time values\n",
    "print(T)"
   ]
  },
  {
   "cell_type": "code",
   "execution_count": null,
   "id": "b333a992",
   "metadata": {},
   "outputs": [],
   "source": []
  },
  {
   "cell_type": "code",
   "execution_count": 228,
   "id": "321b960b",
   "metadata": {
    "scrolled": false
   },
   "outputs": [
    {
     "data": {
      "text/html": [
       "<table><tr><th>Header</th><th>Data Arrays</th></tr><tr><td>\n",
       "<table>\n",
       "<tr><th>UnstructuredGrid</th><th>Information</th></tr>\n",
       "<tr><td>N Cells</td><td>12225</td></tr>\n",
       "<tr><td>N Points</td><td>25012</td></tr>\n",
       "<tr><td>X Bounds</td><td>-2.060e-02, 2.900e-01</td></tr>\n",
       "<tr><td>Y Bounds</td><td>-2.540e-02, 2.540e-02</td></tr>\n",
       "<tr><td>Z Bounds</td><td>-5.000e-04, 5.000e-04</td></tr>\n",
       "<tr><td>N Arrays</td><td>10</td></tr>\n",
       "</table>\n",
       "\n",
       "</td><td>\n",
       "<table>\n",
       "<tr><th>Name</th><th>Field</th><th>Type</th><th>N Comp</th><th>Min</th><th>Max</th></tr>\n",
       "<tr><td>U</td><td>Points</td><td>float32</td><td>3</td><td>-2.553e+00</td><td>1.018e+01</td></tr>\n",
       "<tr><td>epsilon</td><td>Points</td><td>float32</td><td>1</td><td>1.277e-01</td><td>5.175e+03</td></tr>\n",
       "<tr><td>k</td><td>Points</td><td>float32</td><td>1</td><td>4.460e-04</td><td>5.495e+00</td></tr>\n",
       "<tr><td>nut</td><td>Points</td><td>float32</td><td>1</td><td>0.000e+00</td><td>5.136e-03</td></tr>\n",
       "<tr><td><b>p</b></td><td>Points</td><td>float32</td><td>1</td><td>-8.012e+00</td><td>1.453e+01</td></tr>\n",
       "<tr><td>U</td><td>Cells</td><td>float32</td><td>3</td><td>-2.553e+00</td><td>1.018e+01</td></tr>\n",
       "<tr><td>epsilon</td><td>Cells</td><td>float32</td><td>1</td><td>1.277e-01</td><td>5.788e+03</td></tr>\n",
       "<tr><td>k</td><td>Cells</td><td>float32</td><td>1</td><td>4.460e-04</td><td>5.498e+00</td></tr>\n",
       "<tr><td>nut</td><td>Cells</td><td>float32</td><td>1</td><td>1.402e-07</td><td>5.140e-03</td></tr>\n",
       "<tr><td><b>p</b></td><td>Cells</td><td>float32</td><td>1</td><td>-8.014e+00</td><td>1.504e+01</td></tr>\n",
       "</table>\n",
       "\n",
       "</td></tr> </table>"
      ],
      "text/plain": [
       "UnstructuredGrid (0x1726c967820)\n",
       "  N Cells:\t12225\n",
       "  N Points:\t25012\n",
       "  X Bounds:\t-2.060e-02, 2.900e-01\n",
       "  Y Bounds:\t-2.540e-02, 2.540e-02\n",
       "  Z Bounds:\t-5.000e-04, 5.000e-04\n",
       "  N Arrays:\t10"
      ]
     },
     "execution_count": 228,
     "metadata": {},
     "output_type": "execute_result"
    }
   ],
   "source": [
    "mesh = multi_block[0]\n",
    "mesh"
   ]
  },
  {
   "cell_type": "markdown",
   "id": "91482dcb",
   "metadata": {},
   "source": [
    "We can notice that we have the same fields twice. \n",
    "Each field is stored as both point data and cell data, this means that we have 10 N arrays instead of 5."
   ]
  },
  {
   "cell_type": "markdown",
   "id": "b8e6d330",
   "metadata": {},
   "source": [
    "Let's create two datasets: one that only contains the cell data and one that only contains the point data."
   ]
  },
  {
   "cell_type": "code",
   "execution_count": 229,
   "id": "03d15bfd",
   "metadata": {},
   "outputs": [
    {
     "data": {
      "text/html": [
       "<table><tr><th>Header</th><th>Data Arrays</th></tr><tr><td>\n",
       "<table>\n",
       "<tr><th>UnstructuredGrid</th><th>Information</th></tr>\n",
       "<tr><td>N Cells</td><td>12225</td></tr>\n",
       "<tr><td>N Points</td><td>25012</td></tr>\n",
       "<tr><td>X Bounds</td><td>-2.060e-02, 2.900e-01</td></tr>\n",
       "<tr><td>Y Bounds</td><td>-2.540e-02, 2.540e-02</td></tr>\n",
       "<tr><td>Z Bounds</td><td>-5.000e-04, 5.000e-04</td></tr>\n",
       "<tr><td>N Arrays</td><td>5</td></tr>\n",
       "</table>\n",
       "\n",
       "</td><td>\n",
       "<table>\n",
       "<tr><th>Name</th><th>Field</th><th>Type</th><th>N Comp</th><th>Min</th><th>Max</th></tr>\n",
       "<tr><td>U</td><td>Cells</td><td>float32</td><td>3</td><td>-2.553e+00</td><td>1.018e+01</td></tr>\n",
       "<tr><td>epsilon</td><td>Cells</td><td>float32</td><td>1</td><td>1.277e-01</td><td>5.788e+03</td></tr>\n",
       "<tr><td>k</td><td>Cells</td><td>float32</td><td>1</td><td>4.460e-04</td><td>5.498e+00</td></tr>\n",
       "<tr><td>nut</td><td>Cells</td><td>float32</td><td>1</td><td>1.402e-07</td><td>5.140e-03</td></tr>\n",
       "<tr><td><b>p</b></td><td>Cells</td><td>float32</td><td>1</td><td>-8.014e+00</td><td>1.504e+01</td></tr>\n",
       "</table>\n",
       "\n",
       "</td></tr> </table>"
      ],
      "text/plain": [
       "UnstructuredGrid (0x1726c967880)\n",
       "  N Cells:\t12225\n",
       "  N Points:\t25012\n",
       "  X Bounds:\t-2.060e-02, 2.900e-01\n",
       "  Y Bounds:\t-2.540e-02, 2.540e-02\n",
       "  Z Bounds:\t-5.000e-04, 5.000e-04\n",
       "  N Arrays:\t5"
      ]
     },
     "execution_count": 229,
     "metadata": {},
     "output_type": "execute_result"
    }
   ],
   "source": [
    "# This dataset will only contain cell data\n",
    "multi_block = pv.wrap(reader.GetOutput()) \n",
    "mesh_cell = multi_block[0]\n",
    "mesh_cell.clear_point_data()\n",
    "mesh_cell"
   ]
  },
  {
   "cell_type": "code",
   "execution_count": 230,
   "id": "347b8cfb",
   "metadata": {},
   "outputs": [
    {
     "data": {
      "text/html": [
       "<table><tr><th>Header</th><th>Data Arrays</th></tr><tr><td>\n",
       "<table>\n",
       "<tr><th>UnstructuredGrid</th><th>Information</th></tr>\n",
       "<tr><td>N Cells</td><td>12225</td></tr>\n",
       "<tr><td>N Points</td><td>25012</td></tr>\n",
       "<tr><td>X Bounds</td><td>-2.060e-02, 2.900e-01</td></tr>\n",
       "<tr><td>Y Bounds</td><td>-2.540e-02, 2.540e-02</td></tr>\n",
       "<tr><td>Z Bounds</td><td>-5.000e-04, 5.000e-04</td></tr>\n",
       "<tr><td>N Arrays</td><td>5</td></tr>\n",
       "</table>\n",
       "\n",
       "</td><td>\n",
       "<table>\n",
       "<tr><th>Name</th><th>Field</th><th>Type</th><th>N Comp</th><th>Min</th><th>Max</th></tr>\n",
       "<tr><td>U</td><td>Points</td><td>float32</td><td>3</td><td>-2.553e+00</td><td>1.018e+01</td></tr>\n",
       "<tr><td>epsilon</td><td>Points</td><td>float32</td><td>1</td><td>1.277e-01</td><td>5.175e+03</td></tr>\n",
       "<tr><td>k</td><td>Points</td><td>float32</td><td>1</td><td>4.460e-04</td><td>5.495e+00</td></tr>\n",
       "<tr><td>nut</td><td>Points</td><td>float32</td><td>1</td><td>0.000e+00</td><td>5.136e-03</td></tr>\n",
       "<tr><td><b>p</b></td><td>Points</td><td>float32</td><td>1</td><td>-8.012e+00</td><td>1.453e+01</td></tr>\n",
       "</table>\n",
       "\n",
       "</td></tr> </table>"
      ],
      "text/plain": [
       "UnstructuredGrid (0x1726c983040)\n",
       "  N Cells:\t12225\n",
       "  N Points:\t25012\n",
       "  X Bounds:\t-2.060e-02, 2.900e-01\n",
       "  Y Bounds:\t-2.540e-02, 2.540e-02\n",
       "  Z Bounds:\t-5.000e-04, 5.000e-04\n",
       "  N Arrays:\t5"
      ]
     },
     "execution_count": 230,
     "metadata": {},
     "output_type": "execute_result"
    }
   ],
   "source": [
    "# This dataset will only contain point data\n",
    "multi_block = pv.wrap(reader.GetOutput()) \n",
    "mesh_point = multi_block[0]\n",
    "mesh_point.clear_cell_data()\n",
    "mesh_point"
   ]
  },
  {
   "cell_type": "code",
   "execution_count": 231,
   "id": "8b63e020",
   "metadata": {},
   "outputs": [],
   "source": [
    "# n = reader.GetNumberOfPatchArrays()\n",
    "# reader.SetPatchArrayStatus(reader.GetPatchArrayName(0), 1) # 0 for disabled, 1 for enabled "
   ]
  },
  {
   "cell_type": "markdown",
   "id": "81daecef",
   "metadata": {},
   "source": [
    "## Show the mesh "
   ]
  },
  {
   "cell_type": "code",
   "execution_count": 232,
   "id": "0edf9bbe",
   "metadata": {
    "scrolled": true
   },
   "outputs": [
    {
     "data": {
      "application/vnd.jupyter.widget-view+json": {
       "model_id": "fd6473ae8fd046a8934c21b806d982a3",
       "version_major": 2,
       "version_minor": 0
      },
      "text/plain": [
       "ViewInteractiveWidget(height=768, layout=Layout(height='auto', width='100%'), width=1024)"
      ]
     },
     "metadata": {},
     "output_type": "display_data"
    }
   ],
   "source": [
    "# Create a plotting object to display vtk meshes or numpy arrays\n",
    "p = pv.Plotter()\n",
    "# Show the mesh in wireframe style\n",
    "p.add_mesh(mesh, style=\"wireframe\", color=\"w\")\n",
    "# View in the xy plane\n",
    "p.view_xy()\n",
    "# Show the axes\n",
    "p.add_axes()\n",
    "# Display the plotting window\n",
    "p.show()"
   ]
  },
  {
   "cell_type": "markdown",
   "id": "40de9086",
   "metadata": {},
   "source": [
    "## Plot the domain with a scalar field\n"
   ]
  },
  {
   "cell_type": "code",
   "execution_count": 233,
   "id": "bee96a41",
   "metadata": {},
   "outputs": [
    {
     "data": {
      "application/vnd.jupyter.widget-view+json": {
       "model_id": "9139107de93b4b02b00b709a77d1eea8",
       "version_major": 2,
       "version_minor": 0
      },
      "text/plain": [
       "ViewInteractiveWidget(height=768, layout=Layout(height='auto', width='100%'), width=1024)"
      ]
     },
     "metadata": {},
     "output_type": "display_data"
    }
   ],
   "source": [
    "# Plot the domain based on the cell data\n",
    "p = pv.Plotter()\n",
    "p.add_mesh(mesh_cell, scalars='U')\n",
    "p.view_xy()\n",
    "p.add_axes()\n",
    "p.show()"
   ]
  },
  {
   "cell_type": "code",
   "execution_count": 234,
   "id": "058d1d8a",
   "metadata": {},
   "outputs": [
    {
     "data": {
      "text/html": [
       "<table><tr><th>Header</th><th>Data Arrays</th></tr><tr><td>\n",
       "<table>\n",
       "<tr><th>UnstructuredGrid</th><th>Information</th></tr>\n",
       "<tr><td>N Cells</td><td>12225</td></tr>\n",
       "<tr><td>N Points</td><td>25012</td></tr>\n",
       "<tr><td>X Bounds</td><td>-2.060e-02, 2.900e-01</td></tr>\n",
       "<tr><td>Y Bounds</td><td>-2.540e-02, 2.540e-02</td></tr>\n",
       "<tr><td>Z Bounds</td><td>-5.000e-04, 5.000e-04</td></tr>\n",
       "<tr><td>N Arrays</td><td>6</td></tr>\n",
       "</table>\n",
       "\n",
       "</td><td>\n",
       "<table>\n",
       "<tr><th>Name</th><th>Field</th><th>Type</th><th>N Comp</th><th>Min</th><th>Max</th></tr>\n",
       "<tr><td>U</td><td>Cells</td><td>float32</td><td>3</td><td>-2.553e+00</td><td>1.018e+01</td></tr>\n",
       "<tr><td>epsilon</td><td>Cells</td><td>float32</td><td>1</td><td>1.277e-01</td><td>5.788e+03</td></tr>\n",
       "<tr><td>k</td><td>Cells</td><td>float32</td><td>1</td><td>4.460e-04</td><td>5.498e+00</td></tr>\n",
       "<tr><td>nut</td><td>Cells</td><td>float32</td><td>1</td><td>1.402e-07</td><td>5.140e-03</td></tr>\n",
       "<tr><td>p</td><td>Cells</td><td>float32</td><td>1</td><td>-8.014e+00</td><td>1.504e+01</td></tr>\n",
       "<tr><td><b>U-normed</b></td><td>Cells</td><td>float32</td><td>1</td><td>5.320e-03</td><td>1.018e+01</td></tr>\n",
       "</table>\n",
       "\n",
       "</td></tr> </table>"
      ],
      "text/plain": [
       "UnstructuredGrid (0x1726c967880)\n",
       "  N Cells:\t12225\n",
       "  N Points:\t25012\n",
       "  X Bounds:\t-2.060e-02, 2.900e-01\n",
       "  Y Bounds:\t-2.540e-02, 2.540e-02\n",
       "  Z Bounds:\t-5.000e-04, 5.000e-04\n",
       "  N Arrays:\t6"
      ]
     },
     "execution_count": 234,
     "metadata": {},
     "output_type": "execute_result"
    }
   ],
   "source": [
    "mesh_cell"
   ]
  },
  {
   "cell_type": "code",
   "execution_count": 235,
   "id": "8a7deb8e",
   "metadata": {},
   "outputs": [
    {
     "data": {
      "application/vnd.jupyter.widget-view+json": {
       "model_id": "30a421de2e7c4c0f927dcdeda1a5c158",
       "version_major": 2,
       "version_minor": 0
      },
      "text/plain": [
       "ViewInteractiveWidget(height=768, layout=Layout(height='auto', width='100%'), width=1024)"
      ]
     },
     "metadata": {},
     "output_type": "display_data"
    }
   ],
   "source": [
    "# Plot the domain based on the point data\n",
    "p = pv.Plotter()\n",
    "p.add_mesh(mesh_point, scalars='U')\n",
    "p.view_xy()\n",
    "p.add_axes()\n",
    "p.show()"
   ]
  },
  {
   "cell_type": "code",
   "execution_count": 236,
   "id": "59e0957b",
   "metadata": {},
   "outputs": [
    {
     "data": {
      "text/html": [
       "<table><tr><th>Header</th><th>Data Arrays</th></tr><tr><td>\n",
       "<table>\n",
       "<tr><th>UnstructuredGrid</th><th>Information</th></tr>\n",
       "<tr><td>N Cells</td><td>12225</td></tr>\n",
       "<tr><td>N Points</td><td>25012</td></tr>\n",
       "<tr><td>X Bounds</td><td>-2.060e-02, 2.900e-01</td></tr>\n",
       "<tr><td>Y Bounds</td><td>-2.540e-02, 2.540e-02</td></tr>\n",
       "<tr><td>Z Bounds</td><td>-5.000e-04, 5.000e-04</td></tr>\n",
       "<tr><td>N Arrays</td><td>6</td></tr>\n",
       "</table>\n",
       "\n",
       "</td><td>\n",
       "<table>\n",
       "<tr><th>Name</th><th>Field</th><th>Type</th><th>N Comp</th><th>Min</th><th>Max</th></tr>\n",
       "<tr><td>U</td><td>Points</td><td>float32</td><td>3</td><td>-2.553e+00</td><td>1.018e+01</td></tr>\n",
       "<tr><td>epsilon</td><td>Points</td><td>float32</td><td>1</td><td>1.277e-01</td><td>5.175e+03</td></tr>\n",
       "<tr><td>k</td><td>Points</td><td>float32</td><td>1</td><td>4.460e-04</td><td>5.495e+00</td></tr>\n",
       "<tr><td>nut</td><td>Points</td><td>float32</td><td>1</td><td>0.000e+00</td><td>5.136e-03</td></tr>\n",
       "<tr><td>p</td><td>Points</td><td>float32</td><td>1</td><td>-8.012e+00</td><td>1.453e+01</td></tr>\n",
       "<tr><td><b>U-normed</b></td><td>Points</td><td>float32</td><td>1</td><td>2.528e-03</td><td>1.018e+01</td></tr>\n",
       "</table>\n",
       "\n",
       "</td></tr> </table>"
      ],
      "text/plain": [
       "UnstructuredGrid (0x1726c983040)\n",
       "  N Cells:\t12225\n",
       "  N Points:\t25012\n",
       "  X Bounds:\t-2.060e-02, 2.900e-01\n",
       "  Y Bounds:\t-2.540e-02, 2.540e-02\n",
       "  Z Bounds:\t-5.000e-04, 5.000e-04\n",
       "  N Arrays:\t6"
      ]
     },
     "execution_count": 236,
     "metadata": {},
     "output_type": "execute_result"
    }
   ],
   "source": [
    "mesh_point"
   ]
  },
  {
   "cell_type": "markdown",
   "id": "07e060a5",
   "metadata": {},
   "source": [
    "### Another one with the mesh surimposed"
   ]
  },
  {
   "cell_type": "code",
   "execution_count": 237,
   "id": "05b6e0b1",
   "metadata": {},
   "outputs": [
    {
     "data": {
      "application/vnd.jupyter.widget-view+json": {
       "model_id": "62b77b078bc540018347af91f06b2c37",
       "version_major": 2,
       "version_minor": 0
      },
      "text/plain": [
       "ViewInteractiveWidget(height=768, layout=Layout(height='auto', width='100%'), width=1024)"
      ]
     },
     "metadata": {},
     "output_type": "display_data"
    }
   ],
   "source": [
    "p3 = pv.Plotter()\n",
    "p3.add_mesh(mesh,scalars='U', show_edges=True)\n",
    "p3.view_xy()\n",
    "p3.add_axes()\n",
    "p3.show()"
   ]
  },
  {
   "cell_type": "markdown",
   "id": "abbc7a84",
   "metadata": {},
   "source": [
    "### Plot the velocity field using glyphs"
   ]
  },
  {
   "cell_type": "code",
   "execution_count": 238,
   "id": "cc06d3f4",
   "metadata": {},
   "outputs": [
    {
     "data": {
      "application/vnd.jupyter.widget-view+json": {
       "model_id": "4eed13a05de34823abafe7cf2e5b4598",
       "version_major": 2,
       "version_minor": 0
      },
      "text/plain": [
       "ViewInteractiveWidget(height=768, layout=Layout(height='auto', width='100%'), width=1024)"
      ]
     },
     "metadata": {},
     "output_type": "display_data"
    }
   ],
   "source": [
    "geom = pv.Arrow()\n",
    "glyphs = mesh.glyph(orient='U',scale='U-normed',factor=0.0005,geom=geom)\n",
    "p4 = pv.Plotter()\n",
    "p4.add_mesh(glyphs)\n",
    "p4.view_xy()\n",
    "p4.add_axes()\n",
    "p4.show()"
   ]
  },
  {
   "cell_type": "markdown",
   "id": "1a1901ad",
   "metadata": {},
   "source": [
    "### Plot over line example"
   ]
  },
  {
   "cell_type": "code",
   "execution_count": 239,
   "id": "43c2828d",
   "metadata": {},
   "outputs": [],
   "source": [
    "# Create the 2 points defining the line\n",
    "a = [0, 0, 0]\n",
    "b = [0, mesh.bounds[3], 0]\n",
    "\n",
    "# Create a Line object\n",
    "line = pv.Line(a, b)"
   ]
  },
  {
   "cell_type": "code",
   "execution_count": 240,
   "id": "f458ff4f",
   "metadata": {},
   "outputs": [
    {
     "data": {
      "text/plain": [
       "[-0.020600000396370888,\n",
       " 0.28999999165534973,\n",
       " -0.02539999969303608,\n",
       " 0.02539999969303608,\n",
       " -0.0005000000237487257,\n",
       " 0.0005000000237487257]"
      ]
     },
     "execution_count": 240,
     "metadata": {},
     "output_type": "execute_result"
    }
   ],
   "source": [
    "mesh.bounds"
   ]
  },
  {
   "cell_type": "markdown",
   "id": "5bb2ce8d",
   "metadata": {},
   "source": [
    "Let's show the line in the computational domain"
   ]
  },
  {
   "cell_type": "code",
   "execution_count": 241,
   "id": "48925e9b",
   "metadata": {},
   "outputs": [
    {
     "data": {
      "application/vnd.jupyter.widget-view+json": {
       "model_id": "034847a07f234fcab1edb8a018cd9e9e",
       "version_major": 2,
       "version_minor": 0
      },
      "text/plain": [
       "ViewInteractiveWidget(height=768, layout=Layout(height='auto', width='100%'), width=1024)"
      ]
     },
     "metadata": {},
     "output_type": "display_data"
    }
   ],
   "source": [
    "p5 = pv.Plotter()\n",
    "p5.add_mesh(mesh, style=\"wireframe\", color='white')\n",
    "# Show the line in red in the domain\n",
    "p5.add_mesh(line, color=\"r\", line_width=10)\n",
    "p5.view_xy()\n",
    "p5.add_axes()\n",
    "p5.show()"
   ]
  },
  {
   "cell_type": "markdown",
   "id": "b9a2bd0f",
   "metadata": {},
   "source": [
    "Let's make a plot overline ..."
   ]
  },
  {
   "cell_type": "code",
   "execution_count": 242,
   "id": "0a2a213e",
   "metadata": {},
   "outputs": [
    {
     "data": {
      "application/vnd.jupyter.widget-view+json": {
       "model_id": "5a461209c18949d39c0e1867019db588",
       "version_major": 2,
       "version_minor": 0
      },
      "text/html": [
       "\n",
       "            <div style=\"display: inline-block;\">\n",
       "                <div class=\"jupyter-widgets widget-label\" style=\"text-align: center;\">\n",
       "                    Figure\n",
       "                </div>\n",
       "                <img src='data:image/png;base64,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' width=640.0/>\n",
       "            </div>\n",
       "        "
      ],
      "text/plain": [
       "Canvas(toolbar=Toolbar(toolitems=[('Home', 'Reset original view', 'home', 'home'), ('Back', 'Back to previous …"
      ]
     },
     "metadata": {},
     "output_type": "display_data"
    }
   ],
   "source": [
    "mesh.plot_over_line(a, b, resolution=100, scalars='U')"
   ]
  },
  {
   "cell_type": "markdown",
   "id": "cb7cf3fa",
   "metadata": {},
   "source": [
    "### How to access the vector components"
   ]
  },
  {
   "cell_type": "code",
   "execution_count": 243,
   "id": "11ca8807",
   "metadata": {},
   "outputs": [
    {
     "data": {
      "text/plain": [
       "pyvista DataSetAttributes\n",
       "Association     : CELL\n",
       "Active Scalars  : U-normed\n",
       "Active Vectors  : U\n",
       "Active Texture  : None\n",
       "Active Normals  : None\n",
       "Contains arrays :\n",
       "    U                       float32  (12225, 3)           VECTORS\n",
       "    epsilon                 float32  (12225,)\n",
       "    k                       float32  (12225,)\n",
       "    nut                     float32  (12225,)\n",
       "    p                       float32  (12225,)\n",
       "    U-normed                float32  (12225,)             SCALARS"
      ]
     },
     "execution_count": 243,
     "metadata": {},
     "output_type": "execute_result"
    }
   ],
   "source": [
    "mesh_cell.cell_data"
   ]
  },
  {
   "cell_type": "code",
   "execution_count": 244,
   "id": "674c3677",
   "metadata": {},
   "outputs": [
    {
     "data": {
      "text/html": [
       "<table><tr><th>Header</th><th>Data Arrays</th></tr><tr><td>\n",
       "<table>\n",
       "<tr><th>UnstructuredGrid</th><th>Information</th></tr>\n",
       "<tr><td>N Cells</td><td>12225</td></tr>\n",
       "<tr><td>N Points</td><td>25012</td></tr>\n",
       "<tr><td>X Bounds</td><td>-2.060e-02, 2.900e-01</td></tr>\n",
       "<tr><td>Y Bounds</td><td>-2.540e-02, 2.540e-02</td></tr>\n",
       "<tr><td>Z Bounds</td><td>-5.000e-04, 5.000e-04</td></tr>\n",
       "<tr><td>N Arrays</td><td>9</td></tr>\n",
       "</table>\n",
       "\n",
       "</td><td>\n",
       "<table>\n",
       "<tr><th>Name</th><th>Field</th><th>Type</th><th>N Comp</th><th>Min</th><th>Max</th></tr>\n",
       "<tr><td>U</td><td>Cells</td><td>float32</td><td>3</td><td>-2.553e+00</td><td>1.018e+01</td></tr>\n",
       "<tr><td>epsilon</td><td>Cells</td><td>float32</td><td>1</td><td>1.277e-01</td><td>5.788e+03</td></tr>\n",
       "<tr><td>k</td><td>Cells</td><td>float32</td><td>1</td><td>4.460e-04</td><td>5.498e+00</td></tr>\n",
       "<tr><td>nut</td><td>Cells</td><td>float32</td><td>1</td><td>1.402e-07</td><td>5.140e-03</td></tr>\n",
       "<tr><td>p</td><td>Cells</td><td>float32</td><td>1</td><td>-8.014e+00</td><td>1.504e+01</td></tr>\n",
       "<tr><td>U-normed</td><td>Cells</td><td>float32</td><td>1</td><td>5.320e-03</td><td>1.018e+01</td></tr>\n",
       "<tr><td>ux</td><td>Cells</td><td>float32</td><td>1</td><td>-2.553e+00</td><td>1.018e+01</td></tr>\n",
       "<tr><td>uy</td><td>Cells</td><td>float32</td><td>1</td><td>-9.007e-01</td><td>7.526e-01</td></tr>\n",
       "<tr><td><b>uz</b></td><td>Cells</td><td>float32</td><td>1</td><td>-3.396e-16</td><td>2.769e-16</td></tr>\n",
       "</table>\n",
       "\n",
       "</td></tr> </table>"
      ],
      "text/plain": [
       "UnstructuredGrid (0x1726c967880)\n",
       "  N Cells:\t12225\n",
       "  N Points:\t25012\n",
       "  X Bounds:\t-2.060e-02, 2.900e-01\n",
       "  Y Bounds:\t-2.540e-02, 2.540e-02\n",
       "  Z Bounds:\t-5.000e-04, 5.000e-04\n",
       "  N Arrays:\t9"
      ]
     },
     "execution_count": 244,
     "metadata": {},
     "output_type": "execute_result"
    }
   ],
   "source": [
    "ux = mesh_cell['U'][:,0]\n",
    "uy = mesh_cell['U'][:,1]\n",
    "uz = mesh_cell['U'][:,2]\n",
    "\n",
    "mesh_cell.cell_data[\"ux\"] = ux\n",
    "mesh_cell.cell_data[\"uy\"] = uy\n",
    "mesh_cell.cell_data[\"uz\"] = uz\n",
    "\n",
    "mesh_cell"
   ]
  },
  {
   "cell_type": "code",
   "execution_count": 245,
   "id": "54ea13a6",
   "metadata": {},
   "outputs": [
    {
     "data": {
      "text/plain": [
       "pyvista DataSetAttributes\n",
       "Association     : POINT\n",
       "Active Scalars  : U-normed\n",
       "Active Vectors  : U\n",
       "Active Texture  : None\n",
       "Active Normals  : None\n",
       "Contains arrays :\n",
       "    U                       float32  (25012, 3)           VECTORS\n",
       "    epsilon                 float32  (25012,)\n",
       "    k                       float32  (25012,)\n",
       "    nut                     float32  (25012,)\n",
       "    p                       float32  (25012,)\n",
       "    U-normed                float32  (25012,)             SCALARS"
      ]
     },
     "execution_count": 245,
     "metadata": {},
     "output_type": "execute_result"
    }
   ],
   "source": [
    "mesh_point.point_data"
   ]
  },
  {
   "cell_type": "code",
   "execution_count": 246,
   "id": "11b7708b",
   "metadata": {},
   "outputs": [
    {
     "data": {
      "text/html": [
       "<table><tr><th>Header</th><th>Data Arrays</th></tr><tr><td>\n",
       "<table>\n",
       "<tr><th>UnstructuredGrid</th><th>Information</th></tr>\n",
       "<tr><td>N Cells</td><td>12225</td></tr>\n",
       "<tr><td>N Points</td><td>25012</td></tr>\n",
       "<tr><td>X Bounds</td><td>-2.060e-02, 2.900e-01</td></tr>\n",
       "<tr><td>Y Bounds</td><td>-2.540e-02, 2.540e-02</td></tr>\n",
       "<tr><td>Z Bounds</td><td>-5.000e-04, 5.000e-04</td></tr>\n",
       "<tr><td>N Arrays</td><td>9</td></tr>\n",
       "</table>\n",
       "\n",
       "</td><td>\n",
       "<table>\n",
       "<tr><th>Name</th><th>Field</th><th>Type</th><th>N Comp</th><th>Min</th><th>Max</th></tr>\n",
       "<tr><td>U</td><td>Points</td><td>float32</td><td>3</td><td>-2.553e+00</td><td>1.018e+01</td></tr>\n",
       "<tr><td>epsilon</td><td>Points</td><td>float32</td><td>1</td><td>1.277e-01</td><td>5.175e+03</td></tr>\n",
       "<tr><td>k</td><td>Points</td><td>float32</td><td>1</td><td>4.460e-04</td><td>5.495e+00</td></tr>\n",
       "<tr><td>nut</td><td>Points</td><td>float32</td><td>1</td><td>0.000e+00</td><td>5.136e-03</td></tr>\n",
       "<tr><td>p</td><td>Points</td><td>float32</td><td>1</td><td>-8.012e+00</td><td>1.453e+01</td></tr>\n",
       "<tr><td>U-normed</td><td>Points</td><td>float32</td><td>1</td><td>2.528e-03</td><td>1.018e+01</td></tr>\n",
       "<tr><td>ux</td><td>Points</td><td>float32</td><td>1</td><td>-2.553e+00</td><td>1.018e+01</td></tr>\n",
       "<tr><td>uy</td><td>Points</td><td>float32</td><td>1</td><td>-8.254e-01</td><td>6.753e-01</td></tr>\n",
       "<tr><td><b>uz</b></td><td>Points</td><td>float32</td><td>1</td><td>-2.461e-16</td><td>2.216e-16</td></tr>\n",
       "</table>\n",
       "\n",
       "</td></tr> </table>"
      ],
      "text/plain": [
       "UnstructuredGrid (0x1726c983040)\n",
       "  N Cells:\t12225\n",
       "  N Points:\t25012\n",
       "  X Bounds:\t-2.060e-02, 2.900e-01\n",
       "  Y Bounds:\t-2.540e-02, 2.540e-02\n",
       "  Z Bounds:\t-5.000e-04, 5.000e-04\n",
       "  N Arrays:\t9"
      ]
     },
     "execution_count": 246,
     "metadata": {},
     "output_type": "execute_result"
    }
   ],
   "source": [
    "ux = mesh_point['U'][:,0]\n",
    "uy = mesh_point['U'][:,1]\n",
    "uz = mesh_point['U'][:,2]\n",
    "\n",
    "mesh_point.point_data[\"ux\"] = ux\n",
    "mesh_point.point_data[\"uy\"] = uy\n",
    "mesh_point.point_data[\"uz\"] = uz\n",
    "\n",
    "mesh_point"
   ]
  },
  {
   "cell_type": "code",
   "execution_count": 247,
   "id": "fb402967",
   "metadata": {},
   "outputs": [
    {
     "data": {
      "application/vnd.jupyter.widget-view+json": {
       "model_id": "a5a7044701584a3594fb9c9bf05c7a3a",
       "version_major": 2,
       "version_minor": 0
      },
      "text/html": [
       "\n",
       "            <div style=\"display: inline-block;\">\n",
       "                <div class=\"jupyter-widgets widget-label\" style=\"text-align: center;\">\n",
       "                    Figure\n",
       "                </div>\n",
       "                <img src='data:image/png;base64,iVBORw0KGgoAAAANSUhEUgAAAoAAAAHgCAYAAAA10dzkAAAAOXRFWHRTb2Z0d2FyZQBNYXRwbG90bGliIHZlcnNpb24zLjMuNCwgaHR0cHM6Ly9tYXRwbG90bGliLm9yZy8QVMy6AAAACXBIWXMAAA9hAAAPYQGoP6dpAAA4TElEQVR4nO3deXwU9f3H8ffskU0ISQQFkkggARWUAgIRFLXWC9FirRUBjyr4sD+ttl71oo9fPaqCth48rBUr+lOUn1gvlJ9WOVSotoKAKB5IUUDuG5JwbbK78/sj2U3WBIRkhpnZeT0fjzXZ2dmdT767hne+3+98xzBN0xQAAAB8I+B0AQAAADi4CIAAAAA+QwAEAADwGQIgAACAzxAAAQAAfIYACAAA4DMEQAAAAJ8hAAIAAPgMARAAAMBnCIAAAAA+QwAEAADwGQIgAACAzxAAAQAAfIYACAAA4DMEQAAAAJ8hAAIAAPgMARAAAMBnCIAAAAA+QwAEAADwGQIgAACAzxAAAQAAfIYACAAA4DMEQAAAAJ8hAAIAAPgMARAAAMBnCIAAAAA+QwAEAADwGQIgAACAzxAAAQAAfIYACAAA4DMEQAAAAJ8hAAIAAPgMARAAAMBnCIAAAAA+QwAEAADwGQIgAACAzxAAAfjGT37yExmGkbrl5OSod+/eGjdunBKJhKXHevfdd1VeXq7c3FwZhqHXX39dzz77rAzD0IoVK1L7jRw5UqWlpZYeGwB+SMjpAgDgYOrSpYv+93//V5K0ceNGPfHEE7rxxhu1bt06PfDAA5YcwzRNDRs2TEcddZSmTp2q3NxcdevWTbFYTB999JGKioosOQ4ANBcBEICv5OTk6Pjjj0/dP/vss9W9e3c99thjuvfeexUOhxs9xzRN7dmzRzk5Oft1jLVr12rr1q06//zzdfrpp6c91q5du5b9AABgAYaAAThub8Ogd911lwzDSN1/8cUXZRiGHnvssbT97rzzTgWDQc2YMeOAjx0Oh9WvXz/t2rVLmzZtkiQZhqHf/OY3euKJJ3T00UcrEolo4sSJkqQPP/xQp59+uvLy8tSqVSsNHDhQb731VlrNHTt2lCTddtttMgwj9bM1NQTcFNM09fjjj+vYY49VTk6O2rRpo6FDh2rZsmUH/PMBQFMIgAA8Y8SIEbr66qv1u9/9TvPnz5ckvffee7r33nv1+9//XmeeeWazXvfbb79VKBRSmzZtUttef/11jR8/XnfccYemTZumk08+WbNnz9Zpp52miooKPf3005o8ebLy8vJ07rnn6u9//7sk6corr9Rrr70mSfrtb3+rjz76SFOmTDmgeq666irdcMMNOuOMM/T666/r8ccf15dffqmBAwdqw4YNzfoZAaAhhoABeMq4ceM0d+5cDRs2TG+99ZYuvvhinXzyybrrrrv2+zVisZgkadOmTXr00Uf1ySef6MILL0wb4t2xY4c+//zztFB4wgknqE2bNpo1a5Zat24tSRoyZIiOPfZY3XzzzRo2bJg6duyYev1OnTqlDTfvjzlz5mjChAl66KGHdNNNN6W2n3zyyTrqqKP08MMPWzZXEYB/0QMIwFMikYheeuklbdmyRX379pVpmpo8ebKCweB+Pf/LL79UOBxWOBxWcXGxHnroIV1yySWaMGFC2n6nnXZaWvjbuXOn5s6dq6FDh6bCnyQFg0H98pe/1OrVq7VkyZIW/3xvvvmmDMPQpZdeqlgslroVFhaqd+/emjVrVouPAQD0AALwnCOOOEInn3yy3nrrLf36178+oLNqu3btmppLmJ2drbKyMrVq1arRft9/zW3btsk0zSaPVVxcLEnasmXLAf4kjW3YsEGmaapDhw5NPt6lS5cWHwMACIAAHJedna1oNNpo++bNm5vc/6mnntJbb72l/v3767HHHtPw4cM1YMCA/T5WeXn5D+7X8OQTSWrTpo0CgYDWrVvXaN+1a9dKkg477LD9qmFfDjvsMBmGoQ8++ECRSKTR401tA4ADxRAwAMeVlpZq48aNaSc4VFdXa9q0aY32/fzzz3Xdddfpsssu0wcffKBevXpp+PDh2rZtm6015ubmasCAAXrttde0e/fu1PZEIqFJkyapY8eOOuqoo1p8nCFDhsg0Ta1Zs0bl5eWNbj179mzxMQCAAAjAccOHD1cwGNSIESP0j3/8Q6+99poGDRqkeDyett/OnTs1bNgwlZWV6fHHH1dWVpZeeuklbd++XaNGjbK9zrFjx2rLli069dRT9corr2jq1Kk655xz9MUXX+jBBx9s1GvYHCeeeKL+67/+S6NGjdKtt96qN998U++//75eeOEFXXPNNRo/frwFPwkAvyMAAnBcWVmZ3njjDW3fvl1Dhw7VLbfcogsvvFCXXXZZ2n5XX321Vq5cqZdfflm5ubmSaufEPfXUU3rjjTc0btw4W+s85ZRT9N577yk3N1cjR47UiBEjVFFRoalTp2r48OGWHedvf/ubHnvsMf3zn//UiBEj9NOf/lR33HGHdu7cqf79+1t2HAD+ZZimaTpdBAAAAA4eegABAAB8hgAIAADgMwRAAAAAnyEAAgAA+AwBEAAAwGcIgAAAAD5DAAQAAPAZrgXcAolEQmvXrlVeXp4lVwAAAAD2M01TVVVVKi4uViDgz74wAmALrF27ViUlJU6XAQAAmmHVqlXq2LGj02U4ggDYAnl5eZJqP0D5+fkOVwMAAPZHZWWlSkpKUv+O+xEBsAWSw775+fkEQAAAPMbP07f8OfANAADgYwRAAAAAnyEAAgAA+AwBEAAAwGcIgAAAAD5DAAQAAPAZAiAAAIDPEAABAAB8hgAIAADgMwRAAAAAnyEAAgAA+AwBEAAAwGdCThcAd0skTK3ZvlvfbNyhit012lkd085oTDujce2piSsaS6gmnryZkqSAYShg1H0N1H4NBgwFDEOhgKFwKKBIKKBIKKisuu+zUttqt9dvCyoSDqTfr9svFOTvFwAAmoMAiDQrt+zSh99s1mertmvJhiot3VClndVxp8tqUjBgpIXG74fJrAbbGwbMrGBAkXBQWcFA6rGG30dCAYWDtdvCqceM2m0NHkt+Hw4atd8HAgoEDKebBQCAH0QA9Ll4wtT0L9frn0s36cNvNmvV1t2N9skKBtSlXa4ObZ2lVlkhtY6ElBsJKiccrA9EdQFIkhKmqYRZ9zVhKm6aiifqb9XxhKKxhKrrbtFYvO5r8tbgfk3t/eT+sYSZVvuu6rh2Vccl1RysJtunYKC2lzMrGFAoaNQFxPrvQ4HasBgKpD8WCtQGyVAwoHDAUChoKFi3LfmaobrnhwLJ59Q+Fg4G6r7WPycUCCgYkIJ1X2t7XwMKBJT2WCjZMxus76ENfv9mGAoG677W7V/7VTIMAi8gSWby95xpKpFQ6vdeIrXNbLBNjX4vJuruxxp8n3pu3e9Ts+61k79jTbP+cdM06+qorykQMJTV4PdQuMEfs8lbfnZIbXKzFGZExXcIgD5WuadG101eqFlLNqW2hQKG+nZqo/5lbdW9KE/dC/PU+dBc1/xyiMUTtQGypv5rMiA2DIrJMFmdutU/1jCA1obN2lBaXRc8q+MJ1aS21d2PJ1RT9339ttpf0g0lf5lHYwmHWujgMgwpaBgK1AXC+u/rQ2LtlIDa+4ahVKhMfp98PBBQ3XYjbZ/A974adVMMDKVvS94PBCRDTe8ro36KgqHafaVkmK17PdW9ntHgdRr8vMnQa6T+k75f8nmp/Rs0VtrrNLFPw9dP3m/ITP+4WaZheDBT2yRTZv0205TZoIaGjyX3Veqxxq9ZG2Dqj5eoe05teKndZja1rcFzE6ka6u8nzMb3E2n3G4am7wWnRP2+8brHTVOpQJZI1O7fOMClPz/e4GfzqkNahXVobpba5UV0ZPs8dSus/f1/VGGe8rPDTpcHG2RsAPznP/+pP//5z1qwYIHWrVunKVOm6Oc//3nqcdM0dffdd+vJJ5/Utm3bNGDAAP31r39Vjx49nCv6IFq1dZeueHaelm7coexwQBf376yTjzxM/cvaKjfi3o9FKFg7969VltOV1IonTNXUBcpYvLaHMtlTmZwbGYvXfl9d930sURseGz4WS5h14dZUPJG8b6a21x6n/rkN90nWkOw9SO6TaNCbkNyv4T9ksXjdY4n6fVM9Eg16J/bFNKVY7b+0B6nFAW8KNPiD5/s964FAgx72gBptq/2jKPkHT4M/thr9cZT+h0Xyd0N13Ez9AVv/x6yp6lhcO6IxJUxp+64abd9Vo2837dScZVvTai8uyFa3wjx1K8xX98I89exYoK7tWjvRjLCQe/+lb6GdO3eqd+/eGjVqlC644IJGj//pT3/Sww8/rGeffVZHHXWU7r33Xp155plasmSJ8vLyHKj44Jm3Yquuen6Btu6sVof8iCZcVq5eHQ9xuixPqh0mDSo7HHS6FFske2piiYQSifqvcbO+hyQ1RNVw6KpBT0xyyKu+p8RUPFH7j1Py9eOp3pbk8+t7aZI9OVLyOfU9SmrQK5TWS2Q27GVK7yEy616n4c/XVO9S/HtDaskerob71G5v3CvWsP32tU/D7Ur2qDXoedufEfb6fsUD8/3Xrr9vpL5v2KOZ3lOZ3kvZqAe0QW+nmni8qZ7WgKHUHNpkz3Jy3+QxAw3DTmpbfQ9uba+ukQpb0vd6metqCwbqviZ7ohsGq0D9cRs+t/b/9e9tDyQDXN325LYG2xuGODeKJ0xt31WtLTurtXlHVOu279F/NlTp6/VVWrK+Susr92htRe3t/QajRRf176S7fnaMIqHM/N3nB4ZpNvx1lZkMw0jrATRNU8XFxbrhhht02223SZKi0ag6dOigBx54QFddddV+vW5lZaUKCgpUUVGh/Px8u8q31BufrtEtLy9SdTyhHx2er6cuO06FBdlOlwUAcKGKXTVasqFKS9ZXpkLhgpXbZJpS75JDNP6Svio+JMfpMg+YF//9tlrG9gDuy/Lly7V+/XoNGjQotS0SieiUU07Rv//9770GwGg0qmg0mrpfWVlpe61W+tc3m3XTS58pnjA1uEehHh7eW62yfPkRAADsh4JWYfUva6v+ZW1T22Yt2ajrX/xUn63arnP/8qH+cnEfDex6mINVojncMbP/IFu/fr0kqUOHDmnbO3TokHqsKWPHjlVBQUHqVlJSYmudVlq1dZeufeETxROmftHncD1+SV/CHwDggP2kW3u9+duTdExRvrbsrNalT83VhH8ukw8GFDOKLwNg0vfnZJimuc95GqNHj1ZFRUXqtmrVKrtLtMSu6ph+9dx8bd9Vo94dCzTmFz1Zrw4A0GwlbVvptWsG6hd9D1fClO77x2Ld/PIiRWPuXDcWjfkyABYWFkpSo96+jRs3NuoVbCgSiSg/Pz/t5namaeqWlxfp6/VVOqx1RE/8sl/GnrAAADh4ssNBPXRhb9117jEKBgy9+slqXfTkHG2qiv7wk+E4XwbAsrIyFRYWasaMGalt1dXVmj17tgYOHOhgZdZ7fNa3euvzdQoHDT1xaV8VFXhvsi4AwJ0Mw9DIE8v07KjjlJ8d0icrt+u8xz7Ul2srnC4NPyBjA+COHTv06aef6tNPP5VUe+LHp59+qpUrV8owDN1www0aM2aMpkyZoi+++EIjR45Uq1atdPHFFztbuIXmLtuiB6cvkSTd9bMeKi9t+wPPAADgwJ18ZDu9fu2J6nJYrtZW7NHQ8R/p89WEQDfL2AA4f/589enTR3369JEk3XTTTerTp4/uuOMOSdKtt96qG264Qddcc43Ky8u1Zs0aTZ8+PaPWAHxx3iqZpnR+n8N1yYDOTpcDAMhgXdq11pRrTlT/srbaXRPXpDnfOV0S9sEX6wDaxc3rCNXEE+p3zwxV7onppatOSDuFHwAAu3ywdJN++fTHapcX0dzRp7vypEM3//t9sGRsD6DfzVu+VZV7Ymqbm6V+nds4XQ4AwCf6l7VVq6ygNlVF9eVab62X6ycEwAw1/asNkqTTu7dPXRIJAAC7RUJBnXxk7cLQ7369weFqsDcEwAxkmqZm1AXAQT0KHa4GAOA3p3evXVLtva83OlwJ9oYAmIG+XFupNdt3Kzsc0ElHcHkeAMDB9ZPu7SRJi1ZXaGPVHoerQVMIgBko2fv34yPbKSeLRZ8BAAdX+7xs9epYIEma9fUmh6tBUwiAGSgZAM88Zu9XNQEAwE6ndW8viXmAbkUAzDCrtu7SV+sqFTCk048mAAIAnJEMgB8u3cw1gl2IAJhhZi6u/UurvLSt2uZmOVwNAMCvflRcoHZ5Ee2sjuvj5VudLgffQwDMMNO/rDv7l+FfAICDAgFDp3WrGwZezNnAbkMAzCDbd1Xr4xW1f2UNOoblXwAAzjq1bhj4va83iguPuQsBMIO89/VGxROmuhfmqdOhrZwuBwDgcycdeZiyggGt3LpL327a6XQ5aIAAmEE4+xcA4CatIyEN6FJ7Lfr3WRTaVQiAGcI0TX2wdLMkAiAAwD1OZzkYVyIAZoiNVVHtiMYUMKSji/KdLgcAAEn18wDnr9im3dUsB+MWBMAMsXLrLklS8SE5Cgd5WwEA7tCpbSt1yI8oljD12ertTpeDOiSFDPHdltoA2JmTPwAALmIYhso7184DXPDdNoerQRIBMEOs3FJ7dlWntrkOVwIAQLp+ndtIkuavYEFotyAAZojkEHCntvQAAgDcpby0NgAu+G6bEgnWA3QDAmCG+G4rQ8AAAHc6uihfOeGgKvfE9M2mHU6XAxEAM8YqegABAC4VDgbUu6RAEvMA3YIAmAF2RGPavKNakrgCCADAlZIngsxfQQB0AwJgBkj2/h3SKqz87LDD1QAA0Fi/1DxATgRxAwJgBkgtAcPwLwDApfp2qg2AK7bs0qaqqMPVgACYAVLz/w5lCRgAgDsV5IR1VIfWkqRPVjIM7DQCYAb4bmtyDcAchysBAGDv+rEgtGsQADNA/RAwPYAAAPcqZ0Fo1yAAZoDkEHAJcwABAC6WXBD6izWV2lMTd7gafyMAelwsntDqbbslsQg0AMDdOrVtpcNaR1QdT+iLNRVOl+NrBECPW1exR7GEqaxgQIX52U6XAwDAXhmGoX6dD5EkzWceoKMIgB6XvAZwx7Y5CgQMh6sBAGDfWBDaHQiAHpcMgKwBCADwguSC0J+s3CbTNB2uxr8IgB6XPAOYawADALzgR8UFygoFtHVntZZv3ul0Ob5FAPQ4FoEGAHhJViig3h0LJDEP0EkEQI+rXwSaHkAAgDeUl9bOA5y3nPUAnUIA9DDTNOsXgWYJGACAR/Qvqw2AH7MgtGMIgB5WsbtGVXtikqSSNgRAAIA39OvcRgGjdh77+oo9TpfjSwRAD0v2/rXPiygnK+hwNQAA7J/87LCOKc6XRC+gUwiAHpZaAobhXwCAx/QvPVSS9PHyLQ5X4k8EQA9byTWAAQAelZoHyIkgjiAAetjK5AkgbVkCBgDgLcfVLQj9nw07tHVntcPV+A8B0MNSS8AcmuNwJQAAHJhDW0d0ZPvWkqR5zAM86AiAHrYydRUQegABAN7DMLBzCIAeFY3Fta6y9tR5TgIBAHgRAdA5BECPWr1tt0xTapUV1KG5WU6XAwDAAUsGwC/XVqhqT43D1fgLAdCjkmcAd2rbSoZhOFwNAAAHrqggR53atlLClBZwXeCDigDoUfXz/xj+BQB4F8PAziAAetSWHVFJUof8bIcrAQCg+QiAziAAelRVtPYawHnZIYcrAQCg+QbUBcDPVm/Xnpq4w9X4h68DYFVVlW644QZ17txZOTk5GjhwoObNm+d0Wfulak8yAIYdrgQAgObr1LaVCvOzVRM3tXDldqfL8Q1fB8Arr7xSM2bM0PPPP6/PP/9cgwYN0hlnnKE1a9Y4XdoP2lEXAFvTAwgA8DDDMBgGdoBvA+Du3bv16quv6k9/+pN+/OMf64gjjtBdd92lsrIyjR8/3unyftCO5BBwhAAIAPC2VABcscXhSvzDt+khFospHo8rOzv9JIqcnBx9+OGHTT4nGo0qGo2m7ldWVtpa474k5wC2JgACADwuOQ9wwXfbVB1LKCvk2/6pg8a3LZyXl6cTTjhB99xzj9auXat4PK5JkyZp7ty5WrduXZPPGTt2rAoKClK3kpKSg1x1veSCmZwEAgDwuiPat1bb3CztqUno8zXbnS7HF3wbACXp+eefl2maOvzwwxWJRPToo4/q4osvVjAYbHL/0aNHq6KiInVbtWrVQa64HnMAAQCZwjAM9S+t7QWcs4x5gAeDrwNg165dNXv2bO3YsUOrVq3Sxx9/rJqaGpWVlTW5fyQSUX5+ftrNKfVzADkLGADgfQO61AbAuZwIclD4OgAm5ebmqqioSNu2bdO0adN03nnnOV3SPsUTpnZV166VRA8gACATDCg7VJK0YMVW1cQTDleT+XydHqZNmybTNNWtWzd98803uuWWW9StWzeNGjXK6dL2KTn8K3ESCAAgM3QvzFNBTlgVu2v0xZoK9enUxumSMpqvewArKip07bXXqnv37rrssst00kknafr06QqH3T2sWhWtPQEkEgpwphQAICMEAoaOK2UY+GDxdXoYNmyYvv32W0WjUa1bt06PPfaYCgoKnC7rB+3gMnAAgAx0fHIe4DLWA7SbrwOgV6XOAGb4FwCQQY7vUjsPcP6KbYonTIeryWwEQA+qYgkYAEAGOrooX3nZIVVFY/pqrXMXW/ADAqAHVbEEDAAgAwXT5gEyDGwnAqAHsQg0ACBTJS8Lx4LQ9iIAetCOurOA85gDCADIMAPq5gHOW7FVCeYB2oYA6EH0AAIAMtWPivOVmxVUxe4aLV7PPEC7EAA9qHIPy8AAADJTKBhQeXIeIMPAtiEAelByHcDWnAQCAMhA9dcF5kQQuxAAPYghYABAJkteF/jj5cwDtAsB0INSVwLhJBAAQAbq1bFAOeGgtu2q0dKNO5wuJyMRAD2oak/dWcD0AAIAMlA4GFC/zm0kMQxsFwKgB1VFuRQcACCzDShrq6xQQFt2VDtdSkYiQXgQcwABAJlu5Iml+tWPuyg7HHS6lIxEgvCgHVwKDgCQ4fKy+TfOTgwBe0wsntCu6rgk5gACAIDmIQB6zM5oPPV9LnMAAQBAMxAAPaaq7jrAkVBAWSHePgAAcOBIEB6Tmv/H8C8AAGgmAqDHVKWuA8zkWAAA0DwEQI9JLQHD/D8AANBMBECPYRFoAADQUgRAj2ERaAAA0FIEQI/hOsAAAKClCIAeU38VEAIgAABoHgKgx1QxBAwAAFqIAOgxO1IngbAMDAAAaB4CoMck5wDSAwgAAJqLAOgxyR7AfAIgAABoJgKgx7AQNAAAaCkCoMewEDQAAGgpAqDHcBYwAABoKQKgxySHgPOzOQsYAAA0DwHQQ2LxhHbXxCUxBAwAAJqPAOghO6Px1Pe5BEAAANBMBEAPqaxbAzASCigrxFsHAACahxThIanrADP/DwAAtAAB0EPqAyDDvwAAoPkIgB7CItAAAMAKBEAPSc4BJAACAICWIAB6CEPAAADACgRAD9nBVUAAAIAFCIAekuoBZAgYAAC0AAHQQ7gOMAAAsAIB0EOSAZB1AAEAQEsQAD1kR5SzgAEAQMsRAD2Es4ABAIAVCIAeUsVC0AAAwAIEQA/ZwRxAAABgAd8GwFgspv/+7/9WWVmZcnJy1KVLF/3xj39UIpFwurS9qorSAwgAAFrOt0nigQce0BNPPKGJEyeqR48emj9/vkaNGqWCggJdf/31TpfXpPoeQN++bQAAwAK+TRIfffSRzjvvPP30pz+VJJWWlmry5MmaP3++w5U1rSae0O6auCR6AAEAQMv4dgj4pJNO0rvvvqv//Oc/kqTPPvtMH374oc455xyHK2vazrrhX4mFoAEAQMv4NkncdtttqqioUPfu3RUMBhWPx3Xffffpoosu2utzotGootFo6n5lZeXBKFVS/RnA2eGAwkHf5nYAAGAB3yaJv//975o0aZJeeOEFffLJJ5o4caIefPBBTZw4ca/PGTt2rAoKClK3kpKSg1bvjtQJIJwBDAAAWsYwTdN0uggnlJSU6Pbbb9e1116b2nbvvfdq0qRJ+vrrr5t8TlM9gCUlJaqoqFB+fr6t9X68fKuG/e0jlR2Wq/dv/omtxwIAIJNVVlaqoKDgoPz77Va+HQLetWuXAoH0DtBgMLjPZWAikYgikYjdpTWJy8ABAACr+DZNnHvuubrvvvvUqVMn9ejRQwsXLtTDDz+sK664wunSmlTFEjAAAMAivk0Tf/nLX/SHP/xB11xzjTZu3Kji4mJdddVVuuOOO5wurUk7WAQaAABYxLdpIi8vT+PGjdO4ceOcLmW/pK4DTA8gAABoId+eBew1qauA0AMIAABaiADoEckh4LxsloEBAAAtQwD0CIaAAQCAVQiAHsEyMAAAwCoEQI9gGRgAAGAVAqBH1M8BJAACAICWIQB6RPIsYK4FDAAAWooA6BFVLAQNAAAsQgD0iKo9tSeBMAQMAABaigDoAaZpak9NQpKUkxV0uBoAAOB1BEAPqImbqe+zQrxlAACgZUgTHlATT6S+Dwd4ywAAQMuQJjwgLQAGDQcrAQAAmYAA6AHVdQHQMKRggAAIAABahgDoAck5gOFgQIZBAAQAAC1DAPSAmlhtD2BWkLcLAAC0HInCA5JzAJn/BwAArEAA9ICGQ8AAAAAtRaLwgPoeQN4uAADQciQKD0gGQBaBBgAAViBReEA1cwABAICFCIAewBxAAABgJRKFBySXgQkRAAEAgAVIFB6QmgPIEDAAALAAAdADqjkLGAAAWIhE4QHMAQQAAFYiUXgA6wACAAArkSg8oH4dQOYAAgCAliMAegBDwAAAwEokCg9gCBgAAFiJROEByXUACYAAAMAKrksUGzZs2OtjixYtOoiVuAfrAAIAACu5LgD27NlTU6dObbT9wQcf1IABAxyoyHnVzAEEAAAWcl2iuO222zR8+HBdffXV2r17t9asWaPTTjtNf/7zn/X3v//d6fIckewB5FJwAADACq5LFL/73e80Z84c/etf/1KvXr3Uq1cv5eTkaNGiRfrZz37mdHmOYAgYAABYyXUBUJK6dOmiHj16aMWKFaqsrNSwYcPUoUMHp8tyDGcBAwAAK7kuUSR7/r755hstWrRI48eP129/+1sNGzZM27Ztc7o8R1TH6uYAhlz3dgEAAA9yXaI47bTTNGzYMH300Uc6+uijdeWVV2rhwoVavXq1evbs6XR5jqAHEAAAWCnkdAHfN336dJ1yyilp27p27aoPP/xQ9913n0NVOSuWYA4gAACwjusC4OzZszV79myny3CV1BAwPYAAAMACrguAU6ZMSbtfU1Oj5cuXKxQKqWvXrrrjjjscqsw5DAEDAAAruS4ALly4sNG2yspKjRw5Uueff74DFTkvFQA5CQQAAFjAE4kiPz9ff/zjH/WHP/zB6VIcwTqAAADASp4IgJK0fft2VVRUOF2GI7gUHAAAsJLrhoAfffTRtPumaWrdunV6/vnnNXjwYIeqclZNjEvBAQAA67guAD7yyCNp9wOBgNq1a6fLL79co0ePdqgqZ9WfBMIQMAAAaDnXBcDly5c7XYLr1M8BpAcQAAC0HInCA2qYAwgAACzk60RRWloqwzAa3a699lqnS0tTzTqAAADAQq4bAj6Y5s2bp3g8nrr/xRdf6Mwzz9SFF17oYFWNxZJDwCHmAAIAgJbzdQBs165d2v37779fXbt2bXQtYqcxBAwAAKxEoqhTXV2tSZMm6YorrpBhuKunjSFgAABgJV/3ADb0+uuva/v27Ro5cuRe94lGo4pGo6n7lZWVttdlmibXAgYAAJYiUdR5+umndfbZZ6u4uHiv+4wdO1YFBQWpW0lJie11xROmzNoRYJaBAQAAliBRSPruu+80c+ZMXXnllfvcb/To0aqoqEjdVq1aZXttyfl/khRiIWgAAGABhoAlPfPMM2rfvr1++tOf7nO/SCSiSCRykKqqlZz/JzEEDAAArOH7RJFIJPTMM8/o8ssvVyjkvjxckxYA6QEEAAAt5/sAOHPmTK1cuVJXXHGF06U0qeF1gN12djIAAPAm93V5HWSDBg2SaZo/vKNDamKsAQgAAKxFqnA51gAEAABWI1W4XCxBAAQAANYiVbhccgg4ixNAAACARQiALpcaAg7xVgEAAGuQKlyOy8ABAACrkSpcjgAIAACsRqpwuYbrAAIAAFiBAOhy1awDCAAALEaqcDl6AAEAgNUIgC7HHEAAAGA1UoXLJQNgFgEQAABYhFThctVx5gACAABrkSpcLsZC0AAAwGKkCpfjJBAAAGA1AqDL1cST1wLmrQIAANYgVbhcdYyzgAEAgLVIFS7HMjAAAMBqpAqXYw4gAACwGgHQ5WpYBgYAAFiMVOFy1QwBAwAAi5EqXK4meRJIiCFgAABgDQKgy3EpOAAAYDVShcsxBxAAAFiNVOFyLAMDAACsRqpwOZaBAQAAViMAulzqUnAh3ioAAGANUoXLsQwMAACwGqnC5ZgDCAAArEaqcLlkAAwxBxAAAFiEAOhyNbG6OYD0AAIAAIuQKlyOIWAAAGA1UoXLVbMMDAAAsBgB0OXoAQQAAFYjVbhcjHUAAQCAxUgVLsc6gAAAwGqkCpfjUnAAAMBqBECXS10Kjh5AAABgEVKFi8UTpuKJ2gDIEDAAALAKqcLFksO/khTmJBAAAGARUoWLNQyAoQBzAAEAgDUIgC6WnP8nMQQMAACsQ6pwsWQPYDBgKEgPIAAAsAgB0MWqYywBAwAArEcAdDEuAwcAAOxAsnCxWII1AAEAgPVIFi5WPwTM2wQAAKxDsnCx1BBwiDmAAADAOgRAF0suA0MPIAAAsBLJwsWSPYDMAQQAAFbydbJYs2aNLr30Uh166KFq1aqVjj32WC1YsMDpslKqOQsYAADYIOR0AU7Ztm2bTjzxRJ166ql6++231b59e3377bc65JBDnC4tpabuJJAQ6wACAAAL+TYAPvDAAyopKdEzzzyT2lZaWupcQU1gDiAAALCDb5PF1KlTVV5ergsvvFDt27dXnz59NGHChH0+JxqNqrKyMu1mJ+YAAgAAO/g2WSxbtkzjx4/XkUceqWnTpunqq6/Wddddp+eee26vzxk7dqwKCgpSt5KSEltrrJ8DyBAwAACwjm8DYCKRUN++fTVmzBj16dNHV111lX71q19p/Pjxe33O6NGjVVFRkbqtWrXK1hq5FBwAALCDb5NFUVGRjjnmmLRtRx99tFauXLnX50QiEeXn56fd7BRLzgEM+fZtAgAANvBtsjjxxBO1ZMmStG3/+c9/1LlzZ4cqaow5gAAAwA6+TRY33nij5syZozFjxuibb77RCy+8oCeffFLXXnut06WlMAcQAADYwbcB8LjjjtOUKVM0efJk/ehHP9I999yjcePG6ZJLLnG6tJSaGMvAAAAA6/l2HUBJGjJkiIYMGeJ0GXvFSSAAAMAOJAsXS80B5CQQAABgIZKFiyXnAIYCzAEEAADWIQC6GEPAAADADiQLF0ueBMIQMAAAsBLJwsVqWAYGAADYgADoYtUMAQMAABuQLFwsdSk4AiAAALAQycLFuBQcAACwA8nCxVJDwCHmAAIAAOsQAF2MZWAAAIAdSBYuVsMcQAAAYAOShYsxBxAAANiBZOFi1bG6S8GxDiAAALAQAdDFmAMIAADsQLJwMeYAAgAAO5AsXIw5gAAAwA4kCxerYR1AAABgAwKgizEEDAAA7ECycDGGgAEAgB1IFi7GWcAAAMAOJAuXMk2zwRAwcwABAIB1CIAulQx/khQO8TYBAADrkCxcKjn8KzEHEAAAWItk4VINA2AowBAwAACwDgHQparrAqBhSEECIAAAsBAB0KUargFoGARAAABgHQKgS9XEWAMQAADYg3ThUrFEcg1Aev8AAIC1CIAuVR3jMnAAAMAepAuX4iogAADALqQLl0pdB5hFoAEAgMVIFy5VHWcOIAAAsAcB0KUaLgMDAABgJdKFSyWXgSEAAgAAq5EuXKqGIWAAAGATAqBLVXMWMAAAsAnpwqWYAwgAAOxCunAp1gEEAAB2IV24VCy1DiBzAAEAgLUIgC5VzRAwAACwCenCpRgCBgAAdiFduBTrAAIAALuQLlwqdS1g1gEEAAAWIwC6FHMAAQCAXUgXLpWaAxjiLQIAANYiXbhUKgAGGAIGAADWIgC6FGcBAwAAu5AuXKo6VjcHkCFgAABgMd+mi7vuukuGYaTdCgsLnS4rhR5AAABgl5DTBTipR48emjlzZup+MBh0sJp0sQTLwAAAAHv4OgCGQiFX9fo1lBoCpgcQAABYzNfpYunSpSouLlZZWZlGjBihZcuW7XP/aDSqysrKtJtdGAIGAAB28W26GDBggJ577jlNmzZNEyZM0Pr16zVw4EBt2bJlr88ZO3asCgoKUreSkhLb6mMdQAAAYBffpouzzz5bF1xwgXr27KkzzjhDb731liRp4sSJe33O6NGjVVFRkbqtWrXKtvq4FBwAALCLr+cANpSbm6uePXtq6dKle90nEokoEokclHq4FBwAALAL6aJONBrV4sWLVVRU5HQpkqSaGHMAAQCAPXybLm6++WbNnj1by5cv19y5czV06FBVVlbq8ssvd7o0SfVDwCGGgAEAgMV8OwS8evVqXXTRRdq8ebPatWun448/XnPmzFHnzp2dLk1SwzmAvs3oAADAJr4NgC+++KLTJexTDXMAAQCATUgXLlXNOoAAAMAmpAuXiiWHgEPMAQQAANYiALoUQ8AAAMAupAuXYggYAADYhXThQqZpci1gAABgG9KFC8UTpszaEWCWgQEAAJYjXbhQcv6fJIU5CQQAAFiMAOhCyfl/khQK8BYBAABrkS5cqKZBAAxzKTgAAGAxAqAL1Z8AYsgwCIAAAMBaBEAXqomxBiAAALAPCcOFWAMQAADYiYThQrEEARAAANiHhOFCySHgLE4AAQAANiAAulBqCDjE2wMAAKxHwnAhLgMHAADsRMJwIQIgAACwEwnDhZIBkDmAAADADgRAF6quOwkkRA8gAACwAQnDhRpeCQQAAMBqBEAXYg4gAACwEwnDhernAPL2AAAA65EwXKgmzrWAAQCAfUgYLlTDQtAAAMBGJAwX4iQQAABgJwKgCyWHgJkDCAAA7EDCcKHqGGcBAwAA+4ScLgCNndKtnfJzwupemOd0KQAAIAMRAF2ob6c26tupjdNlAACADMUYIwAAgM8QAAEAAHyGAAgAAOAzBEAAAACfIQACAAD4DAEQAADAZwiAAAAAPkMABAAA8BkCIAAAgM8QAAEAAHyGAAgAAOAzBEAAAACfIQACAAD4TMjpArzMNE1JUmVlpcOVAACA/ZX8dzv577gfEQBboKqqSpJUUlLicCUAAOBAVVVVqaCgwOkyHGGYfo6/LZRIJLR27Vrl5eXJMAxLX7uyslIlJSVatWqV8vPzLX1t0L4HA21sP9rYfrSxvZxqX9M0VVVVpeLiYgUC/pwNRw9gCwQCAXXs2NHWY+Tn5/NLx0a0r/1oY/vRxvajje3lRPv6tecvyZ+xFwAAwMcIgAAAAD5DAHSpSCSiO++8U5FIxOlSMhLtaz/a2H60sf1oY3vRvs7hJBAAAACfoQcQAADAZwiAAAAAPkMABAAA8BkCIAAAgM8QAG3w+OOPq6ysTNnZ2erXr58++OCDfe4/e/Zs9evXT9nZ2erSpYueeOKJRvu8+uqrOuaYYxSJRHTMMcdoypQpLT6ulznRxnfddZcMw0i7FRYWWvpzuYnVbfzll1/qggsuUGlpqQzD0Lhx4yw5rpc50cZ8jlvWxhMmTNDJJ5+sNm3aqE2bNjrjjDP08ccft/i4XuVE+/rtM2wbE5Z68cUXzXA4bE6YMMH86quvzOuvv97Mzc01v/vuuyb3X7ZsmdmqVSvz+uuvN7/66itzwoQJZjgcNl955ZXUPv/+97/NYDBojhkzxly8eLE5ZswYMxQKmXPmzGn2cb3MqTa+8847zR49epjr1q1L3TZu3Gj7z+sEO9r4448/Nm+++WZz8uTJZmFhofnII4+0+Lhe5lQb8zluWRtffPHF5l//+ldz4cKF5uLFi81Ro0aZBQUF5urVq5t9XK9yqn399Bm2EwHQYv379zevvvrqtG3du3c3b7/99ib3v/XWW83u3bunbbvqqqvM448/PnV/2LBh5uDBg9P2Oeuss8wRI0Y0+7he5lQb33nnnWbv3r1bWL032NHGDXXu3LnJcMLn2P425nNsXRubpmnGYjEzLy/PnDhxYrOP61VOta+fPsN2YgjYQtXV1VqwYIEGDRqUtn3QoEH697//3eRzPvroo0b7n3XWWZo/f75qamr2uU/yNZtzXK9yqo2Tli5dquLiYpWVlWnEiBFatmxZS38k17Grje04rlc51cZJfI6ta+Ndu3appqZGbdu2bfZxvcip9k3yw2fYbgRAC23evFnxeFwdOnRI296hQwetX7++yeesX7++yf1jsZg2b968z32Sr9mc43qVU20sSQMGDNBzzz2nadOmacKECVq/fr0GDhyoLVu2WPGjuYZdbWzHcb3KqTaW+Bxb3ca33367Dj/8cJ1xxhnNPq4XOdW+kn8+w3YLOV1AJjIMI+2+aZqNtv3Q/t/fvj+veaDH9TIn2vjss89Ofd+zZ0+dcMIJ6tq1qyZOnKibbrrpwH8Il7Ojje04rpc50cZ8jq1r4z/96U+aPHmyZs2apezs7BYd16ucaF+/fYbtQgC00GGHHaZgMNjor5+NGzc2+qsnqbCwsMn9Q6GQDj300H3uk3zN5hzXq5xq46bk5uaqZ8+eWrp0aXN+FNeyq43tOK5XOdXGTeFzXO9A2vjBBx/UmDFjNHPmTPXq1atFx/Uip9q3KZn6GbYbQ8AWysrKUr9+/TRjxoy07TNmzNDAgQObfM4JJ5zQaP/p06ervLxc4XB4n/skX7M5x/Uqp9q4KdFoVIsXL1ZRUVFzfhTXsquN7TiuVznVxk3hc1xvf9v4z3/+s+655x698847Ki8vb/Fxvcip9m1Kpn6GbXfQTzvJcMnT4p9++mnzq6++Mm+44QYzNzfXXLFihWmapnn77bebv/zlL1P7J0+Lv/HGG82vvvrKfPrppxudFv+vf/3LDAaD5v33328uXrzYvP/++/e6DMzejptJnGrj3/3ud+asWbPMZcuWmXPmzDGHDBli5uXl0cbm/rVxNBo1Fy5caC5cuNAsKioyb775ZnPhwoXm0qVL9/u4mcSpNuZz3LI2fuCBB8ysrCzzlVdeSVuGpKqqar+Pmymcal8/fYbtRAC0wV//+lezc+fOZlZWltm3b19z9uzZqccuv/xy85RTTknbf9asWWafPn3MrKwss7S01Bw/fnyj13z55ZfNbt26meFw2Ozevbv56quvHtBxM40TbTx8+HCzqKjIDIfDZnFxsfmLX/zC/PLLL235+dzA6jZevny5KanR7fuvw+e4ll1tzOe4ZW3cuXPnJtv4zjvv3O/jZhIn2tdvn2G7GKZZNwMTAAAAvsAcQAAAAJ8hAAIAAPgMARAAAMBnCIAAAAA+QwAEAADwGQIgAACAzxAAAQAAfIYACCCjGIah119/3ekyAMDVCIAAPGHkyJEyDEOGYSgcDqtDhw4688wz9T//8z9KJBKp/datW6ezzz57v16TsAjArwiAADxj8ODBWrdunVasWKG3335bp556qq6//noNGTJEsVhMklRYWKhIJOJwpQDgbgRAAJ4RiURUWFioww8/XH379tXvf/97vfHGG3r77bf17LPPSkrv1auurtZvfvMbFRUVKTs7W6WlpRo7dqwkqbS0VJJ0/vnnyzCM1P1vv/1W5513njp06KDWrVvruOOO08yZM9PqKC0t1ZgxY3TFFVcoLy9PnTp10pNPPpm2z+rVqzVixAi1bdtWubm5Ki8v19y5c1OP/9///Z/69eun7OxsdenSRXfffXcqxAKA3QiAADzttNNOU+/evfXaa681euzRRx/V1KlT9dJLL2nJkiWaNGlSKujNmzdPkvTMM89o3bp1qfs7duzQOeeco5kzZ2rhwoU666yzdO6552rlypVpr/3QQw+pvLxcCxcu1DXXXKNf//rX+vrrr1Ovccopp2jt2rWaOnWqPvvsM916662poepp06bp0ksv1XXXXaevvvpKf/vb3/Tss8/qvvvus6uZACBNyOkCAKClunfvrkWLFjXavnLlSh155JE66aSTZBiGOnfunHqsXbt2kqRDDjlEhYWFqe29e/dW7969U/fvvfdeTZkyRVOnTtVvfvOb1PZzzjlH11xzjSTptttu0yOPPKJZs2ape/fueuGFF7Rp0ybNmzdPbdu2lSQdccQRqefed999uv3223X55ZdLkrp06aJ77rlHt956q+68804rmgQA9okACMDzTNOUYRiNto8cOVJnnnmmunXrpsGDB2vIkCEaNGjQPl9r586duvvuu/Xmm29q7dq1isVi2r17d6MewF69eqW+NwxDhYWF2rhxoyTp008/VZ8+fVLh7/sWLFigefPmpfX4xeNx7dmzR7t27VKrVq32+2cHgOYgAALwvMWLF6usrKzR9r59+2r58uV6++23NXPmTA0bNkxnnHGGXnnllb2+1i233KJp06bpwQcf1BFHHKGcnBwNHTpU1dXVafuFw+G0+4ZhpIZ4c3Jy9llvIpHQ3XffrV/84heNHsvOzt7ncwHACgRAAJ723nvv6fPPP9eNN97Y5OP5+fkaPny4hg8frqFDh2rw4MHaunWr2rZtq3A4rHg8nrb/Bx98oJEjR+r888+XVDufb8WKFQdUU69evfTUU0+ljvN9ffv21ZIlS9KGhQHgYCIAAvCMaDSq9evXKx6Pa8OGDXrnnXc0duxYDRkyRJdddlmj/R955BEVFRXp2GOPVSAQ0Msvv6zCwkIdcsghkmrP5n333Xd14oknKhKJqE2bNjriiCP02muv6dxzz5VhGPrDH/6Qts7g/rjooos0ZswY/fznP9fYsWNVVFSkhQsXqri4WCeccILuuOMODRkyRCUlJbrwwgsVCAS0aNEiff7557r33nutaCoA2CfOAgbgGe+8846KiopUWlqqwYMH6/3339ejjz6qN954Q8FgsNH+rVu31gMPPKDy8nIdd9xxWrFihf7xj38oEKj91ffQQw9pxowZKikpUZ8+fSTVhsY2bdpo4MCBOvfcc3XWWWepb9++B1RnVlaWpk+frvbt2+ucc85Rz549df/996dqPOuss/Tmm29qxowZOu6443T88cfr4YcfTjtJBQDsZJimaTpdBAAAAA4eegABAAB8hgAIAADgMwRAAAAAnyEAAgAA+AwBEAAAwGcIgAAAAD5DAAQAAPAZAiAAAIDPEAABAAB8hgAIAADgMwRAAAAAnyEAAgAA+Mz/A9bxgMVMaWSkAAAAAElFTkSuQmCC' width=640.0/>\n",
       "            </div>\n",
       "        "
      ],
      "text/plain": [
       "Canvas(toolbar=Toolbar(toolitems=[('Home', 'Reset original view', 'home', 'home'), ('Back', 'Back to previous …"
      ]
     },
     "metadata": {},
     "output_type": "display_data"
    }
   ],
   "source": [
    "mesh_point.plot_over_line(a, b, resolution=100, scalars='ux')"
   ]
  },
  {
   "cell_type": "markdown",
   "id": "5951b97f",
   "metadata": {},
   "source": [
    "## Plot a scalar over a circular arc"
   ]
  },
  {
   "cell_type": "code",
   "execution_count": 248,
   "id": "b17fcab2",
   "metadata": {},
   "outputs": [
    {
     "data": {
      "application/vnd.jupyter.widget-view+json": {
       "model_id": "f6dff40eb3e544dc96e8c083a92bc7c6",
       "version_major": 2,
       "version_minor": 0
      },
      "text/plain": [
       "ViewInteractiveWidget(height=768, layout=Layout(height='auto', width='100%'), width=1024)"
      ]
     },
     "metadata": {},
     "output_type": "display_data"
    }
   ],
   "source": [
    "# Make two points at the bounds of the mesh and one at the center to\n",
    "# construct a circular arc.\n",
    "normal = [0, 0, 1]\n",
    "polar = [0.02, 0, 0]\n",
    "center = [0, 0, 0]\n",
    "angle = 100.0\n",
    "\n",
    "# Preview how this circular arc intersects this mesh\n",
    "arc = pv.CircularArcFromNormal(center, 100, normal, polar, angle)\n",
    "\n",
    "p = pv.Plotter()\n",
    "p.add_mesh(mesh, style=\"wireframe\", color=\"w\")\n",
    "p.add_mesh(arc, color=\"r\")\n",
    "a = arc.points[0]\n",
    "b = arc.points[-1]\n",
    "p.add_point_labels(\n",
    "    [a, b], [\"A\", \"B\"], font_size=48, point_color=\"red\", text_color=\"red\"\n",
    ")\n",
    "p.view_xy()\n",
    "p.show()"
   ]
  },
  {
   "cell_type": "markdown",
   "id": "06f8e2c1",
   "metadata": {},
   "source": [
    "Let's see what's in the arc object."
   ]
  },
  {
   "cell_type": "code",
   "execution_count": 249,
   "id": "48401377",
   "metadata": {},
   "outputs": [
    {
     "data": {
      "text/html": [
       "<table><tr><th>Header</th><th>Data Arrays</th></tr><tr><td>\n",
       "<table>\n",
       "<tr><th>PolyData</th><th>Information</th></tr>\n",
       "<tr><td>N Cells</td><td>1</td></tr>\n",
       "<tr><td>N Points</td><td>101</td></tr>\n",
       "<tr><td>X Bounds</td><td>-3.473e-03, 2.000e-02</td></tr>\n",
       "<tr><td>Y Bounds</td><td>0.000e+00, 2.000e-02</td></tr>\n",
       "<tr><td>Z Bounds</td><td>0.000e+00, 0.000e+00</td></tr>\n",
       "<tr><td>N Arrays</td><td>2</td></tr>\n",
       "</table>\n",
       "\n",
       "</td><td>\n",
       "<table>\n",
       "<tr><th>Name</th><th>Field</th><th>Type</th><th>N Comp</th><th>Min</th><th>Max</th></tr>\n",
       "<tr><td>Texture Coordinates</td><td>Points</td><td>float32</td><td>2</td><td>0.000e+00</td><td>1.000e+00</td></tr>\n",
       "<tr><td><b>Distance</b></td><td>Points</td><td>float64</td><td>1</td><td>0.000e+00</td><td>3.491e-02</td></tr>\n",
       "</table>\n",
       "\n",
       "</td></tr> </table>"
      ],
      "text/plain": [
       "PolyData (0x171e1d8cee0)\n",
       "  N Cells:\t1\n",
       "  N Points:\t101\n",
       "  X Bounds:\t-3.473e-03, 2.000e-02\n",
       "  Y Bounds:\t0.000e+00, 2.000e-02\n",
       "  Z Bounds:\t0.000e+00, 0.000e+00\n",
       "  N Arrays:\t2"
      ]
     },
     "execution_count": 249,
     "metadata": {},
     "output_type": "execute_result"
    }
   ],
   "source": [
    "arc"
   ]
  },
  {
   "cell_type": "markdown",
   "id": "d4a116ea",
   "metadata": {},
   "source": [
    "I don't know how to add another plot on the same figure, it's perhaps only possible to plot one scalar or one vector at a time with this API."
   ]
  },
  {
   "cell_type": "code",
   "execution_count": 250,
   "id": "ea865e43",
   "metadata": {},
   "outputs": [
    {
     "data": {
      "application/vnd.jupyter.widget-view+json": {
       "model_id": "54487facdb6b47948f3cc3c0bab98550",
       "version_major": 2,
       "version_minor": 0
      },
      "text/html": [
       "\n",
       "            <div style=\"display: inline-block;\">\n",
       "                <div class=\"jupyter-widgets widget-label\" style=\"text-align: center;\">\n",
       "                    Figure\n",
       "                </div>\n",
       "                <img src='data:image/png;base64,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' width=640.0/>\n",
       "            </div>\n",
       "        "
      ],
      "text/plain": [
       "Canvas(toolbar=Toolbar(toolitems=[('Home', 'Reset original view', 'home', 'home'), ('Back', 'Back to previous …"
      ]
     },
     "metadata": {},
     "output_type": "display_data"
    }
   ],
   "source": [
    "mesh_point.plot_over_circular_arc_normal(center, 100, normal, polar, angle,scalars='ux')\n",
    "#mesh_point.plot_over_circular_arc_normal(center, 100, normal, polar, angle, scalars='uy')"
   ]
  },
  {
   "cell_type": "markdown",
   "id": "396dfb79",
   "metadata": {},
   "source": [
    "So let's try another way and create the figure ourself (there may be better ways to do this by the way)."
   ]
  },
  {
   "cell_type": "code",
   "execution_count": 251,
   "id": "443e4d4d",
   "metadata": {},
   "outputs": [],
   "source": [
    "sampled = pv.DataSetFilters.sample_over_circular_arc_normal(mesh_point,center,100,normal,polar,angle,)"
   ]
  },
  {
   "cell_type": "code",
   "execution_count": 252,
   "id": "c13c1c69",
   "metadata": {
    "scrolled": true
   },
   "outputs": [
    {
     "data": {
      "application/vnd.jupyter.widget-view+json": {
       "model_id": "fbb2b65f5c4948e4bfaef736d428eead",
       "version_major": 2,
       "version_minor": 0
      },
      "text/html": [
       "\n",
       "            <div style=\"display: inline-block;\">\n",
       "                <div class=\"jupyter-widgets widget-label\" style=\"text-align: center;\">\n",
       "                    Figure\n",
       "                </div>\n",
       "                <img src='data:image/png;base64,iVBORw0KGgoAAAANSUhEUgAAAoAAAAHgCAYAAAA10dzkAAAAOXRFWHRTb2Z0d2FyZQBNYXRwbG90bGliIHZlcnNpb24zLjMuNCwgaHR0cHM6Ly9tYXRwbG90bGliLm9yZy8QVMy6AAAACXBIWXMAAA9hAAAPYQGoP6dpAAB/7UlEQVR4nO2deXwU5f3H3zO7m5MQQiABQjgMyimHgLcConhhPWs9qmi12npia9XWWsGqSK33rRXxRP1VUStRAiKHBgU1iIGAgNwEOUJIAjl2Zp7fH2HXLDlISIbd7PN9v8iLZ2fn+H4+z+zOd77PzKyhlFIIgiAIgiAI2mCGOwBBEARBEATh0CIJoCAIgiAIgmZIAigIgiAIgqAZkgAKgiAIgiBohiSAgiAIgiAImiEJoCAIgiAIgmZIAigIgiAIgqAZkgAKgiAIgiBohiSAgiAIgiAImiEJoCAIgiAIgmZIAigIgiAIgqAZkgAKgiAIgiBohiSAgiAIgiAImiEJoCAIgiAIgmZIAigIgiAIgqAZkgAKgiAIgiBohiSAgiAIgiAImiEJoCAIgiAIgmZIAigIgiAIgqAZkgAKgiAIgiBohiSAgiAIgiAImiEJoCAIgiAIgmZIAigIgiAIgqAZkgAKgiAIgiBohiSAgiAIgiAImiEJoCAIgiAIgmZIAigIgiAIgqAZkgAKgiAIgiBohiSAgiAIgiAImiEJoCAIgiAIgmZIAigIgiAIgqAZkgAKgiAIgiBohiSAgiAIgiAImiEJoCAIgiAIgmZIAigIgiAIgqAZkgAKgiAIgiBohiSArYSpU6diGEbwLy4ujk6dOjFq1CgmTZrEtm3bai0zYcIEDMNo0nb27t3LhAkTmDt3bpOWq2tbPXr0YOzYsU1az4F46623ePzxx+t8zzAMJkyY0KLba2k+++wzhg0bRmJiIoZh8MEHH9Q535YtW5gwYQJLliyp9d5VV11FmzZt3A3UBQL78Lp16w7Z+hvaX4TIJDc3lwkTJlBcXHzIt30w35mHmob8ceM7V4heJAFsZbzyyissXLiQWbNm8cwzzzB48GAmT55M3759mT17dsi81157LQsXLmzS+vfu3cvEiRObnAAezLYOhoYO6AsXLuTaa691PYaDRSnFxRdfjM/n46OPPmLhwoWMGDGiznm3bNnCxIkT60wAhbo5++yzWbhwIZ07dw5OkwSw9ZGbm8vEiRPDkgC2BsQfoaXwhjsAoWkMGDCAYcOGBV9feOGF3HbbbZx44olccMEFrFq1ivT0dAC6du1K165dXY1n7969JCQkHJJtHYhjjz02rNs/EFu2bKGoqIjzzz+f0aNHhzucqKNjx4507Ngx3GEIgtAAgWOGEH6kAhgFdOvWjUceeYTS0lJeeOGF4PS6hjPmzJnDyJEjSU1NJT4+nm7dunHhhReyd+9e1q1bFzyATpw4MTjcfNVVV4Ws77vvvuOiiy4iJSWFrKysercVYPr06QwcOJC4uDgOO+wwnnzyyZD36xsanDt3LoZhBKuRI0eOZMaMGaxfvz5kODxAXUPA+fn5nHvuuaSkpBAXF8fgwYN59dVX69zOtGnTuPvuu+nSpQtt27bl1FNPZeXKlfUbX4MvvviC0aNHk5SUREJCAscffzwzZswIvj9hwoRggnznnXdiGAY9evSoc11z585l+PDhAFx99dVBnftrW716NWeddRZt2rQhMzOTP//5z1RWVobMU1VVxf3330+fPn2IjY2lY8eOXH311Wzfvr1BPY8//jiGYbB69epa7915553ExMSwY8eO4LTZs2czevRo2rZtS0JCAieccAKfffZZg9sIMGXKFAYNGkRcXBzt27fn/PPPp6CgoNZ8X3/9Neeccw6pqanExcWRlZXF+PHjg+/vvx/Vt78opTj88MM5/fTTa22jrKyM5ORkbrzxxgZjdhyHp556isGDBxMfH0+7du049thj+eijj0Lm+de//hX0Pi0tjSuvvJJNmzaFrGvkyJEMGDCAhQsXcvzxxxMfH0+PHj145ZVXAJgxYwZHHXUUCQkJHHnkkXz66achywc+e3l5eVxwwQW0bduW5ORkfvvb39bq56bGtHjxYk466SQSEhI47LDDeOihh3AcJ2TekpISbr/9dnr27ElMTAwZGRmMHz+ePXv2hMxnGAY33XQTr7/+On379iUhIYFBgwbx8ccfh2j5y1/+AkDPnj2DfRb4Dmjo+6sh3nnnHcaMGUPnzp2Jj4+nb9++3HXXXbVirAs3PFu2bBljxowhISGBjh07cuONNzJjxowQrXVxIH8CfPrppxx11FHEx8fTp08fpkyZUmtdW7du5frrr6dr167ExMTQs2dPJk6ciGVZB/SksX4GLlf54YcfGDNmDElJScGT38rKSu677z769u1LXFwcqampjBo1itzc3ANuX2ghlNAqeOWVVxSgFi9eXOf7ZWVlyuPxqNGjRwen3XvvvapmF69du1bFxcWp0047TX3wwQdq7ty56s0331RXXHGF2rVrl6qoqFCffvqpAtQ111yjFi5cqBYuXKhWr14dsr7u3burO++8U82aNUt98MEHdW5LKaW6d++uMjIyVLdu3dSUKVNUdna2uvzyyxWgHn744Vra1q5dG7L8559/rgD1+eefK6WUWrZsmTrhhBNUp06dgrEtXLgwOD+g7r333uDrFStWqKSkJJWVlaVee+01NWPGDHXppZcqQE2ePLnWdnr06KEuv/xyNWPGDDVt2jTVrVs3dfjhhyvLshrsm7lz5yqfz6eGDh2q3nnnHfXBBx+oMWPGKMMw1Ntvv62UUmrjxo3q/fffV4C6+eab1cKFC9V3331X5/p2794d9OTvf/97UOfGjRuVUkqNGzdOxcTEqL59+6p///vfavbs2eof//iHMgxDTZw4Mbge27bVGWecoRITE9XEiRPVrFmz1H/+8x+VkZGh+vXrp/bu3Vuvpu3bt6uYmBh19913h0y3LEt16dJFXXDBBcFpr7/+ujIMQ5133nnq/fffV//73//U2LFjlcfjUbNnzw7OV1c/P/jggwpQl156qZoxY4Z67bXX1GGHHaaSk5PVjz/+GJzv008/VT6fTw0cOFBNnTpVzZkzR02ZMkVdcskl9a6/of3liSeeUIZhhGxDKaWeeeYZBahly5bV641SSl1xxRXKMAx17bXXqg8//FB98skn6oEHHlBPPPFEcJ7rrrtOAeqmm25Sn376qXr++edVx44dVWZmptq+fXtwvhEjRqjU1FTVu3dv9fLLL6uZM2eqsWPHKkBNnDhRHXnkkWratGkqOztbHXvssSo2NlZt3rw5uHzNz+Vf/vIXNXPmTPXoo4+qxMRENWTIEFVVVXXQMR1++OHq+eefV7NmzVI33HCDAtSrr74anG/Pnj1q8ODBqkOHDurRRx9Vs2fPVk888YRKTk5Wp5xyinIcJzhv4DN29NFHq3fffVdlZ2erkSNHKq/Xq9asWaOUqv6c3HzzzQpQ77//frDPdu/efcDvr4b45z//qR577DE1Y8YMNXfuXPX888+rnj17qlGjRoXMV9f3WEt7tmXLFpWamqq6deumpk6dqrKzs9UVV1yhevToEfJ9VxcN+aNU9Xdu165dVb9+/dRrr72mZs6cqX79618rQM2bNy+4nsLCQpWZmam6d++uXnjhBTV79mz1z3/+U8XGxqqrrrqqQS+b4ue4ceOUz+dTPXr0UJMmTVKfffaZmjlzpvL7/WrUqFHK6/Wq22+/XWVnZ6uPPvpI/e1vf1PTpk074PaFlkESwFbCgRJApZRKT09Xffv2Db7e/8vsv//9rwLUkiVL6l3H9u3bayVS+6/vH//4R73v1aR79+7KMIxa2zvttNNU27Zt1Z49e0K0HSgBVEqps88+W3Xv3r3O2PeP+5JLLlGxsbFqw4YNIfOdeeaZKiEhQRUXF4ds56yzzgqZ791331VASJJZF8cee6xKS0tTpaWlwWmWZakBAwaorl27Bg+Ca9eurZX81sfixYsVoF555ZVa740bN04B6t133w2ZftZZZ6nevXsHX0+bNk0B6r333qtz3c8++2yDMVxwwQWqa9euyrbt4LTs7GwFqP/9739KqeoEoH379uqcc84JWda2bTVo0CB19NFHB6ft38+7du1S8fHxtXzfsGGDio2NVZdddllwWlZWlsrKylLl5eX1xlvXflTf/lJSUqKSkpLUrbfeGjK9X79+tQ5i+zN//nwF1EqOa1JQUKAAdcMNN4RM//rrrxWg/va3vwWnjRgxQgHqm2++CU7buXOn8ng8Kj4+PiTZW7JkiQLUk08+GZwW+OzddtttIdt68803FaDeeOONg47p66+/Dpm3X79+6vTTTw++njRpkjJNs9b3UuC7Jjs7OzgNUOnp6aqkpCQ4bevWrco0TTVp0qTgtIcffrjO74PGfH81BsdxlN/vV/PmzVOA+v7774Pv7f895oZnf/nLX5RhGLVOMk4//fQDJoBK1e+PUtXfuXFxcWr9+vXBaeXl5ap9+/bq+uuvD067/vrrVZs2bULmU0qpf//73406AapJQ34GvqumTJkSssxrr72mAPXSSy81ejtCyyNDwFGEUqrB9wcPHkxMTAzXXXcdr776Kj/99NNBbefCCy9s9Lz9+/dn0KBBIdMuu+wySkpK+O677w5q+41lzpw5jB49mszMzJDpV111FXv37q1108qvfvWrkNcDBw4EYP369fVuY8+ePXz99ddcdNFFIXfmejwerrjiCjZt2tToYeSmYBgG55xzTq14a8b68ccf065dO8455xwsywr+DR48mE6dOh3wRp+rr76aTZs2hdxc9Morr9CpUyfOPPNMoPqC9KKiIsaNGxeyDcdxOOOMM1i8eHG9w2wLFy6kvLw8eIlBgMzMTE455ZTgEPKPP/7ImjVruOaaa4iLi2usRQ2SlJTE1VdfzdSpU4PxzZkzh+XLl3PTTTc1uOwnn3wC0OAw8eeffw5QS9vRRx9N3759aw2Pd+7cmaFDhwZft2/fnrS0NAYPHkyXLl2C0/v27QvUvU9efvnlIa8vvvhivF5vMJamxtSpUyeOPvrokGl17WMDBgxg8ODBIf1/+umn1zk0OWrUKJKSkoKv09PTSUtLa/AzFqA5318//fQTl112GZ06dcLj8eDz+YI3YNV1uUEANzybN28eAwYMoF+/fiHzXXrppY3W0xCDBw+mW7duwddxcXEcccQRtfpt1KhRdOnSJaTfAp/refPmNbiNpvq5/zHjk08+IS4ujt/97ncHrVNoPpIARgl79uxh586dIQeL/cnKymL27NmkpaVx4403kpWVRVZWFk888USTtlXzLssD0alTp3qn7dy5s0nbbSo7d+6sM9aAR/tvPzU1NeR1bGwsAOXl5fVuY9euXSilmrSdliAhIaFWMhQbG0tFRUXw9c8//0xxcTExMTH4fL6Qv61bt4Zcw1cXZ555Jp07dw5ei7Zr1y4++ugjrrzySjweT3AbABdddFGtbUyePBmlFEVFRXWuP+BLfd4F3g9cx9bSNxndfPPNlJaW8uabbwLw9NNP07VrV84999wGl9u+fTsej6fOfTtAY7UFaN++fa35YmJiak2PiYkBCOnnAPvH4/V6SU1NDW6rqTHt/3mA6n2s5ufh559/ZunSpbX6PikpCaVUrX2sMeusj4P9/iorK+Okk07i66+/5v7772fu3LksXryY999/H2j48+2GZzt37gzeqFeTuqYdDI3tt//973+1+q1///4ADX43NNXPhIQE2rZtGzJt+/btdOnSBdOUFCScyF3AUcKMGTOwbZuRI0c2ON9JJ53ESSedhG3bfPPNNzz11FOMHz+e9PR0LrnkkkZtqynPydq6dWu90wJfVIFEZv8bGA6UoByI1NRUCgsLa03fsmULAB06dGjW+gFSUlIwTdP17RwMHTp0IDU1tdZNAwFqVmLqIlDFfPLJJykuLuatt96isrKSq6++OmQbAE899VS9d2HXd2AL9H993gXWHbgxaf+L7ptLr169OPPMM3nmmWc488wz+eijj5g4cWIwua2Pjh07Yts2W7durfdkqKa2/RPXmtpakq1bt5KRkRF8bVkWO3fuDMbiRkwdOnQgPj6+zpsMAu+3JAfz/TVnzhy2bNnC3LlzQx671JjHqLjhWWpqavDEqSZ1fVe6RYcOHRg4cCAPPPBAne83VEhoqp91HS86duzIF198geM4kgSGEXE+CtiwYQO33347ycnJXH/99Y1axuPxcMwxx/DMM88ABIdjG1P1agrLli3j+++/D5n21ltvkZSUxFFHHQUQvBt26dKlIfPVvKMyQGOrBQCjR48OflnV5LXXXiMhIaFFHhuTmJjIMcccw/vvvx8Sl+M4vPHGG3Tt2pUjjjiiyettiX4YO3YsO3fuxLZthg0bVuuvd+/eB1zH1VdfTUVFBdOmTWPq1Kkcd9xx9OnTJ/j+CSecQLt27Vi+fHmd2xg2bFiwarU/xx13HPHx8bzxxhsh0zdt2hQcvgc44ogjyMrKYsqUKbVOEg7EgfaXW2+9laVLlzJu3Dg8Hg+///3vD7jOwDDZc889V+88p5xyCkAtbYsXL6agoMCVxwAFKpkB3n33XSzLCp4UuhHT2LFjWbNmDampqXX2fX13ujdEY/b9+r6/6iKQgATWG6DmExPqww3PRowYQX5+PsuXLw+Z/vbbbzdq+Zb6bsjPzycrK6vOfmsoAWyOnwHOPPNMKioqmDp16kHFL7QMUgFsZeTn5wev19i2bRsLFizglVdewePxMH369Aafg/b8888zZ84czj77bLp160ZFRUXwzP3UU08FqqtC3bt358MPP2T06NG0b9+eDh06HNQXOVSfSf7qV79iwoQJdO7cmTfeeINZs2YxefLk4LOghg8fTu/evbn99tuxLIuUlBSmT5/OF198UWt9Rx55JO+//z7PPfccQ4cOxTTNkOci1uTee+8NXuvyj3/8g/bt2/Pmm28yY8YM/vWvf5GcnHxQmvZn0qRJnHbaaYwaNYrbb7+dmJgYnn32WfLz85k2bdpB/bJAVlYW8fHxvPnmm/Tt25c2bdrQpUuXBr+Y9+eSSy7hzTff5KyzzuLWW2/l6KOPxufzsWnTJj7//HPOPfdczj///AbX0adPH4477jgmTZrExo0befHFF0Peb9OmDU899RTjxo2jqKiIiy66iLS0NLZv387333/P9u3b602U2rVrxz333MPf/vY3rrzySi699FJ27tzJxIkTiYuL49577w3O+8wzz3DOOedw7LHHctttt9GtWzc2bNjAzJkzayU+NTnQ/nLaaafRr18/Pv/8c37729+SlpZ2QF9POukkrrjiCu6//35+/vlnxo4dS2xsLHl5eSQkJHDzzTfTu3dvrrvuOp566ilM0+TMM89k3bp13HPPPWRmZnLbbbcdcDtN5f3338fr9XLaaaexbNky7rnnHgYNGsTFF18M4EpM48eP57333uPkk0/mtttuY+DAgTiOw4YNG8jJyeHPf/4zxxxzTJPWeeSRRwLwxBNPMG7cOHw+H7179+bNN9884PdXXRx//PGkpKTwhz/8gXvvvRefz8ebb75Z68S0LtzybMqUKZx55pncd999pKen89Zbb7FixQqAA1bE6vPnQBX9mtx3333MmjWL448/nltuuYXevXtTUVHBunXryM7O5vnnn6/3kovm+Bng0ksv5ZVXXuEPf/gDK1euZNSoUTiOw9dff03fvn0bPRolNJPw3oMiNJbAHY6Bv5iYGJWWlqZGjBihHnzwQbVt27Zay+x/R9vChQvV+eefr7p3765iY2NVamqqGjFihProo49Clps9e7YaMmSIio2NVYAaN25cyPpqPvqgvm0pVX1H2tlnn63++9//qv79+6uYmBjVo0cP9eijj9Za/scff1RjxoxRbdu2VR07dlQ333yzmjFjRq274oqKitRFF12k2rVrpwzDCNkmddy9/MMPP6hzzjlHJScnq5iYGDVo0KBad9YG7gL+v//7v5Dpgbt267oTd38WLFigTjnlFJWYmKji4+PVscceG7xTdv/1NeYuYKWq7+Lt06eP8vl8IdrGjRunEhMTa81fVx/4/X7173//Ww0aNEjFxcWpNm3aqD59+qjrr79erVq1qlFxvPjiiwpQ8fHxwcdN7M+8efPU2Wefrdq3b698Pp/KyMhQZ599doin9d3t/Z///EcNHDhQxcTEqOTkZHXuuefWeRfiwoUL1ZlnnqmSk5NVbGysysrKCrnzta71N7S/BJgwYYIC1FdffdUoP5Sqvsv5scceUwMGDAjGfdxxx4X0uW3bavLkyeqII45QPp9PdejQQf32t78NPs4nwIgRI1T//v1rbSPw+dkfQN14443B14F+//bbb9U555yj2rRpo5KSktSll16qfv7551pxNyemcePG1bqruqysTP39739XvXv3Dnpx5JFHqttuu01t3bq13rhr6gx8xwT461//qrp06aJM0wx+BzT2+6sucnNz1XHHHacSEhJUx44d1bXXXqu+++67Wp/vuj5DbniWn5+vTj31VBUXF6fat2+vrrnmGvXqq6/Wuou2PuryR6n695kRI0aoESNGhEzbvn27uuWWW1TPnj2Vz+dT7du3V0OHDlV33323Kisra3D7jfWzvu8qparvTv7HP/6hDj/8cBUTE6NSU1PVKaeconJzcw+oX2gZDKUOcOuoIAhCFDNs2DAMw2Dx4sXhDuWgmDBhAhMnTmT79u1hu95UaD7XXXcd06ZNY+fOnfVeNiEILYkMAQuCoB0lJSXk5+fz8ccf8+233zJ9+vRwhyRoxH333UeXLl047LDDKCsr4+OPP+Y///kPf//73yX5Ew4ZkgAKgqAd3333HaNGjSI1NZV7772X8847L9whCRrh8/l4+OGH2bRpE5Zlcfjhh/Poo49y6623hjs0QSNkCFgQBEEQBEEz5DEwgiAIgiAImiEJoCAIgiAIgmZIAigIgiAIgqAZkgAKgiAIgiBohtwF3Awcx2HLli0kJSUd1K89CIIgCIJw6FFKUVpaSpcuXbT9PWJJAJvBli1byMzMDHcYgiAIgiAcBBs3bqz3Z++iHUkAm0Hgtxc3btxI27ZtW3Tdtm2zbt06evTogcfjadF1twZ01w/ige76QTzQXT+IB+COByUlJWRmZjbpN5SjDXkOYDMoKSkhOTmZ3bt3t3gCKAiCIAiCO8jxW24CiVgsyyI3NxfLssIdSljQXT+IB7rrB/FAd/0gHoB44BaSAEYopmmSkZGh7cWpuusH8UB3/SAe6K4fxAMQD9xChoCbgZSQBUEQBKH1IcdvqQBGLJZlMX/+fG1L3rrrB/FAd/0gHuiuH8QDEA/cQhLACMU0TbKysrQteeuuH8QD3fWDeKC7fhAPQDxwCxkCbgZSQhYEQRCE1occv6UCGLFYlsWcOXO0LXnrrh/EA931g3igu34QD0A8cAtJACMU0zQZMGCAtiVv3fWDeKC7fhAPdNcP4gGIB24hQ8DNQErIgiAIgtD6kOO3VAAjFr/fz8yZM/H7/eEOJSzorh/EA931g3igu34QD0A8cAupADYDN88gHMehuLiYdu3aaVn21l0/iAe66wfxQHf9IB6AOx5IBVASwGYhO5AgCIIgtD7k+A3ecAcg1I3f7ycnJ4cxY8bg8/nCHU4IVZbD9rJKisqqKC6vYne5n+K9fnaX+6nw21RZDpWWQ6Vl47cVjlJQ/Y/6zjdMw8AwDAwDTANQii2bN9O9WyZej4lpGnhNA9M08BgGHnPfn2EE3wtMq26bwfm9NaaHvjYxTfCaZo3ljJB2zXlMEzzGL9NqxuAxq+NvSSJ5HzgU6K4fxAPd9YN4AOKBW0gFsBm4eQahlKK0tJSkpKQWTyyawu69fmb8UMis5VvZUlzBttIKdu2V6zDqwjSqk0LTqJGs1khSA4liIJE090sePftNN00D5djE+LyYxi/rCsxr7pvHNAw8xi9JdCCOmm3TCPyBaVYn2p4a04w63g++R+hr0zQw2G8Zo8Y8+2Kr9qTmNkKXCbz+ZV3V2zINwAADKC8vp01iQnD9gflrbo/9Xu+/7v3nNWrEG9BmUL1Ns0Y8gWUJrI/a66y57ZrTW+ozGynfA+FCd/0gHoA7HkgFMIorgPPnz+fhhx/m22+/pbCwkOnTp3PeeecF31dKMXHiRF588UV27drFMcccwzPPPEP//v3DF3QNDMMI205Zadl8vmIb0/M28/mK7VTZTq15fB6D1MRY2iX4SI73Bf+P93mI9XmI9ZrEeMzq6p1ByAG4LpQCRymcwP9OddtWCqUUtqOwlcK29/3vVP85+9qWEzrNsn+ZFnhtOwq/4+DsW1dgnpqvA+uqXsYJfe0oGjpdchQ4tgIUlS3QD0LrpmbSGEhu2Vfhrpl4BpJKar7eb1mCSXjtZQFMMzRRr7U+QpPWYEy1kuBAAlwzGa6ZqNeYPySpDmisP+aaMe4/f8311pwfjJDvj/rmDyTq5n5aa2oPOTGoZ97Ausz95jP3X5dZY9SC+pcJPTGpebLFvpO3Bk6kQubzsKtob4Pr++VEsqaO0PdaK+E8HkYzUZsA7tmzh0GDBnH11Vdz4YUX1nr/X//6F48++ihTp07liCOO4P777+e0005j5cqVJCUlhSHiUPx+P9nZ2Zx11lmHtOT9zboibnt3CRuLyoPT+nZuy7mDu9C/S1vSkuJIS6pO/Nz8QgmX/gOhVGiSaNdIPO39XtdMLm1H4Tj80g5O+yXRDSS+gfer/BbffpfHkYMGY5om9r4EtOa8jiI4fyCJtve998u8BONQipCEOvA6GMO+5RS/LKcgZP2h7V/mCayn5jz7LxNYl7Nvu4H3A/9Xe/zLMqWlZSQmJlavH4IeUGN7isDyANXaVI31ENhGDR2qxnI1p7fsvlK9bpTCrp7SshsQhCbiMfdLGvcliUYw0QxNRs2Q6fwyOmEYwQQ2mHgGlgmOYPyShO6flHrMGsvvt67QZaqnH5+VQumPiyLueNDa0WII2DCMkAqgUoouXbowfvx47rzzTgAqKytJT09n8uTJXH/99Y1ar9tDwBUVFcTFxR2SMze/7fDUZ6t4+vPVOAo6JsVywVEZnD8kgz6dDv2Z16HWH4no7kG49IckpuyXLIYknPved+pOJmsu88u6aiaw9SWhNaY5isrKSnwxMYARkiTXXDaQDEMgud63LX5JgmtpCXmvrlj3W99+2wv14pft7Z9wO/tWVjMp3389Tq33f5nu91t4vJ4ay/xyghKi0wk9IajrBEGFnMDsW49TOzZnv7gOdCK0//+BbdkqdNt2HesJnNTUPBFTNWKtPslzgv1fffL3iwe2E/WHcMaPPpzrT8xs0e8CGQKO4gpgQ6xdu5atW7cyZsyY4LTY2FhGjBhBbm5uvQlgZWUllZW/DO6VlJQAYNt2yP8ejyekbVlW9RnSvrZpmpimWW/b7/djmiZerxe/34/PV11t8/v9eL3VXWZZVkjb5/OhlAq2HcfBtu1g23EcvF5vne2NxZWMfzuP7zftBuC8wV2YcE5f2iXGYds2tm23iCaPxxNse73eBjUFph+sJq/Xi23bKKWC7br65lBqamo/2bYdbNfU0Zo1NbWfAl/24dBkqOp2TE1NMTU11dduuX7y+/04TiwxMTHYth2x/eTWvgfV14EGDvzRoKmp/WTbNlVVVcTFxVUnhfXo8Fs2pseLZVnYjsLYF6PtKAzTg39f29zXdpQCw8RvWVRfL2BS5bdQgGGYVO2brgC/Ze+rXxvV8+wb/q7yWxiGiaOoXo9hVl9OY9lgGNgOWLaFYXiwHAfLtjGM6tEMy7ar53ecfYmxgW072I6DMswabYMhmcl1fhc0t590R8uHCm3duhWA9PT0kOnp6enB9+pi0qRJJCcnB/8yMzMByM/PB6CgoICCggIAli5dyqpVqwDIy8tj7dq1ACxatIiNGzcCkJubS2FhIVB9zeKOHTsAmDNnDjt37iQ7O5tZs2ZRWloKQHZ2NhUVFViWRXZ2NpZlUVFRQXZ2NgClpaXk5OQAUFxczJw5cwDYsWMH8+fPB6CwsJDc3FwANm7cyOuf5HL2kwv4ftNuEnwGT146hD8MjmftjwUtrqm4uBiAnJycA2r65JNPyM7Opri4uMmaFi1aBFQn+nl5eQCsWrWKpUuXhlXTwfRTdnY269evjypNje2nZcuWMXPmTCzLihpNB9NPn376KZZlRZWmxvaTZVnMmjWLsrKyqNHU1H7auXMnOTk5WJZVr6ZNmzbx3bffEOM12bJpAyuWLaVNrJetG9exYfUK2ifGsH3jTxRtXkun5Dh2bFhF+Y7NdE9NZNeGH6F0G73S2lC8fjltrN3069KWknX5dPTsZUi3FMrWLaVnG4djDktl77olDOjg5aTDO1Kx9juGZcRzar90qtZ+w8he7Ti9b0eMjd9x9oB0zuqXSlzh91w8PJOxfVNI3VXAFcf14Fd9k8ksX8O1Jx3G+X3b0kdt5MZRvbiwbyJD47bxp9OO4OK+8Zzcrpi/ntmXTkZx8Lugpfrpyy+/RHe0HALOzc3lhBNOYMuWLXTu3Dk43+9//3s2btzIp59+Wud66qoAZmZmUlRUREpKSotXAAOVH7cqgOWVfs588gvW7dzL8B4pPHLRkXTrkBQRZ8J+vz+4/po6ou3s/kAVQKj+HUwdK4CWZWFZFrGxsTiOExWaDq4C6EgFUCqADVYAW5umpvZTfd8FzdFUVFREamqq1kPAWiaAP/30E1lZWXz33XcMGTIkON+5555Lu3btePXVVxu13tZ+DeAjOSt5as5q0pJimfWnESTHR87Ftbpf/wbige76QTzQXT+IB+COB3INoKZDwD179qRTp07MmjUrOK2qqop58+Zx/PHHhzGyX7AsK1j2d4OVW0t5bu4aACb+qn9EJX/gvv7WgO4e6K4fxAPd9YN4AOKBW0RtBbCsrIzVq1cDMGTIEB599FFGjRpF+/bt6datG5MnT2bSpEm88sorHH744Tz44IPMnTu3SY+Baa1nEI6juOj5XL7bUMxp/dJ58Yqh2p5ZCoIgCPrRWo/fLUnU3gX8zTffMGrUqODrP/3pTwCMGzeOqVOncscdd1BeXs4NN9wQfBB0Tk5ORDwDENx9+vubizbw3YZiEmM83Hdu/4hM/uTp9+KB7vpBPNBdP4gHIB64RdQOAY8cOXLfs6RC/6ZOnQpUXxc4YcIECgsLqaioYN68eQwYMCC8QdfAsiwWLFjQ4iXvrbsr+NcnKwC444w+dE6Ob9H1txRu6W9N6O6B7vpBPNBdP4gHIB64RdQOAR8KWmMJ+YY3vyX7h60MzmzHe388Ho8pZ1OCIAiCXrTG43dLE7UVwNaO4zgUFRUFb3lvCXaUVfJJfvVzDiddcGREJ39u6G9t6O6B7vpBPNBdP4gHIB64hSSAEYpt2yxevDj4bKOW4PMV21AKjsxIpm/nyD7jcUN/a0N3D3TXD+KB7vpBPADxwC1kCLgZtLYS8h/f+JZP8rdy6+jDue20I8IdjiAIgiCEhdZ2/HYDqQBGKI7jsG3bthYreVdaNvN/3A7A6L5pLbJON2lp/a0R3T3QXT+IB7rrB/EAxAO3kAQwQnEch/z8/Bbb4RetLWJPlU3HpFgGdElukXW6SUvrb43o7oHu+kE80F0/iAcgHriFDAE3g9ZUQp7w0TKm5q7jkuGZPHThwHCHIwiCIAhhozUdv91CKoARiuM4bN68uUXOeJRSfLbiZwBO6RP5w7/QsvpbK7p7oLt+EA901w/iAYgHbiEJYITiOA5r1qxpkR1+9bYyNhaVE+M1OfHwDi0Qnfu0pP7Wiu4e6K4fxAPd9YN4AOKBW8gQcDNoLSXk5+et4aFPVjCyd0emXn10uMMRBEEQhLDSWo7fbiIVwAjFcRzWr1/fImc8nxVUD/+ObiXDv9Cy+lsrunugu34QD3TXD+IBiAduIQlghNJS1zzs2lPFt+t3ATCqlSWAul/zobsHuusH8UB3/SAegHjgFjIE3AxaQwn5g7zNjH9nCX06JfHp+JPDHY4gCIIghJ3WcPx2G6kARii2bbN69epm//TN7MDwbyt4+HNNWkp/a0Z3D3TXD+KB7vpBPADxwC0kAYxQlFLs2rWL5hRo/bbDvH2//nFKn/SWCu2Q0BL6Wzu6e6C7fhAPdNcP4gGIB24hQ8DNINJLyAvX7OTSl74iNTGGRXefisc0wh2SIAiCIISdSD9+HwqkAhih2LbNihUrmlXy/nL1DgBGHNGx1SV/LaG/taO7B7rrB/FAd/0gHoB44BaSAEYw5eXlzVp+ycZiAIb2SGmBaA49zdUfDejuge76QTzQXT+IByAeuIEMATeDSC4hO45i0MQcSistZtxyIv27JIc7JEEQBEGICCL5+H2okApghGLbNvn5+Qdd8v5pRxmllRbxPg+905NaODr3aa7+aEB3D3TXD+KB7vpBPADxwC0kAYxS8jYUA3BkRjJej3SzIAiCIAi/IEPAzSCSS8h3T/+BN7/ewO9P6sndZ/cLdziCIAiCEDFE8vH7UCGloQjFtm3y8vIOuuQduAFkcGbrvAGkufqjAd090F0/iAe66wfxAMQDt5AEMIKJj48/qOXKq2xWbC0FYHC3di0Y0aHlYPVHE7p7oLt+EA901w/iAYgHbiBDwM0gUkvI36wr4qLnF9IxKZZFfxuNYbSuZwAKgiAIgptE6vH7UCIVwAjFsiwWL16MZVlNXvaX4d92rTb5a47+aEF3D3TXD+KB7vpBPADxwC0kAYxQDMMgJSXloBK4vBoJYGulOfqjBd090F0/iAe66wfxAMQDt5Ah4GYQqSXkEx6aw+bict669hiO79Uh3OEIgiAIQkQRqcfvQ4lUACMUy7LIzc1tcsl7e2klm4vLMQw4smvr/fWPg9UfTejuge76QTzQXT+IByAeuIUkgBGKaZpkZGRgmk3rosD1f706tiEpzudCZIeGg9UfTejuge76QTzQXT+IByAeuIU33AEIdWOaJt27d2/ycks27gJa9/V/cPD6owndPdBdP4gHuusH8QDEA7eQdDpCsSyL+fPnN7nk/f3G3UDrfv4fHLz+aEJ3D3TXD+KB7vpBPADxwC0kAYxQTNMkKyurSSVvx1F8HwV3AMPB6Y82dPdAd/0gHuiuH8QDEA/cQoaAI5TANQ9N4acdZZRWWsT7PPROT3IpskPDweiPNnT3QHf9IB7orh/EAxAP3ELS6QjFsizmzJnTpJJ33oZiAI7MSMbrad1dezD6ow3dPdBdP4gHuusH8QDEA7do3VlCFGOaJgMGDGhSyTtwB/CgzNb7+JcAB6M/2tDdA931g3igu34QD0A8cAsZAo5QTNMkLS2tScv88hNwKS5EdGg5GP3Rhu4e6K4fxAPd9YN4AOKBW0g6HaH4/X5mzpyJ3+9v1PxVlsPKraVAdFQAm6o/GtHdA931g3igu34QD0A8cAtJACMUj8fD8OHD8Xg8jZr/px1lWI4iKdZLRrt4l6Nzn6bqj0Z090B3/SAe6K4fxAMQD9xChoAjFNM0ad++faPnD1T/juiUFBU/mN1U/dGI7h7orh/EA931g3gA4oFbSAUwQvH7/cyYMaPRJe8ff96XALbyx78EaKr+aER3D3TXD+KB7vpBPADxwC0kAYxQvF4vJ510El5v44q0P/5cBkDv9DZuhnXIaKr+aER3D3TXD+KB7vpBPADxwC3EzQjFMAzatm3b6PmDFcBO0VEBbKr+aER3D3TXD+KB7vpBPADxwC2kAhih+P1+Pvzww0aVvPdWWWwo2gvQ6n8BJEBT9Ecrunugu34QD3TXD+IBiAduYSilVLiDaK2UlJSQnJzM7t27W/zsRClFRUUFcXFxB7ypY+mmYn719Jd0aBPDN38/rUXjCBdN0R+t6O6B7vpBPNBdP4gH4I4Hbh6/WwtSAYxgGnu9Q/AO4Cip/gWQ6z3EA931g3igu34QD0A8cANJACMUy7LIzs5u1G8fRtsdwNA0/dGK7h7orh/EA931g3gA4oFbyBBwM3B7CNiyLLxe7wFL3uOmLGLej9t58PwjueyYbi0aR7hoiv5oRXcPdNcP4oHu+kE8AHc8kCFgqQBGNI092wlUAHt3io5HwASQsz3xQHf9IB7orh/EAxAP3EASwAjFsixycnIOuNPvLvdTuLsCgMOjbAi4MfqjGd090F0/iAe66wfxAMQDt5Ah4GYQCSXkb9YVcdHzC+mSHEfuX0eHJQZBEARBaE1EwvE73EgFMEJRSlFSUsKB8vOVUfYA6ACN1R/N6O6B7vpBPNBdP4gHIB64hSSAEYplWSxYsOCAJe8f9z0CJloeAB2gsfqjGd090F0/iAe66wfxAMQDt5Ah4GYQCSXkS15cyFc/FfHIrwdx4dCuYYlBEARBEFoTkXD8DjfaVgAty+Lvf/87PXv2JD4+nsMOO4z77rsPx3HCHRoAjuNQVFR0wHhW/VwGRNczAKHx+qMZ3T3QXT+IB7rrB/EAxAO30DYBnDx5Ms8//zxPP/00BQUF/Otf/+Lhhx/mqaeeCndoANi2zeLFi7Ftu955dpRVsnNPFYYBvdKi6xEwjdEf7ejuge76QTzQXT+IByAeuIW2Q8Bjx44lPT2dl19+OTjtwgsvJCEhgddff71R6wh3CTl39Q4u+8/X9EhNYO5fRh3y7QuCIAhCayTcx+9IQNsK4Iknnshnn33Gjz/+CMD333/PF198wVlnnRXmyKpxHIdt27Y1WPJeGYU/ARegMfqjHd090F0/iAe66wfxAMQDt9A2Abzzzju59NJL6dOnDz6fjyFDhjB+/HguvfTSepeprKykpKQk5A8IlqVt266zbVlWSDuwE9fX9vv9WJZFfn4+lZWVwVvf/X4/SimUUvj9flbuuwO4V8dEgOB0qP7A1GwH7p6qr23bdkjbDU012/VpCrQrKyvJz8/Htu2o0RSIvbH9VFVVRX5+PpZlRY2mpvST3+/nhx9+wHGcqNHU1H6qqqoKehAtmprST47j8MMPP2DbdtRoamo/WZYV3AeiRVNT+6m+74LmatIdbRPAd955hzfeeIO33nqL7777jldffZV///vfvPrqq/UuM2nSJJKTk4N/mZmZAOTn5wNQUFBAQUEBAEuXLmXVqlUA5OXlsXbtWgAWLVrExo0bAcjNzaWwsBCA+fPns2PHDgDmzJlDWVkZp5xyCnPmzKG0tDrRy87OpqKiIvjD2Cu3Viege7ZUb6e0tJScnBwAiouLmTNnDgA7duxg/vz5ABQWFpKbmwvAxo0bWbRoEQBr164lLy8PgFWrVrF06dIW11RcXAxATk5OvZosy6KiooKcnBxOOeUUysvLo0ZTdnZ2k/pp0aJFnHLKKcF2NGhqSj+tWrWK9PR0vF5v1Ghqaj8tWrSIPn364PV6o0ZTU/rJ6/VSVlYWPAmKBk1N7aeAfq/XGzWamtpPGzdupG3btni93hbT9OWXX6I72l4DmJmZyV133cWNN94YnHb//ffzxhtvsGLFijqXqayspLKyMvi6pKSEzMxMioqKSElJCZ5xeDyekLZlWRiGEWybpolpmvW2/X4/hmHw888/06FDB2JiYjAMA7/fj9frBarPiIY+8DmllRbZNx1Pv64pwR/M9vl8wTOlQNtxHLxeb73twBl2oF2XjuZq8ng8wXbgR71ragp8yUF15WPHjh106tQJx3GiQlOgbxrbT5ZlsX37dtLT0wGiQlNT+snv97N161YyMjKCVYbWrqmp/VRVVcXPP/9MRkYGjuNEhaam9JNSik2bNpGRkRGcv7Vramo/WZbFli1b6Nq1+jFf0aCpqf3k9/spLCyka9euId8FzdFUVFREamqq1tcAesMdQLjYu3cvphlaAPV4PMHycF3ExsYSGxtba7rH4wn5f/924IPQ2HbgQ79mzRrS09MxDCM4PcCOvTallRY+j0GvTskAGIYRnCewkze2XV/sLampKW2PxxPUHy2aAu2m9FPAg8B2o0HT/u36YjcMg7Vr19K5c+cm64hUTU3tJ9M06/SgNWtqSj/Zts26devo0qVLSOytWVNj2vtrDXjg9XqjQlNT+8kwjBAPWlqTrmhbAbzqqquYPXs2L7zwAv379ycvL4/rrruO3/3ud0yePLlR6wjnXUSfr9zG1a8s5oj0NuTcNuKQblsQBEEQWjNyF7DG1wA+9dRTXHTRRdxwww307duX22+/neuvv55//vOf4Q4NqC7zr1+/vt6KZOAn4A6PwjuA4cD6dUB3D3TXD+KB7vpBPADxwC20TQCTkpJ4/PHHWb9+PeXl5axZs4b777+fmJiYcIcGVO/wmzdvrneHX71t3y+ApEVvAtiQfh3Q3QPd9YN4oLt+EA9APHALbYeAW4JwlpAvePZLvttQzNOXDWHswC6HdNuCIAiC0JqRIWCNK4CRjm3brF69us6fvlFKsWb7HgCyOkbXT8AFaEi/Lujuge76QTzQXT+IByAeuIUkgBGKUopdu3ZRV4F2R1kVu8v9GAb07JAYhujcpyH9uqC7B7rrB/FAd/0gHoB44BYyBNwMwlVC/uqnnVzy4ld0a5/A/DvkN4AFQRAEoSnIELBUACMW27ZZsWJFnSXvNdurbwDJ6hid1T9oWL8u6O6B7vpBPNBdP4gHIB64hSSAEUx5eXmd09dsi+7r/wLUp18ndPdAd/0gHuiuH8QDEA/cQIaAm0G4SshXTlnE/B+389AFR3LJ0d0O2XYFQRAEIRqQIWCpAEYstm2Tn59f9xDwvmcAZqVFbwWwIf26oLsHuusH8UB3/SAegHjgFpIAtjLKq2w2F1eXwqN9CFgQBEEQBHeQIeBmEI4S8rItuzn7yS9ISfCR948xh2SbgiAIghBNyBCwVAAjFtu2ycvLq1XyDvwEXLRX/+rTrxO6e6C7fhAPdNcP4gGIB24hCWAEEx8fX2ta4BdAekXx9X8B6tKvG7p7oLt+EA901w/iAYgHbuANdwBC3Xg8Hvr06VNr+i/PAIzuBLA+/Tqhuwe66wfxQHf9IB6AeOAWUgGMUCzLYvHixViWFTL9lzuAo/ch0FC/fp3Q3QPd9YN4oLt+EA9APHALSQAjFMMwSElJwTCM4DTbUfy0Q4+HQNelXzd090B3/SAe6K4fxAMQD9xC7gJuBof6LqINO/dy8sOfE+M1KbjvDDymfBgEQRAEoanIXcBSAYxYLMsiNzc3pOQduP7vsA6JUZ/81aVfN3T3QHf9IB7orh/EAxAP3EISwAjFNE0yMjIwzV+6SJdHwEDd+nVDdw901w/ige76QTwA8cAt5C7gCMU0Tbp37x4y7Zc7gKP7BhCoW79u6O6B7vpBPNBdP4gHIB64haTTEYplWcyfP7/OIeBo/g3gAHXp1w3dPdBdP4gHuusH8QDEA7eQBDBCMU2TrKyskJJ34CHQugwB769fN3T3QHf9IB7orh/EAxAP3EKGgCOUwDUPAYr2VFG0pwqAwzQZAq6pX0d090B3/SAe6K4fxAMQD9xC0ukIxbIs5syZEyx5B4Z/M9rFkxAT/Xn7/vp1RHcPdNcP4oHu+kE8APHALSQBjFBM02TAgAHBknfgF0B0qP5Bbf06orsHuusH8UB3/SAegHjgFtFfSmqlmKZJWlpa8HXgETC9NLgBBGrr1xHdPdBdP4gHuusH8QDEA7eQdDpC8fv9zJw5E7/fD9R8BIweCeD++nVEdw901w/ige76QTwA8cAtJAGMUDweD8OHD8fj8QB63QEMtfXriO4e6K4fxAPd9YN4AOKBW8gQcIRimibt27cHoMJvs3HXXkCPh0BDqH5d0d0D3fWDeKC7fhAPQDxwC6kARih+v58ZM2bg9/vZULQXpSAp1kvHpNhwh3ZIqKlfV3T3QHf9IB7orh/EAxAP3MJQSqlwB9FaKSkpITk5md27d9O2bdsWXbdSitLSUpKSkpi57Gf+8Ma3DOyazEc3ndii24lUauo3DCPc4YQF3T3QXT+IB7rrB/EA3PHAzeN3a0GGgCMUwzCCO+VPO6pvAOnZQY/hXwjVryu6e6C7fhAPdNcP4gGIB24hQ8ARit/v58MPP8Tv97N23w0gh3XQ4wYQCNWvK7p7oLt+EA901w/iAYgHbiFDwM3A7SHgiooK4uLi+PXzC/lm/S6evHQIvxrUpUW3E6nU1K/zsIfOHuiuH8QD3fWDeADueCBDwFIBjGi83uoR+rU7AhVAfYaA4Rf9OqO7B7rrB/FAd/0gHoB44AaSAEYolmWRnZ3NztJydu6pAqCHRglgQL/Ov/2ouwe66wfxQHf9IB6AeOAWMgTcDNweArYsix+2lHHBc7mkt43l67+d2qLbiGQC+r1er9bDHjp7oLt+EA901w/iAbjjgQwBSwUworEsKzj8q9MdwAHkbE880F0/iAe66wfxAMQDN5AEMEKxLIucnBxWbysBoKdGdwDDL/p1/tDr7oHu+kE80F0/iAcgHriFDAE3g0NRQr7xze+Y8UMhd5/Vl9+ffJgr2xAEQRAEnZAhYKkARixKKUpKSoIPgT5Mk98ADhDQr/P5ie4e6K4fxAPd9YN4AOKBW0gCGKFYlsW8+QtYp+k1gJZlsWDBAq1L/rp7oLt+EA901w/iAYgHbiFDwM3A7RLyluJyjn9oDl7ToOCfZ+DzSL4uCIIgCM1FhoClAhixOI7D92u3AtCtfYJ2yZ/jOBQVFeE4TrhDCRu6e6C7fhAPdNcP4gGIB26hV1bRirBtmwV5KwD9hn+hWv/ixYuxbTvcoYQN3T3QXT+IB7rrB/EAxAO3kCHgZuB2Cfm+/y1nypdrufbEnvx9bL8WX78gCIIg6IgMAUsFMGJxHIcVm4sA6KnZHcBQrX/btm1al/x190B3/SAe6K4fxAMQD9xCEsAIxXEcVv9c/RDowzR7CDRU68/Pz9f6A6+7B7rrB/FAd/0gHoB44BYyBNwM3CwhV1kOfe75BEfB138bTXrbuBZdvyAIgiDoigwBSwUwYlm/owxHQWKMh7Sk2HCHc8hxHIfNmzdrfcanuwe66wfxQHf9IB6AeOAWkgBGKKu3V/8CSI8OiRiGEeZoDj2O47BmzRqtP/C6e6C7fhAPdNcP4gGIB24hQ8DNwM0S8gvz1jDpkxWcM6gLT106pEXXLQiCIAg6I0PAUgGMWH4KVABTE8IcSXhwHIf169drfcanuwe66wfxQHf9IB6AeOAWkgBGKD9tr/4N4B7t48McSXiQaz7EA931g3igu34QD0A8cAsZAm4GbpaQh90/mx1llXx00wkM7NquRdctCIIgCDojQ8BSAYxISir87CirBKBbip6Pf7Ftm9WrV2v90z+6e6C7fhAPdNcP4gGIB26hdQK4efNmfvvb35KamkpCQgKDBw/m22+/DXdYrNtRPfybHGvSJtYb5mjCg1KKXbt2oXOBWncPdNcP4oHu+kE8APHALbQdAt61axdDhgxh1KhR/PGPfyQtLY01a9bQo0cPsrKyGrUOt0rIH+RtZvw7Szi6Z3vevf64FluvIAiCIAgyBAwaVwAnT55MZmYmr7zyCkcffTQ9evRg9OjRjU7+3OSnfRXA9l6/tiVv27ZZsWKFtvpBPNBdP4gHuusH8QDEA7fQNgH86KOPGDZsGL/+9a9JS0tjyJAhvPTSS+EOC4BBXZP5zbCu9O+g5/BvgPLy8nCHEHZ090B3/SAe6K4fxAMQD9xA2yHguLjqmyv+9Kc/8etf/5pFixYxfvx4XnjhBa688so6l6msrKSysjL4uqSkhMzMTIqKikhJSQmenXg8npC2ZVkYhhFsm6aJaZr1tv1+Px6PJ9j2er0YhhFsA1iWFdL2+XwopYJtx3GwbTvYdhwHr9dbb9u2bZRSwXZdOkSTaBJNokk0iaZo0FRUVERqaqoMAeuI4zgcddRRPPjggwwZMoTrr7+e3//+9zz33HP1LjNp0iSSk5ODf5mZmQDk5+cDUFBQQEFBAQBLly5l1apVAOTl5bF27VoAFi1axMaNGwHIzc2lsLAQgPnz57Njxw4A5syZQ1FREfn5+eTk5FBaWgpAdnY2FRUVWJZFdnY2lmVRUVFBdnY2AKWlpeTk5ABQXFzMnDlzANixYwfz588HoLCwkNzcXAA2btzIokWLAFi7di15eXkArFq1iqVLl7a4puLiYoBGa8rPz2f37t1Rpakp/fTll1+Sn5/P+vXro0ZTU/pp2bJlLFiwANu2o0ZTU/vpyy+/ZNGiRdi2HTWamtJPtm2TnZ3Nnj17okZTU/upqKiImTNnYtt21Ghqaj/99NNPzJ07F9u2W0zTl19+ie5oWwHs3r07p512Gv/5z3+C05577jnuv/9+Nm/eXOcyh7ICCLBy5Up69epFbGxsqzzDas5ZY2VlJatXr6ZPnz4opaJCU1P7ye/3s2rVKnr37o1hGFGhqSn9VFVVxYoVK+jfv3/wM9faNTW1nyorK/nxxx/p168fSqmo0NSUfnIch2XLltGvX7/gelq7pqb2k9/vp6CggP79+2MYRlRoamo/1fddIBXA5qFtAnjZZZexceNGFixYEJx222238fXXXwfPQA6E3EUkCIIgCK0POX5rPAR822238dVXX/Hggw+yevVq3nrrLV588UVuvPHGcIcGVN/1lJeXp+1dT7rrB/FAd/0gHuiuH8QDEA/cQtsEcPjw4UyfPp1p06YxYMAA/vnPf/L4449z+eWXhzu0IPHxev4OcADd9YN4oLt+EA901w/iAYgHbqDtEHBLICVkQRAEQWh9yPEb9H7QXARjWRZ5eXkMGTIkeDGtTuiuH8QD3fWDeKC7fmieB7ZtB28qbM1YlkVBQQF9+/ZttAc+nw+Px+NyZK2biPpE9ejRg9/97ndcddVVdOvWLdzhhBXDMEhJScEwjHCHEhZ01w/ige76QTzQXT8cnAdKKbZu3Rp8XEtrRylFbGwsGzZsaJIP7dq1o1OnTlrvPw0RUUPATz31FFOnTuX7779n1KhRXHPNNZx//vnExsaGO7Q6kRKyIAiCEGkUFhZSXFxMWloaCQkJ2iVASin27t3Ltm3baNeuHZ07d641jxy/IywBDPD9998zZcoUpk2bhmVZXHbZZfzud7/jqKOOCndoIbi5A1mWxaJFizj66KO1HPrQXT+IB7rrB/FAd/3QdA9s2+bHH38kLS2N1NTUQxCh+yil2LNnD4mJiU1KZnfu3Mm2bds44ogjag0HSwIYoXcBDxo0iCeeeILNmzdz77338p///Ifhw4czaNAgpkyZQgTmrC2OaZpkZGRgmhHZRa6ju34QD3TXD+KB7vqh6R4ErvlLSEhwM6xDjs/na/IyAQ+i4TpIN4jIUyq/38/06dN55ZVXmDVrFsceeyzXXHMNW7Zs4e6772b27Nm89dZb4Q7TVUzTpHv37uEOI2zorh/EA931g3igu344eA+iadjXMIyDuhQsmjxwg4g6rfruu++4+eab6dy5MzfffDP9+/cnPz+fL774gquvvpq7776bjz76iOnTp4c7VNexLIv58+djWVa4QwkLuusH8UB3/SAe6K4fxAOoHgIuLS3VYvTvUBJRFcDhw4dz2mmn8dxzz3HeeefVWfLt168fl1xySRiiO7SYpklWVpa2Qx+66wfxQHf9IB7orh/EgwCRejNoayaibgJZv359qyr3y0WkgiAIQiRRUVHB2rVr6dmzJ3FxceEOJ6w05IUcvyNsCHjUqFHs3Lmz1vTi4mIOO+ywMEQUPizLYs6cOdqW/XXXD+KB7vpBPNBdP+jnwaeffkp8fHyI3uXLl2MYBtu3bw9jZNFHRCWA69atq/PHnisrK9m8eXMYIgofpmkyYMAAbcv+uusH8UB3/SAe6K4f9PNgyZIl9O/fP+SRN0uWLCEjI4MOHTqEMbLoIyKuAfzoo4+C7ZkzZ5KcnBx8bds2n332GT169AhDZOHDNE3S0tLCHUbY0F0/iAe66wfxQHf90DIeKKUo99curhwK4n2eJt2N+/333zN48OCQaUuWLGHQoEFyV28LExEJ4HnnnQdU37I9bty4kPd8Ph89evTgkUceCUNk4cPv9zNnzhxOOeWUg3r+UWtHd/0gHuiuH8QD3fVDy3hQ7rfp94+ZLRxZ41h+3+kkxDQ+1ViyZAk33HBDyLS8vDwGDhyI4zjaVEIPBRHhpOM4OI5Dt27d2LZtW/C14zhUVlaycuVKxo4dG+4wDykej4fhw4dr+2PWuusH8UB3/SAe6K4f9PKgvLycVatWhVQAHcchLy+PoUOHYhgGxxxzDN988w0A48aN47nnngtTtK2fiKgABli7dm24Q4gYTNOkffv24Q4jbOiuH8QD3fWDeKC7fmgZD+J9Hpbfd3oLRdT0bTeWNWvWYNs2vXv3Dk6bOXMmO3fu5KijjsIwDO655x4efPBBTjjhBNq0acMf//hHN8LWgrAngE8++STXXXcdcXFxPPnkkw3Oe8sttxyiqMKP3+8nJyeHMWPGaDn0obt+EA901w/ige76oWU8MAyjScOw4SI1NRXDMFi0aBFjx47lq6++4qabbiI+Pp6OHTviOA5jx47l73//O2VlZWRnZ4c75FZN2J8D2LNnT7755htSU1Pp2bNnvfMZhsFPP/10CCM7MG4+Ryjw5POkpCQtL3zVXT+IB7rrB/FAd/3QdA9a+3MAH3jgAR555BHatGnDyJEj6dKlC5999hlfffUVpmmyePFiLr74Yo4++mjefffdBtclzwFsmLAngK0Z2YEEQRCESKK1J4ANsXnzZs4880w+/PBDLrjgAt566y369u1b7/ySADZMRNwEItTG7/fz4Ycf4vf7wx1KWNBdP4gHuusH8UB3/SAeQPWNIIWFhVx00UU8/fTT9OzZkzvuuIP7778/3KG1aiKqAnjRRRcxbNgw7rrrrpDpDz/8MIsWLeL//u//whRZ3bg9BFxRUUFcXJyWQx+66wfxQHf9IB7orh+a7kE0VgCVUiilMAyjSfuBVAAbJqIqgPPmzePss8+uNf2MM85g/vz5YYgovNR8ErqO6K4fxAPd9YN4oLt+EA8Ed4ioBLCsrIyYmJha030+HyUlJWGIKHxYlkV2drY2v/+4P7rrB/FAd/0gHuiuH8QDqK4AlpSUEEEDllFBRCWAAwYM4J133qk1/e2336Zfv35hiCh8eL1ezjrrLG3P/HTXD+KB7vpBPNBdP4gHUP0UkLZt22p7GYBbRNQedc8993DhhReyZs0aTjnlFAA+++wzpk2bFnHX/x0KLMvS+kOvu34QD3TXD+KB7vpBPBDcIaIqgL/61a/44IMPWL16NTfccAN//vOf2bRpE7Nnzw7+XrAuWJZFTk6OtmV/3fWDeKC7fhAPdNcP4gHIELBbRNRdwK0NuYtIEARBiCSi8S7gg0XuAm6YiKwpf/vttxQUFGAYBv369WPIkCHhDumQo/sT8HXXD+KB7vpBPNBdP4gHUO2B4ziYpqmtB24QUUPA27Zt45RTTmH48OHccsst3HTTTQwdOpTRo0ezffv2cId3SLEsiwULFmhb9tddP4gHuusH8UB3/SAewC9JsAxYtiwRNQT8m9/8hjVr1vD6668Hf95l+fLljBs3jl69ejFt2rQwRxiKlJAFQRCESEKGgH9BhoAbJqIqgJ9++inPPfdcyG/79evXj2eeeYZPPvkkjJEdehzHoaioCMdxwh1KWNBdP4gHuusH8UB3/SAeQHUF0LIsqQC2MBGVADqOg8/nqzXd5/Npt/Pbts3ixYuxbTvcoYQF3fWDeKC7fhAPdNcP4gFUJ4B79uyRBLCFiagh4HPPPZfi4mKmTZtGly5dANi8eTOXX345KSkpTJ8+PcwRhiIlZEEQBCGSaO1DwJ9++innn38+paWlwWcfFhQU0K9fP7Zv306HDh0avS4ZAm6YiKoAPv3005SWltKjRw+ysrLo1asXPXv2pLS0lKeeeirc4R1SHMdh27Zt2lU+A+iuH8QD3fWDeKC7ftDPgyVLltC/f/+QB1/n5eWRkZFBampqGCOLPiIqAczMzOS7775jxowZjB8/nltuuYXs7Gy+/fZbunbtGu7wDimO45Cfn6/Nh35/dNcP4oHu+kE80F0/tJAHSkHVnvD8NXGQ8fvvv2fw4MEh0/Ly8ujfv//B6xfqJKKGgFsbUkIWBEEQIok6hz2r9sCDXcIT0N+2QExio2fv27cvN9xwAzfffHNw2pgxYxg2bBgPPvhgkzYtQ8ANE/YHQT/55JONnveWW25xMZLIwnEcCgsL6dy5M6YZUYXaQ4Lu+kE80F0/iAe66we9PCgvL2fVqlUhFUDHcfjuu+8YN24cSimOPfZYnnnmGYYNG8a4ceM49thj+eMf/xi+oFsxYU8AH3vssUbNZxiGdgngmjVrSE9Pj/oPfV3orh/EA931g3igu35oIQ98CdWVuHDgS2j0rGvWrMG2bXr37h2cNnPmTHbu3EmfPn0AuOeee3jwwQc54YQTaNOmjSR/zUCGgJuBlJAFQRCESKI13wVcWFhIRkYGH330EWPHjuWrr77i8ssvp7CwkNLSUjweDwCDBw8mLS2N7OzskJtF9keGgBsmIk+pqqqqWLlypdY/feM4DuvXr9f24mfd9YN4oLt+EA901w96edC5c2f++c9/cuWVV9KtWzeeffZZfv3rX9O/f//gg6AXLVpEcXEx7dq1azD5Ew5MRCWAe/fu5ZprriEhIYH+/fuzYcMGoPrav4ceeijM0R1aHMdh8+bNWnzo60J3/SAe6K4fxAPd9YN+Htx9990UFRWxYcMGXnvtNR566CEWLVqE3+9n8+bNXHvttXz++eesWrWKgoKCcIfbqomoBPCvf/0r33//PXPnzg0p15566qm88847YYzs0OP1ejn++OO1PcPRXT+IB7rrB/FAd/0gHkD1PQAej4df//rXPP300/Ts2ZM77riD+++/P9yhtWoiKgH84IMPePrppznxxBMxDCM4vV+/fqxZsyaMkR16bNtm9erV2v78j+76QTzQXT+IB7rrB/EAqn8KzjAMcnNzOfnkkwG49NJLefPNN8McWesmohLA7du3k5aWVmv6nj17QhJCHVBKsWvXLm1/+1B3/SAe6K4fxAPd9YN4EEDnBNgtIioBHD58ODNmzAi+DiR9L730Escdd1y4wgoLXq+X4cOHa1v2110/iAe66wfxQHf9IB5AdS6QmJioXSHIbSIiAVyyZAkADz30EHfffTd//OMfsSyLJ554gtNOO42pU6fywAMPhDfIQ4xt26xYsULbsx7d9YN4oLt+EA901w/iAVRXQcvLy7WvgrY0EZEAHnXUUQwdOpQlS5aQnZ3N3r17ycrKIicnh/T0dBYuXMjQoUPDHeYhp7y8PNwhhBXd9YN4oLt+EA901w/iASDJnwtExIOgFy5cyJQpU3j33Xfx+/1ccMEF/O53v+OUU04Jd2gNIg+SFARBECKJ1vwg6JZGHgTdMBFRATzuuON46aWX2Lp1K8899xybNm3itNNOIysriwceeIBNmzaFO8RDjm3b5Ofna1v2110/iAe66wfxQHf9cPAeREBtp8U42CHgaPLADSIiAQwQHx/PuHHjmDt3Lj/++COXXnopL7zwAj179uSss84Kd3iCIAiCENH4fD6g+ocVdCfgQcATIZSIGAKuj7KyMt58803+9re/UVxcHHFngVJCFgRBECKNwsJCiouLSUtLIyEhQbu7Z5VS7N27l23bttGuXTs6d+5cax45fkNE3lc+b948pkyZwnvvvYfH4+Hiiy/mmmuuCXdYhxTbtlm6dCkDBw4M/gC2TuiuH8QD3fWDeKC7fjg4Dzp16gTAtm3b3AztkKGUwu/34/P5mpTMtmvXLuiFUJuISQA3btzI1KlTmTp1KmvXruX444/nqaee4uKLLyYxMTHc4YWF+Pj4cIcQVnTXD+KB7vpBPNBdPzTdA8Mw6Ny5M2lpafj9fpeiOnTYts369evp3r17o5Ngn8+n7UlDY4mIIeDTTjuNzz//nI4dO3LllVfyu9/9jt69e4c7rAMiJWRBEARBaH3I8TtCbgKJj4/nvffeY9OmTUyePLlVJH9uY1kWixcvxrKscIcSFnTXD+KB7vpBPNBdP4gHIB64RUQMAX/00UfhDiHiMAyDlJQU7S7eDaC7fhAPdNcP4oHu+kE8APHALSKiAhgJTJo0CcMwGD9+fLhDAcDj8dCrVy9tr2HQXT+IB7rrB/FAd/0gHoB44BaSAAKLFy/mxRdfZODAgeEOJYhlWeTm5mpb8tZdP4gHuusH8UB3/SAegHjgFtongGVlZVx++eW89NJLpKSkhDucIKZpkpGRgWnq2UW66wfxQHf9IB7orh/EAxAP3EJ7N2+88UbOPvtsTj311APOW1lZSUlJScgfEHxAtW3bdbYtywppO47TYDtw23737t2xbTv4czZ+vx+lVPCZSDXbQEjbcZyQduDMqb62bdshbTc01WwfSJNt23Tv3h3DMKJGU1P7yXEcunfvHtxuNGhqSj8ppejatSumaUaNpqb2k+M4ZGZmYppm1GhqSj+ZpkmXLl0wDCNqNDW1nwC6dOmCaZpRo6mp/aSUCiaALalJd7ROAN9++22+/fZbJk2a1Kj5J02aRHJycvAvMzMTgPz8fAAKCgooKCgAYOnSpaxatQqAvLw81q5dC8CiRYvYuHEjALm5uRQWFgIwf/58duzYAcCcOXPYuXMn8+fPJycnh9LSUgCys7OpqKjAsiyys7OxLIuKigqys7MBKC0tJScnB4Di4mLmzJkDwI4dO5g/fz5Q/YT43NxcoPrZi4sWLQJg7dq15OXlAbBq1SqWLl3a4pqKi4sBGq1p/vz5FBcXR5WmpvTTl19+yfz581m3bl3UaGpKPy1btoxZs2ZhWVbUaGpqP3355ZfMmTMHy7KiRlNT+imgo6ysLGo0NbWfdu7cySeffIJlWVGjqan9tGbNGnJycrAsq8U0ffnll+hORDwHMBxs3LiRYcOGkZOTw6BBgwAYOXIkgwcP5vHHH69zmcrKSiorK4OvS0pKyMzMpKioiJSUlOAZh8fjCWlbloVhGMG2aZrBM/q62n6/H8Mw+Pnnn+nQoQMxMTHBSpjXW33jtmVZIW2fz4dSKth2HAfbtoNtx3Hwer31tgOVxkC7Lh3N1eTxeIJtr9fboKaqqip27NhBp06dcBwnKjQ1tZ8sy2L79u2kp6cDRIWmpvST3+9n69atZGRkBKsMrV1TU/upqqqKn3/+mYyMDBzHiQpNTeknpRSbNm0KVn+iQVNT+8myLLZs2ULXrl0BokJTU/vJ7/dTWFhI165dQ74LmqOpqKiI1NRUrZ8DqG0C+MEHH3D++eeH3FVk2zaGYWCaJpWVlQe840geJCkIgiAIrQ85fms8BDx69Gh++OEHlixZEvwbNmwYl19+OUuWLAn77eaWZQWHfnREd/0gHuiuH8QD3fWDeADigVtExIOgw0FSUhIDBgwImZaYmEhqamqt6eHANE0GDBig7V1PuusH8UB3/SAe6K4fxAMQD9xC2wQw0jFNk7S0tHCHETZ01w/ige76QTzQXT+IByAeuIWk0zWYO3duvTeAHGr8fj8zZ84MeRSATuiuH8QD3fWDeKC7fhAPQDxwC21vAmkJ3LyI1HEciouLadeunZZlb931g3igu34QD3TXD+IBuOOB3AQiCWCzkB1IEARBEFofcvyWIeCIxe/3M2PGDG1L3rrrB/FAd/0gHuiuH8QDEA/cQiqAzcDNMwilFKWlpSQlJWEYRouuuzWgu34QD3TXD+KB7vpBPAB3PJAKoCSAzUJ2IEEQBEFofcjxW4aAIxa/38+HH36obclbd/0gHuiuH8QD3fWDeADigVtIBbAZuD0EXFFRQVxcnJZlf931g3igu34QD3TXD+IBuOOBVAClAhjRBH5MW1d01w/ige76QTzQXT+IByAeuIEkgBGKZVlkZ2dr+9uHuusH8UB3/SAe6K4fxAMQD9xChoCbgdtDwJZl4fV6tSz7664fxAPd9YN4oLt+EA/AHQ9kCFgqgBGN7mc7uusH8UB3/SAe6K4fxAMQD9xAEsAIxbIscnJytN3pddcP4oHu+kE80F0/iAcgHriFDAE3AykhC4IgCELrQ47fUgGMWJRSlJSUoGt+rrt+EA901w/ige76QTwA8cAtJAGMUCzLYsGCBdqWvHXXD+KB7vpBPNBdP4gHIB64hQwBNwMpIQuCIAhC60OO31IBjFgcx6GoqAjHccIdSljQXT+IB7rrB/FAd/0gHoB44BaSAEYotm2zePFibNsOdyhhQXf9IB7orh/EA931g3gA4oFbyBBwM5ASsiAIgiC0PuT4LRXAiMVxHLZt26ZtyVt3/SAe6K4fxAPd9YN4AOKBW0gCGKE4jkN+fr62O7zu+kE80F0/iAe66wfxAMQDt5Ah4GYgJWRBEARBaH3I8VsqgBGL4zhs3rxZ2zMe3fWDeKC7fhAPdNcP4gGIB24hCWCE4jgOa9as0XaH110/iAe66wfxQHf9IB6AeOAWMgTcDKSELAiCIAitDzl+SwUwYnEch/Xr12t7xqO7fhAPdNcP4oHu+kE8APHALSQBjFB0v+ZBd/0gHuiuH8QD3fWDeADigVvIEHAzkBKyIAiCILQ+5PgtFcCIxbZtVq9ere1P3+iuH8QD3fWDeKC7fhAPQDxwC0kAIxSlFLt27ULXAq3u+kE80F0/iAe66wfxAMQDt5Ah4GYgJWRBEARBaH3I8VsqgBGLbdusWLFC25K37vpBPNBdP4gHuusH8QDEA7eQBDCCKS8vD3cIYUV3/SAe6K4fxAPd9YN4AOKBG8gQcDOQErIgCIIgtD7k+C0VwIjFtm3y8/O1LXnrrh/EA931g3igu34QD0A8cAtJAAVBEARBEDRDhoCbgZSQBUEQBKH1IcdvqQBGLLZtk5eXp23JW3f9IB7orh/EA931g3gA4oFbSAIYwcTHx4c7hLCiu34QD3TXD+KB7vpBPADxwA1kCLgZSAlZEARBEFofcvyWCmDEYlkWixcvxrKscIcSFnTXD+KB7vpBPNBdP4gHIB64hSSAEYphGKSkpGAYRrhDCQu66wfxQHf9IB7orh/EAxAP3EKGgJuBlJAFQRAEofUhx2+pAEYslmWRm5urbclbd/0gHuiuH8QD3fWDeADigVtIAhihmKZJRkYGpqlnF+muH8QD3fWDeKC7fhAPQDxwCxkCbgZSQhYEQRCE1occv6UCGLFYlsX8+fO1LXnrrh/EA931g3igu34QD0A8cAtJACMU0zTJysrStuStu34QD3TXD+KB7vpBPADxwC1kCLgZSAlZEARBEFofcvyWCmDEYlkWc+bM0bbkrbt+EA901w/ige76QTwA8cAtJAGMUEzTZMCAAdqWvHXXD+KB7vpBPNBdP4gHIB64hQwBNwMpIQuCIAhC60OO31IBjFj8fj8zZ87E7/eHO5SwoLt+EA901w/ige76QTwA8cAtpALYDNw8g3Ach+LiYtq1a6dl2Vt3/SAe6K4fxAPd9YN4AO54IBVAjSuAkyZNYvjw4SQlJZGWlsZ5553HypUrwx1WENM0ad++vbYfeN31g3igu34QD3TXD+IBiAduoa2b8+bN48Ybb+Srr75i1qxZWJbFmDFj2LNnT7hDA6pL3jNmzNC25K27fhAPdNcP4oHu+kE8APHALWQIeB/bt28nLS2NefPmcfLJJzdqGTdLyEopSktLSUpKwjCMFl13a0B3/SAe6K4fxAPd9YN4AO54IEPA4A13AJHC7t27AWjfvn2YI6nGMAxtd0oQ/SAe6K4fxAPd9YN4AOKBW2g7BFwTpRR/+tOfOPHEExkwYEC981VWVlJSUhLyB2DbdvD/utqWZYW0HcdpsO33+6msrOTDDz9k7969BIq0fr8fpRRKqVrtgI5A23GckHbgAZr1tW3bDmm7oalm+0Ca9u7dy4cffkhVVVXUaGpqP5WXl/Phhx9SWVkZNZqa0k8VFRV8+OGH+P3+qNHU1H4K7AN+vz9qNDWln/x+f/B7IFo0NbWfAseCwLqiQVNT+6m+74LmatIdSQCBm266iaVLlzJt2rQG55s0aRLJycnBv8zMTADy8/MBKCgooKCgAIClS5eyatUqAPLy8li7di0AixYtYuPGjQDk5uZSWFgIwPz589mxYwcAc+bMoaysjDFjxvD5559TWloKQHZ2NhUVFViWRXZ2NpZlUVFRQXZ2NgClpaXk5OQAUFxczJw5cwDYsWMH8+fPB6CwsJDc3FwANm7cyKJFiwBYu3YteXl5AKxatYqlS5e2uKbi4mIAcnJyDqhp1qxZjBkzhvLy8qjR1NR+Wrx4MWPGjKGwsDBqNDWln1atWkX37t3xer1Ro6mp/bR48WIGDhyI1+uNGk1N6Sevt3qQyrKsqNHU1H4qKysjNjYWr9cbNZqa2k+bNm0iPT0dr9fbYpq+/PJLdEf7awBvvvlmPvjgA+bPn0/Pnj0bnLeyspLKysrg65KSEjIzMykqKiIlJSV4xuHxeELalmVhGEawbZompmnW2/b7/ZimieM4KKXw+XwYhoHf7w/5QqzZ9vl8KKWCbcdxsG072HYcB6/XW2/btm2UUsF2XTqaq8nj8QTbXq+3QU1+vz+4/po6WrOmpvZTIDbTNEN0tGZNTemnwEE/NjY2eNbe2jU1tZ8C1ZaYmBhs244KTU3pJ6iugsbFxWEYRlRoamo/2bZNVVUVcXFxKKWiQlNT+6m+74LmaCoqKiI1NVXrawC1TQCVUtx8881Mnz6duXPncvjhhzd5HW5eROr3+8nOzuass87C5/O16LpbA7rrB/FAd/0gHuiuH8QDcMcDuQlE4wTwhhtu4K233uLDDz+kd+/ewenJycnEx8c3ah1u3wUcOIvS8c4v3fWDeKC7fhAPdNcP4gG444EkgBpfA/jcc8+xe/duRo4cSefOnYN/77zzTrhDC6L7Raq66wfxQHf9IB7orh/EAxAP3EDbBDBwh9L+f1dddVW4QwOqd/acnBxtd3rd9YN4oLt+EA901w/iAYgHbqHtEHBLICVkQRAEQWh9yPFb4wpgpKOUoqSkBF3zc931g3igu34QD3TXD+IBiAduIQlghGJZFgsWLNC25K27fhAPdNcP4oHu+kE8APHALWQIuBlICVkQBEEQWh9y/JYKYMTiOA5FRUXBh17qhu76QTzQXT+IB7rrB/EAxAO3kAQwQrFtm8WLFwefbq4buusH8UB3/SAe6K4fxAMQD9xChoCbgZSQBUEQBKH1IcdvqQBGLI7jsG3bNm1L3rrrB/FAd/0gHuiuH8QDEA/cQhLACMVxHPLz87Xd4XXXD+KB7vpBPNBdP4gHIB64hQwBNwMpIQuCIAhC60OO31IBjFgcx2Hz5s3anvHorh/EA931g3igu34QD0A8cAtJACMUx3FYs2aNtju87vpBPNBdP4gHuusH8QDEA7eQIeBmICVkQRAEQWh9yPFbKoARi+M4rF+/XtszHt31g3igu34QD3TXD+IBiAduIQlghKL7NQ+66wfxQHf9IB7orh/EAxAP3EKGgJuBlJAFQRAEofUhx2+pAEYstm2zevVqbX/6Rnf9IB7orh/EA931g3gA4oFbSAIYoSil2LVrF7oWaHXXD+KB7vpBPNBdP4gHIB64hQwBNwMpIQuCIAhC60OO31IBjFhs22bFihXalrx11w/ige76QTzQXT+IByAeuIUkgBFMeXl5uEMIK7rrB/FAd/0gHuiuH8QDEA/cQIaAm4GUkAVBEASh9SHHb6kARiy2bZOfn69tyVt3/SAe6K4fxAPd9YN4AOKBW0gCKAiCIAiCoBkyBNwMpIQsCIIgCK0POX5LBTBisW2bvLw8bUveuusH8UB3/SAe6K4fxAMQD9xCEsAIJj4+PtwhhBXd9YN4oLt+EA901w/iAYgHbiBDwM1ASsiCIAiC0PqQ47dUACMWy7JYvHgxlmWFO5SwoLt+EA901w/ige76QTwA8cAtJAGMUAzDICUlBcMwwh1KWNBdP4gHuusH8UB3/SAegHjgFjIE3AykhCwIgiAIrQ85fksFMGKxLIvc3FxtS9666wfxQHf9IB7orh/EAxAP3EISwAjFNE0yMjIwTT27SHf9IB7orh/EA931g3gA4oFbyBBwM5ASsiAIgiC0PuT4LRXAiMWyLObPn69tyVt3/SAe6K4fxAPd9YN4AOKBW0gCGKGYpklWVpa2JW/d9YN4oLt+EA901w/iAYgHbiFDwM1ASsiCIAiC0PqQ47dUACMWy7KYM2eOtiVv3fWDeKC7fhAPdNcP4gGIB24hCWCEYpomAwYM0Lbkrbt+EA901w/ige76QTwA8cAtZAi4GUgJWRAEQRBaH3L8lgpgxOL3+5k5cyZ+vz/coYQF3fWDeKC7fhAPdNcP4gGIB24hFcBm4OYZhOM4FBcX065dOy3L3rrrB/FAd/0gHuiuH8QDcMcDqQBKAtgsZAcSBEEQhNaHHL9lCDhi8fv9zJgxQ9uSt+76QTzQXT+IB7rrB/EAxAO3kApgM3DzDEIpRWlpKUlJSRiG0aLrbg3orh/EA931g3igu34QD8AdD6QCKAlgs5AdSBAEQRBaH3L8liHgiMXv9/Phhx9qW/LWXT+IB7rrB/FAd/0gHoB44BZSAWwGbg8BV1RUEBcXp2XZX3f9IB7orh/EA931g3gA7nggFUCpAEY0Xq833CGEFd31g3igu34QD3TXD+IBiAduIAlghGJZFtnZ2dr+9qHu+kE80F0/iAe66wfxAMQDt5Ah4Gbg9hCwZVl4vV4ty/666wfxQHf9IB7orh/EA3DHAxkClgpgRKP72Y7u+kE80F0/iAe66wfxAMQDN5AEMEKxLIucnBxtd3rd9YN4oLt+EA901w/iAYgHbiFDwM1ASsiCIAiC0PqQ47dUACMWpRQlJSXomp/rrh/EA931g3igu34QD0A8cAvtE8Bnn32Wnj17EhcXx9ChQ1mwYEG4QwKqS94LFizQtuStu34QD3TXD+KB7vpBPADxwC20HgJ+5513uOKKK3j22Wc54YQTeOGFF/jPf/7D8uXL6dat2wGXlxKyIAiCILQ+5PiteQXw0Ucf5ZprruHaa6+lb9++PP7442RmZvLcc8+FOzQcx6GoqAjHccIdSljQXT+IB7rrB/FAd/0gHoB44BbaPlq7qqqKb7/9lrvuuitk+pgxY8jNza1zmcrKSiorK4OvS0pKALBtO+R/j8cT0rYsC8Mwgm3TNDFNs9623+/HcRwWL17MSSedRHx8PIZh4Pf7g09DDzwTKdD2+XzBZyX5fD4cx8G27WDbcRy8Xi/OniKc3Zvx+ktx9hah9hbhqSrFqdoLViWm48exKsC2MHFwbAscCxNwVPWHzzSM6g+iYQTbhmFghLRNHKVC26a5bx6FYXowDAPbcTBND+ybxzRNMAxs26Z0cyHJmZnYhoHH40UBjqr2VClQgGl6UIBSYO6bJ9B2lELt6wNHARiYplndNgxM04Oj1L62F3tfvKbpwXYcDNODaZrYTnXsplGjbZpYtoPp8QbbHo8HwzCxHBuPxwtU6/N4fcG211sdo22r6v6AfX3jq45XgWdf7H7L4qf8fAYOHITH48Hj8WLvq9dXt6tfeEzPvnb1PvZL24tl27/se3a116ZpYjk12raDaVbr9ls2Ho+num3b+567ZeK3/Hj36bBsu7ptVLd9Xh8Kgm1HKWxHVe97SoXoC20rvF4ftuOgqH7Sv+2o4OemqrKKb3MXMHLkSJTHU4em6nb158ZT3d4Xe83pfsvap8kMfoZa7PNUT9u2bZRSwXZd3wuN+Y6orKxk0aJFjB49GsdxQr4jWqumhr739tdk2zaLFi3ilFNOwefzRYWmpvaT3+8P7gMEvy9at6am9lNVVVXQg8CgZUto0h1tE8AdO3Zg2zbp6ekh09PT09m6dWudy0yaNImJEyfWmp6fn89JJ51EQUEBAAMGDGDp0qXEx8fTp08f8vLySElJoVevXixatIiMjAy6d+9Obm4uWVlZZGRkMH/+fAYMGEBaWhpz5sxh+PDhnH766cyYMYOTTjqJtm3bkp2dzZgxY/B6vWRnZ3PWWWcFb48/99xzKS0tZcGCBZx9+qmU/vQt6xbPZFCXWKq2LKdy6wqSrR2Y5buCZd+a5d9wtT31tH1Ad4AaXWHUmMfY99dQu6Viqa/tPci2UaNt1ohh/7higWEABYcuRt9Bto0a7f01HahdX+xxwGkA3xBCczR5A3uHYeDZdyJQ3VZgVieZpuOApzqS6nb1UoZtg9dXfYbhqGBbOdXTlVIox6me7jjVByqvD2Xb1SciXh9O4CDl9WEHDlJeH47fj2Ga1dOrqsDjwfT6MCorONXrw7vCS3lFBTExMeDxUlVeTlxsHHg8VO7dixkfj8f0UFFWRmJiIoZhULFnD23atEEpKN+zB19SWxzHoXzv3n1tm4q95fiS2mJbfioqKklKaoPlt6isqiKpTRv8VX78fj9t2rTBX1GJZdu0SUykqqISx3FITEygsrwcMEhISKB8z15Mj4eE+HjKy8rwer3Ex8Wzt7SUmNgY4mLj2bN7N3Hx8cTGxlJaXExiYiIxvhhKd+0iKSkJ0+dj986dtGuXgs/rYej2HXgKn0IZBsU7dpLaoQNKwa6inaR1TMO2LYp3FdOxY0dsv5/du0vo0KED/qoqysrKSE1Npaqigr1799K+fXsqy8upqKwkpV0KFXv34vf7adeuHeVlZdiOQ3LbZPaUloJh0DYpibLdu/F4PLRpk0RpcTExPh+JiYmU7CoiLi6OhPgEdhftJCEhkfj4eHbt2E7bpLbExsaya9s22qWkEOOLYefPW0lNTcXn9bFjayFpaWkYhsGOn38mPT0dpRQ7tm2jc6fOWJafnTt30im9E4a/iiG7duHb9RqVVZWUlJTQsUNHKivK2bNnDx1SO1BRvpeK8nLat29P+Z49+P1VpCS3Y29ZGY5j79NUXbAI0ZSYSNnuYnw+H4kJiZTs2kVcXCwJ8fHsLioiMSGBuNhYinfuJCkpidiYGIp37CA5uS0xPh+7tm2jfUoKXq+HXdu2kZraAcOAXTt20KFDKspRFO/cUd03lsXu4mI6dEjF9vspKSkhtX17rKoq9uwpI6VdCv7KCsorymnXNpmqynKqKqtom5TE7q6nk5p6Ej6fjxUrVlBeXs6QIUOadcz98ssv0R1trwHcsmULGRkZ5ObmctxxxwWnP/DAA7z++uusWLGi1jJ1VQAzMzMpKioiJSWlRc+wDMOgqKiI5ORkYmJi6j7DsvfCjtXY21bgLVqN2vEjbF+BUbQWlF2vdhXfHiM+BRWfgopLxoxvh+ONA08Mpi8ex6w+yJgeHw4GGB7MYBWNXypkBvuqYtVVP3NfRc8wqg/uIW3b3jd/ddvcVzG0bQvTMACFE2yDbVtUVlQQHxeHUg4e00A5Do5j4zFNlOOglINpGChlo5xA20E51et3lANKYRrsGzpQ1ZXMkLZde/q++auTSadGGxxl/9J2Am21r/IJhlI4ytmXZlQnBNXynBoxqurY4Ze2AUo5sG9ZBSjHwbYtvB4PKFU9PWQeVWO6AhQGqrqtnH1t9k3ftywKQ4Gi2htjX5W0erqqsU71yzrVvm1BdfKDA8Fvjcauo3oeAy2/bgRBaAb2SXewrd/vgokyNL8CWFRURGpqqtbXAGpbAezQoQMej6dWtW/btm21qoIBYmNjiY2NrTXds69aEPh//3bNH7FuTNu3Khsn/wPU9m340tKrf/rGMPBV7YU926BsG74928G/t3rZfcuF/EBObDKk9YEOR0CHw6H9YdV/KT0wYhKD8x+qallT21gWX8+fz8knnxz0xu0KoBtto452Q7HXnNe2LBbU4UFD6z4U7bo4qHUotS+hrPF/YDoKy/LzxYIFnHjiCXg93hrzEbpMrWUJWU9IO+R/mthWday/qetoShss22JJXh6DBw9qwIM62vvHV58ftdrUoLHraWDeZs5j2zYrVqygT58+eMz9L1mvo8/3P8FocFv1LHPQ89RFI+Y5wHpsx2HVqlUcfvgReDwHumx/v09Zo342rY55jP2+lepcz/7v1beeetZR7zZqv1btsyhYXkDHjh1DjpUtdczVFW0rgADHHHMMQ4cO5dlnnw1O69evH+eeey6TJk064PKu3UU09yGYe+DtA9AmfV+St++v4xHQsS8kdWrkh18QBEEQ9ELuAta4Agjwpz/9iSuuuIJhw4Zx3HHH8eKLL7Jhwwb+8Ic/hDewrNE4sW0pKSmhbVJScFgUbyy0SYPENGjTsfr/2DbhjdUlHMehsLCQzp07V98YoiG6e6C7fhAPdNcP4gGIB26hdQL4m9/8hp07d3LfffdRWFjIgAEDyM7Opnv37uENLHM4TuchLM3N5fijj8fUsFTtOA5r1qwhPT1d2w+87h7orh/EA931g3gA4oFbaD0E3FykhCwIgiAIrQ85fmv+IOhIxnEc1q9fr+2DL3XXD+KB7vpBPNBdP4gHIB64hSSAEYrjOGzevFnbHV53/SAe6K4fxAPd9YN4AOKBW8gQcDOQErIgCIIgtD7k+C0VwIjFtm1Wr14dfLilbuiuH8QD3fWDeKC7fhAPQDxwC0kAIxSlFLt27ULXAq3u+kE80F0/iAe66wfxAMQDt5Ah4GYgJWRBEARBaH3I8VsqgBFL4CeQdC15664fxAPd9YN4oLt+EA9APHALSQAjmPLy8nCHEFZ01w/ige76QTzQXT+IByAeuIEMATcDKSELgiAIQutDjt9SAYxYbNsmPz9f25K37vpBPNBdP4gHuusH8QDEA7eQBFAQBEEQBEEzZAi4GUgJWRAEQRBaH3L8Bm+4A2jNBHLnkpKSFl93oOQ9YMAAPB5Pi68/0tFdP4gHuusH8UB3/SAegDseBI7bOtfAJAFsBqWlpQBkZmaGORJBEARBEJpKaWkpycnJ4Q4jLMgQcDNwHIctW7aQlJSEYRgtuu6SkhIyMzPZuHGjluVp3fWDeKC7fhAPdNcP4gG444FSitLSUrp06YJp6nk7hFQAm4FpmnTt2tXVbbRt21bbDz2IfhAPdNcP4oHu+kE8gJb3QNfKXwA9015BEARBEASNkQRQEARBEARBMyQBjFBiY2O59957iY2NDXcoYUF3/SAe6K4fxAPd9YN4AOKBW8hNIIIgCIIgCJohFUBBEARBEATNkARQEARBEARBMyQBFARBEARB0AxJAAVBEARBEDRDEkAXePbZZ+nZsydxcXEMHTqUBQsWNDj/vHnzGDp0KHFxcRx22GE8//zzteZ577336NevH7GxsfTr14/p06c3e7tuEg4PJkyYgGEYIX+dOnVqUV1NoaU9WLZsGRdeeCE9evTAMAwef/zxFtmuW4RDf7TvAy+99BInnXQSKSkppKSkcOqpp7Jo0aJmb9ctwqE/2veB999/n2HDhtGuXTsSExMZPHgwr7/+erO36ybh8CDS9oOIRAktyttvv618Pp966aWX1PLly9Wtt96qEhMT1fr16+uc/6efflIJCQnq1ltvVcuXL1cvvfSS8vl86r///W9wntzcXOXxeNSDDz6oCgoK1IMPPqi8Xq/66quvDnq7bhIuD+69917Vv39/VVhYGPzbtm2b63rrwg0PFi1apG6//XY1bdo01alTJ/XYY481e7tuES790b4PXHbZZeqZZ55ReXl5qqCgQF199dUqOTlZbdq06aC36xbh0h/t+8Dnn3+u3n//fbV8+XK1evVq9fjjjyuPx6M+/fTTg96um4TLg0jaDyIVSQBbmKOPPlr94Q9/CJnWp08fddddd9U5/x133KH69OkTMu36669Xxx57bPD1xRdfrM4444yQeU4//XR1ySWXHPR23SRcHtx7771q0KBBzYy+ZXDDg5p07969zgQoUvaDcOnXaR9QSinLslRSUpJ69dVXD3q7bhEu/brtA0opNWTIEPX3v//9oLfrJuHyIJL2g0hFhoBbkKqqKr799lvGjBkTMn3MmDHk5ubWuczChQtrzX/66afzzTff4Pf7G5wnsM6D2a5bhMuDAKtWraJLly707NmTSy65hJ9++qm5kpqMWx64sV03CJf+ADrtA3v37sXv99O+ffuD3q4bhEt/AF32AaUUn332GStXruTkk08+6O26Rbg8CBAJ+0EkIwlgC7Jjxw5s2yY9PT1kenp6Olu3bq1zma1bt9Y5v2VZ7Nixo8F5Aus8mO26Rbg8ADjmmGN47bXXmDlzJi+99BJbt27l+OOPZ+fOnS0hrdG45YEb23WDcOkH/faBu+66i4yMDE499dSD3q4bhEs/6LEP7N69mzZt2hATE8PZZ5/NU089xWmnnXbQ23WLcHkAkbMfRDLecAcQjRiGEfJaKVVr2oHm3396Y9bZ1O26STg8OPPMM4PtI488kuOOO46srCxeffVV/vSnPzVdRDNxwwM3tusW4dCv0z7wr3/9i2nTpjF37lzi4uKatV23CId+HfaBpKQklixZQllZGZ999hl/+tOfOOywwxg5cuRBb9dNwuFBpO0HkYgkgC1Ihw4d8Hg8tc5stm3bVuuMJkCnTp3qnN/r9ZKamtrgPIF1Hsx23SJcHtRFYmIiRx55JKtWrToYKQeNWx64sV03CJf+uojWfeDf//43Dz74ILNnz2bgwIHN2q4bhEt/XUTjPmCaJr169QJg8ODBFBQUMGnSJEaOHBkx+wCEz4O6CNd+EMnIEHALEhMTw9ChQ5k1a1bI9FmzZnH88cfXucxxxx1Xa/6cnByGDRuGz+drcJ7AOg9mu24RLg/qorKykoKCAjp37nwwUg4atzxwY7tuEC79dRGN+8DDDz/MP//5Tz799FOGDRvW7O26Qbj010U07gP7o5SisrLyoLfrFuHyoC7CtR9ENIfqbhNdCNzy/vLLL6vly5er8ePHq8TERLVu3TqllFJ33XWXuuKKK4LzB255v+2229Ty5cvVyy+/XOuW9y+//FJ5PB710EMPqYKCAvXQQw/V+xiY+rZ7KAmXB3/+85/V3Llz1U8//aS++uorNXbsWJWUlBQ1HlRWVqq8vDyVl5enOnfurG6//XaVl5enVq1a1ejtHirCpT/a94HJkyermJgY9d///jfk8RalpaWN3u6hIlz6o30fePDBB1VOTo5as2aNKigoUI888ojyer3qpZdeavR2DyXh8iCS9oNIRRJAF3jmmWdU9+7dVUxMjDrqqKPUvHnzgu+NGzdOjRgxImT+uXPnqiFDhqiYmBjVo0cP9dxzz9Va5//93/+p3r17K5/Pp/r06aPee++9Jm33UBMOD37zm9+ozp07K5/Pp7p06aIuuOACtWzZMlf0NYaW9mDt2rUKqPW3/3oiZT8Ih/5o3we6d+9epwf33ntvo7d7KAmH/mjfB+6++27Vq1cvFRcXp1JSUtRxxx2n3n777SZt91ATDg8ibT+IRAyl9l1dKQiCIAiCIGiBXAMoCIIgCIKgGZIACoIgCIIgaIYkgIIgCIIgCJohCaAgCIIgCIJmSAIoCIIgCIKgGZIACoIgCIIgaIYkgIIgCIIgCJohCaAgCNoxcuRIxo8fH3zdo0cPHn/88bDFIwiCcKiRBFAQhLCRm5uLx+PhjDPOCGscixcv5rrrrmvUvJIsCoIQDUgCKAhC2JgyZQo333wzX3zxBRs2bGhwXqUUlmW5EkfHjh1JSEhwZd2CIAiRiCSAgiCEhT179vDuu+/yxz/+kbFjxzJ16tSQ9+fOnYthGMycOZNhw4YRGxvLggULcByHyZMn06tXL2JjY+nWrRsPPPBAg9u58soradOmDZ07d+aRRx6pNc/+Vb0JEybQrVs3YmNj6dKlC7fccgtQPXS8fv16brvtNgzDwDAMAHbu3Mmll15K165dSUhI4Mgjj2TatGkh2xg5ciS33HILd9xxB+3bt6dTp05MmDAhZJ7i4mKuu+460tPTiYuLY8CAAXz88cfB93Nzczn55JOJj48nMzOTW265hT179jTGbkEQhBAkARQEISy888479O7dm969e/Pb3/6WV155hbp+mvyOO+5g0qRJFBQUMHDgQP76178yefJk7rnnHpYvX85bb71Fenp6vdv5y1/+wueff8706dPJyclh7ty5fPvtt/XO/9///pfHHnuMF154gVWrVvHBBx9w5JFHAvD+++/TtWtX7rvvPgoLCyksLASgoqKCoUOH8vHHH5Ofn891113HFVdcwddffx2y7ldffZXExES+/vpr/vWvf3Hfffcxa9YsABzH4cwzzyQ3N5c33niD5cuX89BDD+HxeAD44YcfOP3007ngggtYunQp77zzDl988QU33XRT04wXBEEAUIIgCGHg+OOPV48//rhSSim/3686dOigZs2aFXz/888/V4D64IMPgtNKSkpUbGyseumllxq1jdLSUhUTE6Pefvvt4LSdO3eq+Ph4deuttwande/eXT322GNKKaUeeeQRdcQRR6iqqqo611lz3oY466yz1J///Ofg6xEjRqgTTzwxZJ7hw4erO++8Uyml1MyZM5VpmmrlypV1ru+KK65Q1113Xci0BQsWKNM0VXl5+QHjEQRBqIlUAAVBOOSsXLmSRYsWcckllwDg9Xr5zW9+w5QpU2rNO2zYsGC7oKCAyspKRo8e3ajtrFmzhqqqKo477rjgtPbt29O7d+96l/n1r39NeXk5hx12GL///e+ZPn36Aa89tG2bBx54gIEDB5KamkqbNm3IycmpdV3jwIEDQ1537tyZbdu2AbBkyRK6du3KEUccUec2vv32W6ZOnUqbNm2Cf6effjqO47B27doG4xMEQdgfb7gDEARBP15++WUsyyIjIyM4TSmFz+dj165dpKSkBKcnJiYG2/Hx8U3ajqpjSPlAZGZmsnLlSmbNmsXs2bO54YYbePjhh5k3bx4+n6/OZR555BEee+wxHn/8cY488kgSExMZP348VVVVIfPtv7xhGDiOAxxYm+M4XH/99cHrEWvSrVu3pkgUBEGQawAFQTi0WJbFa6+9xiOPPMKSJUuCf99//z3du3fnzTffrHfZww8/nPj4eD777LNGbatXr174fD6++uqr4LRdu3bx448/NrhcfHw8v/rVr3jyySeZO3cuCxcu5IcffgAgJiYG27ZD5l+wYAHnnnsuv/3tbxk0aBCHHXYYq1atalSMAQYOHMimTZvqje2oo45i2bJl9OrVq9ZfTExMk7YlCIIgFUBBEA4pH3/8Mbt27eKaa64hOTk55L2LLrqIl19+ud4bG+Li4rjzzju54447iImJ4YQTTmD79u0sW7aMa665ptb8bdq04ZprruEvf/kLqamppKenc/fdd2Oa9Z/7Tp06Fdu2OeaYY0hISOD1118nPj6e7t27A9V3DM+fP59LLrmE2NhYOnToQK9evXjvvffIzc0lJSWFRx99lK1bt9K3b99G+zJixAhOPvlkLrzwQh599FF69erFihUrMAyDM844gzvvvJNjjz2WG2+8kd///vckJiZSUFDArFmzeOqppxq9HUEQBJAKoCAIh5iXX36ZU089tVbyB3DhhReyZMkSvvvuu3qXv+eee/jzn//MP/7xD/r27ctvfvOb4HV0dfHwww9z8skn86tf/YpTTz2VE088kaFDh9Y7f7t27XjppZc44YQTGDhwIJ999hn/+9//SE1NBeC+++5j3bp1ZGVl0bFjx2BMRx11FKeffjojR46kU6dOnHfeeY105Bfee+89hg8fzqWXXkq/fv244447gtXGgQMHMm/ePFatWsVJJ53EkCFDuOeee+jcuXOTtyMIgmCog7lIRhAEQRAEQWi1SAVQEARBEARBMyQBFARBEARB0AxJAAVBEARBEDRDEkBBEARBEATNkARQEARBEARBMyQBFARBEARB0AxJAAVBEARBEDRDEkBBEARBEATNkARQEARBEARBMyQBFARBEARB0AxJAAVBEARBEDRDEkBBEARBEATN+H+rEfFGTRTVbgAAAABJRU5ErkJggg==' width=640.0/>\n",
       "            </div>\n",
       "        "
      ],
      "text/plain": [
       "Canvas(toolbar=Toolbar(toolitems=[('Home', 'Reset original view', 'home', 'home'), ('Back', 'Back to previous …"
      ]
     },
     "metadata": {},
     "output_type": "display_data"
    }
   ],
   "source": [
    "plt.figure()\n",
    "plt.plot(sampled['Distance'],sampled['ux'],label='$u_x$')\n",
    "plt.plot(sampled['Distance'],sampled['uy'],label='$u_x$')\n",
    "plt.xlabel('Arc distance')\n",
    "plt.ylabel('Velocity')\n",
    "plt.title('Distribution of the velocity components along the arc')\n",
    "plt.grid(linestyle='dotted')\n",
    "plt.legend()\n",
    "plt.show()"
   ]
  },
  {
   "cell_type": "markdown",
   "id": "8e5e9188",
   "metadata": {},
   "source": [
    "## Fields"
   ]
  },
  {
   "cell_type": "code",
   "execution_count": 253,
   "id": "0d3cbc74",
   "metadata": {},
   "outputs": [
    {
     "data": {
      "application/vnd.jupyter.widget-view+json": {
       "model_id": "b0ff78d1fe54446a9cf1a5c199bc4273",
       "version_major": 2,
       "version_minor": 0
      },
      "text/plain": [
       "ViewInteractiveWidget(height=768, layout=Layout(height='auto', width='100%'), width=1024)"
      ]
     },
     "metadata": {},
     "output_type": "display_data"
    }
   ],
   "source": [
    "### k field \n",
    "\n",
    "p6 = pv.Plotter()\n",
    "p6.add_mesh(mesh_cell,scalars='k')\n",
    "p6.view_xy()\n",
    "p6.add_axes()\n",
    "p6.show()"
   ]
  },
  {
   "cell_type": "code",
   "execution_count": 254,
   "id": "b13cb55d",
   "metadata": {},
   "outputs": [
    {
     "data": {
      "application/vnd.jupyter.widget-view+json": {
       "model_id": "96452de394234e0fbe1f7a38d5df3e1e",
       "version_major": 2,
       "version_minor": 0
      },
      "text/plain": [
       "ViewInteractiveWidget(height=768, layout=Layout(height='auto', width='100%'), width=1024)"
      ]
     },
     "metadata": {},
     "output_type": "display_data"
    }
   ],
   "source": [
    "### espilon field \n",
    "\n",
    "p6 = pv.Plotter()\n",
    "p6.add_mesh(mesh_cell,scalars='epsilon')\n",
    "p6.view_xy()\n",
    "p6.add_axes()\n",
    "p6.show()"
   ]
  },
  {
   "cell_type": "code",
   "execution_count": 255,
   "id": "d2c45c8b",
   "metadata": {},
   "outputs": [
    {
     "data": {
      "application/vnd.jupyter.widget-view+json": {
       "model_id": "1b312d7dc5a74a8d8d4052d9f7c64aad",
       "version_major": 2,
       "version_minor": 0
      },
      "text/plain": [
       "ViewInteractiveWidget(height=768, layout=Layout(height='auto', width='100%'), width=1024)"
      ]
     },
     "metadata": {},
     "output_type": "display_data"
    }
   ],
   "source": [
    "### nut field \n",
    "\n",
    "p6 = pv.Plotter()\n",
    "p6.add_mesh(mesh_cell,scalars='nut')\n",
    "p6.view_xy()\n",
    "p6.add_axes()\n",
    "p6.show()"
   ]
  },
  {
   "cell_type": "code",
   "execution_count": 256,
   "id": "bb7d1299",
   "metadata": {},
   "outputs": [
    {
     "data": {
      "application/vnd.jupyter.widget-view+json": {
       "model_id": "3a059b7bce4e4a53b5a477aaa5f91fdc",
       "version_major": 2,
       "version_minor": 0
      },
      "text/plain": [
       "ViewInteractiveWidget(height=768, layout=Layout(height='auto', width='100%'), width=1024)"
      ]
     },
     "metadata": {},
     "output_type": "display_data"
    }
   ],
   "source": [
    "### pressure field \n",
    "\n",
    "p6 = pv.Plotter()\n",
    "p6.add_mesh(mesh_cell,scalars='p')\n",
    "p6.view_xy()\n",
    "p6.add_axes()\n",
    "p6.show()"
   ]
  },
  {
   "cell_type": "markdown",
   "id": "e5fe5669",
   "metadata": {},
   "source": [
    "## Let's plot the streamlines"
   ]
  },
  {
   "cell_type": "code",
   "execution_count": 257,
   "id": "cec079ec",
   "metadata": {},
   "outputs": [],
   "source": [
    "X_center = (mesh.bounds[0]+mesh.bounds[1])/2\n",
    "Y_center = (mesh.bounds[2]+mesh.bounds[3])/2\n",
    "Z_center = (mesh.bounds[4]+mesh.bounds[5])/2\n",
    "centers = [X_center, Y_center, Z_center] \n",
    "\n",
    "\n",
    "face = mesh.slice(normal='x') # \"normal\" should be set as the direction of the flow\n",
    "slices = mesh.slice_along_axis(n=8, axis=\"x\") # axis is the axis of the flow\n",
    "faces = slices.combine() # converts Multiblock into UnstructuredGrid \n",
    "\n",
    "str1 = mesh.streamlines_from_source(faces, vectors='U') # streamlines using multiple surfaces\n",
    "str2 = mesh.streamlines_from_source(face, vectors='U') # streamlines using a singular surface\n",
    "# both require a dataset for the surface\n",
    "\n",
    "str3 = mesh.streamlines( \n",
    "n_points=100,\n",
    "vectors='U',\n",
    "pointa=(mesh.bounds[0], mesh.bounds[2], centers[2]),\n",
    "pointb=(mesh.bounds[0], mesh.bounds[3], centers[2])\n",
    ")  # Streamlines using a line"
   ]
  },
  {
   "cell_type": "markdown",
   "id": "c12a523b",
   "metadata": {},
   "source": [
    "We'll compare between the streamlines obtained from one singular surface (str1) and those obtained using a higher number of equidistant parallel surfaces (str2). \n",
    "The most accurate of the two cases is the one that resembles what we obtain with ParaView the most."
   ]
  },
  {
   "cell_type": "code",
   "execution_count": 258,
   "id": "6a4ba36f",
   "metadata": {},
   "outputs": [
    {
     "data": {
      "application/vnd.jupyter.widget-view+json": {
       "model_id": "b6b48f0169854efd9b82ca9da3ce5006",
       "version_major": 2,
       "version_minor": 0
      },
      "text/plain": [
       "ViewInteractiveWidget(height=768, layout=Layout(height='auto', width='100%'), width=1024)"
      ]
     },
     "metadata": {},
     "output_type": "display_data"
    }
   ],
   "source": [
    "# Streamlines obtained from a higher number of equidistant parallel surfaces\n",
    "p = pv.Plotter()\n",
    "p.add_mesh(mesh, color=\"w\")\n",
    "p.add_mesh(str1.tube(radius=0.0004))\n",
    "# View in the xy plane\n",
    "p.view_xy()\n",
    "# Show the axes\n",
    "p.add_axes()\n",
    "# Display the plotting window\n",
    "p.show()"
   ]
  },
  {
   "cell_type": "code",
   "execution_count": 259,
   "id": "5611dd07",
   "metadata": {},
   "outputs": [
    {
     "data": {
      "application/vnd.jupyter.widget-view+json": {
       "model_id": "dbd89c2f7b6e4498b888bb665ac68586",
       "version_major": 2,
       "version_minor": 0
      },
      "text/plain": [
       "ViewInteractiveWidget(height=768, layout=Layout(height='auto', width='100%'), width=1024)"
      ]
     },
     "metadata": {},
     "output_type": "display_data"
    }
   ],
   "source": [
    "# Streamlines obtained from one singular surface\n",
    "p = pv.Plotter()\n",
    "p.add_mesh(mesh, color=\"w\")\n",
    "p.add_mesh(str2.tube(radius=0.0004))\n",
    "# View in the xy plane\n",
    "p.view_xy()\n",
    "# Show the axes\n",
    "p.add_axes()\n",
    "# Display the plotting window\n",
    "p.show()"
   ]
  },
  {
   "cell_type": "markdown",
   "id": "c1c28ac4",
   "metadata": {},
   "source": [
    "## Let's determine the friction velocity"
   ]
  },
  {
   "cell_type": "code",
   "execution_count": 260,
   "id": "c5f6216c",
   "metadata": {
    "scrolled": true
   },
   "outputs": [
    {
     "data": {
      "application/vnd.jupyter.widget-view+json": {
       "model_id": "7a07e5e7518c46a09bae60823f7c1eff",
       "version_major": 2,
       "version_minor": 0
      },
      "text/plain": [
       "ViewInteractiveWidget(height=768, layout=Layout(height='auto', width='100%'), width=1024)"
      ]
     },
     "metadata": {},
     "output_type": "display_data"
    }
   ],
   "source": [
    "wall = mesh.slice(normal='y', origin=(X_center, mesh.bounds[3], 0))\n",
    "wall2 = mesh.slice(normal='-y', origin=(X_center, mesh.bounds[2], 0))\n",
    "wall3 = mesh.slice(normal='-y', origin=(X_center, 0, 0))\n",
    "p = pv.Plotter()\n",
    "p.add_mesh(wall)\n",
    "p.add_mesh(wall2)\n",
    "p.add_mesh(wall3)\n",
    "p.view_xy()\n",
    "p.add_axes()\n",
    "p.show()"
   ]
  },
  {
   "cell_type": "code",
   "execution_count": 261,
   "id": "b0e17d93",
   "metadata": {},
   "outputs": [
    {
     "data": {
      "text/html": [
       "<table><tr><th>Header</th><th>Data Arrays</th></tr><tr><td>\n",
       "<table>\n",
       "<tr><th>UnstructuredGrid</th><th>Information</th></tr>\n",
       "<tr><td>N Cells</td><td>12225</td></tr>\n",
       "<tr><td>N Points</td><td>25012</td></tr>\n",
       "<tr><td>X Bounds</td><td>-2.060e-02, 2.900e-01</td></tr>\n",
       "<tr><td>Y Bounds</td><td>-2.540e-02, 2.540e-02</td></tr>\n",
       "<tr><td>Z Bounds</td><td>-5.000e-04, 5.000e-04</td></tr>\n",
       "<tr><td>N Arrays</td><td>9</td></tr>\n",
       "</table>\n",
       "\n",
       "</td><td>\n",
       "<table>\n",
       "<tr><th>Name</th><th>Field</th><th>Type</th><th>N Comp</th><th>Min</th><th>Max</th></tr>\n",
       "<tr><td>U</td><td>Cells</td><td>float32</td><td>3</td><td>-2.553e+00</td><td>1.018e+01</td></tr>\n",
       "<tr><td>epsilon</td><td>Cells</td><td>float32</td><td>1</td><td>1.277e-01</td><td>5.788e+03</td></tr>\n",
       "<tr><td>k</td><td>Cells</td><td>float32</td><td>1</td><td>4.460e-04</td><td>5.498e+00</td></tr>\n",
       "<tr><td>nut</td><td>Cells</td><td>float32</td><td>1</td><td>1.402e-07</td><td>5.140e-03</td></tr>\n",
       "<tr><td><b>p</b></td><td>Cells</td><td>float32</td><td>1</td><td>-8.014e+00</td><td>1.504e+01</td></tr>\n",
       "<tr><td>U-normed</td><td>Cells</td><td>float32</td><td>1</td><td>5.320e-03</td><td>1.018e+01</td></tr>\n",
       "<tr><td>ux</td><td>Cells</td><td>float32</td><td>1</td><td>-2.553e+00</td><td>1.018e+01</td></tr>\n",
       "<tr><td>uy</td><td>Cells</td><td>float32</td><td>1</td><td>-9.007e-01</td><td>7.526e-01</td></tr>\n",
       "<tr><td>uz</td><td>Cells</td><td>float32</td><td>1</td><td>-3.396e-16</td><td>2.769e-16</td></tr>\n",
       "</table>\n",
       "\n",
       "</td></tr> </table>"
      ],
      "text/plain": [
       "UnstructuredGrid (0x1726c967880)\n",
       "  N Cells:\t12225\n",
       "  N Points:\t25012\n",
       "  X Bounds:\t-2.060e-02, 2.900e-01\n",
       "  Y Bounds:\t-2.540e-02, 2.540e-02\n",
       "  Z Bounds:\t-5.000e-04, 5.000e-04\n",
       "  N Arrays:\t9"
      ]
     },
     "execution_count": 261,
     "metadata": {},
     "output_type": "execute_result"
    }
   ],
   "source": [
    "mesh_cell"
   ]
  },
  {
   "cell_type": "code",
   "execution_count": 262,
   "id": "f4e4a87d",
   "metadata": {},
   "outputs": [],
   "source": [
    "def gradients_to_dict(arr):\n",
    "    keys = np.array([\"dux/dx\", \"dux/dy\", \"dux/dz\", \"duy/dx\", \"duy/dy\", \"duy/dz\", \"duz/dx\", \"duz/dy\", \"duz/dz\"])\n",
    "    keys = keys.reshape((3,3))[:,:arr.shape[1]].ravel()\n",
    "    return dict(zip(keys, arr.T))\n",
    "\n",
    "def gradients_to_dict2(arr):\n",
    "    keys = np.array([\"dU/dx\", \"dU/dy\", \"dU/dz\"])\n",
    "    keys = keys.reshape((3,1))[:,:arr.shape[1]].ravel()\n",
    "    return dict(zip(keys, arr.T))"
   ]
  },
  {
   "cell_type": "code",
   "execution_count": 263,
   "id": "c29d1b5d",
   "metadata": {
    "scrolled": true
   },
   "outputs": [
    {
     "data": {
      "text/html": [
       "<table><tr><th>Header</th><th>Data Arrays</th></tr><tr><td>\n",
       "<table>\n",
       "<tr><th>UnstructuredGrid</th><th>Information</th></tr>\n",
       "<tr><td>N Cells</td><td>12225</td></tr>\n",
       "<tr><td>N Points</td><td>25012</td></tr>\n",
       "<tr><td>X Bounds</td><td>-2.060e-02, 2.900e-01</td></tr>\n",
       "<tr><td>Y Bounds</td><td>-2.540e-02, 2.540e-02</td></tr>\n",
       "<tr><td>Z Bounds</td><td>-5.000e-04, 5.000e-04</td></tr>\n",
       "<tr><td>N Arrays</td><td>21</td></tr>\n",
       "</table>\n",
       "\n",
       "</td><td>\n",
       "<table>\n",
       "<tr><th>Name</th><th>Field</th><th>Type</th><th>N Comp</th><th>Min</th><th>Max</th></tr>\n",
       "<tr><td>U</td><td>Cells</td><td>float32</td><td>3</td><td>-2.553e+00</td><td>1.018e+01</td></tr>\n",
       "<tr><td>epsilon</td><td>Cells</td><td>float32</td><td>1</td><td>1.277e-01</td><td>5.788e+03</td></tr>\n",
       "<tr><td>k</td><td>Cells</td><td>float32</td><td>1</td><td>4.460e-04</td><td>5.498e+00</td></tr>\n",
       "<tr><td>nut</td><td>Cells</td><td>float32</td><td>1</td><td>1.402e-07</td><td>5.140e-03</td></tr>\n",
       "<tr><td>p</td><td>Cells</td><td>float32</td><td>1</td><td>-8.014e+00</td><td>1.504e+01</td></tr>\n",
       "<tr><td>U-normed</td><td>Cells</td><td>float32</td><td>1</td><td>5.320e-03</td><td>1.018e+01</td></tr>\n",
       "<tr><td>ux</td><td>Cells</td><td>float32</td><td>1</td><td>-2.553e+00</td><td>1.018e+01</td></tr>\n",
       "<tr><td>uy</td><td>Cells</td><td>float32</td><td>1</td><td>-9.007e-01</td><td>7.526e-01</td></tr>\n",
       "<tr><td>uz</td><td>Cells</td><td>float32</td><td>1</td><td>-3.396e-16</td><td>2.769e-16</td></tr>\n",
       "<tr><td>dU/dx</td><td>Cells</td><td>float32</td><td>1</td><td>-1.452e+03</td><td>4.706e+02</td></tr>\n",
       "<tr><td>dU/dy</td><td>Cells</td><td>float32</td><td>1</td><td>-4.161e+03</td><td>1.187e+04</td></tr>\n",
       "<tr><td>dU/dz</td><td>Cells</td><td>float32</td><td>1</td><td>-0.000e+00</td><td>-0.000e+00</td></tr>\n",
       "<tr><td>dux/dx</td><td>Cells</td><td>float32</td><td>1</td><td>-1.469e+03</td><td>6.284e+02</td></tr>\n",
       "<tr><td>dux/dy</td><td>Cells</td><td>float32</td><td>1</td><td>-4.141e+03</td><td>1.191e+04</td></tr>\n",
       "<tr><td>dux/dz</td><td>Cells</td><td>float32</td><td>1</td><td>-0.000e+00</td><td>-0.000e+00</td></tr>\n",
       "<tr><td>duy/dx</td><td>Cells</td><td>float32</td><td>1</td><td>-2.269e+02</td><td>1.228e+02</td></tr>\n",
       "<tr><td>duy/dy</td><td>Cells</td><td>float32</td><td>1</td><td>-1.107e+03</td><td>1.797e+03</td></tr>\n",
       "<tr><td>duy/dz</td><td>Cells</td><td>float32</td><td>1</td><td>0.000e+00</td><td>0.000e+00</td></tr>\n",
       "<tr><td>duz/dx</td><td>Cells</td><td>float32</td><td>1</td><td>-7.221e-14</td><td>7.256e-14</td></tr>\n",
       "<tr><td>duz/dy</td><td>Cells</td><td>float32</td><td>1</td><td>-5.777e-13</td><td>6.588e-13</td></tr>\n",
       "<tr><td><b>duz/dz</b></td><td>Cells</td><td>float32</td><td>1</td><td>-0.000e+00</td><td>-0.000e+00</td></tr>\n",
       "</table>\n",
       "\n",
       "</td></tr> </table>"
      ],
      "text/plain": [
       "UnstructuredGrid (0x1726c967880)\n",
       "  N Cells:\t12225\n",
       "  N Points:\t25012\n",
       "  X Bounds:\t-2.060e-02, 2.900e-01\n",
       "  Y Bounds:\t-2.540e-02, 2.540e-02\n",
       "  Z Bounds:\t-5.000e-04, 5.000e-04\n",
       "  N Arrays:\t21"
      ]
     },
     "execution_count": 263,
     "metadata": {},
     "output_type": "execute_result"
    }
   ],
   "source": [
    "# deriv will contain the data from the gradient of U (9 components)\n",
    "deriv_cell = mesh_cell.compute_derivative(scalars=\"U\")\n",
    "# deriv2 will contain the data from the gradient of U-normed (3 components)\n",
    "deriv2_cell = mesh_cell.compute_derivative(scalars=\"U-normed\")\n",
    "\n",
    "grad_cell = gradients_to_dict(deriv_cell[\"gradient\"])\n",
    "grad2_cell = gradients_to_dict2(deriv2_cell[\"gradient\"])\n",
    "\n",
    "mesh_cell.cell_data[\"dU/dx\"] = grad2_cell[\"dU/dx\"]\n",
    "mesh_cell.cell_data[\"dU/dy\"] = grad2_cell[\"dU/dy\"]\n",
    "mesh_cell.cell_data[\"dU/dz\"] = grad2_cell[\"dU/dz\"]\n",
    "mesh_cell.cell_data[\"dux/dx\"] = grad_cell[\"dux/dx\"]\n",
    "mesh_cell.cell_data[\"dux/dy\"] = grad_cell[\"dux/dy\"]\n",
    "mesh_cell.cell_data[\"dux/dz\"] = grad_cell[\"dux/dz\"]\n",
    "mesh_cell.cell_data[\"duy/dx\"] = grad_cell[\"duy/dx\"]\n",
    "mesh_cell.cell_data[\"duy/dy\"] = grad_cell[\"duy/dy\"]\n",
    "mesh_cell.cell_data[\"duy/dz\"] = grad_cell[\"duy/dz\"]\n",
    "mesh_cell.cell_data[\"duz/dx\"] = grad_cell[\"duz/dx\"]\n",
    "mesh_cell.cell_data[\"duz/dy\"] = grad_cell[\"duz/dy\"]\n",
    "mesh_cell.cell_data[\"duz/dz\"] = grad_cell[\"duz/dz\"]\n",
    "\n",
    "mesh_cell"
   ]
  },
  {
   "cell_type": "code",
   "execution_count": 264,
   "id": "d06fe8af",
   "metadata": {},
   "outputs": [
    {
     "data": {
      "text/html": [
       "<table><tr><th>Header</th><th>Data Arrays</th></tr><tr><td>\n",
       "<table>\n",
       "<tr><th>UnstructuredGrid</th><th>Information</th></tr>\n",
       "<tr><td>N Cells</td><td>12225</td></tr>\n",
       "<tr><td>N Points</td><td>25012</td></tr>\n",
       "<tr><td>X Bounds</td><td>-2.060e-02, 2.900e-01</td></tr>\n",
       "<tr><td>Y Bounds</td><td>-2.540e-02, 2.540e-02</td></tr>\n",
       "<tr><td>Z Bounds</td><td>-5.000e-04, 5.000e-04</td></tr>\n",
       "<tr><td>N Arrays</td><td>21</td></tr>\n",
       "</table>\n",
       "\n",
       "</td><td>\n",
       "<table>\n",
       "<tr><th>Name</th><th>Field</th><th>Type</th><th>N Comp</th><th>Min</th><th>Max</th></tr>\n",
       "<tr><td>U</td><td>Points</td><td>float32</td><td>3</td><td>-2.553e+00</td><td>1.018e+01</td></tr>\n",
       "<tr><td>epsilon</td><td>Points</td><td>float32</td><td>1</td><td>1.277e-01</td><td>5.175e+03</td></tr>\n",
       "<tr><td>k</td><td>Points</td><td>float32</td><td>1</td><td>4.460e-04</td><td>5.495e+00</td></tr>\n",
       "<tr><td>nut</td><td>Points</td><td>float32</td><td>1</td><td>0.000e+00</td><td>5.136e-03</td></tr>\n",
       "<tr><td>p</td><td>Points</td><td>float32</td><td>1</td><td>-8.012e+00</td><td>1.453e+01</td></tr>\n",
       "<tr><td>U-normed</td><td>Points</td><td>float32</td><td>1</td><td>2.528e-03</td><td>1.018e+01</td></tr>\n",
       "<tr><td>ux</td><td>Points</td><td>float32</td><td>1</td><td>-2.553e+00</td><td>1.018e+01</td></tr>\n",
       "<tr><td>uy</td><td>Points</td><td>float32</td><td>1</td><td>-8.254e-01</td><td>6.753e-01</td></tr>\n",
       "<tr><td>uz</td><td>Points</td><td>float32</td><td>1</td><td>-2.461e-16</td><td>2.216e-16</td></tr>\n",
       "<tr><td>dU/dx</td><td>Points</td><td>float32</td><td>1</td><td>-2.126e+03</td><td>7.585e+02</td></tr>\n",
       "<tr><td>dU/dy</td><td>Points</td><td>float32</td><td>1</td><td>-3.724e+03</td><td>1.187e+04</td></tr>\n",
       "<tr><td>dU/dz</td><td>Points</td><td>float32</td><td>1</td><td>-7.109e-13</td><td>6.043e-13</td></tr>\n",
       "<tr><td>dux/dx</td><td>Points</td><td>float32</td><td>1</td><td>-2.129e+03</td><td>8.058e+02</td></tr>\n",
       "<tr><td>dux/dy</td><td>Points</td><td>float32</td><td>1</td><td>-3.705e+03</td><td>1.214e+04</td></tr>\n",
       "<tr><td>dux/dz</td><td>Points</td><td>float32</td><td>1</td><td>-7.109e-13</td><td>6.043e-13</td></tr>\n",
       "<tr><td>duy/dx</td><td>Points</td><td>float32</td><td>1</td><td>-2.369e+02</td><td>1.837e+02</td></tr>\n",
       "<tr><td>duy/dy</td><td>Points</td><td>float32</td><td>1</td><td>-8.086e+02</td><td>1.779e+03</td></tr>\n",
       "<tr><td>duy/dz</td><td>Points</td><td>float32</td><td>1</td><td>-1.308e-13</td><td>2.950e-13</td></tr>\n",
       "<tr><td>duz/dx</td><td>Points</td><td>float32</td><td>1</td><td>-9.272e-14</td><td>8.467e-14</td></tr>\n",
       "<tr><td>duz/dy</td><td>Points</td><td>float32</td><td>1</td><td>-7.080e-13</td><td>6.744e-13</td></tr>\n",
       "<tr><td><b>duz/dz</b></td><td>Points</td><td>float32</td><td>1</td><td>-9.859e-29</td><td>1.485e-28</td></tr>\n",
       "</table>\n",
       "\n",
       "</td></tr> </table>"
      ],
      "text/plain": [
       "UnstructuredGrid (0x1726c983040)\n",
       "  N Cells:\t12225\n",
       "  N Points:\t25012\n",
       "  X Bounds:\t-2.060e-02, 2.900e-01\n",
       "  Y Bounds:\t-2.540e-02, 2.540e-02\n",
       "  Z Bounds:\t-5.000e-04, 5.000e-04\n",
       "  N Arrays:\t21"
      ]
     },
     "execution_count": 264,
     "metadata": {},
     "output_type": "execute_result"
    }
   ],
   "source": [
    "# deriv will contain the data from the gradient of U (9 components)\n",
    "deriv_point = mesh_point.compute_derivative(scalars=\"U\")\n",
    "# deriv2 will contain the data from the gradient of U-normed (3 components)\n",
    "deriv2_point = mesh_point.compute_derivative(scalars=\"U-normed\")\n",
    "\n",
    "grad_point = gradients_to_dict(deriv_point[\"gradient\"])\n",
    "grad2_point = gradients_to_dict2(deriv2_point[\"gradient\"])\n",
    "\n",
    "mesh_point.point_data[\"dU/dx\"] = grad2_point[\"dU/dx\"]\n",
    "mesh_point.point_data[\"dU/dy\"] = grad2_point[\"dU/dy\"]\n",
    "mesh_point.point_data[\"dU/dz\"] = grad2_point[\"dU/dz\"]\n",
    "mesh_point.point_data[\"dux/dx\"] = grad_point[\"dux/dx\"]\n",
    "mesh_point.point_data[\"dux/dy\"] = grad_point[\"dux/dy\"]\n",
    "mesh_point.point_data[\"dux/dz\"] = grad_point[\"dux/dz\"]\n",
    "mesh_point.point_data[\"duy/dx\"] = grad_point[\"duy/dx\"]\n",
    "mesh_point.point_data[\"duy/dy\"] = grad_point[\"duy/dy\"]\n",
    "mesh_point.point_data[\"duy/dz\"] = grad_point[\"duy/dz\"]\n",
    "mesh_point.point_data[\"duz/dx\"] = grad_point[\"duz/dx\"]\n",
    "mesh_point.point_data[\"duz/dy\"] = grad_point[\"duz/dy\"]\n",
    "mesh_point.point_data[\"duz/dz\"] = grad_point[\"duz/dz\"]\n",
    "\n",
    "mesh_point"
   ]
  },
  {
   "cell_type": "markdown",
   "id": "b2b97e20",
   "metadata": {},
   "source": [
    "## Let's plot gradient components "
   ]
  },
  {
   "cell_type": "code",
   "execution_count": 265,
   "id": "a6cce6c3",
   "metadata": {},
   "outputs": [
    {
     "data": {
      "application/vnd.jupyter.widget-view+json": {
       "model_id": "7ad0238542eb4a50869ee7ab28e84812",
       "version_major": 2,
       "version_minor": 0
      },
      "text/plain": [
       "ViewInteractiveWidget(height=768, layout=Layout(height='auto', width='100%'), width=1024)"
      ]
     },
     "metadata": {},
     "output_type": "display_data"
    }
   ],
   "source": [
    "p = pv.Plotter()\n",
    "p.add_mesh(mesh_cell, color=\"w\", scalars='dU/dy') \n",
    "# View in the xy plane\n",
    "p.view_xy()\n",
    "# Show the axes\n",
    "p.add_axes()\n",
    "# Display the plotting window\n",
    "p.show()"
   ]
  },
  {
   "cell_type": "code",
   "execution_count": 266,
   "id": "de94642c",
   "metadata": {},
   "outputs": [
    {
     "data": {
      "application/vnd.jupyter.widget-view+json": {
       "model_id": "dfd788f0ca1d4007b307cfff5ec4e6d9",
       "version_major": 2,
       "version_minor": 0
      },
      "text/plain": [
       "ViewInteractiveWidget(height=768, layout=Layout(height='auto', width='100%'), width=1024)"
      ]
     },
     "metadata": {},
     "output_type": "display_data"
    }
   ],
   "source": [
    "### plotting of dux/dx \n",
    "\n",
    "p7 = pv.Plotter()\n",
    "p7.add_mesh(mesh_cell,scalars=\"dux/dx\")\n",
    "p7.view_xy()\n",
    "p7.add_axes()\n",
    "p7.show()"
   ]
  },
  {
   "cell_type": "code",
   "execution_count": 267,
   "id": "2760a501",
   "metadata": {},
   "outputs": [
    {
     "data": {
      "application/vnd.jupyter.widget-view+json": {
       "model_id": "00f1dd7fb40e4bbd9338820f1d01c339",
       "version_major": 2,
       "version_minor": 0
      },
      "text/plain": [
       "ViewInteractiveWidget(height=768, layout=Layout(height='auto', width='100%'), width=1024)"
      ]
     },
     "metadata": {},
     "output_type": "display_data"
    }
   ],
   "source": [
    "### multiplot, plotting of du/dx and dv/dx\n",
    "\n",
    "plotter = pv.Plotter(shape=(1, 2))\n",
    "\n",
    "plotter.subplot(0, 0)\n",
    "plotter.add_text(\"dux/dx\", font_size=20)\n",
    "plotter.add_mesh(mesh_cell,scalars=\"dux/dx\")\n",
    "plotter.view_xy()\n",
    "plotter.add_axes()\n",
    "\n",
    "plotter.subplot(0, 1)\n",
    "plotter.add_text(\"duy/dx\", font_size=20)\n",
    "plotter.add_mesh(mesh_cell.copy(),scalars=\"duy/dx\")\n",
    "plotter.view_xy()\n",
    "plotter.add_axes()\n",
    "\n",
    "plotter.show()"
   ]
  },
  {
   "cell_type": "code",
   "execution_count": 268,
   "id": "7bbf9f8a",
   "metadata": {},
   "outputs": [],
   "source": [
    "### multiplot, plotting all the gradient components \n",
    "### {du/dx, du/dy, du/dz, dv/dx, dv/dy, dv/dz, dw/dx, dw/dy, dw/dz}"
   ]
  },
  {
   "cell_type": "code",
   "execution_count": 269,
   "id": "e0c2dd08",
   "metadata": {
    "scrolled": true
   },
   "outputs": [
    {
     "data": {
      "application/vnd.jupyter.widget-view+json": {
       "model_id": "a16f68485cb54df8921c612f3382cdb9",
       "version_major": 2,
       "version_minor": 0
      },
      "text/plain": [
       "ViewInteractiveWidget(height=768, layout=Layout(height='auto', width='100%'), width=1024)"
      ]
     },
     "metadata": {},
     "output_type": "display_data"
    }
   ],
   "source": [
    "plotter = pv.Plotter(shape=(3, 3))\n",
    "\n",
    "plotter.subplot(0, 0)\n",
    "plotter.add_text(\"dux/dx\", font_size=20)\n",
    "plotter.add_mesh(mesh_cell,scalars=\"dux/dx\")\n",
    "plotter.view_xy()\n",
    "plotter.add_axes()\n",
    "\n",
    "plotter.subplot(0, 1)\n",
    "plotter.add_text(\"dux/dy\", font_size=20)\n",
    "plotter.add_mesh(mesh_cell.copy(),scalars=\"dux/dy\")\n",
    "plotter.view_xy()\n",
    "plotter.add_axes()\n",
    "\n",
    "plotter.subplot(0, 2)\n",
    "plotter.add_text(\"dux/dz\", font_size=20)\n",
    "plotter.add_mesh(mesh_cell.copy(),scalars=\"dux/dz\")\n",
    "plotter.view_xy()\n",
    "plotter.add_axes()\n",
    "\n",
    "plotter.subplot(1, 0)\n",
    "plotter.add_text(\"duy/dx\", font_size=20)\n",
    "plotter.add_mesh(mesh_cell.copy(),scalars=\"duy/dx\")\n",
    "plotter.view_xy()\n",
    "plotter.add_axes()\n",
    "\n",
    "plotter.subplot(1, 1)\n",
    "plotter.add_text(\"duy/dy\", font_size=20)\n",
    "plotter.add_mesh(mesh_cell.copy(),scalars=\"duy/dy\")\n",
    "plotter.view_xy()\n",
    "plotter.add_axes()\n",
    "\n",
    "plotter.subplot(1, 2)\n",
    "plotter.add_text(\"duy/dz\", font_size=20)\n",
    "plotter.add_mesh(mesh_cell.copy(),scalars=\"duy/dz\")\n",
    "plotter.view_xy()\n",
    "plotter.add_axes()\n",
    "\n",
    "plotter.subplot(2, 0)\n",
    "plotter.add_text(\"duz/dx\", font_size=20)\n",
    "plotter.add_mesh(mesh_cell.copy(),scalars=\"duz/dx\")\n",
    "plotter.view_xy()\n",
    "plotter.add_axes()\n",
    "\n",
    "plotter.subplot(2, 1)\n",
    "plotter.add_text(\"duz/dy\", font_size=20)\n",
    "plotter.add_mesh(mesh_cell.copy(),scalars=\"duz/dy\")\n",
    "plotter.view_xy()\n",
    "plotter.add_axes()\n",
    "\n",
    "plotter.subplot(2, 2)\n",
    "plotter.add_text(\"duz/dz\", font_size=20)\n",
    "plotter.add_mesh(mesh_cell.copy(),scalars=\"duz/dz\")\n",
    "plotter.view_xy()\n",
    "plotter.add_axes()\n",
    "\n",
    "plotter.show()"
   ]
  },
  {
   "cell_type": "code",
   "execution_count": 270,
   "id": "c358010e",
   "metadata": {},
   "outputs": [],
   "source": [
    "## Vectors normalization compared to the maximal component "
   ]
  },
  {
   "cell_type": "code",
   "execution_count": 271,
   "id": "754c0950",
   "metadata": {},
   "outputs": [],
   "source": [
    "# trial: "
   ]
  },
  {
   "cell_type": "code",
   "execution_count": 272,
   "id": "34998235",
   "metadata": {},
   "outputs": [
    {
     "data": {
      "text/plain": [
       "122.814674"
      ]
     },
     "execution_count": 272,
     "metadata": {},
     "output_type": "execute_result"
    }
   ],
   "source": [
    "max(mesh_cell[\"duy/dx\"])"
   ]
  },
  {
   "cell_type": "code",
   "execution_count": 273,
   "id": "5df537b1",
   "metadata": {},
   "outputs": [
    {
     "data": {
      "text/plain": [
       "array([0.7745275 , 0.98718977, 1.        , ..., 0.72986823, 0.73381627,\n",
       "       0.740478  ], dtype=float32)"
      ]
     },
     "execution_count": 273,
     "metadata": {},
     "output_type": "execute_result"
    }
   ],
   "source": [
    "a=(mesh_cell[\"duy/dx\"]-min(mesh_cell[\"duy/dx\"]))/(max(mesh_cell[\"duy/dx\"])-min(mesh_cell[\"duy/dx\"]))\n",
    "a"
   ]
  },
  {
   "cell_type": "code",
   "execution_count": 274,
   "id": "5795c958",
   "metadata": {},
   "outputs": [
    {
     "data": {
      "application/vnd.jupyter.widget-view+json": {
       "model_id": "50fece9b94664ce389aa8c807bd00965",
       "version_major": 2,
       "version_minor": 0
      },
      "text/plain": [
       "ViewInteractiveWidget(height=768, layout=Layout(height='auto', width='100%'), width=1024)"
      ]
     },
     "metadata": {},
     "output_type": "display_data"
    }
   ],
   "source": [
    "### plotting of duy/dx normalized\n",
    "\n",
    "p8 = pv.Plotter()\n",
    "p8.add_mesh(mesh_cell,scalars=a)\n",
    "p8.view_xy()\n",
    "p8.add_axes()\n",
    "p8.show()"
   ]
  },
  {
   "cell_type": "markdown",
   "id": "d8c64869",
   "metadata": {},
   "source": [
    "Range is between 0 and 1 so it works. \n",
    "Let's do the same thing for all the other gradient components. "
   ]
  },
  {
   "cell_type": "code",
   "execution_count": 275,
   "id": "3087cd9e",
   "metadata": {},
   "outputs": [],
   "source": [
    "# generalization to all the gradient component "
   ]
  },
  {
   "cell_type": "code",
   "execution_count": 276,
   "id": "5ddf2d64",
   "metadata": {
    "scrolled": true
   },
   "outputs": [
    {
     "data": {
      "text/html": [
       "<table><tr><th>Header</th><th>Data Arrays</th></tr><tr><td>\n",
       "<table>\n",
       "<tr><th>UnstructuredGrid</th><th>Information</th></tr>\n",
       "<tr><td>N Cells</td><td>12225</td></tr>\n",
       "<tr><td>N Points</td><td>25012</td></tr>\n",
       "<tr><td>X Bounds</td><td>-2.060e-02, 2.900e-01</td></tr>\n",
       "<tr><td>Y Bounds</td><td>-2.540e-02, 2.540e-02</td></tr>\n",
       "<tr><td>Z Bounds</td><td>-5.000e-04, 5.000e-04</td></tr>\n",
       "<tr><td>N Arrays</td><td>22</td></tr>\n",
       "</table>\n",
       "\n",
       "</td><td>\n",
       "<table>\n",
       "<tr><th>Name</th><th>Field</th><th>Type</th><th>N Comp</th><th>Min</th><th>Max</th></tr>\n",
       "<tr><td>U</td><td>Cells</td><td>float32</td><td>3</td><td>-2.553e+00</td><td>1.018e+01</td></tr>\n",
       "<tr><td>epsilon</td><td>Cells</td><td>float32</td><td>1</td><td>1.277e-01</td><td>5.788e+03</td></tr>\n",
       "<tr><td>k</td><td>Cells</td><td>float32</td><td>1</td><td>4.460e-04</td><td>5.498e+00</td></tr>\n",
       "<tr><td>nut</td><td>Cells</td><td>float32</td><td>1</td><td>1.402e-07</td><td>5.140e-03</td></tr>\n",
       "<tr><td>p</td><td>Cells</td><td>float32</td><td>1</td><td>-8.014e+00</td><td>1.504e+01</td></tr>\n",
       "<tr><td>U-normed</td><td>Cells</td><td>float32</td><td>1</td><td>5.320e-03</td><td>1.018e+01</td></tr>\n",
       "<tr><td>ux</td><td>Cells</td><td>float32</td><td>1</td><td>-2.553e+00</td><td>1.018e+01</td></tr>\n",
       "<tr><td>uy</td><td>Cells</td><td>float32</td><td>1</td><td>-9.007e-01</td><td>7.526e-01</td></tr>\n",
       "<tr><td>uz</td><td>Cells</td><td>float32</td><td>1</td><td>-3.396e-16</td><td>2.769e-16</td></tr>\n",
       "<tr><td>dU/dx</td><td>Cells</td><td>float32</td><td>1</td><td>-1.452e+03</td><td>4.706e+02</td></tr>\n",
       "<tr><td>dU/dy</td><td>Cells</td><td>float32</td><td>1</td><td>-4.161e+03</td><td>1.187e+04</td></tr>\n",
       "<tr><td>dU/dz</td><td>Cells</td><td>float32</td><td>1</td><td>-0.000e+00</td><td>-0.000e+00</td></tr>\n",
       "<tr><td>dux/dx</td><td>Cells</td><td>float32</td><td>1</td><td>-1.469e+03</td><td>6.284e+02</td></tr>\n",
       "<tr><td>dux/dy</td><td>Cells</td><td>float32</td><td>1</td><td>-4.141e+03</td><td>1.191e+04</td></tr>\n",
       "<tr><td>dux/dz</td><td>Cells</td><td>float32</td><td>1</td><td>-0.000e+00</td><td>-0.000e+00</td></tr>\n",
       "<tr><td>duy/dx</td><td>Cells</td><td>float32</td><td>1</td><td>-2.269e+02</td><td>1.228e+02</td></tr>\n",
       "<tr><td>duy/dy</td><td>Cells</td><td>float32</td><td>1</td><td>-1.107e+03</td><td>1.797e+03</td></tr>\n",
       "<tr><td>duy/dz</td><td>Cells</td><td>float32</td><td>1</td><td>0.000e+00</td><td>0.000e+00</td></tr>\n",
       "<tr><td>duz/dx</td><td>Cells</td><td>float32</td><td>1</td><td>-7.221e-14</td><td>7.256e-14</td></tr>\n",
       "<tr><td>duz/dy</td><td>Cells</td><td>float32</td><td>1</td><td>-5.777e-13</td><td>6.588e-13</td></tr>\n",
       "<tr><td>duz/dz</td><td>Cells</td><td>float32</td><td>1</td><td>-0.000e+00</td><td>-0.000e+00</td></tr>\n",
       "<tr><td><b>Data</b></td><td>Cells</td><td>float32</td><td>1</td><td>0.000e+00</td><td>1.000e+00</td></tr>\n",
       "</table>\n",
       "\n",
       "</td></tr> </table>"
      ],
      "text/plain": [
       "UnstructuredGrid (0x1726c967880)\n",
       "  N Cells:\t12225\n",
       "  N Points:\t25012\n",
       "  X Bounds:\t-2.060e-02, 2.900e-01\n",
       "  Y Bounds:\t-2.540e-02, 2.540e-02\n",
       "  Z Bounds:\t-5.000e-04, 5.000e-04\n",
       "  N Arrays:\t22"
      ]
     },
     "execution_count": 276,
     "metadata": {},
     "output_type": "execute_result"
    }
   ],
   "source": [
    "mesh_cell"
   ]
  },
  {
   "cell_type": "code",
   "execution_count": 277,
   "id": "a19f6f5e",
   "metadata": {},
   "outputs": [
    {
     "name": "stdout",
     "output_type": "stream",
     "text": [
      "0 Data\n",
      "1 U\n",
      "2 epsilon\n",
      "3 k\n",
      "4 nut\n",
      "5 p\n",
      "6 U-normed\n",
      "7 ux\n",
      "8 uy\n",
      "9 uz\n",
      "10 dU/dx\n",
      "11 dU/dy\n",
      "12 dU/dz\n",
      "13 dux/dx\n",
      "14 dux/dy\n",
      "15 dux/dz\n",
      "16 duy/dx\n",
      "17 duy/dy\n",
      "18 duy/dz\n",
      "19 duz/dx\n",
      "20 duz/dy\n",
      "21 duz/dz\n"
     ]
    }
   ],
   "source": [
    "names=mesh_cell.array_names\n",
    "for i in range(0,len(names)):\n",
    "        print(i,names[i])"
   ]
  },
  {
   "cell_type": "code",
   "execution_count": 278,
   "id": "3a8c0149",
   "metadata": {},
   "outputs": [],
   "source": [
    "names_grad=[\"dux/dx\",\"duy/dx\",\"duz/dx\",\"dux/dy\",\"duy/dy\",\"duz/dy\",\"dux/dz\",\"duy/dy\",\"duz/dz\"]"
   ]
  },
  {
   "cell_type": "code",
   "execution_count": 279,
   "id": "6fe770dd",
   "metadata": {},
   "outputs": [],
   "source": [
    "duydy_norm=(mesh_cell[\"duy/dx\"]-min(mesh_cell[\"duy/dx\"]))/(max(mesh_cell[\"duy/dx\"])-min(mesh_cell[\"duy/dx\"]))"
   ]
  },
  {
   "cell_type": "code",
   "execution_count": 280,
   "id": "21568d75",
   "metadata": {},
   "outputs": [],
   "source": [
    "def gradients_to_dict(arr):\n",
    "    keys = np.array([\"dux/dx n\", \"dux/dy n\", \"dux/dz n\", \"duy/dx n\", \"duy/dy n\", \"duy/dz n\", \"duz/dx n\", \"duz/dy n\", \"duz/dz n\"])\n",
    "    keys = keys.reshape((3,3))[:,:arr.shape[1]].ravel()\n",
    "    return dict(zip(keys, arr.T))\n",
    "\n",
    "def gradients_to_dict2(arr):\n",
    "    keys = np.array([\"dU/dx n\", \"dU/dy n\", \"dU/dz n\"])\n",
    "    keys = keys.reshape((3,1))[:,:arr.shape[1]].ravel()\n",
    "    return dict(zip(keys, arr.T))"
   ]
  },
  {
   "cell_type": "code",
   "execution_count": 281,
   "id": "2af1d80d",
   "metadata": {},
   "outputs": [
    {
     "data": {
      "text/html": [
       "<table><tr><th>Header</th><th>Data Arrays</th></tr><tr><td>\n",
       "<table>\n",
       "<tr><th>UnstructuredGrid</th><th>Information</th></tr>\n",
       "<tr><td>N Cells</td><td>12225</td></tr>\n",
       "<tr><td>N Points</td><td>25012</td></tr>\n",
       "<tr><td>X Bounds</td><td>-2.060e-02, 2.900e-01</td></tr>\n",
       "<tr><td>Y Bounds</td><td>-2.540e-02, 2.540e-02</td></tr>\n",
       "<tr><td>Z Bounds</td><td>-5.000e-04, 5.000e-04</td></tr>\n",
       "<tr><td>N Arrays</td><td>22</td></tr>\n",
       "</table>\n",
       "\n",
       "</td><td>\n",
       "<table>\n",
       "<tr><th>Name</th><th>Field</th><th>Type</th><th>N Comp</th><th>Min</th><th>Max</th></tr>\n",
       "<tr><td>U</td><td>Cells</td><td>float32</td><td>3</td><td>-2.553e+00</td><td>1.018e+01</td></tr>\n",
       "<tr><td>epsilon</td><td>Cells</td><td>float32</td><td>1</td><td>1.277e-01</td><td>5.788e+03</td></tr>\n",
       "<tr><td>k</td><td>Cells</td><td>float32</td><td>1</td><td>4.460e-04</td><td>5.498e+00</td></tr>\n",
       "<tr><td>nut</td><td>Cells</td><td>float32</td><td>1</td><td>1.402e-07</td><td>5.140e-03</td></tr>\n",
       "<tr><td>p</td><td>Cells</td><td>float32</td><td>1</td><td>-8.014e+00</td><td>1.504e+01</td></tr>\n",
       "<tr><td>U-normed</td><td>Cells</td><td>float32</td><td>1</td><td>5.320e-03</td><td>1.018e+01</td></tr>\n",
       "<tr><td>ux</td><td>Cells</td><td>float32</td><td>1</td><td>-2.553e+00</td><td>1.018e+01</td></tr>\n",
       "<tr><td>uy</td><td>Cells</td><td>float32</td><td>1</td><td>-9.007e-01</td><td>7.526e-01</td></tr>\n",
       "<tr><td>uz</td><td>Cells</td><td>float32</td><td>1</td><td>-3.396e-16</td><td>2.769e-16</td></tr>\n",
       "<tr><td>dU/dx</td><td>Cells</td><td>float32</td><td>1</td><td>-1.452e+03</td><td>4.706e+02</td></tr>\n",
       "<tr><td>dU/dy</td><td>Cells</td><td>float32</td><td>1</td><td>-4.161e+03</td><td>1.187e+04</td></tr>\n",
       "<tr><td>dU/dz</td><td>Cells</td><td>float32</td><td>1</td><td>-0.000e+00</td><td>-0.000e+00</td></tr>\n",
       "<tr><td>dux/dx</td><td>Cells</td><td>float32</td><td>1</td><td>-1.469e+03</td><td>6.284e+02</td></tr>\n",
       "<tr><td>dux/dy</td><td>Cells</td><td>float32</td><td>1</td><td>-4.141e+03</td><td>1.191e+04</td></tr>\n",
       "<tr><td>dux/dz</td><td>Cells</td><td>float32</td><td>1</td><td>-0.000e+00</td><td>-0.000e+00</td></tr>\n",
       "<tr><td>duy/dx</td><td>Cells</td><td>float32</td><td>1</td><td>-2.269e+02</td><td>1.228e+02</td></tr>\n",
       "<tr><td>duy/dy</td><td>Cells</td><td>float32</td><td>1</td><td>-1.107e+03</td><td>1.797e+03</td></tr>\n",
       "<tr><td>duy/dz</td><td>Cells</td><td>float32</td><td>1</td><td>0.000e+00</td><td>0.000e+00</td></tr>\n",
       "<tr><td>duz/dx</td><td>Cells</td><td>float32</td><td>1</td><td>-7.221e-14</td><td>7.256e-14</td></tr>\n",
       "<tr><td>duz/dy</td><td>Cells</td><td>float32</td><td>1</td><td>-5.777e-13</td><td>6.588e-13</td></tr>\n",
       "<tr><td>duz/dz</td><td>Cells</td><td>float32</td><td>1</td><td>-0.000e+00</td><td>-0.000e+00</td></tr>\n",
       "<tr><td><b>Data</b></td><td>Cells</td><td>float32</td><td>1</td><td>0.000e+00</td><td>1.000e+00</td></tr>\n",
       "</table>\n",
       "\n",
       "</td></tr> </table>"
      ],
      "text/plain": [
       "UnstructuredGrid (0x1726c967880)\n",
       "  N Cells:\t12225\n",
       "  N Points:\t25012\n",
       "  X Bounds:\t-2.060e-02, 2.900e-01\n",
       "  Y Bounds:\t-2.540e-02, 2.540e-02\n",
       "  Z Bounds:\t-5.000e-04, 5.000e-04\n",
       "  N Arrays:\t22"
      ]
     },
     "execution_count": 281,
     "metadata": {},
     "output_type": "execute_result"
    }
   ],
   "source": [
    "mesh_cell"
   ]
  },
  {
   "cell_type": "code",
   "execution_count": 282,
   "id": "b668494a",
   "metadata": {},
   "outputs": [],
   "source": [
    "duxdx_norm=(mesh_cell[\"dux/dx\"]-min(mesh_cell[\"dux/dx\"]))/(max(mesh_cell[\"dux/dx\"])-min(mesh_cell[\"dux/dx\"]))\n",
    "duydx_norm=(mesh_cell[\"duy/dx\"]-min(mesh_cell[\"duy/dx\"]))/(max(mesh_cell[\"duy/dx\"])-min(mesh_cell[\"duy/dx\"]))\n",
    "duzdx_norm=(mesh_cell[\"duz/dx\"]-min(mesh_cell[\"duz/dx\"]))/(max(mesh_cell[\"duz/dx\"])-min(mesh_cell[\"duz/dx\"]))\n",
    "duxdy_norm=(mesh_cell[\"dux/dy\"]-min(mesh_cell[\"dux/dy\"]))/(max(mesh_cell[\"dux/dy\"])-min(mesh_cell[\"dux/dy\"]))\n",
    "duydy_norm=(mesh_cell[\"duy/dy\"]-min(mesh_cell[\"duy/dy\"]))/(max(mesh_cell[\"duy/dy\"])-min(mesh_cell[\"duy/dy\"]))\n",
    "duzdy_norm=(mesh_cell[\"duz/dy\"]-min(mesh_cell[\"duz/dy\"]))/(max(mesh_cell[\"duz/dy\"])-min(mesh_cell[\"duz/dy\"]))\n",
    "#duxdz_norm=(mesh_cell[\"dux/dz\"]-min(mesh_cell[\"dux/dz\"]))/(max(mesh_cell[\"dux/dz\"])-min(mesh_cell[\"dux/dz\"]))\n",
    "#duydz_norm=(mesh_cell[\"duy/dz\"]-min(mesh_cell[\"duy/dz\"]))/(max(mesh_cell[\"duy/dz\"])-min(mesh_cell[\"duy/dz\"]))\n",
    "#duzdz_norm=(mesh_cell[\"duz/dz\"]-min(mesh_cell[\"duz/dz\"]))/(max(mesh_cell[\"duz/dz\"])-min(mesh_cell[\"duz/dz\"]))"
   ]
  },
  {
   "cell_type": "markdown",
   "id": "567c69b1",
   "metadata": {},
   "source": [
    "We have to add theses data to the mesh_cell available fields if we want to plot them. Otherwise, their names would be \"Data\" (see last attempt with \"a\")."
   ]
  },
  {
   "cell_type": "code",
   "execution_count": 283,
   "id": "8e2b8517",
   "metadata": {},
   "outputs": [],
   "source": [
    "mesh_cell.add_field_data(duxdx_norm, 'dux/dx n')\n",
    "mesh_cell.add_field_data(duydx_norm, 'duy/dx n')\n",
    "mesh_cell.add_field_data(duzdx_norm, 'duz/dx n')\n",
    "mesh_cell.add_field_data(duxdy_norm, 'dux/dy n')\n",
    "mesh_cell.add_field_data(duydy_norm, 'duy/dy n')\n",
    "mesh_cell.add_field_data(duzdy_norm, 'duz/dy n')\n",
    "#mesh_cell.add_field_data(duxdz_norm, 'dux/dz n')\n",
    "#mesh_cell.add_field_data(duydz_norm, 'duy/dz n')\n",
    "#mesh_cell.add_field_data(duzdz_norm, 'duz/dz n')"
   ]
  },
  {
   "cell_type": "markdown",
   "id": "a54f609b",
   "metadata": {},
   "source": [
    "Be careful: 0 division in the case of z gradient components "
   ]
  },
  {
   "cell_type": "markdown",
   "id": "765a34e6",
   "metadata": {},
   "source": [
    "And the script is pretty big s*** for the moment: we have to impove that with \"for\" loop ect..."
   ]
  },
  {
   "cell_type": "code",
   "execution_count": 284,
   "id": "1c483a7b",
   "metadata": {},
   "outputs": [
    {
     "data": {
      "text/html": [
       "<table><tr><th>Header</th><th>Data Arrays</th></tr><tr><td>\n",
       "<table>\n",
       "<tr><th>UnstructuredGrid</th><th>Information</th></tr>\n",
       "<tr><td>N Cells</td><td>12225</td></tr>\n",
       "<tr><td>N Points</td><td>25012</td></tr>\n",
       "<tr><td>X Bounds</td><td>-2.060e-02, 2.900e-01</td></tr>\n",
       "<tr><td>Y Bounds</td><td>-2.540e-02, 2.540e-02</td></tr>\n",
       "<tr><td>Z Bounds</td><td>-5.000e-04, 5.000e-04</td></tr>\n",
       "<tr><td>N Arrays</td><td>28</td></tr>\n",
       "</table>\n",
       "\n",
       "</td><td>\n",
       "<table>\n",
       "<tr><th>Name</th><th>Field</th><th>Type</th><th>N Comp</th><th>Min</th><th>Max</th></tr>\n",
       "<tr><td>U</td><td>Cells</td><td>float32</td><td>3</td><td>-2.553e+00</td><td>1.018e+01</td></tr>\n",
       "<tr><td>epsilon</td><td>Cells</td><td>float32</td><td>1</td><td>1.277e-01</td><td>5.788e+03</td></tr>\n",
       "<tr><td>k</td><td>Cells</td><td>float32</td><td>1</td><td>4.460e-04</td><td>5.498e+00</td></tr>\n",
       "<tr><td>nut</td><td>Cells</td><td>float32</td><td>1</td><td>1.402e-07</td><td>5.140e-03</td></tr>\n",
       "<tr><td>p</td><td>Cells</td><td>float32</td><td>1</td><td>-8.014e+00</td><td>1.504e+01</td></tr>\n",
       "<tr><td>U-normed</td><td>Cells</td><td>float32</td><td>1</td><td>5.320e-03</td><td>1.018e+01</td></tr>\n",
       "<tr><td>ux</td><td>Cells</td><td>float32</td><td>1</td><td>-2.553e+00</td><td>1.018e+01</td></tr>\n",
       "<tr><td>uy</td><td>Cells</td><td>float32</td><td>1</td><td>-9.007e-01</td><td>7.526e-01</td></tr>\n",
       "<tr><td>uz</td><td>Cells</td><td>float32</td><td>1</td><td>-3.396e-16</td><td>2.769e-16</td></tr>\n",
       "<tr><td>dU/dx</td><td>Cells</td><td>float32</td><td>1</td><td>-1.452e+03</td><td>4.706e+02</td></tr>\n",
       "<tr><td>dU/dy</td><td>Cells</td><td>float32</td><td>1</td><td>-4.161e+03</td><td>1.187e+04</td></tr>\n",
       "<tr><td>dU/dz</td><td>Cells</td><td>float32</td><td>1</td><td>-0.000e+00</td><td>-0.000e+00</td></tr>\n",
       "<tr><td>dux/dx</td><td>Cells</td><td>float32</td><td>1</td><td>-1.469e+03</td><td>6.284e+02</td></tr>\n",
       "<tr><td>dux/dy</td><td>Cells</td><td>float32</td><td>1</td><td>-4.141e+03</td><td>1.191e+04</td></tr>\n",
       "<tr><td>dux/dz</td><td>Cells</td><td>float32</td><td>1</td><td>-0.000e+00</td><td>-0.000e+00</td></tr>\n",
       "<tr><td>duy/dx</td><td>Cells</td><td>float32</td><td>1</td><td>-2.269e+02</td><td>1.228e+02</td></tr>\n",
       "<tr><td>duy/dy</td><td>Cells</td><td>float32</td><td>1</td><td>-1.107e+03</td><td>1.797e+03</td></tr>\n",
       "<tr><td>duy/dz</td><td>Cells</td><td>float32</td><td>1</td><td>0.000e+00</td><td>0.000e+00</td></tr>\n",
       "<tr><td>duz/dx</td><td>Cells</td><td>float32</td><td>1</td><td>-7.221e-14</td><td>7.256e-14</td></tr>\n",
       "<tr><td>duz/dy</td><td>Cells</td><td>float32</td><td>1</td><td>-5.777e-13</td><td>6.588e-13</td></tr>\n",
       "<tr><td>duz/dz</td><td>Cells</td><td>float32</td><td>1</td><td>-0.000e+00</td><td>-0.000e+00</td></tr>\n",
       "<tr><td><b>Data</b></td><td>Cells</td><td>float32</td><td>1</td><td>0.000e+00</td><td>1.000e+00</td></tr>\n",
       "<tr><td>dux/dx n</td><td>Fields</td><td>float32</td><td>1</td><td>0.000e+00</td><td>1.000e+00</td></tr>\n",
       "<tr><td>duy/dx n</td><td>Fields</td><td>float32</td><td>1</td><td>0.000e+00</td><td>1.000e+00</td></tr>\n",
       "<tr><td>duz/dx n</td><td>Fields</td><td>float32</td><td>1</td><td>0.000e+00</td><td>1.000e+00</td></tr>\n",
       "<tr><td>dux/dy n</td><td>Fields</td><td>float32</td><td>1</td><td>0.000e+00</td><td>1.000e+00</td></tr>\n",
       "<tr><td>duy/dy n</td><td>Fields</td><td>float32</td><td>1</td><td>0.000e+00</td><td>1.000e+00</td></tr>\n",
       "<tr><td>duz/dy n</td><td>Fields</td><td>float32</td><td>1</td><td>0.000e+00</td><td>1.000e+00</td></tr>\n",
       "</table>\n",
       "\n",
       "</td></tr> </table>"
      ],
      "text/plain": [
       "UnstructuredGrid (0x1726c967880)\n",
       "  N Cells:\t12225\n",
       "  N Points:\t25012\n",
       "  X Bounds:\t-2.060e-02, 2.900e-01\n",
       "  Y Bounds:\t-2.540e-02, 2.540e-02\n",
       "  Z Bounds:\t-5.000e-04, 5.000e-04\n",
       "  N Arrays:\t28"
      ]
     },
     "execution_count": 284,
     "metadata": {},
     "output_type": "execute_result"
    }
   ],
   "source": [
    "mesh_cell"
   ]
  },
  {
   "cell_type": "code",
   "execution_count": 285,
   "id": "9fe1bdcc",
   "metadata": {},
   "outputs": [
    {
     "data": {
      "application/vnd.jupyter.widget-view+json": {
       "model_id": "71e7407d813f40e58dcf9dc536dd4c36",
       "version_major": 2,
       "version_minor": 0
      },
      "text/plain": [
       "ViewInteractiveWidget(height=768, layout=Layout(height='auto', width='100%'), width=1024)"
      ]
     },
     "metadata": {},
     "output_type": "display_data"
    }
   ],
   "source": [
    "#plot\n",
    "plotter = pv.Plotter(shape=(3, 3))\n",
    "\n",
    "plotter.subplot(0, 0)\n",
    "plotter.add_text(\"dux/dx n\", font_size=20)\n",
    "plotter.add_mesh(mesh_cell,scalars='dux/dx n')\n",
    "plotter.view_xy()\n",
    "plotter.add_axes()\n",
    "\n",
    "plotter.subplot(0, 1)\n",
    "plotter.add_text(\"dux/dy n\", font_size=20)\n",
    "plotter.add_mesh(mesh_cell.copy(),scalars=\"dux/dy n\")\n",
    "plotter.view_xy()\n",
    "plotter.add_axes()\n",
    "\n",
    "plotter.subplot(0, 2)\n",
    "plotter.add_text(\"dux/dz n\", font_size=20)\n",
    "plotter.add_mesh(mesh_cell.copy(),scalars=\"dux/dz\")\n",
    "plotter.view_xy()\n",
    "plotter.add_axes()\n",
    "\n",
    "plotter.subplot(1, 0)\n",
    "plotter.add_text(\"duy/dx n\", font_size=20)\n",
    "plotter.add_mesh(mesh_cell.copy(),scalars=\"duy/dx n\")\n",
    "plotter.view_xy()\n",
    "plotter.add_axes()\n",
    "\n",
    "plotter.subplot(1, 1)\n",
    "plotter.add_text(\"duy/dy n\", font_size=20)\n",
    "plotter.add_mesh(mesh_cell.copy(),scalars=\"duy/dy n\")\n",
    "plotter.view_xy()\n",
    "plotter.add_axes()\n",
    "\n",
    "plotter.subplot(1, 2)\n",
    "plotter.add_text(\"duy/dz n\", font_size=20)\n",
    "plotter.add_mesh(mesh_cell.copy(),scalars=\"duy/dz\")\n",
    "plotter.view_xy()\n",
    "plotter.add_axes()\n",
    "\n",
    "plotter.subplot(2, 0)\n",
    "plotter.add_text(\"duz/dx n\", font_size=20)\n",
    "plotter.add_mesh(mesh_cell.copy(),scalars=\"duz/dx n\")\n",
    "plotter.view_xy()\n",
    "plotter.add_axes()\n",
    "\n",
    "plotter.subplot(2, 1)\n",
    "plotter.add_text(\"duz/dy n\", font_size=20)\n",
    "plotter.add_mesh(mesh_cell.copy(),scalars=\"duz/dy n\")\n",
    "plotter.view_xy()\n",
    "plotter.add_axes()\n",
    "\n",
    "plotter.subplot(2, 2)\n",
    "plotter.add_text(\"duz/dz n\", font_size=20)\n",
    "plotter.add_mesh(mesh_cell.copy(),scalars=\"duz/dz\")\n",
    "plotter.view_xy()\n",
    "plotter.add_axes()\n",
    "\n",
    "plotter.show()"
   ]
  },
  {
   "cell_type": "markdown",
   "id": "efae81ef",
   "metadata": {},
   "source": [
    "## Wall shear stress"
   ]
  },
  {
   "cell_type": "markdown",
   "id": "aee86477",
   "metadata": {},
   "source": [
    "In the Anaconda prompt, please type \"conda install git\" and execute."
   ]
  },
  {
   "cell_type": "markdown",
   "id": "d8a66bc7",
   "metadata": {},
   "source": [
    "Then, in the cell just below, copy paste and execute this instruction: "
   ]
  },
  {
   "cell_type": "markdown",
   "id": "766b900f",
   "metadata": {},
   "source": [
    "pip install git+https://github.com/pyvista/pyvista.git@refs/pull/1896/head"
   ]
  },
  {
   "cell_type": "markdown",
   "id": "112c35fb",
   "metadata": {},
   "source": [
    "(Be aware of having the administrator rights in both cases)"
   ]
  },
  {
   "cell_type": "code",
   "execution_count": 286,
   "id": "e2cd69e5",
   "metadata": {},
   "outputs": [],
   "source": [
    "# copy paste last instruction here (to do the installation only one time)"
   ]
  },
  {
   "cell_type": "code",
   "execution_count": 287,
   "id": "8d6540bf",
   "metadata": {
    "scrolled": true
   },
   "outputs": [
    {
     "name": "stdout",
     "output_type": "stream",
     "text": [
      "['internalMesh', 'Patches']\n"
     ]
    }
   ],
   "source": [
    "import pyvista\n",
    "reader = pyvista.OpenFOAMReader(\"C:/Users/tondu/Desktop/PyVist-INSA-main/case.foam\")\n",
    "reader.enable_all_patch_arrays()\n",
    "mesh = reader.read()\n",
    "print(mesh.keys()) "
   ]
  },
  {
   "cell_type": "markdown",
   "id": "90ad80c6",
   "metadata": {},
   "source": [
    "Boundaries values are in 'Patches'."
   ]
  },
  {
   "cell_type": "code",
   "execution_count": 288,
   "id": "b76b7c30",
   "metadata": {
    "scrolled": true
   },
   "outputs": [
    {
     "data": {
      "text/html": [
       "<table><tr><th>Information</th><th>Blocks</th></tr><tr><td>\n",
       "<table>\n",
       "<tr><th>MultiBlock</th><th>Values</th></tr>\n",
       "<tr><td>N Blocks</td><td>5</td></tr>\n",
       "<tr><td>X Bounds</td><td>-0.021, 0.290</td></tr>\n",
       "<tr><td>Y Bounds</td><td>-0.025, 0.025</td></tr>\n",
       "<tr><td>Z Bounds</td><td>-0.001, 0.001</td></tr>\n",
       "</table>\n",
       "\n",
       "</td><td>\n",
       "<table>\n",
       "<tr><th>Index</th><th>Name</th><th>Type</th></tr>\n",
       "<tr><th>0</th><th>inlet</th><th>PolyData</th></tr>\n",
       "<tr><th>1</th><th>outlet</th><th>PolyData</th></tr>\n",
       "<tr><th>2</th><th>upperWall</th><th>PolyData</th></tr>\n",
       "<tr><th>3</th><th>lowerWall</th><th>PolyData</th></tr>\n",
       "<tr><th>4</th><th>frontAndBack</th><th>PolyData</th></tr>\n",
       "</table>\n",
       "\n",
       "</td></tr> </table>"
      ],
      "text/plain": [
       "MultiBlock (0x172eb94a1c0)\n",
       "  N Blocks:\t5\n",
       "  X Bounds:\t-0.021, 0.290\n",
       "  Y Bounds:\t-0.025, 0.025\n",
       "  Z Bounds:\t-0.001, 0.001"
      ]
     },
     "execution_count": 288,
     "metadata": {},
     "output_type": "execute_result"
    }
   ],
   "source": [
    "mesh_bound = mesh[1]\n",
    "mesh_bound"
   ]
  },
  {
   "cell_type": "code",
   "execution_count": 289,
   "id": "f9de360a",
   "metadata": {
    "scrolled": false
   },
   "outputs": [
    {
     "data": {
      "text/html": [
       "<table><tr><th>Header</th><th>Data Arrays</th></tr><tr><td>\n",
       "<table>\n",
       "<tr><th>PolyData</th><th>Information</th></tr>\n",
       "<tr><td>N Cells</td><td>250</td></tr>\n",
       "<tr><td>N Points</td><td>502</td></tr>\n",
       "<tr><td>X Bounds</td><td>-2.060e-02, 2.900e-01</td></tr>\n",
       "<tr><td>Y Bounds</td><td>-2.540e-02, 0.000e+00</td></tr>\n",
       "<tr><td>Z Bounds</td><td>-5.000e-04, 5.000e-04</td></tr>\n",
       "<tr><td>N Arrays</td><td>10</td></tr>\n",
       "</table>\n",
       "\n",
       "</td><td>\n",
       "<table>\n",
       "<tr><th>Name</th><th>Field</th><th>Type</th><th>N Comp</th><th>Min</th><th>Max</th></tr>\n",
       "<tr><td>U</td><td>Points</td><td>float32</td><td>3</td><td>0.000e+00</td><td>0.000e+00</td></tr>\n",
       "<tr><td>epsilon</td><td>Points</td><td>float32</td><td>1</td><td>1.485e+01</td><td>1.485e+01</td></tr>\n",
       "<tr><td>k</td><td>Points</td><td>float32</td><td>1</td><td>3.750e-01</td><td>3.750e-01</td></tr>\n",
       "<tr><td>nut</td><td>Points</td><td>float32</td><td>1</td><td>0.000e+00</td><td>0.000e+00</td></tr>\n",
       "<tr><td><b>p</b></td><td>Points</td><td>float32</td><td>1</td><td>0.000e+00</td><td>0.000e+00</td></tr>\n",
       "<tr><td>U</td><td>Cells</td><td>float32</td><td>3</td><td>0.000e+00</td><td>0.000e+00</td></tr>\n",
       "<tr><td>epsilon</td><td>Cells</td><td>float32</td><td>1</td><td>1.485e+01</td><td>1.485e+01</td></tr>\n",
       "<tr><td>k</td><td>Cells</td><td>float32</td><td>1</td><td>3.750e-01</td><td>3.750e-01</td></tr>\n",
       "<tr><td>nut</td><td>Cells</td><td>float32</td><td>1</td><td>0.000e+00</td><td>0.000e+00</td></tr>\n",
       "<tr><td><b>p</b></td><td>Cells</td><td>float32</td><td>1</td><td>0.000e+00</td><td>0.000e+00</td></tr>\n",
       "</table>\n",
       "\n",
       "</td></tr> </table>"
      ],
      "text/plain": [
       "PolyData (0x172eb94a460)\n",
       "  N Cells:\t250\n",
       "  N Points:\t502\n",
       "  X Bounds:\t-2.060e-02, 2.900e-01\n",
       "  Y Bounds:\t-2.540e-02, 0.000e+00\n",
       "  Z Bounds:\t-5.000e-04, 5.000e-04\n",
       "  N Arrays:\t10"
      ]
     },
     "execution_count": 289,
     "metadata": {},
     "output_type": "execute_result"
    }
   ],
   "source": [
    "lower_wall=mesh_bound[3]\n",
    "lower_wall"
   ]
  },
  {
   "cell_type": "code",
   "execution_count": 290,
   "id": "1f600162",
   "metadata": {},
   "outputs": [
    {
     "data": {
      "text/html": [
       "<table><tr><th>Header</th><th>Data Arrays</th></tr><tr><td>\n",
       "<table>\n",
       "<tr><th>PolyData</th><th>Information</th></tr>\n",
       "<tr><td>N Cells</td><td>250</td></tr>\n",
       "<tr><td>N Points</td><td>502</td></tr>\n",
       "<tr><td>X Bounds</td><td>-2.060e-02, 2.900e-01</td></tr>\n",
       "<tr><td>Y Bounds</td><td>-2.540e-02, 0.000e+00</td></tr>\n",
       "<tr><td>Z Bounds</td><td>-5.000e-04, 5.000e-04</td></tr>\n",
       "<tr><td>N Arrays</td><td>5</td></tr>\n",
       "</table>\n",
       "\n",
       "</td><td>\n",
       "<table>\n",
       "<tr><th>Name</th><th>Field</th><th>Type</th><th>N Comp</th><th>Min</th><th>Max</th></tr>\n",
       "<tr><td>U</td><td>Points</td><td>float32</td><td>3</td><td>0.000e+00</td><td>0.000e+00</td></tr>\n",
       "<tr><td>epsilon</td><td>Points</td><td>float32</td><td>1</td><td>1.485e+01</td><td>1.485e+01</td></tr>\n",
       "<tr><td>k</td><td>Points</td><td>float32</td><td>1</td><td>3.750e-01</td><td>3.750e-01</td></tr>\n",
       "<tr><td>nut</td><td>Points</td><td>float32</td><td>1</td><td>0.000e+00</td><td>0.000e+00</td></tr>\n",
       "<tr><td><b>p</b></td><td>Points</td><td>float32</td><td>1</td><td>0.000e+00</td><td>0.000e+00</td></tr>\n",
       "</table>\n",
       "\n",
       "</td></tr> </table>"
      ],
      "text/plain": [
       "PolyData (0x172eb94a460)\n",
       "  N Cells:\t250\n",
       "  N Points:\t502\n",
       "  X Bounds:\t-2.060e-02, 2.900e-01\n",
       "  Y Bounds:\t-2.540e-02, 0.000e+00\n",
       "  Z Bounds:\t-5.000e-04, 5.000e-04\n",
       "  N Arrays:\t5"
      ]
     },
     "execution_count": 290,
     "metadata": {},
     "output_type": "execute_result"
    }
   ],
   "source": [
    "# clearing the cell data\n",
    "lower_wall.clear_cell_data()\n",
    "lower_wall"
   ]
  },
  {
   "cell_type": "code",
   "execution_count": 291,
   "id": "39d66af9",
   "metadata": {},
   "outputs": [],
   "source": [
    "def gradients_to_dict(arr):\n",
    "    keys = np.array([\"dux/dx\", \"dux/dy\", \"dux/dz\", \"duy/dx\", \"duy/dy\", \"duy/dz\", \"duz/dx\", \"duz/dy\", \"duz/dz\"])\n",
    "    keys = keys.reshape((3,3))[:,:arr.shape[1]].ravel()\n",
    "    return dict(zip(keys, arr.T))\n",
    "\n",
    "def gradients_to_dict2(arr):\n",
    "    keys = np.array([\"dU/dx\", \"dU/dy\", \"dU/dz\"])\n",
    "    keys = keys.reshape((3,1))[:,:arr.shape[1]].ravel()\n",
    "    return dict(zip(keys, arr.T))"
   ]
  },
  {
   "cell_type": "code",
   "execution_count": 292,
   "id": "56da9b2a",
   "metadata": {},
   "outputs": [
    {
     "data": {
      "text/html": [
       "<table><tr><th>Header</th><th>Data Arrays</th></tr><tr><td>\n",
       "<table>\n",
       "<tr><th>PolyData</th><th>Information</th></tr>\n",
       "<tr><td>N Cells</td><td>250</td></tr>\n",
       "<tr><td>N Points</td><td>502</td></tr>\n",
       "<tr><td>X Bounds</td><td>-2.060e-02, 2.900e-01</td></tr>\n",
       "<tr><td>Y Bounds</td><td>-2.540e-02, 0.000e+00</td></tr>\n",
       "<tr><td>Z Bounds</td><td>-5.000e-04, 5.000e-04</td></tr>\n",
       "<tr><td>N Arrays</td><td>14</td></tr>\n",
       "</table>\n",
       "\n",
       "</td><td>\n",
       "<table>\n",
       "<tr><th>Name</th><th>Field</th><th>Type</th><th>N Comp</th><th>Min</th><th>Max</th></tr>\n",
       "<tr><td>U</td><td>Points</td><td>float32</td><td>3</td><td>0.000e+00</td><td>0.000e+00</td></tr>\n",
       "<tr><td>epsilon</td><td>Points</td><td>float32</td><td>1</td><td>1.485e+01</td><td>1.485e+01</td></tr>\n",
       "<tr><td>k</td><td>Points</td><td>float32</td><td>1</td><td>3.750e-01</td><td>3.750e-01</td></tr>\n",
       "<tr><td>nut</td><td>Points</td><td>float32</td><td>1</td><td>0.000e+00</td><td>0.000e+00</td></tr>\n",
       "<tr><td>p</td><td>Points</td><td>float32</td><td>1</td><td>0.000e+00</td><td>0.000e+00</td></tr>\n",
       "<tr><td>dux/dx</td><td>Points</td><td>float32</td><td>1</td><td>0.000e+00</td><td>0.000e+00</td></tr>\n",
       "<tr><td>dux/dy</td><td>Points</td><td>float32</td><td>1</td><td>0.000e+00</td><td>0.000e+00</td></tr>\n",
       "<tr><td>dux/dz</td><td>Points</td><td>float32</td><td>1</td><td>0.000e+00</td><td>0.000e+00</td></tr>\n",
       "<tr><td>duy/dx</td><td>Points</td><td>float32</td><td>1</td><td>0.000e+00</td><td>0.000e+00</td></tr>\n",
       "<tr><td>duy/dy</td><td>Points</td><td>float32</td><td>1</td><td>0.000e+00</td><td>0.000e+00</td></tr>\n",
       "<tr><td>duy/dz</td><td>Points</td><td>float32</td><td>1</td><td>0.000e+00</td><td>0.000e+00</td></tr>\n",
       "<tr><td>duz/dx</td><td>Points</td><td>float32</td><td>1</td><td>0.000e+00</td><td>0.000e+00</td></tr>\n",
       "<tr><td>duz/dy</td><td>Points</td><td>float32</td><td>1</td><td>0.000e+00</td><td>0.000e+00</td></tr>\n",
       "<tr><td><b>duz/dz</b></td><td>Points</td><td>float32</td><td>1</td><td>0.000e+00</td><td>0.000e+00</td></tr>\n",
       "</table>\n",
       "\n",
       "</td></tr> </table>"
      ],
      "text/plain": [
       "PolyData (0x172eb94a460)\n",
       "  N Cells:\t250\n",
       "  N Points:\t502\n",
       "  X Bounds:\t-2.060e-02, 2.900e-01\n",
       "  Y Bounds:\t-2.540e-02, 0.000e+00\n",
       "  Z Bounds:\t-5.000e-04, 5.000e-04\n",
       "  N Arrays:\t14"
      ]
     },
     "execution_count": 292,
     "metadata": {},
     "output_type": "execute_result"
    }
   ],
   "source": [
    "# deriv will contain the data from the gradient of U (9 components)\n",
    "deriv_point = lower_wall.compute_derivative(scalars=\"U\")\n",
    "\n",
    "grad_point = gradients_to_dict(deriv_point[\"gradient\"])\n",
    "\n",
    "lower_wall.point_data[\"dux/dx\"] = grad_point[\"dux/dx\"]\n",
    "lower_wall.point_data[\"dux/dy\"] = grad_point[\"dux/dy\"]\n",
    "lower_wall.point_data[\"dux/dz\"] = grad_point[\"dux/dz\"]\n",
    "lower_wall.point_data[\"duy/dx\"] = grad_point[\"duy/dx\"]\n",
    "lower_wall.point_data[\"duy/dy\"] = grad_point[\"duy/dy\"]\n",
    "lower_wall.point_data[\"duy/dz\"] = grad_point[\"duy/dz\"]\n",
    "lower_wall.point_data[\"duz/dx\"] = grad_point[\"duz/dx\"]\n",
    "lower_wall.point_data[\"duz/dy\"] = grad_point[\"duz/dy\"]\n",
    "lower_wall.point_data[\"duz/dz\"] = grad_point[\"duz/dz\"]\n",
    "\n",
    "lower_wall"
   ]
  },
  {
   "cell_type": "code",
   "execution_count": 293,
   "id": "818f237f",
   "metadata": {},
   "outputs": [
    {
     "data": {
      "text/plain": [
       "pyvista_ndarray([0., 0., 0., 0., 0., 0., 0., 0., 0., 0., 0., 0., 0., 0.,\n",
       "                 0., 0., 0., 0., 0., 0., 0., 0., 0., 0., 0., 0., 0., 0.,\n",
       "                 0., 0., 0., 0., 0., 0., 0., 0., 0., 0., 0., 0., 0., 0.,\n",
       "                 0., 0., 0., 0., 0., 0., 0., 0., 0., 0., 0., 0., 0., 0.,\n",
       "                 0., 0., 0., 0., 0., 0., 0., 0., 0., 0., 0., 0., 0., 0.,\n",
       "                 0., 0., 0., 0., 0., 0., 0., 0., 0., 0., 0., 0., 0., 0.,\n",
       "                 0., 0., 0., 0., 0., 0., 0., 0., 0., 0., 0., 0., 0., 0.,\n",
       "                 0., 0., 0., 0., 0., 0., 0., 0., 0., 0., 0., 0., 0., 0.,\n",
       "                 0., 0., 0., 0., 0., 0., 0., 0., 0., 0., 0., 0., 0., 0.,\n",
       "                 0., 0., 0., 0., 0., 0., 0., 0., 0., 0., 0., 0., 0., 0.,\n",
       "                 0., 0., 0., 0., 0., 0., 0., 0., 0., 0., 0., 0., 0., 0.,\n",
       "                 0., 0., 0., 0., 0., 0., 0., 0., 0., 0., 0., 0., 0., 0.,\n",
       "                 0., 0., 0., 0., 0., 0., 0., 0., 0., 0., 0., 0., 0., 0.,\n",
       "                 0., 0., 0., 0., 0., 0., 0., 0., 0., 0., 0., 0., 0., 0.,\n",
       "                 0., 0., 0., 0., 0., 0., 0., 0., 0., 0., 0., 0., 0., 0.,\n",
       "                 0., 0., 0., 0., 0., 0., 0., 0., 0., 0., 0., 0., 0., 0.,\n",
       "                 0., 0., 0., 0., 0., 0., 0., 0., 0., 0., 0., 0., 0., 0.,\n",
       "                 0., 0., 0., 0., 0., 0., 0., 0., 0., 0., 0., 0., 0., 0.,\n",
       "                 0., 0., 0., 0., 0., 0., 0., 0., 0., 0., 0., 0., 0., 0.,\n",
       "                 0., 0., 0., 0., 0., 0., 0., 0., 0., 0., 0., 0., 0., 0.,\n",
       "                 0., 0., 0., 0., 0., 0., 0., 0., 0., 0., 0., 0., 0., 0.,\n",
       "                 0., 0., 0., 0., 0., 0., 0., 0., 0., 0., 0., 0., 0., 0.,\n",
       "                 0., 0., 0., 0., 0., 0., 0., 0., 0., 0., 0., 0., 0., 0.,\n",
       "                 0., 0., 0., 0., 0., 0., 0., 0., 0., 0., 0., 0., 0., 0.,\n",
       "                 0., 0., 0., 0., 0., 0., 0., 0., 0., 0., 0., 0., 0., 0.,\n",
       "                 0., 0., 0., 0., 0., 0., 0., 0., 0., 0., 0., 0., 0., 0.,\n",
       "                 0., 0., 0., 0., 0., 0., 0., 0., 0., 0., 0., 0., 0., 0.,\n",
       "                 0., 0., 0., 0., 0., 0., 0., 0., 0., 0., 0., 0., 0., 0.,\n",
       "                 0., 0., 0., 0., 0., 0., 0., 0., 0., 0., 0., 0., 0., 0.,\n",
       "                 0., 0., 0., 0., 0., 0., 0., 0., 0., 0., 0., 0., 0., 0.,\n",
       "                 0., 0., 0., 0., 0., 0., 0., 0., 0., 0., 0., 0., 0., 0.,\n",
       "                 0., 0., 0., 0., 0., 0., 0., 0., 0., 0., 0., 0., 0., 0.,\n",
       "                 0., 0., 0., 0., 0., 0., 0., 0., 0., 0., 0., 0., 0., 0.,\n",
       "                 0., 0., 0., 0., 0., 0., 0., 0., 0., 0., 0., 0., 0., 0.,\n",
       "                 0., 0., 0., 0., 0., 0., 0., 0., 0., 0., 0., 0., 0., 0.,\n",
       "                 0., 0., 0., 0., 0., 0., 0., 0., 0., 0., 0., 0.],\n",
       "                dtype=float32)"
      ]
     },
     "execution_count": 293,
     "metadata": {},
     "output_type": "execute_result"
    }
   ],
   "source": [
    "lower_wall.point_data[\"dux/dy\"]"
   ]
  },
  {
   "cell_type": "code",
   "execution_count": null,
   "id": "09ca7d3b",
   "metadata": {},
   "outputs": [],
   "source": []
  },
  {
   "cell_type": "code",
   "execution_count": null,
   "id": "ed325ec0",
   "metadata": {},
   "outputs": [],
   "source": []
  },
  {
   "cell_type": "code",
   "execution_count": null,
   "id": "db3483b1",
   "metadata": {},
   "outputs": [],
   "source": []
  }
 ],
 "metadata": {
  "kernelspec": {
   "display_name": "Python 3",
   "language": "python",
   "name": "python3"
  },
  "language_info": {
   "codemirror_mode": {
    "name": "ipython",
    "version": 3
   },
   "file_extension": ".py",
   "mimetype": "text/x-python",
   "name": "python",
   "nbconvert_exporter": "python",
   "pygments_lexer": "ipython3",
   "version": "3.8.8"
  }
 },
 "nbformat": 4,
 "nbformat_minor": 5
}
