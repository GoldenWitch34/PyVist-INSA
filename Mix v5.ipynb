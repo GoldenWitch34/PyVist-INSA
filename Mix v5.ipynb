{
 "cells": [
  {
   "cell_type": "code",
   "execution_count": 1,
   "id": "ebf05567",
   "metadata": {},
   "outputs": [],
   "source": [
    "import pyvista as pv\n",
    "import numpy as np\n",
    "import matplotlib.pyplot as plt\n",
    "import vtk as vtk"
   ]
  },
  {
   "cell_type": "code",
   "execution_count": 2,
   "id": "ce343366",
   "metadata": {},
   "outputs": [],
   "source": [
    "%matplotlib widget"
   ]
  },
  {
   "cell_type": "code",
   "execution_count": 3,
   "id": "78e7f4c9",
   "metadata": {},
   "outputs": [
    {
     "data": {
      "text/html": [
       "<table style='border: 3px solid #ddd;'>\n",
       "  <tr>\n",
       "     <td style='text-align: center; font-weight: bold; font-size: 1.2em; border: 2px solid #fff;' colspan='6'>Wed Feb 23 22:33:41 2022 Paris, Madrid</td>\n",
       "  </tr>\n",
       "  <tr>\n",
       "    <td style='text-align: right; background-color: #ccc; border: 2px solid #fff;'>OS</td>\n",
       "    <td style='text-align: left; border: 2px solid #fff;'>Windows</td>\n",
       "    <td style='text-align: right; background-color: #ccc; border: 2px solid #fff;'>CPU(s)</td>\n",
       "    <td style='text-align: left; border: 2px solid #fff;'>8</td>\n",
       "    <td style='text-align: right; background-color: #ccc; border: 2px solid #fff;'>Machine</td>\n",
       "    <td style='text-align: left; border: 2px solid #fff;'>AMD64</td>\n",
       "  </tr>\n",
       "  <tr>\n",
       "    <td style='text-align: right; background-color: #ccc; border: 2px solid #fff;'>Architecture</td>\n",
       "    <td style='text-align: left; border: 2px solid #fff;'>64bit</td>\n",
       "    <td style='text-align: right; background-color: #ccc; border: 2px solid #fff;'>RAM</td>\n",
       "    <td style='text-align: left; border: 2px solid #fff;'>7.8 GiB</td>\n",
       "    <td style='text-align: right; background-color: #ccc; border: 2px solid #fff;'>Environment</td>\n",
       "    <td style='text-align: left; border: 2px solid #fff;'>Jupyter</td>\n",
       "  </tr>\n",
       "  <tr>\n",
       "    <td style='text-align: right; background-color: #ccc; border: 2px solid #fff;'>GPU Vendor</td>\n",
       "    <td style='text-align: left; border: 2px solid #fff;'>Intel</td>\n",
       "    <td style='text-align: right; background-color: #ccc; border: 2px solid #fff;'>GPU Renderer</td>\n",
       "    <td style='text-align: left; border: 2px solid #fff;'>Intel(R) UHD Graphics</td>\n",
       "    <td style='text-align: right; background-color: #ccc; border: 2px solid #fff;'>GPU Version</td>\n",
       "    <td style='text-align: left; border: 2px solid #fff;'>4.5.0 - Build 26.20.100.7584</td>\n",
       "  </tr>\n",
       "  <tr>\n",
       "     <td style='text-align: center; border: 2px solid #fff;' colspan='6'>Python 3.8.8 (default, Apr 13 2021, 15:08:03) [MSC v.1916 64 bit (AMD64)]</td>\n",
       "  </tr>\n",
       "  <tr>\n",
       "    <td style='text-align: right; background-color: #ccc; border: 2px solid #fff;'>pyvista</td>\n",
       "    <td style='text-align: left; border: 2px solid #fff;'>0.33.dev0</td>\n",
       "    <td style='text-align: right; background-color: #ccc; border: 2px solid #fff;'>vtk</td>\n",
       "    <td style='text-align: left; border: 2px solid #fff;'>9.1.0</td>\n",
       "    <td style='text-align: right; background-color: #ccc; border: 2px solid #fff;'>numpy</td>\n",
       "    <td style='text-align: left; border: 2px solid #fff;'>1.20.1</td>\n",
       "  </tr>\n",
       "  <tr>\n",
       "    <td style='text-align: right; background-color: #ccc; border: 2px solid #fff;'>imageio</td>\n",
       "    <td style='text-align: left; border: 2px solid #fff;'>2.9.0</td>\n",
       "    <td style='text-align: right; background-color: #ccc; border: 2px solid #fff;'>appdirs</td>\n",
       "    <td style='text-align: left; border: 2px solid #fff;'>1.4.4</td>\n",
       "    <td style='text-align: right; background-color: #ccc; border: 2px solid #fff;'>scooby</td>\n",
       "    <td style='text-align: left; border: 2px solid #fff;'>0.5.7</td>\n",
       "  </tr>\n",
       "  <tr>\n",
       "    <td style='text-align: right; background-color: #ccc; border: 2px solid #fff;'>matplotlib</td>\n",
       "    <td style='text-align: left; border: 2px solid #fff;'>3.3.4</td>\n",
       "    <td style='text-align: right; background-color: #ccc; border: 2px solid #fff;'>PyQt5</td>\n",
       "    <td style='text-align: left; border: 2px solid #fff;'>5.9.2</td>\n",
       "    <td style='text-align: right; background-color: #ccc; border: 2px solid #fff;'>IPython</td>\n",
       "    <td style='text-align: left; border: 2px solid #fff;'>7.22.0</td>\n",
       "  </tr>\n",
       "  <tr>\n",
       "    <td style='text-align: right; background-color: #ccc; border: 2px solid #fff;'>ipyvtklink</td>\n",
       "    <td style='text-align: left; border: 2px solid #fff;'>0.2.1</td>\n",
       "    <td style='text-align: right; background-color: #ccc; border: 2px solid #fff;'>scipy</td>\n",
       "    <td style='text-align: left; border: 2px solid #fff;'>1.6.2</td>\n",
       "    <td style='text-align: right; background-color: #ccc; border: 2px solid #fff;'>tqdm</td>\n",
       "    <td style='text-align: left; border: 2px solid #fff;'>4.59.0</td>\n",
       "  </tr>\n",
       "  <tr>\n",
       "    <td style='text-align: right; background-color: #ccc; border: 2px solid #fff;'>meshio</td>\n",
       "    <td style='text-align: left; border: 2px solid #fff;'>4.4.6</td>\n",
       "    <td style= border: 2px solid #fff;'></td>\n",
       "    <td style= border: 2px solid #fff;'></td>\n",
       "    <td style= border: 2px solid #fff;'></td>\n",
       "    <td style= border: 2px solid #fff;'></td>\n",
       "  </tr>\n",
       "  <tr>\n",
       "     <td style='text-align: center; background-color: #ddd;border: 2px solid #fff;' colspan='6'>Intel(R) oneAPI Math Kernel Library Version 2021.2-Product Build 20210312 for Intel(R) 64 architecture applications</td>\n",
       "  </tr>\n",
       "</table>"
      ],
      "text/plain": [
       "\n",
       "--------------------------------------------------------------------------------\n",
       "  Date: Wed Feb 23 22:33:41 2022 Paris, Madrid\n",
       "\n",
       "                OS : Windows\n",
       "            CPU(s) : 8\n",
       "           Machine : AMD64\n",
       "      Architecture : 64bit\n",
       "               RAM : 7.8 GiB\n",
       "       Environment : Jupyter\n",
       "        GPU Vendor : Intel\n",
       "      GPU Renderer : Intel(R) UHD Graphics\n",
       "       GPU Version : 4.5.0 - Build 26.20.100.7584\n",
       "\n",
       "  Python 3.8.8 (default, Apr 13 2021, 15:08:03) [MSC v.1916 64 bit (AMD64)]\n",
       "\n",
       "           pyvista : 0.33.dev0\n",
       "               vtk : 9.1.0\n",
       "             numpy : 1.20.1\n",
       "           imageio : 2.9.0\n",
       "           appdirs : 1.4.4\n",
       "            scooby : 0.5.7\n",
       "        matplotlib : 3.3.4\n",
       "             PyQt5 : 5.9.2\n",
       "           IPython : 7.22.0\n",
       "        ipyvtklink : 0.2.1\n",
       "             scipy : 1.6.2\n",
       "              tqdm : 4.59.0\n",
       "            meshio : 4.4.6\n",
       "\n",
       "  Intel(R) oneAPI Math Kernel Library Version 2021.2-Product Build 20210312\n",
       "  for Intel(R) 64 architecture applications\n",
       "--------------------------------------------------------------------------------"
      ]
     },
     "execution_count": 3,
     "metadata": {},
     "output_type": "execute_result"
    }
   ],
   "source": [
    "pv.Report()"
   ]
  },
  {
   "cell_type": "code",
   "execution_count": 4,
   "id": "55229a53",
   "metadata": {},
   "outputs": [],
   "source": [
    "def gradients_to_dict(arr):\n",
    "    keys = np.array([\"dux/dx\", \"dux/dy\", \"dux/dz\", \"duy/dx\", \"duy/dy\", \"duy/dz\", \"duz/dx\", \"duz/dy\", \"duz/dz\"])\n",
    "    keys = keys.reshape((3,3))[:,:arr.shape[1]].ravel()\n",
    "    return dict(zip(keys, arr.T))\n",
    "\n",
    "def gradients_to_dict2(arr):\n",
    "    keys = np.array([\"dU/dx\", \"dU/dy\", \"dU/dz\"])\n",
    "    keys = keys.reshape((3,1))[:,:arr.shape[1]].ravel()\n",
    "    return dict(zip(keys, arr.T))\n",
    "\n",
    "def vorticity_to_dict(arr):\n",
    "    keys = np.array([\"vort_x\", \"vort_y\", \"vort_z\"])\n",
    "    keys = keys.reshape((3,1))[:,:arr.shape[1]].ravel()\n",
    "    return dict(zip(keys, arr.T))"
   ]
  },
  {
   "cell_type": "markdown",
   "id": "c316275a",
   "metadata": {},
   "source": [
    "### Table of Contents\n",
    "\n",
    "* [Reading the OpenFOAM file](#chapter1)\n",
    "    * [Using pv.read](#section_1_1)\n",
    "    * [Using pv.OpenFOAMReader](#section_1_2)\n",
    "    \n",
    "* [Velocity gradients at the lower wall patch](#chapter2)\n",
    "* [Plotting](#chapter3)\n",
    "    * [showing the mesh](#section_3_1)\n",
    "    * [Plot a scalar field](#section_3_2)\n",
    "    * [plot a scalar field with the mesh superposed](#section_3_8)\n",
    "    * [Ploting the velocity using glyphs](#section_3_3)\n",
    "    * [Ploting a scalar over a line](#section_3_4)\n",
    "    * [Ploting a scalar over an arc ](#section_3_5)\n",
    "    * [Ploting steamlines ](#section_3_6)\n",
    "    * [Ploting gradients components](#section_3_7)\n",
    "    \n",
    "* [Fields](#chapter4)\n",
    "    * [k field](#section_4_1)\n",
    "    * [Epsilon field](#section_4_2)\n",
    "    * [Nut field](#section_4_3)\n",
    "    * [Pressure field](#section_4_4)\n",
    "    \n",
    "* [Skin friction velocity](#chapter4)\n",
    "* [wall shear stress](#chapter5)\n"
   ]
  },
  {
   "cell_type": "markdown",
   "id": "00c99a35",
   "metadata": {},
   "source": [
    "<a class=\"anchor\" id=\"section_1_1\"></a>"
   ]
  },
  {
   "cell_type": "markdown",
   "id": "92090056",
   "metadata": {},
   "source": [
    "# Try to load case with pyvista.read"
   ]
  },
  {
   "cell_type": "markdown",
   "id": "03b31e97",
   "metadata": {},
   "source": [
    "PyVista is smart enough to allow the load of an OpenFOAM case (.foam extension here)"
   ]
  },
  {
   "cell_type": "code",
   "execution_count": 5,
   "id": "57547e5f",
   "metadata": {},
   "outputs": [],
   "source": [
    "# Import the OpenFOAM example case\n",
    "case = pv.read(\"C:/Users/pret/Desktop/INSA HDF 5A/PLP 5A/OpenFOAM_example_case/case.foam\")"
   ]
  },
  {
   "cell_type": "code",
   "execution_count": 6,
   "id": "4229ca6c",
   "metadata": {},
   "outputs": [
    {
     "data": {
      "text/plain": [
       "['internalMesh']"
      ]
     },
     "execution_count": 6,
     "metadata": {},
     "output_type": "execute_result"
    }
   ],
   "source": [
    "case.keys()"
   ]
  },
  {
   "cell_type": "code",
   "execution_count": 7,
   "id": "62ff8ec9",
   "metadata": {},
   "outputs": [],
   "source": [
    "mesh = case[0]"
   ]
  },
  {
   "cell_type": "code",
   "execution_count": 8,
   "id": "f53f4bf8",
   "metadata": {},
   "outputs": [
    {
     "data": {
      "text/html": [
       "<table><tr><th>Header</th><th>Data Arrays</th></tr><tr><td>\n",
       "<table>\n",
       "<tr><th>UnstructuredGrid</th><th>Information</th></tr>\n",
       "<tr><td>N Cells</td><td>12225</td></tr>\n",
       "<tr><td>N Points</td><td>25012</td></tr>\n",
       "<tr><td>X Bounds</td><td>-2.060e-02, 2.900e-01</td></tr>\n",
       "<tr><td>Y Bounds</td><td>-2.540e-02, 2.540e-02</td></tr>\n",
       "<tr><td>Z Bounds</td><td>-5.000e-04, 5.000e-04</td></tr>\n",
       "<tr><td>N Arrays</td><td>10</td></tr>\n",
       "</table>\n",
       "\n",
       "</td><td>\n",
       "<table>\n",
       "<tr><th>Name</th><th>Field</th><th>Type</th><th>N Comp</th><th>Min</th><th>Max</th></tr>\n",
       "<tr><td>U</td><td>Points</td><td>float32</td><td>3</td><td>0.000e+00</td><td>1.000e+01</td></tr>\n",
       "<tr><td>epsilon</td><td>Points</td><td>float32</td><td>1</td><td>1.485e+01</td><td>1.485e+01</td></tr>\n",
       "<tr><td>k</td><td>Points</td><td>float32</td><td>1</td><td>3.750e-01</td><td>3.750e-01</td></tr>\n",
       "<tr><td>nut</td><td>Points</td><td>float32</td><td>1</td><td>0.000e+00</td><td>0.000e+00</td></tr>\n",
       "<tr><td><b>p</b></td><td>Points</td><td>float32</td><td>1</td><td>0.000e+00</td><td>0.000e+00</td></tr>\n",
       "<tr><td>U</td><td>Cells</td><td>float32</td><td>3</td><td>0.000e+00</td><td>0.000e+00</td></tr>\n",
       "<tr><td>epsilon</td><td>Cells</td><td>float32</td><td>1</td><td>1.485e+01</td><td>1.485e+01</td></tr>\n",
       "<tr><td>k</td><td>Cells</td><td>float32</td><td>1</td><td>3.750e-01</td><td>3.750e-01</td></tr>\n",
       "<tr><td>nut</td><td>Cells</td><td>float32</td><td>1</td><td>0.000e+00</td><td>0.000e+00</td></tr>\n",
       "<tr><td><b>p</b></td><td>Cells</td><td>float32</td><td>1</td><td>0.000e+00</td><td>0.000e+00</td></tr>\n",
       "</table>\n",
       "\n",
       "</td></tr> </table>"
      ],
      "text/plain": [
       "UnstructuredGrid (0x2bdb0afe8e0)\n",
       "  N Cells:\t12225\n",
       "  N Points:\t25012\n",
       "  X Bounds:\t-2.060e-02, 2.900e-01\n",
       "  Y Bounds:\t-2.540e-02, 2.540e-02\n",
       "  Z Bounds:\t-5.000e-04, 5.000e-04\n",
       "  N Arrays:\t10"
      ]
     },
     "execution_count": 8,
     "metadata": {},
     "output_type": "execute_result"
    }
   ],
   "source": [
    "mesh"
   ]
  },
  {
   "cell_type": "markdown",
   "id": "6bc88d8c",
   "metadata": {},
   "source": [
    "* It looks like the number of arrays is doubled here, there is 2 times the `Data Arrays`.\n",
    "* It looks like the case is loaded for `time=0`.\n",
    "\n",
    "Here is for example below the U field where it's 0 everywhere expect at the inlet which is the intial condtion at `time=0`."
   ]
  },
  {
   "cell_type": "code",
   "execution_count": 9,
   "id": "3644d756",
   "metadata": {
    "scrolled": true
   },
   "outputs": [
    {
     "data": {
      "application/vnd.jupyter.widget-view+json": {
       "model_id": "04188b4c476146e3b7ca1999e95aa643",
       "version_major": 2,
       "version_minor": 0
      },
      "text/plain": [
       "ViewInteractiveWidget(height=768, layout=Layout(height='auto', width='100%'), width=1024)"
      ]
     },
     "metadata": {},
     "output_type": "display_data"
    }
   ],
   "source": [
    " mesh.plot(scalars='U',cpos='xy')"
   ]
  },
  {
   "cell_type": "markdown",
   "id": "b13197c8",
   "metadata": {},
   "source": [
    "A Jupyter widget could not be displayed because the widget state could not be found. This could happen if the kernel storing the widget is no longer available, or if the widget state was not saved in the notebook. You may be able to create the widget by running the appropriate cells.\n"
   ]
  },
  {
   "cell_type": "markdown",
   "id": "ba46ddf8",
   "metadata": {},
   "source": [
    "<a class=\"anchor\" id=\"section_1_2\"></a>"
   ]
  },
  {
   "cell_type": "markdown",
   "id": "3587de99",
   "metadata": {},
   "source": [
    "# Load the case with `OpenFOAMReader`"
   ]
  },
  {
   "cell_type": "code",
   "execution_count": 10,
   "id": "bad08538",
   "metadata": {},
   "outputs": [
    {
     "name": "stdout",
     "output_type": "stream",
     "text": [
      "[0.0, 500.0, 1000.0]\n"
     ]
    }
   ],
   "source": [
    "reader = pv.OpenFOAMReader(\"C:/Users/pret/Desktop/INSA HDF 5A/PLP 5A/OpenFOAM_example_case/case.foam\")\n",
    "reader.cell_to_point_creation = False\n",
    "# When set to True, copies cell data and creates point data from it. Vector and tensor norms (like U-normed) are in point data\n",
    "# When set to False, only cell data is read\n",
    "time = reader.time_values\n",
    "print(time)"
   ]
  },
  {
   "cell_type": "code",
   "execution_count": 11,
   "id": "a93770f3",
   "metadata": {
    "scrolled": true
   },
   "outputs": [
    {
     "name": "stdout",
     "output_type": "stream",
     "text": [
      "['internalMesh', 'boundary']\n"
     ]
    },
    {
     "data": {
      "text/html": [
       "<table><tr><th>Information</th><th>Blocks</th></tr><tr><td>\n",
       "<table>\n",
       "<tr><th>MultiBlock</th><th>Values</th></tr>\n",
       "<tr><td>N Blocks</td><td>2</td></tr>\n",
       "<tr><td>X Bounds</td><td>-0.021, 0.290</td></tr>\n",
       "<tr><td>Y Bounds</td><td>-0.025, 0.025</td></tr>\n",
       "<tr><td>Z Bounds</td><td>-0.001, 0.001</td></tr>\n",
       "</table>\n",
       "\n",
       "</td><td>\n",
       "<table>\n",
       "<tr><th>Index</th><th>Name</th><th>Type</th></tr>\n",
       "<tr><th>0</th><th>internalMesh</th><th>UnstructuredGrid</th></tr>\n",
       "<tr><th>1</th><th>boundary</th><th>MultiBlock</th></tr>\n",
       "</table>\n",
       "\n",
       "</td></tr> </table>"
      ],
      "text/plain": [
       "MultiBlock (0x2bda7b65520)\n",
       "  N Blocks:\t2\n",
       "  X Bounds:\t-0.021, 0.290\n",
       "  Y Bounds:\t-0.025, 0.025\n",
       "  Z Bounds:\t-0.001, 0.001"
      ]
     },
     "execution_count": 11,
     "metadata": {},
     "output_type": "execute_result"
    }
   ],
   "source": [
    "reader.enable_all_patch_arrays() # enables all the patches, including the boundaries\n",
    "reader.set_active_time_value(time[1]) # set time at whichever value we want to visualise\n",
    "multi_block = reader.read()\n",
    "print(multi_block.keys())\n",
    "multi_block "
   ]
  },
  {
   "cell_type": "code",
   "execution_count": 12,
   "id": "f0c70acf",
   "metadata": {},
   "outputs": [
    {
     "data": {
      "text/html": [
       "<table><tr><th>Header</th><th>Data Arrays</th></tr><tr><td>\n",
       "<table>\n",
       "<tr><th>UnstructuredGrid</th><th>Information</th></tr>\n",
       "<tr><td>N Cells</td><td>12225</td></tr>\n",
       "<tr><td>N Points</td><td>25012</td></tr>\n",
       "<tr><td>X Bounds</td><td>-2.060e-02, 2.900e-01</td></tr>\n",
       "<tr><td>Y Bounds</td><td>-2.540e-02, 2.540e-02</td></tr>\n",
       "<tr><td>Z Bounds</td><td>-5.000e-04, 5.000e-04</td></tr>\n",
       "<tr><td>N Arrays</td><td>5</td></tr>\n",
       "</table>\n",
       "\n",
       "</td><td>\n",
       "<table>\n",
       "<tr><th>Name</th><th>Field</th><th>Type</th><th>N Comp</th><th>Min</th><th>Max</th></tr>\n",
       "<tr><td>U</td><td>Cells</td><td>float32</td><td>3</td><td>-2.553e+00</td><td>1.018e+01</td></tr>\n",
       "<tr><td>epsilon</td><td>Cells</td><td>float32</td><td>1</td><td>1.280e-01</td><td>5.784e+03</td></tr>\n",
       "<tr><td>k</td><td>Cells</td><td>float32</td><td>1</td><td>4.465e-04</td><td>5.500e+00</td></tr>\n",
       "<tr><td>nut</td><td>Cells</td><td>float32</td><td>1</td><td>1.402e-07</td><td>5.141e-03</td></tr>\n",
       "<tr><td><b>p</b></td><td>Cells</td><td>float32</td><td>1</td><td>-8.017e+00</td><td>1.505e+01</td></tr>\n",
       "</table>\n",
       "\n",
       "</td></tr> </table>"
      ],
      "text/plain": [
       "UnstructuredGrid (0x2bdb882fb20)\n",
       "  N Cells:\t12225\n",
       "  N Points:\t25012\n",
       "  X Bounds:\t-2.060e-02, 2.900e-01\n",
       "  Y Bounds:\t-2.540e-02, 2.540e-02\n",
       "  Z Bounds:\t-5.000e-04, 5.000e-04\n",
       "  N Arrays:\t5"
      ]
     },
     "execution_count": 12,
     "metadata": {},
     "output_type": "execute_result"
    }
   ],
   "source": [
    "internalMesh = multi_block[0]\n",
    "internalMesh"
   ]
  },
  {
   "cell_type": "code",
   "execution_count": 13,
   "id": "7406c6a4",
   "metadata": {},
   "outputs": [
    {
     "data": {
      "text/html": [
       "<table><tr><th>Information</th><th>Blocks</th></tr><tr><td>\n",
       "<table>\n",
       "<tr><th>MultiBlock</th><th>Values</th></tr>\n",
       "<tr><td>N Blocks</td><td>5</td></tr>\n",
       "<tr><td>X Bounds</td><td>-0.021, 0.290</td></tr>\n",
       "<tr><td>Y Bounds</td><td>-0.025, 0.025</td></tr>\n",
       "<tr><td>Z Bounds</td><td>-0.001, 0.001</td></tr>\n",
       "</table>\n",
       "\n",
       "</td><td>\n",
       "<table>\n",
       "<tr><th>Index</th><th>Name</th><th>Type</th></tr>\n",
       "<tr><th>0</th><th>inlet</th><th>PolyData</th></tr>\n",
       "<tr><th>1</th><th>outlet</th><th>PolyData</th></tr>\n",
       "<tr><th>2</th><th>upperWall</th><th>PolyData</th></tr>\n",
       "<tr><th>3</th><th>lowerWall</th><th>PolyData</th></tr>\n",
       "<tr><th>4</th><th>frontAndBack</th><th>PolyData</th></tr>\n",
       "</table>\n",
       "\n",
       "</td></tr> </table>"
      ],
      "text/plain": [
       "MultiBlock (0x2bdb84e2160)\n",
       "  N Blocks:\t5\n",
       "  X Bounds:\t-0.021, 0.290\n",
       "  Y Bounds:\t-0.025, 0.025\n",
       "  Z Bounds:\t-0.001, 0.001"
      ]
     },
     "execution_count": 13,
     "metadata": {},
     "output_type": "execute_result"
    }
   ],
   "source": [
    "boundary = multi_block[1]\n",
    "boundary"
   ]
  },
  {
   "cell_type": "code",
   "execution_count": 14,
   "id": "edf11ea2",
   "metadata": {},
   "outputs": [
    {
     "data": {
      "text/html": [
       "<table><tr><th>Header</th><th>Data Arrays</th></tr><tr><td>\n",
       "<table>\n",
       "<tr><th>PolyData</th><th>Information</th></tr>\n",
       "<tr><td>N Cells</td><td>223</td></tr>\n",
       "<tr><td>N Points</td><td>448</td></tr>\n",
       "<tr><td>X Bounds</td><td>-2.060e-02, 2.900e-01</td></tr>\n",
       "<tr><td>Y Bounds</td><td>1.660e-02, 2.540e-02</td></tr>\n",
       "<tr><td>Z Bounds</td><td>-5.000e-04, 5.000e-04</td></tr>\n",
       "<tr><td>N Arrays</td><td>5</td></tr>\n",
       "</table>\n",
       "\n",
       "</td><td>\n",
       "<table>\n",
       "<tr><th>Name</th><th>Field</th><th>Type</th><th>N Comp</th><th>Min</th><th>Max</th></tr>\n",
       "<tr><td>U</td><td>Cells</td><td>float32</td><td>3</td><td>0.000e+00</td><td>0.000e+00</td></tr>\n",
       "<tr><td>epsilon</td><td>Cells</td><td>float32</td><td>1</td><td>1.091e+02</td><td>7.758e+02</td></tr>\n",
       "<tr><td>k</td><td>Cells</td><td>float32</td><td>1</td><td>2.709e-01</td><td>5.266e-01</td></tr>\n",
       "<tr><td>nut</td><td>Cells</td><td>float32</td><td>1</td><td>0.000e+00</td><td>0.000e+00</td></tr>\n",
       "<tr><td><b>p</b></td><td>Cells</td><td>float32</td><td>1</td><td>-6.736e+00</td><td>1.505e+01</td></tr>\n",
       "</table>\n",
       "\n",
       "</td></tr> </table>"
      ],
      "text/plain": [
       "PolyData (0x2bdb0afe640)\n",
       "  N Cells:\t223\n",
       "  N Points:\t448\n",
       "  X Bounds:\t-2.060e-02, 2.900e-01\n",
       "  Y Bounds:\t1.660e-02, 2.540e-02\n",
       "  Z Bounds:\t-5.000e-04, 5.000e-04\n",
       "  N Arrays:\t5"
      ]
     },
     "execution_count": 14,
     "metadata": {},
     "output_type": "execute_result"
    }
   ],
   "source": [
    "boundary[2]"
   ]
  },
  {
   "cell_type": "code",
   "execution_count": 15,
   "id": "31031975",
   "metadata": {},
   "outputs": [
    {
     "data": {
      "text/html": [
       "<table><tr><th>Header</th><th>Data Arrays</th></tr><tr><td>\n",
       "<table>\n",
       "<tr><th>UnstructuredGrid</th><th>Information</th></tr>\n",
       "<tr><td>N Cells</td><td>37235</td></tr>\n",
       "<tr><td>N Points</td><td>25012</td></tr>\n",
       "<tr><td>X Bounds</td><td>-2.060e-02, 2.900e-01</td></tr>\n",
       "<tr><td>Y Bounds</td><td>-2.540e-02, 2.540e-02</td></tr>\n",
       "<tr><td>Z Bounds</td><td>-5.000e-04, 5.000e-04</td></tr>\n",
       "<tr><td>N Arrays</td><td>5</td></tr>\n",
       "</table>\n",
       "\n",
       "</td><td>\n",
       "<table>\n",
       "<tr><th>Name</th><th>Field</th><th>Type</th><th>N Comp</th><th>Min</th><th>Max</th></tr>\n",
       "<tr><td>U</td><td>Cells</td><td>float32</td><td>3</td><td>-2.553e+00</td><td>1.018e+01</td></tr>\n",
       "<tr><td>epsilon</td><td>Cells</td><td>float32</td><td>1</td><td>1.280e-01</td><td>5.784e+03</td></tr>\n",
       "<tr><td>k</td><td>Cells</td><td>float32</td><td>1</td><td>4.465e-04</td><td>5.500e+00</td></tr>\n",
       "<tr><td>nut</td><td>Cells</td><td>float32</td><td>1</td><td>0.000e+00</td><td>5.141e-03</td></tr>\n",
       "<tr><td><b>p</b></td><td>Cells</td><td>float32</td><td>1</td><td>-8.017e+00</td><td>1.505e+01</td></tr>\n",
       "</table>\n",
       "\n",
       "</td></tr> </table>"
      ],
      "text/plain": [
       "UnstructuredGrid (0x2bdb84e29a0)\n",
       "  N Cells:\t37235\n",
       "  N Points:\t25012\n",
       "  X Bounds:\t-2.060e-02, 2.900e-01\n",
       "  Y Bounds:\t-2.540e-02, 2.540e-02\n",
       "  Z Bounds:\t-5.000e-04, 5.000e-04\n",
       "  N Arrays:\t5"
      ]
     },
     "execution_count": 15,
     "metadata": {},
     "output_type": "execute_result"
    }
   ],
   "source": [
    "merged = boundary.combine(merge_points=False, tolerance=0.0)\n",
    "# this allows us to combine all the boundaries together in one UnstructuredGrid\n",
    "fullMesh = internalMesh.merge(merged, merge_points=True, inplace=False, main_has_priority=False, progress_bar=False)\n",
    "# this allows us to get one complete mesh that contains both the internalMesh and the boundaries\n",
    "fullMesh"
   ]
  },
  {
   "cell_type": "markdown",
   "id": "aba84490",
   "metadata": {},
   "source": [
    "# Two datasets : cell data and point data"
   ]
  },
  {
   "cell_type": "markdown",
   "id": "b1c21d7c",
   "metadata": {},
   "source": [
    "Let's create two datasets: one that only contains the cell data and one that only contains the point data. The datasets will be derived from the `fullMesh`"
   ]
  },
  {
   "cell_type": "code",
   "execution_count": 16,
   "id": "82f6fc59",
   "metadata": {
    "scrolled": true
   },
   "outputs": [
    {
     "data": {
      "text/html": [
       "<table><tr><th>Header</th><th>Data Arrays</th></tr><tr><td>\n",
       "<table>\n",
       "<tr><th>UnstructuredGrid</th><th>Information</th></tr>\n",
       "<tr><td>N Cells</td><td>37235</td></tr>\n",
       "<tr><td>N Points</td><td>25012</td></tr>\n",
       "<tr><td>X Bounds</td><td>-2.060e-02, 2.900e-01</td></tr>\n",
       "<tr><td>Y Bounds</td><td>-2.540e-02, 2.540e-02</td></tr>\n",
       "<tr><td>Z Bounds</td><td>-5.000e-04, 5.000e-04</td></tr>\n",
       "<tr><td>N Arrays</td><td>5</td></tr>\n",
       "</table>\n",
       "\n",
       "</td><td>\n",
       "<table>\n",
       "<tr><th>Name</th><th>Field</th><th>Type</th><th>N Comp</th><th>Min</th><th>Max</th></tr>\n",
       "<tr><td>U</td><td>Cells</td><td>float32</td><td>3</td><td>-2.553e+00</td><td>1.018e+01</td></tr>\n",
       "<tr><td>epsilon</td><td>Cells</td><td>float32</td><td>1</td><td>1.280e-01</td><td>5.784e+03</td></tr>\n",
       "<tr><td>k</td><td>Cells</td><td>float32</td><td>1</td><td>4.465e-04</td><td>5.500e+00</td></tr>\n",
       "<tr><td>nut</td><td>Cells</td><td>float32</td><td>1</td><td>0.000e+00</td><td>5.141e-03</td></tr>\n",
       "<tr><td><b>p</b></td><td>Cells</td><td>float32</td><td>1</td><td>-8.017e+00</td><td>1.505e+01</td></tr>\n",
       "</table>\n",
       "\n",
       "</td></tr> </table>"
      ],
      "text/plain": [
       "UnstructuredGrid (0x2bdb84e29a0)\n",
       "  N Cells:\t37235\n",
       "  N Points:\t25012\n",
       "  X Bounds:\t-2.060e-02, 2.900e-01\n",
       "  Y Bounds:\t-2.540e-02, 2.540e-02\n",
       "  Z Bounds:\t-5.000e-04, 5.000e-04\n",
       "  N Arrays:\t5"
      ]
     },
     "execution_count": 16,
     "metadata": {},
     "output_type": "execute_result"
    }
   ],
   "source": [
    "mesh_cell = fullMesh\n",
    "mesh_point = mesh_cell.cell_data_to_point_data()\n",
    "mesh_cell"
   ]
  },
  {
   "cell_type": "code",
   "execution_count": 17,
   "id": "321b960b",
   "metadata": {},
   "outputs": [
    {
     "data": {
      "text/html": [
       "<table><tr><th>Header</th><th>Data Arrays</th></tr><tr><td>\n",
       "<table>\n",
       "<tr><th>UnstructuredGrid</th><th>Information</th></tr>\n",
       "<tr><td>N Cells</td><td>37235</td></tr>\n",
       "<tr><td>N Points</td><td>25012</td></tr>\n",
       "<tr><td>X Bounds</td><td>-2.060e-02, 2.900e-01</td></tr>\n",
       "<tr><td>Y Bounds</td><td>-2.540e-02, 2.540e-02</td></tr>\n",
       "<tr><td>Z Bounds</td><td>-5.000e-04, 5.000e-04</td></tr>\n",
       "<tr><td>N Arrays</td><td>5</td></tr>\n",
       "</table>\n",
       "\n",
       "</td><td>\n",
       "<table>\n",
       "<tr><th>Name</th><th>Field</th><th>Type</th><th>N Comp</th><th>Min</th><th>Max</th></tr>\n",
       "<tr><td>U</td><td>Points</td><td>float32</td><td>3</td><td>-2.507e+00</td><td>1.018e+01</td></tr>\n",
       "<tr><td>epsilon</td><td>Points</td><td>float32</td><td>1</td><td>1.280e-01</td><td>5.170e+03</td></tr>\n",
       "<tr><td>k</td><td>Points</td><td>float32</td><td>1</td><td>4.465e-04</td><td>5.496e+00</td></tr>\n",
       "<tr><td>nut</td><td>Points</td><td>float32</td><td>1</td><td>7.010e-08</td><td>5.137e-03</td></tr>\n",
       "<tr><td><b>p</b></td><td>Points</td><td>float32</td><td>1</td><td>-8.015e+00</td><td>1.454e+01</td></tr>\n",
       "</table>\n",
       "\n",
       "</td></tr> </table>"
      ],
      "text/plain": [
       "UnstructuredGrid (0x2bdb84e2880)\n",
       "  N Cells:\t37235\n",
       "  N Points:\t25012\n",
       "  X Bounds:\t-2.060e-02, 2.900e-01\n",
       "  Y Bounds:\t-2.540e-02, 2.540e-02\n",
       "  Z Bounds:\t-5.000e-04, 5.000e-04\n",
       "  N Arrays:\t5"
      ]
     },
     "execution_count": 17,
     "metadata": {},
     "output_type": "execute_result"
    }
   ],
   "source": [
    "mesh_point"
   ]
  },
  {
   "cell_type": "markdown",
   "id": "81daecef",
   "metadata": {},
   "source": [
    "# Show the mesh "
   ]
  },
  {
   "cell_type": "code",
   "execution_count": 18,
   "id": "0edf9bbe",
   "metadata": {
    "scrolled": true
   },
   "outputs": [
    {
     "data": {
      "application/vnd.jupyter.widget-view+json": {
       "model_id": "d5f25564af0041e6b9edb448bf3b42b1",
       "version_major": 2,
       "version_minor": 0
      },
      "text/plain": [
       "ViewInteractiveWidget(height=768, layout=Layout(height='auto', width='100%'), width=1024)"
      ]
     },
     "metadata": {},
     "output_type": "display_data"
    }
   ],
   "source": [
    "# Create a plotting object to display vtk meshes or numpy arrays\n",
    "p = pv.Plotter()\n",
    "# Show the mesh in wireframe style\n",
    "p.add_mesh(fullMesh, style=\"wireframe\", color=\"w\")\n",
    "# View in the xy plane\n",
    "p.view_xy()\n",
    "# Show the axes\n",
    "p.add_axes()\n",
    "# Display the plotting window\n",
    "p.show()"
   ]
  },
  {
   "cell_type": "markdown",
   "id": "486ec627",
   "metadata": {},
   "source": [
    "<a class=\"anchor\" id=\"section_3_2\"></a>"
   ]
  },
  {
   "cell_type": "markdown",
   "id": "40de9086",
   "metadata": {},
   "source": [
    "# Plot the velocity field\n"
   ]
  },
  {
   "cell_type": "code",
   "execution_count": 19,
   "id": "05b6e0b1",
   "metadata": {},
   "outputs": [
    {
     "data": {
      "application/vnd.jupyter.widget-view+json": {
       "model_id": "91a862ff1a794df9b1f1e3fc62939658",
       "version_major": 2,
       "version_minor": 0
      },
      "text/plain": [
       "ViewInteractiveWidget(height=768, layout=Layout(height='auto', width='100%'), width=1024)"
      ]
     },
     "metadata": {},
     "output_type": "display_data"
    }
   ],
   "source": [
    "p2 = pv.Plotter()\n",
    "p2.add_mesh(mesh_cell ,scalars='U', show_edges=False)\n",
    "# if show_edges is set to True, the mesh will be surimposed on the domain\n",
    "p2.view_xy()\n",
    "p2.add_axes()\n",
    "p2.show()"
   ]
  },
  {
   "cell_type": "code",
   "execution_count": 20,
   "id": "30bedfa5",
   "metadata": {},
   "outputs": [
    {
     "data": {
      "application/vnd.jupyter.widget-view+json": {
       "model_id": "46e5caabd24347f1add77f85b22c589f",
       "version_major": 2,
       "version_minor": 0
      },
      "text/plain": [
       "ViewInteractiveWidget(height=768, layout=Layout(height='auto', width='100%'), width=1024)"
      ]
     },
     "metadata": {},
     "output_type": "display_data"
    }
   ],
   "source": [
    "p3 = pv.Plotter()\n",
    "p3.add_mesh(mesh_point ,scalars='U', show_edges=False)\n",
    "# if show_edges is set to True, the mesh will be surimposed on the domain\n",
    "p3.view_xy()\n",
    "p3.add_axes()\n",
    "p3.show()"
   ]
  },
  {
   "cell_type": "markdown",
   "id": "08bc7434",
   "metadata": {},
   "source": [
    "<a class=\"anchor\" id=\"section_3_3\"></a>"
   ]
  },
  {
   "cell_type": "markdown",
   "id": "abbc7a84",
   "metadata": {},
   "source": [
    "# Plot the velocity field using glyphs"
   ]
  },
  {
   "cell_type": "code",
   "execution_count": 21,
   "id": "cc06d3f4",
   "metadata": {},
   "outputs": [
    {
     "data": {
      "application/vnd.jupyter.widget-view+json": {
       "model_id": "d7e5e6559a6b4d42812a53b31832f62c",
       "version_major": 2,
       "version_minor": 0
      },
      "text/plain": [
       "ViewInteractiveWidget(height=768, layout=Layout(height='auto', width='100%'), width=1024)"
      ]
     },
     "metadata": {},
     "output_type": "display_data"
    }
   ],
   "source": [
    "geom = pv.Arrow()\n",
    "glyphs = mesh_cell.glyph(orient='U',scale='U-normed',factor=0.0005,geom=geom)\n",
    "# we can scale our vectors with the scale function.\n",
    "# when set to True, it uses the active scalars to scale the glyphs. The scaling vectors can also be specified by the user\n",
    "# when set to False, the glyphs won't be scaled\n",
    "p4 = pv.Plotter()\n",
    "p4.add_mesh(glyphs)\n",
    "p4.view_xy()\n",
    "p4.add_axes()\n",
    "p4.show()"
   ]
  },
  {
   "cell_type": "code",
   "execution_count": 22,
   "id": "55d3b41a",
   "metadata": {},
   "outputs": [
    {
     "data": {
      "application/vnd.jupyter.widget-view+json": {
       "model_id": "5e50f53df825404fb4831eabf2f08d3a",
       "version_major": 2,
       "version_minor": 0
      },
      "text/plain": [
       "ViewInteractiveWidget(height=768, layout=Layout(height='auto', width='100%'), width=1024)"
      ]
     },
     "metadata": {},
     "output_type": "display_data"
    }
   ],
   "source": [
    "geom = pv.Arrow()\n",
    "glyphs = mesh_point.glyph(orient='U',scale=False,factor=0.002,geom=geom)\n",
    "# we can scale our vectors with the scale function.\n",
    "# when set to True, it uses the active scalars to scale the glyphs. The scaling vectors can also be specified by the user\n",
    "# when set to False, the glyphs won't be scaled\n",
    "p5 = pv.Plotter()\n",
    "p5.add_mesh(glyphs)\n",
    "p5.view_xy()\n",
    "p5.add_axes()\n",
    "p5.show()"
   ]
  },
  {
   "cell_type": "markdown",
   "id": "1a1901ad",
   "metadata": {},
   "source": [
    "# Plot over line example"
   ]
  },
  {
   "cell_type": "code",
   "execution_count": 23,
   "id": "43c2828d",
   "metadata": {},
   "outputs": [],
   "source": [
    "# Create the 2 points defining the line\n",
    "A = [0, -0.015, 0]\n",
    "B = [fullMesh.bounds[1], -0.015, 0]\n",
    "\n",
    "# Create a Line object\n",
    "line = pv.Line(A, B)"
   ]
  },
  {
   "cell_type": "markdown",
   "id": "5bb2ce8d",
   "metadata": {},
   "source": [
    "Let's show the line in the computational domain"
   ]
  },
  {
   "cell_type": "code",
   "execution_count": 24,
   "id": "48925e9b",
   "metadata": {},
   "outputs": [
    {
     "data": {
      "application/vnd.jupyter.widget-view+json": {
       "model_id": "2de71d291b624929bf3c5fad87655b45",
       "version_major": 2,
       "version_minor": 0
      },
      "text/plain": [
       "ViewInteractiveWidget(height=768, layout=Layout(height='auto', width='100%'), width=1024)"
      ]
     },
     "metadata": {},
     "output_type": "display_data"
    }
   ],
   "source": [
    "p6 = pv.Plotter()\n",
    "p6.add_mesh(mesh_point, style=\"wireframe\", color='white')\n",
    "# Show the line in red in the domain\n",
    "p6.add_mesh(line, color=\"r\", line_width=5)\n",
    "p6.view_xy()\n",
    "p6.add_axes()\n",
    "p6.show()"
   ]
  },
  {
   "cell_type": "markdown",
   "id": "b9a2bd0f",
   "metadata": {},
   "source": [
    "Let's make a plot overline :"
   ]
  },
  {
   "cell_type": "code",
   "execution_count": 25,
   "id": "0a2a213e",
   "metadata": {},
   "outputs": [
    {
     "data": {
      "application/vnd.jupyter.widget-view+json": {
       "model_id": "226bcdb0162c4588a86d00c2b3a1bb6f",
       "version_major": 2,
       "version_minor": 0
      },
      "image/png": "[encoded data removed]",
      "text/plain": [
       "Canvas(toolbar=Toolbar(toolitems=[('Home', 'Reset original view', 'home', 'home'), ('Back', 'Back to previous …"
      ]
     },
     "metadata": {},
     "output_type": "display_data"
    }
   ],
   "source": [
    "mesh_point.plot_over_line(A, B, resolution=200, scalars='U')"
   ]
  },
  {
   "cell_type": "markdown",
   "id": "cb7cf3fa",
   "metadata": {},
   "source": [
    "### How to access the vector components"
   ]
  },
  {
   "cell_type": "code",
   "execution_count": 26,
   "id": "11ca8807",
   "metadata": {},
   "outputs": [
    {
     "data": {
      "text/plain": [
       "pyvista DataSetAttributes\n",
       "Association     : CELL\n",
       "Active Scalars  : U-normed\n",
       "Active Vectors  : U\n",
       "Active Texture  : None\n",
       "Active Normals  : None\n",
       "Contains arrays :\n",
       "    U                       float32  (37235, 3)           VECTORS\n",
       "    epsilon                 float32  (37235,)\n",
       "    k                       float32  (37235,)\n",
       "    nut                     float32  (37235,)\n",
       "    p                       float32  (37235,)\n",
       "    U-normed                float32  (37235,)             SCALARS"
      ]
     },
     "execution_count": 26,
     "metadata": {},
     "output_type": "execute_result"
    }
   ],
   "source": [
    "mesh_cell.cell_data"
   ]
  },
  {
   "cell_type": "code",
   "execution_count": 27,
   "id": "674c3677",
   "metadata": {},
   "outputs": [
    {
     "data": {
      "text/html": [
       "<table><tr><th>Header</th><th>Data Arrays</th></tr><tr><td>\n",
       "<table>\n",
       "<tr><th>UnstructuredGrid</th><th>Information</th></tr>\n",
       "<tr><td>N Cells</td><td>37235</td></tr>\n",
       "<tr><td>N Points</td><td>25012</td></tr>\n",
       "<tr><td>X Bounds</td><td>-2.060e-02, 2.900e-01</td></tr>\n",
       "<tr><td>Y Bounds</td><td>-2.540e-02, 2.540e-02</td></tr>\n",
       "<tr><td>Z Bounds</td><td>-5.000e-04, 5.000e-04</td></tr>\n",
       "<tr><td>N Arrays</td><td>9</td></tr>\n",
       "</table>\n",
       "\n",
       "</td><td>\n",
       "<table>\n",
       "<tr><th>Name</th><th>Field</th><th>Type</th><th>N Comp</th><th>Min</th><th>Max</th></tr>\n",
       "<tr><td>U</td><td>Cells</td><td>float32</td><td>3</td><td>-2.553e+00</td><td>1.018e+01</td></tr>\n",
       "<tr><td>epsilon</td><td>Cells</td><td>float32</td><td>1</td><td>1.280e-01</td><td>5.784e+03</td></tr>\n",
       "<tr><td>k</td><td>Cells</td><td>float32</td><td>1</td><td>4.465e-04</td><td>5.500e+00</td></tr>\n",
       "<tr><td>nut</td><td>Cells</td><td>float32</td><td>1</td><td>0.000e+00</td><td>5.141e-03</td></tr>\n",
       "<tr><td>p</td><td>Cells</td><td>float32</td><td>1</td><td>-8.017e+00</td><td>1.505e+01</td></tr>\n",
       "<tr><td>U-normed</td><td>Cells</td><td>float32</td><td>1</td><td>0.000e+00</td><td>1.018e+01</td></tr>\n",
       "<tr><td>ux</td><td>Cells</td><td>float32</td><td>1</td><td>-2.553e+00</td><td>1.018e+01</td></tr>\n",
       "<tr><td>uy</td><td>Cells</td><td>float32</td><td>1</td><td>-9.007e-01</td><td>7.511e-01</td></tr>\n",
       "<tr><td><b>uz</b></td><td>Cells</td><td>float32</td><td>1</td><td>-3.398e-16</td><td>2.772e-16</td></tr>\n",
       "</table>\n",
       "\n",
       "</td></tr> </table>"
      ],
      "text/plain": [
       "UnstructuredGrid (0x2bdb84e29a0)\n",
       "  N Cells:\t37235\n",
       "  N Points:\t25012\n",
       "  X Bounds:\t-2.060e-02, 2.900e-01\n",
       "  Y Bounds:\t-2.540e-02, 2.540e-02\n",
       "  Z Bounds:\t-5.000e-04, 5.000e-04\n",
       "  N Arrays:\t9"
      ]
     },
     "execution_count": 27,
     "metadata": {},
     "output_type": "execute_result"
    }
   ],
   "source": [
    "ux = mesh_cell['U'][:,0]\n",
    "uy = mesh_cell['U'][:,1]\n",
    "uz = mesh_cell['U'][:,2]\n",
    "\n",
    "mesh_cell.cell_data[\"ux\"] = ux\n",
    "mesh_cell.cell_data[\"uy\"] = uy\n",
    "mesh_cell.cell_data[\"uz\"] = uz\n",
    "\n",
    "mesh_cell"
   ]
  },
  {
   "cell_type": "code",
   "execution_count": 28,
   "id": "54ea13a6",
   "metadata": {},
   "outputs": [
    {
     "data": {
      "text/plain": [
       "pyvista DataSetAttributes\n",
       "Association     : POINT\n",
       "Active Scalars  : U-normed\n",
       "Active Vectors  : U\n",
       "Active Texture  : None\n",
       "Active Normals  : None\n",
       "Contains arrays :\n",
       "    U                       float32  (25012, 3)           VECTORS\n",
       "    epsilon                 float32  (25012,)\n",
       "    k                       float32  (25012,)\n",
       "    nut                     float32  (25012,)\n",
       "    p                       float32  (25012,)\n",
       "    U-normed                float32  (25012,)             SCALARS"
      ]
     },
     "execution_count": 28,
     "metadata": {},
     "output_type": "execute_result"
    }
   ],
   "source": [
    "mesh_point.point_data"
   ]
  },
  {
   "cell_type": "code",
   "execution_count": 29,
   "id": "11b7708b",
   "metadata": {},
   "outputs": [
    {
     "data": {
      "text/html": [
       "<table><tr><th>Header</th><th>Data Arrays</th></tr><tr><td>\n",
       "<table>\n",
       "<tr><th>UnstructuredGrid</th><th>Information</th></tr>\n",
       "<tr><td>N Cells</td><td>37235</td></tr>\n",
       "<tr><td>N Points</td><td>25012</td></tr>\n",
       "<tr><td>X Bounds</td><td>-2.060e-02, 2.900e-01</td></tr>\n",
       "<tr><td>Y Bounds</td><td>-2.540e-02, 2.540e-02</td></tr>\n",
       "<tr><td>Z Bounds</td><td>-5.000e-04, 5.000e-04</td></tr>\n",
       "<tr><td>N Arrays</td><td>9</td></tr>\n",
       "</table>\n",
       "\n",
       "</td><td>\n",
       "<table>\n",
       "<tr><th>Name</th><th>Field</th><th>Type</th><th>N Comp</th><th>Min</th><th>Max</th></tr>\n",
       "<tr><td>U</td><td>Points</td><td>float32</td><td>3</td><td>-2.507e+00</td><td>1.018e+01</td></tr>\n",
       "<tr><td>epsilon</td><td>Points</td><td>float32</td><td>1</td><td>1.280e-01</td><td>5.170e+03</td></tr>\n",
       "<tr><td>k</td><td>Points</td><td>float32</td><td>1</td><td>4.465e-04</td><td>5.496e+00</td></tr>\n",
       "<tr><td>nut</td><td>Points</td><td>float32</td><td>1</td><td>7.010e-08</td><td>5.137e-03</td></tr>\n",
       "<tr><td>p</td><td>Points</td><td>float32</td><td>1</td><td>-8.015e+00</td><td>1.454e+01</td></tr>\n",
       "<tr><td>U-normed</td><td>Points</td><td>float32</td><td>1</td><td>2.250e-03</td><td>1.018e+01</td></tr>\n",
       "<tr><td>ux</td><td>Points</td><td>float32</td><td>1</td><td>-2.507e+00</td><td>1.018e+01</td></tr>\n",
       "<tr><td>uy</td><td>Points</td><td>float32</td><td>1</td><td>-6.843e-01</td><td>6.324e-01</td></tr>\n",
       "<tr><td><b>uz</b></td><td>Points</td><td>float32</td><td>1</td><td>-1.641e-16</td><td>1.478e-16</td></tr>\n",
       "</table>\n",
       "\n",
       "</td></tr> </table>"
      ],
      "text/plain": [
       "UnstructuredGrid (0x2bdb84e2880)\n",
       "  N Cells:\t37235\n",
       "  N Points:\t25012\n",
       "  X Bounds:\t-2.060e-02, 2.900e-01\n",
       "  Y Bounds:\t-2.540e-02, 2.540e-02\n",
       "  Z Bounds:\t-5.000e-04, 5.000e-04\n",
       "  N Arrays:\t9"
      ]
     },
     "execution_count": 29,
     "metadata": {},
     "output_type": "execute_result"
    }
   ],
   "source": [
    "ux = mesh_point['U'][:,0]\n",
    "uy = mesh_point['U'][:,1]\n",
    "uz = mesh_point['U'][:,2]\n",
    "\n",
    "mesh_point.point_data[\"ux\"] = ux\n",
    "mesh_point.point_data[\"uy\"] = uy\n",
    "mesh_point.point_data[\"uz\"] = uz\n",
    "\n",
    "mesh_point"
   ]
  },
  {
   "cell_type": "code",
   "execution_count": 30,
   "id": "fb402967",
   "metadata": {},
   "outputs": [
    {
     "data": {
      "application/vnd.jupyter.widget-view+json": {
       "model_id": "e8bef4f8af6d41e5a5f304e4c1905bb7",
       "version_major": 2,
       "version_minor": 0
      },
      "image/png": "[encoded data removed]",
      "text/plain": [
       "Canvas(toolbar=Toolbar(toolitems=[('Home', 'Reset original view', 'home', 'home'), ('Back', 'Back to previous …"
      ]
     },
     "metadata": {},
     "output_type": "display_data"
    }
   ],
   "source": [
    "mesh_point.plot_over_line(A, B, resolution=100, scalars='ux')"
   ]
  },
  {
   "cell_type": "markdown",
   "id": "5951b97f",
   "metadata": {},
   "source": [
    "# Plot a scalar over a circular arc"
   ]
  },
  {
   "cell_type": "code",
   "execution_count": 31,
   "id": "a33154f5",
   "metadata": {},
   "outputs": [],
   "source": [
    "# Make two points at the bounds of the mesh and one at the center to\n",
    "# construct a circular arc.\n",
    "normal = [0, 0, 1]\n",
    "polar = [0.02, 0, 0]\n",
    "center = [0, 0, 0]\n",
    "angle = 100.0\n",
    "\n",
    "# Preview how this circular arc intersects this mesh\n",
    "arc = pv.CircularArcFromNormal(center, 100, normal, polar, angle)"
   ]
  },
  {
   "cell_type": "markdown",
   "id": "1c789553",
   "metadata": {},
   "source": [
    "Let's see what's in the arc object."
   ]
  },
  {
   "cell_type": "code",
   "execution_count": 32,
   "id": "4a7a4d21",
   "metadata": {},
   "outputs": [
    {
     "data": {
      "text/html": [
       "<table><tr><th>Header</th><th>Data Arrays</th></tr><tr><td>\n",
       "<table>\n",
       "<tr><th>PolyData</th><th>Information</th></tr>\n",
       "<tr><td>N Cells</td><td>1</td></tr>\n",
       "<tr><td>N Points</td><td>101</td></tr>\n",
       "<tr><td>X Bounds</td><td>-3.473e-03, 2.000e-02</td></tr>\n",
       "<tr><td>Y Bounds</td><td>0.000e+00, 2.000e-02</td></tr>\n",
       "<tr><td>Z Bounds</td><td>0.000e+00, 0.000e+00</td></tr>\n",
       "<tr><td>N Arrays</td><td>2</td></tr>\n",
       "</table>\n",
       "\n",
       "</td><td>\n",
       "<table>\n",
       "<tr><th>Name</th><th>Field</th><th>Type</th><th>N Comp</th><th>Min</th><th>Max</th></tr>\n",
       "<tr><td>Texture Coordinates</td><td>Points</td><td>float32</td><td>2</td><td>0.000e+00</td><td>1.000e+00</td></tr>\n",
       "<tr><td><b>Distance</b></td><td>Points</td><td>float64</td><td>1</td><td>0.000e+00</td><td>3.491e-02</td></tr>\n",
       "</table>\n",
       "\n",
       "</td></tr> </table>"
      ],
      "text/plain": [
       "PolyData (0x2bd893950a0)\n",
       "  N Cells:\t1\n",
       "  N Points:\t101\n",
       "  X Bounds:\t-3.473e-03, 2.000e-02\n",
       "  Y Bounds:\t0.000e+00, 2.000e-02\n",
       "  Z Bounds:\t0.000e+00, 0.000e+00\n",
       "  N Arrays:\t2"
      ]
     },
     "execution_count": 32,
     "metadata": {},
     "output_type": "execute_result"
    }
   ],
   "source": [
    "arc"
   ]
  },
  {
   "cell_type": "code",
   "execution_count": 33,
   "id": "b17fcab2",
   "metadata": {},
   "outputs": [
    {
     "data": {
      "application/vnd.jupyter.widget-view+json": {
       "model_id": "470597755db341bb887be3abb9d54b39",
       "version_major": 2,
       "version_minor": 0
      },
      "text/plain": [
       "ViewInteractiveWidget(height=768, layout=Layout(height='auto', width='100%'), width=1024)"
      ]
     },
     "metadata": {},
     "output_type": "display_data"
    }
   ],
   "source": [
    "p7 = pv.Plotter()\n",
    "p7.add_mesh(mesh_cell, style=\"wireframe\", color=\"w\")\n",
    "p7.add_mesh(arc, color=\"r\")\n",
    "a = arc.points[0]\n",
    "b = arc.points[-1]\n",
    "p7.add_point_labels(\n",
    "    [a, b], [\"A\", \"B\"], font_size=48, point_color=\"red\", text_color=\"red\"\n",
    ")\n",
    "p7.view_xy()\n",
    "p7.show()"
   ]
  },
  {
   "cell_type": "markdown",
   "id": "d4a116ea",
   "metadata": {},
   "source": [
    "I don't know how to add another plot on the same figure, it's perhaps only possible to plot one scalar or one vector at a time with this API."
   ]
  },
  {
   "cell_type": "code",
   "execution_count": 34,
   "id": "ea865e43",
   "metadata": {},
   "outputs": [
    {
     "data": {
      "application/vnd.jupyter.widget-view+json": {
       "model_id": "773ea4b04e75499e9a7dff744a63ab76",
       "version_major": 2,
       "version_minor": 0
      },
      "image/png": "[encoded data removed]",
      "text/plain": [
       "Canvas(toolbar=Toolbar(toolitems=[('Home', 'Reset original view', 'home', 'home'), ('Back', 'Back to previous …"
      ]
     },
     "metadata": {},
     "output_type": "display_data"
    }
   ],
   "source": [
    "mesh_cell.plot_over_circular_arc_normal(center, 100, normal, polar, angle, scalars='U')\n",
    "#mesh_cell.plot_over_circular_arc_normal(center, 100, normal, polar, angle, scalars='ux')\n",
    "#mesh_cell.plot_over_circular_arc_normal(center, 100, normal, polar, angle, scalars='uy')"
   ]
  },
  {
   "cell_type": "markdown",
   "id": "396dfb79",
   "metadata": {},
   "source": [
    "So let's try another way and create the figure ourself (there may be better ways to do this by the way)."
   ]
  },
  {
   "cell_type": "code",
   "execution_count": 35,
   "id": "443e4d4d",
   "metadata": {},
   "outputs": [],
   "source": [
    "sampled = pv.DataSetFilters.sample_over_circular_arc_normal(mesh_cell,center,100,normal,polar,angle)"
   ]
  },
  {
   "cell_type": "code",
   "execution_count": 36,
   "id": "c13c1c69",
   "metadata": {
    "scrolled": true
   },
   "outputs": [
    {
     "data": {
      "application/vnd.jupyter.widget-view+json": {
       "model_id": "5cd9bac94a704449ae7a0fd9fbdc79bf",
       "version_major": 2,
       "version_minor": 0
      },
      "image/png": "[encoded data removed]",
      "text/plain": [
       "Canvas(toolbar=Toolbar(toolitems=[('Home', 'Reset original view', 'home', 'home'), ('Back', 'Back to previous …"
      ]
     },
     "metadata": {},
     "output_type": "display_data"
    }
   ],
   "source": [
    "plt.figure()\n",
    "plt.plot(sampled['Distance'],sampled['ux'],label='$u_x$')\n",
    "plt.plot(sampled['Distance'],sampled['uy'],label='$u_y$')\n",
    "plt.xlabel('Arc distance')\n",
    "plt.ylabel('Velocity')\n",
    "plt.title('Distribution of the velocity components along the arc')\n",
    "plt.grid(linestyle='dotted')\n",
    "plt.legend()\n",
    "plt.show()"
   ]
  },
  {
   "cell_type": "code",
   "execution_count": 37,
   "id": "7ff7dbfb",
   "metadata": {},
   "outputs": [],
   "source": [
    "sampled = pv.DataSetFilters.sample_over_circular_arc_normal(mesh_point,center,100,normal,polar,angle)"
   ]
  },
  {
   "cell_type": "code",
   "execution_count": 38,
   "id": "24c40e24",
   "metadata": {},
   "outputs": [
    {
     "data": {
      "application/vnd.jupyter.widget-view+json": {
       "model_id": "243e0dde1faf40379fa82c10c155a9b1",
       "version_major": 2,
       "version_minor": 0
      },
      "image/png": "[encoded data removed]",
      "text/plain": [
       "Canvas(toolbar=Toolbar(toolitems=[('Home', 'Reset original view', 'home', 'home'), ('Back', 'Back to previous …"
      ]
     },
     "metadata": {},
     "output_type": "display_data"
    }
   ],
   "source": [
    "plt.figure()\n",
    "plt.plot(sampled['Distance'],sampled['ux'],label='$u_x$')\n",
    "plt.plot(sampled['Distance'],sampled['uy'],label='$u_y$')\n",
    "plt.xlabel('Arc distance')\n",
    "plt.ylabel('Velocity')\n",
    "plt.title('Distribution of the velocity components along the arc')\n",
    "plt.grid(linestyle='dotted')\n",
    "plt.legend()\n",
    "plt.show()"
   ]
  },
  {
   "cell_type": "markdown",
   "id": "8e5e9188",
   "metadata": {},
   "source": [
    "# Let's plot some other fields"
   ]
  },
  {
   "cell_type": "markdown",
   "id": "4e9bea63",
   "metadata": {},
   "source": [
    "## k field"
   ]
  },
  {
   "cell_type": "code",
   "execution_count": 39,
   "id": "0d3cbc74",
   "metadata": {
    "scrolled": true
   },
   "outputs": [
    {
     "data": {
      "application/vnd.jupyter.widget-view+json": {
       "model_id": "903a7725dde043438967d924f6ff79c4",
       "version_major": 2,
       "version_minor": 0
      },
      "text/plain": [
       "ViewInteractiveWidget(height=768, layout=Layout(height='auto', width='100%'), width=1024)"
      ]
     },
     "metadata": {},
     "output_type": "display_data"
    }
   ],
   "source": [
    "### k field (cell data)\n",
    "p8 = pv.Plotter()\n",
    "p8.add_mesh(mesh_cell,scalars='k')\n",
    "p8.view_xy()\n",
    "p8.add_axes()\n",
    "p8.show()"
   ]
  },
  {
   "cell_type": "code",
   "execution_count": 40,
   "id": "8820fa7c",
   "metadata": {},
   "outputs": [
    {
     "data": {
      "application/vnd.jupyter.widget-view+json": {
       "model_id": "abedf9f564ee4adbad7819dca2854b4a",
       "version_major": 2,
       "version_minor": 0
      },
      "text/plain": [
       "ViewInteractiveWidget(height=768, layout=Layout(height='auto', width='100%'), width=1024)"
      ]
     },
     "metadata": {},
     "output_type": "display_data"
    }
   ],
   "source": [
    "### k field (point data)\n",
    "p9 = pv.Plotter()\n",
    "p9.add_mesh(mesh_point,scalars='k')\n",
    "p9.view_xy()\n",
    "p9.add_axes()\n",
    "p9.show()"
   ]
  },
  {
   "cell_type": "markdown",
   "id": "c6951d79",
   "metadata": {},
   "source": [
    "## Epsilon field"
   ]
  },
  {
   "cell_type": "code",
   "execution_count": 41,
   "id": "b13cb55d",
   "metadata": {},
   "outputs": [
    {
     "data": {
      "application/vnd.jupyter.widget-view+json": {
       "model_id": "714292ff1dad472fbafc2a4e29c16048",
       "version_major": 2,
       "version_minor": 0
      },
      "text/plain": [
       "ViewInteractiveWidget(height=768, layout=Layout(height='auto', width='100%'), width=1024)"
      ]
     },
     "metadata": {},
     "output_type": "display_data"
    }
   ],
   "source": [
    "### epsilon field (cell data)\n",
    "p10 = pv.Plotter()\n",
    "p10.add_mesh(mesh_cell,scalars='epsilon')\n",
    "p10.view_xy()\n",
    "p10.add_axes()\n",
    "p10.show()"
   ]
  },
  {
   "cell_type": "code",
   "execution_count": 42,
   "id": "61924dc6",
   "metadata": {},
   "outputs": [
    {
     "data": {
      "application/vnd.jupyter.widget-view+json": {
       "model_id": "121f86f6cfb14a67836d22aa7b8b9539",
       "version_major": 2,
       "version_minor": 0
      },
      "text/plain": [
       "ViewInteractiveWidget(height=768, layout=Layout(height='auto', width='100%'), width=1024)"
      ]
     },
     "metadata": {},
     "output_type": "display_data"
    }
   ],
   "source": [
    "### epsilon field (point data)\n",
    "p11 = pv.Plotter()\n",
    "p11.add_mesh(mesh_point,scalars='epsilon')\n",
    "p11.view_xy()\n",
    "p11.add_axes()\n",
    "p11.show()"
   ]
  },
  {
   "cell_type": "markdown",
   "id": "7efbc598",
   "metadata": {},
   "source": [
    "### Nut Field"
   ]
  },
  {
   "cell_type": "code",
   "execution_count": 43,
   "id": "d2c45c8b",
   "metadata": {},
   "outputs": [
    {
     "data": {
      "application/vnd.jupyter.widget-view+json": {
       "model_id": "b6d669db5ab744f284a60990cea60099",
       "version_major": 2,
       "version_minor": 0
      },
      "text/plain": [
       "ViewInteractiveWidget(height=768, layout=Layout(height='auto', width='100%'), width=1024)"
      ]
     },
     "metadata": {},
     "output_type": "display_data"
    }
   ],
   "source": [
    "### nut field (cell data)\n",
    "p12 = pv.Plotter()\n",
    "p12.add_mesh(mesh_cell,scalars='nut')\n",
    "p12.view_xy()\n",
    "p12.add_axes()\n",
    "p12.show()"
   ]
  },
  {
   "cell_type": "code",
   "execution_count": 44,
   "id": "45534142",
   "metadata": {},
   "outputs": [
    {
     "data": {
      "application/vnd.jupyter.widget-view+json": {
       "model_id": "646bd291665f46e98e6709689d35aa50",
       "version_major": 2,
       "version_minor": 0
      },
      "text/plain": [
       "ViewInteractiveWidget(height=768, layout=Layout(height='auto', width='100%'), width=1024)"
      ]
     },
     "metadata": {},
     "output_type": "display_data"
    }
   ],
   "source": [
    "### nut field (point data)\n",
    "p13 = pv.Plotter()\n",
    "p13.add_mesh(mesh_point,scalars='nut')\n",
    "p13.view_xy()\n",
    "p13.add_axes()\n",
    "p13.show()"
   ]
  },
  {
   "cell_type": "markdown",
   "id": "7f20a9d5",
   "metadata": {},
   "source": [
    "### Pressure field"
   ]
  },
  {
   "cell_type": "code",
   "execution_count": 45,
   "id": "bb7d1299",
   "metadata": {},
   "outputs": [
    {
     "data": {
      "application/vnd.jupyter.widget-view+json": {
       "model_id": "13a3c8a7b1584bd99e2b76abb247ec27",
       "version_major": 2,
       "version_minor": 0
      },
      "text/plain": [
       "ViewInteractiveWidget(height=768, layout=Layout(height='auto', width='100%'), width=1024)"
      ]
     },
     "metadata": {},
     "output_type": "display_data"
    }
   ],
   "source": [
    "### pressure field (cell data)\n",
    "p14 = pv.Plotter()\n",
    "p14.add_mesh(mesh_cell,scalars='p')\n",
    "p14.view_xy()\n",
    "p14.add_axes()\n",
    "p14.show()"
   ]
  },
  {
   "cell_type": "code",
   "execution_count": 46,
   "id": "b31c1c77",
   "metadata": {},
   "outputs": [
    {
     "data": {
      "application/vnd.jupyter.widget-view+json": {
       "model_id": "d4e99c7ecc46457aba16959f54e863b6",
       "version_major": 2,
       "version_minor": 0
      },
      "text/plain": [
       "ViewInteractiveWidget(height=768, layout=Layout(height='auto', width='100%'), width=1024)"
      ]
     },
     "metadata": {},
     "output_type": "display_data"
    }
   ],
   "source": [
    "### pressure field (point data)\n",
    "p15 = pv.Plotter()\n",
    "p15.add_mesh(mesh_point,scalars='p')\n",
    "p15.view_xy()\n",
    "p15.add_axes()\n",
    "p15.show()"
   ]
  },
  {
   "cell_type": "markdown",
   "id": "e5fe5669",
   "metadata": {},
   "source": [
    "# Let's plot the streamlines"
   ]
  },
  {
   "cell_type": "code",
   "execution_count": 47,
   "id": "b9a9b884",
   "metadata": {},
   "outputs": [],
   "source": [
    "X_center = (fullMesh.bounds[0]+fullMesh.bounds[1])/2\n",
    "Y_center = (fullMesh.bounds[2]+fullMesh.bounds[3])/2\n",
    "Z_center = (fullMesh.bounds[4]+fullMesh.bounds[5])/2\n",
    "centers = [X_center, Y_center, Z_center] "
   ]
  },
  {
   "cell_type": "code",
   "execution_count": 48,
   "id": "cec079ec",
   "metadata": {},
   "outputs": [],
   "source": [
    "face = mesh_point.slice(normal='x') # \"normal\" should be set as the direction of the flow\n",
    "slices = mesh_point.slice_along_axis(n=8, axis=\"x\") # axis is the axis of the flow\n",
    "faces = slices.combine() # converts Multiblock into UnstructuredGrid \n",
    "\n",
    "str1 = mesh_point.streamlines_from_source(faces, vectors='U') # streamlines using multiple surfaces\n",
    "str2 = mesh_point.streamlines_from_source(face, vectors='U') # streamlines using a singular surface\n",
    "# both require a dataset for the surface\n",
    "\n",
    "str3 = mesh_point.streamlines( \n",
    "n_points=100,\n",
    "vectors='U',\n",
    "pointa=(mesh_cell.bounds[0], mesh_cell.bounds[2], centers[2]),\n",
    "pointb=(mesh_cell.bounds[0], mesh_cell.bounds[3], centers[2])\n",
    ")  # Streamlines using a line"
   ]
  },
  {
   "cell_type": "code",
   "execution_count": 49,
   "id": "5611dd07",
   "metadata": {},
   "outputs": [
    {
     "data": {
      "application/vnd.jupyter.widget-view+json": {
       "model_id": "417ce33b1c2947998aec587d95a81359",
       "version_major": 2,
       "version_minor": 0
      },
      "text/plain": [
       "ViewInteractiveWidget(height=768, layout=Layout(height='auto', width='100%'), width=1024)"
      ]
     },
     "metadata": {},
     "output_type": "display_data"
    }
   ],
   "source": [
    "# Streamlines obtained from one singular surface\n",
    "p16 = pv.Plotter()\n",
    "p16.add_mesh(mesh_point, color=\"w\")\n",
    "p16.add_mesh(str2.tube(radius=0.0004))\n",
    "# View in the xy plane\n",
    "p16.view_xy()\n",
    "# Show the axes\n",
    "p16.add_axes()\n",
    "# Display the plotting window\n",
    "p16.show()"
   ]
  },
  {
   "cell_type": "markdown",
   "id": "c209a727",
   "metadata": {},
   "source": [
    "It seems this only works with `mesh_point` and not with `mesh_cell`"
   ]
  },
  {
   "cell_type": "markdown",
   "id": "c1c28ac4",
   "metadata": {},
   "source": [
    "# Let's determine the gradients and vorticity "
   ]
  },
  {
   "cell_type": "code",
   "execution_count": 50,
   "id": "c8c5ca3e",
   "metadata": {},
   "outputs": [],
   "source": [
    "# deriv will contain the data from the gradient of U (9 components)\n",
    "deriv_cell = mesh_cell.compute_derivative(scalars='U', gradient=True, divergence=None, vorticity=True, \n",
    "                                          qcriterion=None, faster=False, preference='cell', progress_bar=False)\n",
    "# deriv2 will contain the data from the gradient of U-normed (3 components)\n",
    "deriv2_cell = mesh_cell.compute_derivative(scalars=\"U-normed\", gradient=True, divergence=None, vorticity=False, \n",
    "                                          qcriterion=None, faster=False, preference='cell', progress_bar=False)"
   ]
  },
  {
   "cell_type": "code",
   "execution_count": 51,
   "id": "2c9496e7",
   "metadata": {},
   "outputs": [
    {
     "data": {
      "text/html": [
       "<table><tr><th>Header</th><th>Data Arrays</th></tr><tr><td>\n",
       "<table>\n",
       "<tr><th>UnstructuredGrid</th><th>Information</th></tr>\n",
       "<tr><td>N Cells</td><td>37235</td></tr>\n",
       "<tr><td>N Points</td><td>25012</td></tr>\n",
       "<tr><td>X Bounds</td><td>-2.060e-02, 2.900e-01</td></tr>\n",
       "<tr><td>Y Bounds</td><td>-2.540e-02, 2.540e-02</td></tr>\n",
       "<tr><td>Z Bounds</td><td>-5.000e-04, 5.000e-04</td></tr>\n",
       "<tr><td>N Arrays</td><td>24</td></tr>\n",
       "</table>\n",
       "\n",
       "</td><td>\n",
       "<table>\n",
       "<tr><th>Name</th><th>Field</th><th>Type</th><th>N Comp</th><th>Min</th><th>Max</th></tr>\n",
       "<tr><td>U</td><td>Cells</td><td>float32</td><td>3</td><td>-2.553e+00</td><td>1.018e+01</td></tr>\n",
       "<tr><td>epsilon</td><td>Cells</td><td>float32</td><td>1</td><td>1.280e-01</td><td>5.784e+03</td></tr>\n",
       "<tr><td>k</td><td>Cells</td><td>float32</td><td>1</td><td>4.465e-04</td><td>5.500e+00</td></tr>\n",
       "<tr><td>nut</td><td>Cells</td><td>float32</td><td>1</td><td>0.000e+00</td><td>5.141e-03</td></tr>\n",
       "<tr><td>p</td><td>Cells</td><td>float32</td><td>1</td><td>-8.017e+00</td><td>1.505e+01</td></tr>\n",
       "<tr><td>U-normed</td><td>Cells</td><td>float32</td><td>1</td><td>0.000e+00</td><td>1.018e+01</td></tr>\n",
       "<tr><td>ux</td><td>Cells</td><td>float32</td><td>1</td><td>-2.553e+00</td><td>1.018e+01</td></tr>\n",
       "<tr><td>uy</td><td>Cells</td><td>float32</td><td>1</td><td>-9.007e-01</td><td>7.511e-01</td></tr>\n",
       "<tr><td>uz</td><td>Cells</td><td>float32</td><td>1</td><td>-3.398e-16</td><td>2.772e-16</td></tr>\n",
       "<tr><td>dU/dx</td><td>Cells</td><td>float32</td><td>1</td><td>-1.333e+03</td><td>7.635e+02</td></tr>\n",
       "<tr><td>dU/dy</td><td>Cells</td><td>float32</td><td>1</td><td>-9.266e+03</td><td>1.322e+04</td></tr>\n",
       "<tr><td>dU/dz</td><td>Cells</td><td>float32</td><td>1</td><td>-1.746e-14</td><td>5.616e-14</td></tr>\n",
       "<tr><td>dux/dx</td><td>Cells</td><td>float32</td><td>1</td><td>-1.360e+03</td><td>6.499e+02</td></tr>\n",
       "<tr><td>dux/dy</td><td>Cells</td><td>float32</td><td>1</td><td>-9.217e+03</td><td>1.329e+04</td></tr>\n",
       "<tr><td>dux/dz</td><td>Cells</td><td>float32</td><td>1</td><td>-1.739e-14</td><td>5.605e-14</td></tr>\n",
       "<tr><td>duy/dx</td><td>Cells</td><td>float32</td><td>1</td><td>-2.181e+02</td><td>3.714e+02</td></tr>\n",
       "<tr><td>duy/dy</td><td>Cells</td><td>float32</td><td>1</td><td>-8.984e+02</td><td>1.102e+03</td></tr>\n",
       "<tr><td>duy/dz</td><td>Cells</td><td>float32</td><td>1</td><td>-1.649e-15</td><td>3.852e-15</td></tr>\n",
       "<tr><td>duz/dx</td><td>Cells</td><td>float32</td><td>1</td><td>-4.889e-14</td><td>4.742e-14</td></tr>\n",
       "<tr><td>duz/dy</td><td>Cells</td><td>float32</td><td>1</td><td>-4.528e-13</td><td>4.564e-13</td></tr>\n",
       "<tr><td>duz/dz</td><td>Cells</td><td>float32</td><td>1</td><td>-9.713e-30</td><td>3.674e-30</td></tr>\n",
       "<tr><td>vort_x</td><td>Cells</td><td>float32</td><td>1</td><td>-4.528e-13</td><td>4.564e-13</td></tr>\n",
       "<tr><td>vort_y</td><td>Cells</td><td>float32</td><td>1</td><td>-4.742e-14</td><td>6.299e-14</td></tr>\n",
       "<tr><td><b>vort_z</b></td><td>Cells</td><td>float32</td><td>1</td><td>-1.329e+04</td><td>9.315e+03</td></tr>\n",
       "</table>\n",
       "\n",
       "</td></tr> </table>"
      ],
      "text/plain": [
       "UnstructuredGrid (0x2bdb84e29a0)\n",
       "  N Cells:\t37235\n",
       "  N Points:\t25012\n",
       "  X Bounds:\t-2.060e-02, 2.900e-01\n",
       "  Y Bounds:\t-2.540e-02, 2.540e-02\n",
       "  Z Bounds:\t-5.000e-04, 5.000e-04\n",
       "  N Arrays:\t24"
      ]
     },
     "execution_count": 51,
     "metadata": {},
     "output_type": "execute_result"
    }
   ],
   "source": [
    "grad_cell = gradients_to_dict(deriv_cell[\"gradient\"])\n",
    "grad2_cell = gradients_to_dict2(deriv2_cell[\"gradient\"])\n",
    "vort_cell = vorticity_to_dict(deriv_cell[\"vorticity\"])\n",
    "\n",
    "mesh_cell.cell_data[\"dU/dx\"] = grad2_cell[\"dU/dx\"]\n",
    "mesh_cell.cell_data[\"dU/dy\"] = grad2_cell[\"dU/dy\"]\n",
    "mesh_cell.cell_data[\"dU/dz\"] = grad2_cell[\"dU/dz\"]\n",
    "mesh_cell.cell_data[\"dux/dx\"] = grad_cell[\"dux/dx\"]\n",
    "mesh_cell.cell_data[\"dux/dy\"] = grad_cell[\"dux/dy\"]\n",
    "mesh_cell.cell_data[\"dux/dz\"] = grad_cell[\"dux/dz\"]\n",
    "mesh_cell.cell_data[\"duy/dx\"] = grad_cell[\"duy/dx\"]\n",
    "mesh_cell.cell_data[\"duy/dy\"] = grad_cell[\"duy/dy\"]\n",
    "mesh_cell.cell_data[\"duy/dz\"] = grad_cell[\"duy/dz\"]\n",
    "mesh_cell.cell_data[\"duz/dx\"] = grad_cell[\"duz/dx\"]\n",
    "mesh_cell.cell_data[\"duz/dy\"] = grad_cell[\"duz/dy\"]\n",
    "mesh_cell.cell_data[\"duz/dz\"] = grad_cell[\"duz/dz\"]\n",
    "mesh_cell.cell_data[\"vort_x\"] = vort_cell[\"vort_x\"]\n",
    "mesh_cell.cell_data[\"vort_y\"] = vort_cell[\"vort_y\"]\n",
    "mesh_cell.cell_data[\"vort_z\"] = vort_cell[\"vort_z\"]\n",
    "\n",
    "mesh_cell"
   ]
  },
  {
   "cell_type": "code",
   "execution_count": 52,
   "id": "4b694176",
   "metadata": {},
   "outputs": [],
   "source": [
    "# deriv will contain the data from the gradient of U (9 components)\n",
    "deriv_point = mesh_point.compute_derivative(scalars='U', gradient=True, divergence=None, vorticity=True, \n",
    "                                          qcriterion=None, faster=False, preference='point', progress_bar=False)\n",
    "# deriv2 will contain the data from the gradient of U-normed (3 components)\n",
    "deriv2_point = mesh_point.compute_derivative(scalars=\"U-normed\", gradient=True, divergence=None, vorticity=False, \n",
    "                                          qcriterion=None, faster=False, preference='cell', progress_bar=False)"
   ]
  },
  {
   "cell_type": "code",
   "execution_count": 53,
   "id": "d06fe8af",
   "metadata": {
    "scrolled": true
   },
   "outputs": [
    {
     "data": {
      "text/html": [
       "<table><tr><th>Header</th><th>Data Arrays</th></tr><tr><td>\n",
       "<table>\n",
       "<tr><th>UnstructuredGrid</th><th>Information</th></tr>\n",
       "<tr><td>N Cells</td><td>37235</td></tr>\n",
       "<tr><td>N Points</td><td>25012</td></tr>\n",
       "<tr><td>X Bounds</td><td>-2.060e-02, 2.900e-01</td></tr>\n",
       "<tr><td>Y Bounds</td><td>-2.540e-02, 2.540e-02</td></tr>\n",
       "<tr><td>Z Bounds</td><td>-5.000e-04, 5.000e-04</td></tr>\n",
       "<tr><td>N Arrays</td><td>24</td></tr>\n",
       "</table>\n",
       "\n",
       "</td><td>\n",
       "<table>\n",
       "<tr><th>Name</th><th>Field</th><th>Type</th><th>N Comp</th><th>Min</th><th>Max</th></tr>\n",
       "<tr><td>U</td><td>Points</td><td>float32</td><td>3</td><td>-2.507e+00</td><td>1.018e+01</td></tr>\n",
       "<tr><td>epsilon</td><td>Points</td><td>float32</td><td>1</td><td>1.280e-01</td><td>5.170e+03</td></tr>\n",
       "<tr><td>k</td><td>Points</td><td>float32</td><td>1</td><td>4.465e-04</td><td>5.496e+00</td></tr>\n",
       "<tr><td>nut</td><td>Points</td><td>float32</td><td>1</td><td>7.010e-08</td><td>5.137e-03</td></tr>\n",
       "<tr><td>p</td><td>Points</td><td>float32</td><td>1</td><td>-8.015e+00</td><td>1.454e+01</td></tr>\n",
       "<tr><td>U-normed</td><td>Points</td><td>float32</td><td>1</td><td>2.250e-03</td><td>1.018e+01</td></tr>\n",
       "<tr><td>ux</td><td>Points</td><td>float32</td><td>1</td><td>-2.507e+00</td><td>1.018e+01</td></tr>\n",
       "<tr><td>uy</td><td>Points</td><td>float32</td><td>1</td><td>-6.843e-01</td><td>6.324e-01</td></tr>\n",
       "<tr><td>uz</td><td>Points</td><td>float32</td><td>1</td><td>-1.641e-16</td><td>1.478e-16</td></tr>\n",
       "<tr><td>dU/dx</td><td>Points</td><td>float32</td><td>1</td><td>-6.913e+02</td><td>7.574e+02</td></tr>\n",
       "<tr><td>dU/dy</td><td>Points</td><td>float32</td><td>1</td><td>-6.797e+03</td><td>1.111e+04</td></tr>\n",
       "<tr><td>dU/dz</td><td>Points</td><td>float32</td><td>1</td><td>-1.754e-12</td><td>1.836e-12</td></tr>\n",
       "<tr><td>dux/dx</td><td>Points</td><td>float32</td><td>1</td><td>-6.919e+02</td><td>8.186e+02</td></tr>\n",
       "<tr><td>dux/dy</td><td>Points</td><td>float32</td><td>1</td><td>-6.762e+03</td><td>1.135e+04</td></tr>\n",
       "<tr><td>dux/dz</td><td>Points</td><td>float32</td><td>1</td><td>-1.754e-12</td><td>1.836e-12</td></tr>\n",
       "<tr><td>duy/dx</td><td>Points</td><td>float32</td><td>1</td><td>-2.322e+02</td><td>2.527e+02</td></tr>\n",
       "<tr><td>duy/dy</td><td>Points</td><td>float32</td><td>1</td><td>-7.487e+02</td><td>1.089e+03</td></tr>\n",
       "<tr><td>duy/dz</td><td>Points</td><td>float32</td><td>1</td><td>-1.069e-13</td><td>1.443e-13</td></tr>\n",
       "<tr><td>duz/dx</td><td>Points</td><td>float32</td><td>1</td><td>-4.516e-14</td><td>4.734e-14</td></tr>\n",
       "<tr><td>duz/dy</td><td>Points</td><td>float32</td><td>1</td><td>-4.437e-13</td><td>4.251e-13</td></tr>\n",
       "<tr><td>duz/dz</td><td>Points</td><td>float32</td><td>1</td><td>-4.088e-29</td><td>4.016e-29</td></tr>\n",
       "<tr><td>vort_x</td><td>Points</td><td>float32</td><td>1</td><td>-4.437e-13</td><td>4.251e-13</td></tr>\n",
       "<tr><td>vort_y</td><td>Points</td><td>float32</td><td>1</td><td>-1.754e-12</td><td>1.836e-12</td></tr>\n",
       "<tr><td><b>vort_z</b></td><td>Points</td><td>float32</td><td>1</td><td>-1.140e+04</td><td>6.832e+03</td></tr>\n",
       "</table>\n",
       "\n",
       "</td></tr> </table>"
      ],
      "text/plain": [
       "UnstructuredGrid (0x2bdb84e2880)\n",
       "  N Cells:\t37235\n",
       "  N Points:\t25012\n",
       "  X Bounds:\t-2.060e-02, 2.900e-01\n",
       "  Y Bounds:\t-2.540e-02, 2.540e-02\n",
       "  Z Bounds:\t-5.000e-04, 5.000e-04\n",
       "  N Arrays:\t24"
      ]
     },
     "execution_count": 53,
     "metadata": {},
     "output_type": "execute_result"
    }
   ],
   "source": [
    "grad_point = gradients_to_dict(deriv_point[\"gradient\"])\n",
    "grad2_point = gradients_to_dict2(deriv2_point[\"gradient\"])\n",
    "vort_point = vorticity_to_dict(deriv_point[\"vorticity\"])\n",
    "\n",
    "mesh_point.point_data[\"dU/dx\"] = grad2_point[\"dU/dx\"]\n",
    "mesh_point.point_data[\"dU/dy\"] = grad2_point[\"dU/dy\"]\n",
    "mesh_point.point_data[\"dU/dz\"] = grad2_point[\"dU/dz\"]\n",
    "mesh_point.point_data[\"dux/dx\"] = grad_point[\"dux/dx\"]\n",
    "mesh_point.point_data[\"dux/dy\"] = grad_point[\"dux/dy\"]\n",
    "mesh_point.point_data[\"dux/dz\"] = grad_point[\"dux/dz\"]\n",
    "mesh_point.point_data[\"duy/dx\"] = grad_point[\"duy/dx\"]\n",
    "mesh_point.point_data[\"duy/dy\"] = grad_point[\"duy/dy\"]\n",
    "mesh_point.point_data[\"duy/dz\"] = grad_point[\"duy/dz\"]\n",
    "mesh_point.point_data[\"duz/dx\"] = grad_point[\"duz/dx\"]\n",
    "mesh_point.point_data[\"duz/dy\"] = grad_point[\"duz/dy\"]\n",
    "mesh_point.point_data[\"duz/dz\"] = grad_point[\"duz/dz\"]\n",
    "mesh_point.point_data[\"vort_x\"] = vort_point[\"vort_x\"]\n",
    "mesh_point.point_data[\"vort_y\"] = vort_point[\"vort_y\"]\n",
    "mesh_point.point_data[\"vort_z\"] = vort_point[\"vort_z\"]\n",
    "\n",
    "mesh_point"
   ]
  },
  {
   "cell_type": "markdown",
   "id": "b2b97e20",
   "metadata": {},
   "source": [
    "## Let's plot gradient components "
   ]
  },
  {
   "cell_type": "code",
   "execution_count": 54,
   "id": "e0c2dd08",
   "metadata": {
    "scrolled": true
   },
   "outputs": [
    {
     "data": {
      "application/vnd.jupyter.widget-view+json": {
       "model_id": "7ba389a0f46740b08d45fdaecc1b4e22",
       "version_major": 2,
       "version_minor": 0
      },
      "text/plain": [
       "ViewInteractiveWidget(height=768, layout=Layout(height='auto', width='100%'), width=1024)"
      ]
     },
     "metadata": {},
     "output_type": "display_data"
    }
   ],
   "source": [
    "### multiplot, plotting all the gradient components \n",
    "### {du/dx, du/dy, du/dz, dv/dx, dv/dy, dv/dz, dw/dx, dw/dy, dw/dz}\n",
    "\n",
    "plotter = pv.Plotter(shape=(3, 3))\n",
    "\n",
    "plotter.subplot(0, 0)\n",
    "plotter.add_text(\"dux/dx\", font_size=20)\n",
    "plotter.add_mesh(mesh_cell,scalars=\"dux/dx\")\n",
    "plotter.view_xy()\n",
    "plotter.add_axes()\n",
    "\n",
    "plotter.subplot(0, 1)\n",
    "plotter.add_text(\"dux/dy\", font_size=20)\n",
    "plotter.add_mesh(mesh_cell.copy(),scalars=\"dux/dy\")\n",
    "plotter.view_xy()\n",
    "plotter.add_axes()\n",
    "\n",
    "plotter.subplot(0, 2)\n",
    "plotter.add_text(\"dux/dz\", font_size=20)\n",
    "plotter.add_mesh(mesh_cell.copy(),scalars=\"dux/dz\")\n",
    "plotter.view_xy()\n",
    "plotter.add_axes()\n",
    "\n",
    "plotter.subplot(1, 0)\n",
    "plotter.add_text(\"duy/dx\", font_size=20)\n",
    "plotter.add_mesh(mesh_cell.copy(),scalars=\"duy/dx\")\n",
    "plotter.view_xy()\n",
    "plotter.add_axes()\n",
    "\n",
    "plotter.subplot(1, 1)\n",
    "plotter.add_text(\"duy/dy\", font_size=20)\n",
    "plotter.add_mesh(mesh_cell.copy(),scalars=\"duy/dy\")\n",
    "plotter.view_xy()\n",
    "plotter.add_axes()\n",
    "\n",
    "plotter.subplot(1, 2)\n",
    "plotter.add_text(\"duy/dz\", font_size=20)\n",
    "plotter.add_mesh(mesh_cell.copy(),scalars=\"duy/dz\")\n",
    "plotter.view_xy()\n",
    "plotter.add_axes()\n",
    "\n",
    "plotter.subplot(2, 0)\n",
    "plotter.add_text(\"duz/dx\", font_size=20)\n",
    "plotter.add_mesh(mesh_cell.copy(),scalars=\"duz/dx\")\n",
    "plotter.view_xy()\n",
    "plotter.add_axes()\n",
    "\n",
    "plotter.subplot(2, 1)\n",
    "plotter.add_text(\"duz/dy\", font_size=20)\n",
    "plotter.add_mesh(mesh_cell.copy(),scalars=\"duz/dy\")\n",
    "plotter.view_xy()\n",
    "plotter.add_axes()\n",
    "\n",
    "plotter.subplot(2, 2)\n",
    "plotter.add_text(\"duz/dz\", font_size=20)\n",
    "plotter.add_mesh(mesh_cell.copy(),scalars=\"duz/dz\")\n",
    "plotter.view_xy()\n",
    "plotter.add_axes()\n",
    "\n",
    "plotter.show()"
   ]
  },
  {
   "cell_type": "code",
   "execution_count": 55,
   "id": "033ab959",
   "metadata": {},
   "outputs": [
    {
     "data": {
      "application/vnd.jupyter.widget-view+json": {
       "model_id": "f7706e28886a4b998de1c2313bb48edd",
       "version_major": 2,
       "version_minor": 0
      },
      "text/plain": [
       "ViewInteractiveWidget(height=768, layout=Layout(height='auto', width='100%'), width=1024)"
      ]
     },
     "metadata": {},
     "output_type": "display_data"
    }
   ],
   "source": [
    "### multiplot, plotting all the gradient components \n",
    "### {du/dx, du/dy, du/dz, dv/dx, dv/dy, dv/dz, dw/dx, dw/dy, dw/dz}\n",
    "\n",
    "plotter = pv.Plotter(shape=(3, 3))\n",
    "\n",
    "plotter.subplot(0, 0)\n",
    "plotter.add_text(\"dux/dx\", font_size=20)\n",
    "plotter.add_mesh(mesh_point,scalars=\"dux/dx\")\n",
    "plotter.view_xy()\n",
    "plotter.add_axes()\n",
    "\n",
    "plotter.subplot(0, 1)\n",
    "plotter.add_text(\"dux/dy\", font_size=20)\n",
    "plotter.add_mesh(mesh_point.copy(),scalars=\"dux/dy\")\n",
    "plotter.view_xy()\n",
    "plotter.add_axes()\n",
    "\n",
    "plotter.subplot(0, 2)\n",
    "plotter.add_text(\"dux/dz\", font_size=20)\n",
    "plotter.add_mesh(mesh_point.copy(),scalars=\"dux/dz\")\n",
    "plotter.view_xy()\n",
    "plotter.add_axes()\n",
    "\n",
    "plotter.subplot(1, 0)\n",
    "plotter.add_text(\"duy/dx\", font_size=20)\n",
    "plotter.add_mesh(mesh_point.copy(),scalars=\"duy/dx\")\n",
    "plotter.view_xy()\n",
    "plotter.add_axes()\n",
    "\n",
    "plotter.subplot(1, 1)\n",
    "plotter.add_text(\"duy/dy\", font_size=20)\n",
    "plotter.add_mesh(mesh_point.copy(),scalars=\"duy/dy\")\n",
    "plotter.view_xy()\n",
    "plotter.add_axes()\n",
    "\n",
    "plotter.subplot(1, 2)\n",
    "plotter.add_text(\"duy/dz\", font_size=20)\n",
    "plotter.add_mesh(mesh_point.copy(),scalars=\"duy/dz\")\n",
    "plotter.view_xy()\n",
    "plotter.add_axes()\n",
    "\n",
    "plotter.subplot(2, 0)\n",
    "plotter.add_text(\"duz/dx\", font_size=20)\n",
    "plotter.add_mesh(mesh_point.copy(),scalars=\"duz/dx\")\n",
    "plotter.view_xy()\n",
    "plotter.add_axes()\n",
    "\n",
    "plotter.subplot(2, 1)\n",
    "plotter.add_text(\"duz/dy\", font_size=20)\n",
    "plotter.add_mesh(mesh_point.copy(),scalars=\"duz/dy\")\n",
    "plotter.view_xy()\n",
    "plotter.add_axes()\n",
    "\n",
    "plotter.subplot(2, 2)\n",
    "plotter.add_text(\"duz/dz\", font_size=20)\n",
    "plotter.add_mesh(mesh_point.copy(),scalars=\"duz/dz\")\n",
    "plotter.view_xy()\n",
    "plotter.add_axes()\n",
    "\n",
    "plotter.show()"
   ]
  },
  {
   "cell_type": "markdown",
   "id": "aae7b493",
   "metadata": {},
   "source": [
    "## Let's plot vorticity components"
   ]
  },
  {
   "cell_type": "code",
   "execution_count": 56,
   "id": "17ed8823",
   "metadata": {},
   "outputs": [
    {
     "data": {
      "application/vnd.jupyter.widget-view+json": {
       "model_id": "67247f64e08b4fc097269d237caa044e",
       "version_major": 2,
       "version_minor": 0
      },
      "text/plain": [
       "ViewInteractiveWidget(height=768, layout=Layout(height='auto', width='100%'), width=1024)"
      ]
     },
     "metadata": {},
     "output_type": "display_data"
    }
   ],
   "source": [
    "### multiplot, plotting of vorticity components (cell data)\n",
    "\n",
    "plotter = pv.Plotter(shape=(1, 3))\n",
    "\n",
    "plotter.subplot(0, 0)\n",
    "plotter.add_text(\"vort_x\", font_size=20)\n",
    "plotter.add_mesh(mesh_cell,scalars=\"vort_x\")\n",
    "plotter.view_xy()\n",
    "plotter.add_axes()\n",
    "\n",
    "plotter.subplot(0, 1)\n",
    "plotter.add_text(\"vort_y\", font_size=20)\n",
    "plotter.add_mesh(mesh_cell.copy(),scalars=\"vort_y\")\n",
    "plotter.view_xy()\n",
    "plotter.add_axes()\n",
    "\n",
    "plotter.subplot(0, 2)\n",
    "plotter.add_text(\"vort_z\", font_size=20)\n",
    "plotter.add_mesh(mesh_cell.copy(),scalars=\"vort_z\")\n",
    "plotter.view_xy()\n",
    "plotter.add_axes()\n",
    "\n",
    "plotter.show()"
   ]
  },
  {
   "cell_type": "code",
   "execution_count": 57,
   "id": "0209fd52",
   "metadata": {},
   "outputs": [
    {
     "data": {
      "application/vnd.jupyter.widget-view+json": {
       "model_id": "b7293cfbc85f46ebbce80a8d9fc992f9",
       "version_major": 2,
       "version_minor": 0
      },
      "text/plain": [
       "ViewInteractiveWidget(height=768, layout=Layout(height='auto', width='100%'), width=1024)"
      ]
     },
     "metadata": {},
     "output_type": "display_data"
    }
   ],
   "source": [
    "### multiplot, plotting of vorticity components (point data)\n",
    "\n",
    "plotter = pv.Plotter(shape=(1, 3))\n",
    "\n",
    "plotter.subplot(0, 0)\n",
    "plotter.add_text(\"vort_x\", font_size=20)\n",
    "plotter.add_mesh(mesh_point,scalars=\"vort_x\")\n",
    "plotter.view_xy()\n",
    "plotter.add_axes()\n",
    "\n",
    "plotter.subplot(0, 1)\n",
    "plotter.add_text(\"vort_y\", font_size=20)\n",
    "plotter.add_mesh(mesh_point.copy(),scalars=\"vort_y\")\n",
    "plotter.view_xy()\n",
    "plotter.add_axes()\n",
    "\n",
    "plotter.subplot(0, 2)\n",
    "plotter.add_text(\"vort_z\", font_size=20)\n",
    "plotter.add_mesh(mesh_point.copy(),scalars=\"vort_z\")\n",
    "plotter.view_xy()\n",
    "plotter.add_axes()\n",
    "\n",
    "plotter.show()"
   ]
  },
  {
   "cell_type": "markdown",
   "id": "7c65acb3",
   "metadata": {},
   "source": [
    "## Vectors normalization compared to the maximal component "
   ]
  },
  {
   "cell_type": "code",
   "execution_count": 58,
   "id": "b668494a",
   "metadata": {},
   "outputs": [],
   "source": [
    "duxdx_norm=(mesh_cell[\"dux/dx\"]-min(mesh_cell[\"dux/dx\"]))/(max(mesh_cell[\"dux/dx\"])-min(mesh_cell[\"dux/dx\"]))\n",
    "duydx_norm=(mesh_cell[\"duy/dx\"]-min(mesh_cell[\"duy/dx\"]))/(max(mesh_cell[\"duy/dx\"])-min(mesh_cell[\"duy/dx\"]))\n",
    "duzdx_norm=(mesh_cell[\"duz/dx\"]-min(mesh_cell[\"duz/dx\"]))/(max(mesh_cell[\"duz/dx\"])-min(mesh_cell[\"duz/dx\"]))\n",
    "duxdy_norm=(mesh_cell[\"dux/dy\"]-min(mesh_cell[\"dux/dy\"]))/(max(mesh_cell[\"dux/dy\"])-min(mesh_cell[\"dux/dy\"]))\n",
    "duydy_norm=(mesh_cell[\"duy/dy\"]-min(mesh_cell[\"duy/dy\"]))/(max(mesh_cell[\"duy/dy\"])-min(mesh_cell[\"duy/dy\"]))\n",
    "duzdy_norm=(mesh_cell[\"duz/dy\"]-min(mesh_cell[\"duz/dy\"]))/(max(mesh_cell[\"duz/dy\"])-min(mesh_cell[\"duz/dy\"]))\n",
    "#duxdz_norm=(mesh_cell[\"dux/dz\"]-min(mesh_cell[\"dux/dz\"]))/(max(mesh_cell[\"dux/dz\"])-min(mesh_cell[\"dux/dz\"]))\n",
    "#duydz_norm=(mesh_cell[\"duy/dz\"]-min(mesh_cell[\"duy/dz\"]))/(max(mesh_cell[\"duy/dz\"])-min(mesh_cell[\"duy/dz\"]))\n",
    "#duzdz_norm=(mesh_cell[\"duz/dz\"]-min(mesh_cell[\"duz/dz\"]))/(max(mesh_cell[\"duz/dz\"])-min(mesh_cell[\"duz/dz\"]))\n",
    "vort_x_norm=(mesh_cell[\"vort_x\"]-min(mesh_cell[\"vort_x\"]))/(max(mesh_cell[\"vort_x\"])-min(mesh_cell[\"vort_x\"]))\n",
    "vort_y_norm=(mesh_cell[\"vort_y\"]-min(mesh_cell[\"vort_y\"]))/(max(mesh_cell[\"vort_y\"])-min(mesh_cell[\"vort_y\"]))\n",
    "vort_z_norm=(mesh_cell[\"vort_z\"]-min(mesh_cell[\"vort_z\"]))/(max(mesh_cell[\"vort_z\"])-min(mesh_cell[\"vort_z\"]))"
   ]
  },
  {
   "cell_type": "markdown",
   "id": "567c69b1",
   "metadata": {},
   "source": [
    "We have to add these data to the `mesh_cell` available fields if we want to plot them. Otherwise, their names would be \"Data\" (see last attempt with \"a\")."
   ]
  },
  {
   "cell_type": "code",
   "execution_count": 59,
   "id": "8e2b8517",
   "metadata": {},
   "outputs": [],
   "source": [
    "mesh_cell.cell_data[\"dux/dx n\"] = duxdx_norm\n",
    "mesh_cell.cell_data[\"duy/dx n\"] = duydx_norm\n",
    "mesh_cell.cell_data[\"duz/dx n\"] = duzdx_norm\n",
    "mesh_cell.cell_data[\"dux/dy n\"] = duxdy_norm\n",
    "mesh_cell.cell_data[\"duy/dy n\"] = duydy_norm\n",
    "mesh_cell.cell_data[\"duz/dy n\"] = duzdy_norm\n",
    "#mesh_cell.cell_data[\"dux/dz n\"] = duxdz_norm\n",
    "#mesh_cell.cell_data[\"duy/dz n\"] = duydz_norm\n",
    "#mesh_cell.cell_data[\"duz/dz n\"] = duzdz_norm\n",
    "mesh_cell.cell_data[\"vort_x n\"] = vort_x_norm\n",
    "mesh_cell.cell_data[\"vort_y n\"] = vort_y_norm\n",
    "mesh_cell.cell_data[\"vort_z n\"] = vort_z_norm"
   ]
  },
  {
   "cell_type": "markdown",
   "id": "a54f609b",
   "metadata": {},
   "source": [
    "Be careful: 0 division in the case of z gradient components "
   ]
  },
  {
   "cell_type": "code",
   "execution_count": 60,
   "id": "1c483a7b",
   "metadata": {},
   "outputs": [
    {
     "data": {
      "text/html": [
       "<table><tr><th>Header</th><th>Data Arrays</th></tr><tr><td>\n",
       "<table>\n",
       "<tr><th>UnstructuredGrid</th><th>Information</th></tr>\n",
       "<tr><td>N Cells</td><td>37235</td></tr>\n",
       "<tr><td>N Points</td><td>25012</td></tr>\n",
       "<tr><td>X Bounds</td><td>-2.060e-02, 2.900e-01</td></tr>\n",
       "<tr><td>Y Bounds</td><td>-2.540e-02, 2.540e-02</td></tr>\n",
       "<tr><td>Z Bounds</td><td>-5.000e-04, 5.000e-04</td></tr>\n",
       "<tr><td>N Arrays</td><td>33</td></tr>\n",
       "</table>\n",
       "\n",
       "</td><td>\n",
       "<table>\n",
       "<tr><th>Name</th><th>Field</th><th>Type</th><th>N Comp</th><th>Min</th><th>Max</th></tr>\n",
       "<tr><td>U</td><td>Cells</td><td>float32</td><td>3</td><td>-2.553e+00</td><td>1.018e+01</td></tr>\n",
       "<tr><td>epsilon</td><td>Cells</td><td>float32</td><td>1</td><td>1.280e-01</td><td>5.784e+03</td></tr>\n",
       "<tr><td>k</td><td>Cells</td><td>float32</td><td>1</td><td>4.465e-04</td><td>5.500e+00</td></tr>\n",
       "<tr><td>nut</td><td>Cells</td><td>float32</td><td>1</td><td>0.000e+00</td><td>5.141e-03</td></tr>\n",
       "<tr><td>p</td><td>Cells</td><td>float32</td><td>1</td><td>-8.017e+00</td><td>1.505e+01</td></tr>\n",
       "<tr><td>U-normed</td><td>Cells</td><td>float32</td><td>1</td><td>0.000e+00</td><td>1.018e+01</td></tr>\n",
       "<tr><td>ux</td><td>Cells</td><td>float32</td><td>1</td><td>-2.553e+00</td><td>1.018e+01</td></tr>\n",
       "<tr><td>uy</td><td>Cells</td><td>float32</td><td>1</td><td>-9.007e-01</td><td>7.511e-01</td></tr>\n",
       "<tr><td>uz</td><td>Cells</td><td>float32</td><td>1</td><td>-3.398e-16</td><td>2.772e-16</td></tr>\n",
       "<tr><td>dU/dx</td><td>Cells</td><td>float32</td><td>1</td><td>-1.333e+03</td><td>7.635e+02</td></tr>\n",
       "<tr><td>dU/dy</td><td>Cells</td><td>float32</td><td>1</td><td>-9.266e+03</td><td>1.322e+04</td></tr>\n",
       "<tr><td>dU/dz</td><td>Cells</td><td>float32</td><td>1</td><td>-1.746e-14</td><td>5.616e-14</td></tr>\n",
       "<tr><td>dux/dx</td><td>Cells</td><td>float32</td><td>1</td><td>-1.360e+03</td><td>6.499e+02</td></tr>\n",
       "<tr><td>dux/dy</td><td>Cells</td><td>float32</td><td>1</td><td>-9.217e+03</td><td>1.329e+04</td></tr>\n",
       "<tr><td>dux/dz</td><td>Cells</td><td>float32</td><td>1</td><td>-1.739e-14</td><td>5.605e-14</td></tr>\n",
       "<tr><td>duy/dx</td><td>Cells</td><td>float32</td><td>1</td><td>-2.181e+02</td><td>3.714e+02</td></tr>\n",
       "<tr><td>duy/dy</td><td>Cells</td><td>float32</td><td>1</td><td>-8.984e+02</td><td>1.102e+03</td></tr>\n",
       "<tr><td>duy/dz</td><td>Cells</td><td>float32</td><td>1</td><td>-1.649e-15</td><td>3.852e-15</td></tr>\n",
       "<tr><td>duz/dx</td><td>Cells</td><td>float32</td><td>1</td><td>-4.889e-14</td><td>4.742e-14</td></tr>\n",
       "<tr><td>duz/dy</td><td>Cells</td><td>float32</td><td>1</td><td>-4.528e-13</td><td>4.564e-13</td></tr>\n",
       "<tr><td>duz/dz</td><td>Cells</td><td>float32</td><td>1</td><td>-9.713e-30</td><td>3.674e-30</td></tr>\n",
       "<tr><td>vort_x</td><td>Cells</td><td>float32</td><td>1</td><td>-4.528e-13</td><td>4.564e-13</td></tr>\n",
       "<tr><td>vort_y</td><td>Cells</td><td>float32</td><td>1</td><td>-4.742e-14</td><td>6.299e-14</td></tr>\n",
       "<tr><td>vort_z</td><td>Cells</td><td>float32</td><td>1</td><td>-1.329e+04</td><td>9.315e+03</td></tr>\n",
       "<tr><td>dux/dx n</td><td>Cells</td><td>float32</td><td>1</td><td>0.000e+00</td><td>1.000e+00</td></tr>\n",
       "<tr><td>duy/dx n</td><td>Cells</td><td>float32</td><td>1</td><td>0.000e+00</td><td>1.000e+00</td></tr>\n",
       "<tr><td>duz/dx n</td><td>Cells</td><td>float32</td><td>1</td><td>0.000e+00</td><td>1.000e+00</td></tr>\n",
       "<tr><td>dux/dy n</td><td>Cells</td><td>float32</td><td>1</td><td>0.000e+00</td><td>1.000e+00</td></tr>\n",
       "<tr><td>duy/dy n</td><td>Cells</td><td>float32</td><td>1</td><td>0.000e+00</td><td>1.000e+00</td></tr>\n",
       "<tr><td>duz/dy n</td><td>Cells</td><td>float32</td><td>1</td><td>0.000e+00</td><td>1.000e+00</td></tr>\n",
       "<tr><td>vort_x n</td><td>Cells</td><td>float32</td><td>1</td><td>0.000e+00</td><td>1.000e+00</td></tr>\n",
       "<tr><td>vort_y n</td><td>Cells</td><td>float32</td><td>1</td><td>0.000e+00</td><td>1.000e+00</td></tr>\n",
       "<tr><td><b>vort_z n</b></td><td>Cells</td><td>float32</td><td>1</td><td>0.000e+00</td><td>1.000e+00</td></tr>\n",
       "</table>\n",
       "\n",
       "</td></tr> </table>"
      ],
      "text/plain": [
       "UnstructuredGrid (0x2bdb84e29a0)\n",
       "  N Cells:\t37235\n",
       "  N Points:\t25012\n",
       "  X Bounds:\t-2.060e-02, 2.900e-01\n",
       "  Y Bounds:\t-2.540e-02, 2.540e-02\n",
       "  Z Bounds:\t-5.000e-04, 5.000e-04\n",
       "  N Arrays:\t33"
      ]
     },
     "execution_count": 60,
     "metadata": {},
     "output_type": "execute_result"
    }
   ],
   "source": [
    "mesh_cell"
   ]
  },
  {
   "cell_type": "code",
   "execution_count": 61,
   "id": "9fe1bdcc",
   "metadata": {},
   "outputs": [
    {
     "data": {
      "application/vnd.jupyter.widget-view+json": {
       "model_id": "996ef105798949779e6560feda607fec",
       "version_major": 2,
       "version_minor": 0
      },
      "text/plain": [
       "ViewInteractiveWidget(height=768, layout=Layout(height='auto', width='100%'), width=1024)"
      ]
     },
     "metadata": {},
     "output_type": "display_data"
    }
   ],
   "source": [
    "#plot\n",
    "plotter = pv.Plotter(shape=(3, 3))\n",
    "\n",
    "plotter.subplot(0, 0)\n",
    "plotter.add_text(\"dux/dx n\", font_size=20)\n",
    "plotter.add_mesh(mesh_cell,scalars='dux/dx n')\n",
    "plotter.view_xy()\n",
    "plotter.add_axes()\n",
    "\n",
    "plotter.subplot(0, 1)\n",
    "plotter.add_text(\"dux/dy n\", font_size=20)\n",
    "plotter.add_mesh(mesh_cell.copy(),scalars=\"dux/dy n\")\n",
    "plotter.view_xy()\n",
    "plotter.add_axes()\n",
    "\n",
    "plotter.subplot(0, 2)\n",
    "plotter.add_text(\"dux/dz n\", font_size=20)\n",
    "plotter.add_mesh(mesh_cell.copy(),scalars=\"dux/dz\")\n",
    "plotter.view_xy()\n",
    "plotter.add_axes()\n",
    "\n",
    "plotter.subplot(1, 0)\n",
    "plotter.add_text(\"duy/dx n\", font_size=20)\n",
    "plotter.add_mesh(mesh_cell.copy(),scalars=\"duy/dx n\")\n",
    "plotter.view_xy()\n",
    "plotter.add_axes()\n",
    "\n",
    "plotter.subplot(1, 1)\n",
    "plotter.add_text(\"duy/dy n\", font_size=20)\n",
    "plotter.add_mesh(mesh_cell.copy(),scalars=\"duy/dy n\")\n",
    "plotter.view_xy()\n",
    "plotter.add_axes()\n",
    "\n",
    "plotter.subplot(1, 2)\n",
    "plotter.add_text(\"duy/dz n\", font_size=20)\n",
    "plotter.add_mesh(mesh_cell.copy(),scalars=\"duy/dz\")\n",
    "plotter.view_xy()\n",
    "plotter.add_axes()\n",
    "\n",
    "plotter.subplot(2, 0)\n",
    "plotter.add_text(\"duz/dx n\", font_size=20)\n",
    "plotter.add_mesh(mesh_cell.copy(),scalars=\"duz/dx n\")\n",
    "plotter.view_xy()\n",
    "plotter.add_axes()\n",
    "\n",
    "plotter.subplot(2, 1)\n",
    "plotter.add_text(\"duz/dy n\", font_size=20)\n",
    "plotter.add_mesh(mesh_cell.copy(),scalars=\"duz/dy n\")\n",
    "plotter.view_xy()\n",
    "plotter.add_axes()\n",
    "\n",
    "plotter.subplot(2, 2)\n",
    "plotter.add_text(\"duz/dz n\", font_size=20)\n",
    "plotter.add_mesh(mesh_cell.copy(),scalars=\"duz/dz\")\n",
    "plotter.view_xy()\n",
    "plotter.add_axes()\n",
    "\n",
    "plotter.show()"
   ]
  },
  {
   "cell_type": "code",
   "execution_count": 62,
   "id": "e4d2f9c3",
   "metadata": {},
   "outputs": [
    {
     "data": {
      "application/vnd.jupyter.widget-view+json": {
       "model_id": "4b719b5830d7446485c064e166e77d2e",
       "version_major": 2,
       "version_minor": 0
      },
      "text/plain": [
       "ViewInteractiveWidget(height=768, layout=Layout(height='auto', width='100%'), width=1024)"
      ]
     },
     "metadata": {},
     "output_type": "display_data"
    }
   ],
   "source": [
    "### multiplot\n",
    "\n",
    "plotter = pv.Plotter(shape=(1, 3))\n",
    "\n",
    "plotter.subplot(0, 0)\n",
    "plotter.add_text(\"vort_x n\", font_size=20)\n",
    "plotter.add_mesh(mesh_cell,scalars=\"vort_x n\")\n",
    "plotter.view_xy()\n",
    "plotter.add_axes()\n",
    "\n",
    "plotter.subplot(0, 1)\n",
    "plotter.add_text(\"vort_y n\", font_size=20)\n",
    "plotter.add_mesh(mesh_cell.copy(),scalars=\"vort_y n\")\n",
    "plotter.view_xy()\n",
    "plotter.add_axes()\n",
    "\n",
    "plotter.subplot(0, 2)\n",
    "plotter.add_text(\"vort_z n\", font_size=20)\n",
    "plotter.add_mesh(mesh_cell.copy(),scalars=\"vort_z n\")\n",
    "plotter.view_xy()\n",
    "plotter.add_axes()\n",
    "\n",
    "plotter.show()"
   ]
  },
  {
   "cell_type": "code",
   "execution_count": 63,
   "id": "5bdc3486",
   "metadata": {},
   "outputs": [],
   "source": [
    "duxdx_norm=(mesh_point[\"dux/dx\"]-min(mesh_point[\"dux/dx\"]))/(max(mesh_point[\"dux/dx\"])-min(mesh_point[\"dux/dx\"]))\n",
    "duydx_norm=(mesh_point[\"duy/dx\"]-min(mesh_point[\"duy/dx\"]))/(max(mesh_point[\"duy/dx\"])-min(mesh_point[\"duy/dx\"]))\n",
    "duzdx_norm=(mesh_point[\"duz/dx\"]-min(mesh_point[\"duz/dx\"]))/(max(mesh_point[\"duz/dx\"])-min(mesh_point[\"duz/dx\"]))\n",
    "duxdy_norm=(mesh_point[\"dux/dy\"]-min(mesh_point[\"dux/dy\"]))/(max(mesh_point[\"dux/dy\"])-min(mesh_point[\"dux/dy\"]))\n",
    "duydy_norm=(mesh_point[\"duy/dy\"]-min(mesh_point[\"duy/dy\"]))/(max(mesh_point[\"duy/dy\"])-min(mesh_point[\"duy/dy\"]))\n",
    "duzdy_norm=(mesh_point[\"duz/dy\"]-min(mesh_point[\"duz/dy\"]))/(max(mesh_point[\"duz/dy\"])-min(mesh_point[\"duz/dy\"]))\n",
    "#duxdz_norm=(mesh_point[\"dux/dz\"]-min(mesh_point[\"dux/dz\"]))/(max(mesh_point[\"dux/dz\"])-min(mesh_point[\"dux/dz\"]))\n",
    "#duydz_norm=(mesh_point[\"duy/dz\"]-min(mesh_point[\"duy/dz\"]))/(max(mesh_point[\"duy/dz\"])-min(mesh_point[\"duy/dz\"]))\n",
    "#duzdz_norm=(mesh_point[\"duz/dz\"]-min(mesh_point[\"duz/dz\"]))/(max(mesh_point[\"duz/dz\"])-min(mesh_point[\"duz/dz\"]))\n",
    "vort_x_norm=(mesh_point[\"vort_x\"]-min(mesh_point[\"vort_x\"]))/(max(mesh_point[\"vort_x\"])-min(mesh_point[\"vort_x\"]))\n",
    "vort_y_norm=(mesh_point[\"vort_y\"]-min(mesh_point[\"vort_y\"]))/(max(mesh_point[\"vort_y\"])-min(mesh_point[\"vort_y\"]))\n",
    "vort_z_norm=(mesh_point[\"vort_z\"]-min(mesh_point[\"vort_z\"]))/(max(mesh_point[\"vort_z\"])-min(mesh_point[\"vort_z\"]))"
   ]
  },
  {
   "cell_type": "code",
   "execution_count": 64,
   "id": "c001e1ba",
   "metadata": {},
   "outputs": [],
   "source": [
    "mesh_point.point_data[\"dux/dx n\"] = duxdx_norm\n",
    "mesh_point.point_data[\"duy/dx n\"] = duydx_norm\n",
    "mesh_point.point_data[\"duz/dx n\"] = duzdx_norm\n",
    "mesh_point.point_data[\"dux/dy n\"] = duxdy_norm\n",
    "mesh_point.point_data[\"duy/dy n\"] = duydy_norm\n",
    "mesh_point.point_data[\"duz/dy n\"] = duzdy_norm\n",
    "#mesh_point.point_data[\"dux/dz n\"] = duxdz_norm\n",
    "#mesh_point.point_data[\"duy/dz n\"] = duydz_norm\n",
    "#mesh_point.point_data[\"duz/dz n\"] = duzdz_norm\n",
    "mesh_point.point_data[\"vort_x n\"] = vort_x_norm\n",
    "mesh_point.point_data[\"vort_y n\"] = vort_y_norm\n",
    "mesh_point.point_data[\"vort_z n\"] = vort_z_norm"
   ]
  },
  {
   "cell_type": "code",
   "execution_count": 65,
   "id": "e8bbafaa",
   "metadata": {},
   "outputs": [
    {
     "data": {
      "text/html": [
       "<table><tr><th>Header</th><th>Data Arrays</th></tr><tr><td>\n",
       "<table>\n",
       "<tr><th>UnstructuredGrid</th><th>Information</th></tr>\n",
       "<tr><td>N Cells</td><td>37235</td></tr>\n",
       "<tr><td>N Points</td><td>25012</td></tr>\n",
       "<tr><td>X Bounds</td><td>-2.060e-02, 2.900e-01</td></tr>\n",
       "<tr><td>Y Bounds</td><td>-2.540e-02, 2.540e-02</td></tr>\n",
       "<tr><td>Z Bounds</td><td>-5.000e-04, 5.000e-04</td></tr>\n",
       "<tr><td>N Arrays</td><td>33</td></tr>\n",
       "</table>\n",
       "\n",
       "</td><td>\n",
       "<table>\n",
       "<tr><th>Name</th><th>Field</th><th>Type</th><th>N Comp</th><th>Min</th><th>Max</th></tr>\n",
       "<tr><td>U</td><td>Points</td><td>float32</td><td>3</td><td>-2.507e+00</td><td>1.018e+01</td></tr>\n",
       "<tr><td>epsilon</td><td>Points</td><td>float32</td><td>1</td><td>1.280e-01</td><td>5.170e+03</td></tr>\n",
       "<tr><td>k</td><td>Points</td><td>float32</td><td>1</td><td>4.465e-04</td><td>5.496e+00</td></tr>\n",
       "<tr><td>nut</td><td>Points</td><td>float32</td><td>1</td><td>7.010e-08</td><td>5.137e-03</td></tr>\n",
       "<tr><td>p</td><td>Points</td><td>float32</td><td>1</td><td>-8.015e+00</td><td>1.454e+01</td></tr>\n",
       "<tr><td>U-normed</td><td>Points</td><td>float32</td><td>1</td><td>2.250e-03</td><td>1.018e+01</td></tr>\n",
       "<tr><td>ux</td><td>Points</td><td>float32</td><td>1</td><td>-2.507e+00</td><td>1.018e+01</td></tr>\n",
       "<tr><td>uy</td><td>Points</td><td>float32</td><td>1</td><td>-6.843e-01</td><td>6.324e-01</td></tr>\n",
       "<tr><td>uz</td><td>Points</td><td>float32</td><td>1</td><td>-1.641e-16</td><td>1.478e-16</td></tr>\n",
       "<tr><td>dU/dx</td><td>Points</td><td>float32</td><td>1</td><td>-6.913e+02</td><td>7.574e+02</td></tr>\n",
       "<tr><td>dU/dy</td><td>Points</td><td>float32</td><td>1</td><td>-6.797e+03</td><td>1.111e+04</td></tr>\n",
       "<tr><td>dU/dz</td><td>Points</td><td>float32</td><td>1</td><td>-1.754e-12</td><td>1.836e-12</td></tr>\n",
       "<tr><td>dux/dx</td><td>Points</td><td>float32</td><td>1</td><td>-6.919e+02</td><td>8.186e+02</td></tr>\n",
       "<tr><td>dux/dy</td><td>Points</td><td>float32</td><td>1</td><td>-6.762e+03</td><td>1.135e+04</td></tr>\n",
       "<tr><td>dux/dz</td><td>Points</td><td>float32</td><td>1</td><td>-1.754e-12</td><td>1.836e-12</td></tr>\n",
       "<tr><td>duy/dx</td><td>Points</td><td>float32</td><td>1</td><td>-2.322e+02</td><td>2.527e+02</td></tr>\n",
       "<tr><td>duy/dy</td><td>Points</td><td>float32</td><td>1</td><td>-7.487e+02</td><td>1.089e+03</td></tr>\n",
       "<tr><td>duy/dz</td><td>Points</td><td>float32</td><td>1</td><td>-1.069e-13</td><td>1.443e-13</td></tr>\n",
       "<tr><td>duz/dx</td><td>Points</td><td>float32</td><td>1</td><td>-4.516e-14</td><td>4.734e-14</td></tr>\n",
       "<tr><td>duz/dy</td><td>Points</td><td>float32</td><td>1</td><td>-4.437e-13</td><td>4.251e-13</td></tr>\n",
       "<tr><td>duz/dz</td><td>Points</td><td>float32</td><td>1</td><td>-4.088e-29</td><td>4.016e-29</td></tr>\n",
       "<tr><td>vort_x</td><td>Points</td><td>float32</td><td>1</td><td>-4.437e-13</td><td>4.251e-13</td></tr>\n",
       "<tr><td>vort_y</td><td>Points</td><td>float32</td><td>1</td><td>-1.754e-12</td><td>1.836e-12</td></tr>\n",
       "<tr><td>vort_z</td><td>Points</td><td>float32</td><td>1</td><td>-1.140e+04</td><td>6.832e+03</td></tr>\n",
       "<tr><td>dux/dx n</td><td>Points</td><td>float32</td><td>1</td><td>0.000e+00</td><td>1.000e+00</td></tr>\n",
       "<tr><td>duy/dx n</td><td>Points</td><td>float32</td><td>1</td><td>0.000e+00</td><td>1.000e+00</td></tr>\n",
       "<tr><td>duz/dx n</td><td>Points</td><td>float32</td><td>1</td><td>0.000e+00</td><td>1.000e+00</td></tr>\n",
       "<tr><td>dux/dy n</td><td>Points</td><td>float32</td><td>1</td><td>0.000e+00</td><td>1.000e+00</td></tr>\n",
       "<tr><td>duy/dy n</td><td>Points</td><td>float32</td><td>1</td><td>0.000e+00</td><td>1.000e+00</td></tr>\n",
       "<tr><td>duz/dy n</td><td>Points</td><td>float32</td><td>1</td><td>0.000e+00</td><td>1.000e+00</td></tr>\n",
       "<tr><td>vort_x n</td><td>Points</td><td>float32</td><td>1</td><td>0.000e+00</td><td>1.000e+00</td></tr>\n",
       "<tr><td>vort_y n</td><td>Points</td><td>float32</td><td>1</td><td>0.000e+00</td><td>1.000e+00</td></tr>\n",
       "<tr><td><b>vort_z n</b></td><td>Points</td><td>float32</td><td>1</td><td>0.000e+00</td><td>1.000e+00</td></tr>\n",
       "</table>\n",
       "\n",
       "</td></tr> </table>"
      ],
      "text/plain": [
       "UnstructuredGrid (0x2bdb84e2880)\n",
       "  N Cells:\t37235\n",
       "  N Points:\t25012\n",
       "  X Bounds:\t-2.060e-02, 2.900e-01\n",
       "  Y Bounds:\t-2.540e-02, 2.540e-02\n",
       "  Z Bounds:\t-5.000e-04, 5.000e-04\n",
       "  N Arrays:\t33"
      ]
     },
     "execution_count": 65,
     "metadata": {},
     "output_type": "execute_result"
    }
   ],
   "source": [
    "mesh_point"
   ]
  },
  {
   "cell_type": "code",
   "execution_count": 66,
   "id": "224fac9f",
   "metadata": {},
   "outputs": [
    {
     "data": {
      "application/vnd.jupyter.widget-view+json": {
       "model_id": "bff2ff26da8946ca8b21077192fe8d29",
       "version_major": 2,
       "version_minor": 0
      },
      "text/plain": [
       "ViewInteractiveWidget(height=768, layout=Layout(height='auto', width='100%'), width=1024)"
      ]
     },
     "metadata": {},
     "output_type": "display_data"
    }
   ],
   "source": [
    "#plot\n",
    "plotter = pv.Plotter(shape=(3, 3))\n",
    "\n",
    "plotter.subplot(0, 0)\n",
    "plotter.add_text(\"dux/dx n\", font_size=20)\n",
    "plotter.add_mesh(mesh_point,scalars='dux/dx n')\n",
    "plotter.view_xy()\n",
    "plotter.add_axes()\n",
    "\n",
    "plotter.subplot(0, 1)\n",
    "plotter.add_text(\"dux/dy n\", font_size=20)\n",
    "plotter.add_mesh(mesh_point.copy(),scalars=\"dux/dy n\")\n",
    "plotter.view_xy()\n",
    "plotter.add_axes()\n",
    "\n",
    "plotter.subplot(0, 2)\n",
    "plotter.add_text(\"dux/dz n\", font_size=20)\n",
    "plotter.add_mesh(mesh_point.copy(),scalars=\"dux/dz\")\n",
    "plotter.view_xy()\n",
    "plotter.add_axes()\n",
    "\n",
    "plotter.subplot(1, 0)\n",
    "plotter.add_text(\"duy/dx n\", font_size=20)\n",
    "plotter.add_mesh(mesh_point.copy(),scalars=\"duy/dx n\")\n",
    "plotter.view_xy()\n",
    "plotter.add_axes()\n",
    "\n",
    "plotter.subplot(1, 1)\n",
    "plotter.add_text(\"duy/dy n\", font_size=20)\n",
    "plotter.add_mesh(mesh_point.copy(),scalars=\"duy/dy n\")\n",
    "plotter.view_xy()\n",
    "plotter.add_axes()\n",
    "\n",
    "plotter.subplot(1, 2)\n",
    "plotter.add_text(\"duy/dz n\", font_size=20)\n",
    "plotter.add_mesh(mesh_point.copy(),scalars=\"duy/dz\")\n",
    "plotter.view_xy()\n",
    "plotter.add_axes()\n",
    "\n",
    "plotter.subplot(2, 0)\n",
    "plotter.add_text(\"duz/dx n\", font_size=20)\n",
    "plotter.add_mesh(mesh_point.copy(),scalars=\"duz/dx n\")\n",
    "plotter.view_xy()\n",
    "plotter.add_axes()\n",
    "\n",
    "plotter.subplot(2, 1)\n",
    "plotter.add_text(\"duz/dy n\", font_size=20)\n",
    "plotter.add_mesh(mesh_point.copy(),scalars=\"duz/dy n\")\n",
    "plotter.view_xy()\n",
    "plotter.add_axes()\n",
    "\n",
    "plotter.subplot(2, 2)\n",
    "plotter.add_text(\"duz/dz n\", font_size=20)\n",
    "plotter.add_mesh(mesh_point.copy(),scalars=\"duz/dz\")\n",
    "plotter.view_xy()\n",
    "plotter.add_axes()\n",
    "\n",
    "plotter.show()"
   ]
  },
  {
   "cell_type": "markdown",
   "id": "60a06c30",
   "metadata": {},
   "source": [
    "<a class=\"anchor\" id=\"chapter5\"></a>"
   ]
  },
  {
   "cell_type": "code",
   "execution_count": 67,
   "id": "d56104cc",
   "metadata": {},
   "outputs": [
    {
     "data": {
      "application/vnd.jupyter.widget-view+json": {
       "model_id": "22e43a5788d241cea548d83f23808afa",
       "version_major": 2,
       "version_minor": 0
      },
      "text/plain": [
       "ViewInteractiveWidget(height=768, layout=Layout(height='auto', width='100%'), width=1024)"
      ]
     },
     "metadata": {},
     "output_type": "display_data"
    }
   ],
   "source": [
    "### multiplot\n",
    "\n",
    "plotter = pv.Plotter(shape=(1, 3))\n",
    "\n",
    "plotter.subplot(0, 0)\n",
    "plotter.add_text(\"vort_x n\", font_size=20)\n",
    "plotter.add_mesh(mesh_point,scalars=\"vort_x n\")\n",
    "plotter.view_xy()\n",
    "plotter.add_axes()\n",
    "\n",
    "plotter.subplot(0, 1)\n",
    "plotter.add_text(\"vort_y n\", font_size=20)\n",
    "plotter.add_mesh(mesh_point.copy(),scalars=\"vort_y n\")\n",
    "plotter.view_xy()\n",
    "plotter.add_axes()\n",
    "\n",
    "plotter.subplot(0, 2)\n",
    "plotter.add_text(\"vort_z n\", font_size=20)\n",
    "plotter.add_mesh(mesh_point.copy(),scalars=\"vort_z n\")\n",
    "plotter.view_xy()\n",
    "plotter.add_axes()\n",
    "\n",
    "plotter.show()"
   ]
  },
  {
   "cell_type": "markdown",
   "id": "efae81ef",
   "metadata": {},
   "source": [
    "## Wall shear stress"
   ]
  },
  {
   "cell_type": "markdown",
   "id": "04cc1e0b",
   "metadata": {},
   "source": [
    "This part requires an updated version of PyVista."
   ]
  },
  {
   "cell_type": "markdown",
   "id": "aee86477",
   "metadata": {},
   "source": [
    "In the Anaconda prompt, please type \"conda install git\" and execute."
   ]
  },
  {
   "cell_type": "markdown",
   "id": "d8a66bc7",
   "metadata": {},
   "source": [
    "Then, in the cell just below, copy paste and execute this instruction: "
   ]
  },
  {
   "cell_type": "markdown",
   "id": "766b900f",
   "metadata": {},
   "source": [
    "pip install git+https://github.com/pyvista/pyvista.git@refs/pull/1896/head"
   ]
  },
  {
   "cell_type": "markdown",
   "id": "112c35fb",
   "metadata": {},
   "source": [
    "(Be aware of having the administrator rights in both cases)"
   ]
  },
  {
   "cell_type": "code",
   "execution_count": 68,
   "id": "e2cd69e5",
   "metadata": {},
   "outputs": [],
   "source": [
    "#pip install git+https://github.com/pyvista/pyvista.git@refs/pull/1896/head"
   ]
  },
  {
   "cell_type": "code",
   "execution_count": 69,
   "id": "06563c15",
   "metadata": {},
   "outputs": [],
   "source": [
    "#pdt_scal=np.dot(lower_wall_point.point_data[\"dux/dy\"],lower_wall_point.point_data[\"Normals\"])\n",
    "#lower_wall_point.point_data[\"dux/dy\"].shape\n",
    "#pdt_scal"
   ]
  },
  {
   "cell_type": "code",
   "execution_count": 70,
   "id": "92d9965e",
   "metadata": {
    "scrolled": true
   },
   "outputs": [],
   "source": [
    "#visc=18.5e-6\n",
    "#wss=visc*pdt_scal\n",
    "#lower_wall_point.add_field_data(wss, 'wss')\n",
    "#lower_wall_point"
   ]
  },
  {
   "cell_type": "markdown",
   "id": "5df9969e",
   "metadata": {},
   "source": [
    "## Let's get the gradients at one of the patches"
   ]
  },
  {
   "cell_type": "code",
   "execution_count": 71,
   "id": "afedeb1b",
   "metadata": {},
   "outputs": [],
   "source": [
    "#lower_wall_cell = lower_wall_cell.compute_derivative(scalars=\"U\")\n",
    "#lower_wall_cell"
   ]
  },
  {
   "cell_type": "code",
   "execution_count": 72,
   "id": "89d236b5",
   "metadata": {},
   "outputs": [],
   "source": [
    "# deriv will contain the data from the gradient of U (9 components)\n",
    "#deriv_cell = lower_wall_cell.compute_derivative(scalars=\"U\")\n",
    "\n",
    "#grad_cell = gradients_to_dict(deriv_cell[\"gradient\"])\n",
    "\n",
    "#lower_wall_cell.cell_data[\"dux/dx\"] = grad_cell[\"dux/dx\"]\n",
    "#lower_wall_cell.cell_data[\"dux/dy\"] = grad_cell[\"dux/dy\"]\n",
    "#lower_wall_cell.cell_data[\"dux/dz\"] = grad_cell[\"dux/dz\"]\n",
    "#lower_wall_cell.cell_data[\"duy/dx\"] = grad_cell[\"duy/dx\"]\n",
    "#lower_wall_cell.cell_data[\"duy/dy\"] = grad_cell[\"duy/dy\"]\n",
    "#lower_wall_cell.cell_data[\"duy/dz\"] = grad_cell[\"duy/dz\"]\n",
    "#lower_wall_cell.cell_data[\"duz/dx\"] = grad_cell[\"duz/dx\"]\n",
    "#lower_wall_cell.cell_data[\"duz/dy\"] = grad_cell[\"duz/dy\"]\n",
    "#lower_wall_cell.cell_data[\"duz/dz\"] = grad_cell[\"duz/dz\"]\n",
    "\n",
    "#lower_wall_cell"
   ]
  },
  {
   "cell_type": "code",
   "execution_count": 73,
   "id": "a3fc9be0",
   "metadata": {},
   "outputs": [],
   "source": [
    "#lower_wall_point = lower_wall_point.compute_derivative(scalars=\"U\")\n",
    "#lower_wall_point"
   ]
  },
  {
   "cell_type": "code",
   "execution_count": 74,
   "id": "2666df8f",
   "metadata": {},
   "outputs": [],
   "source": [
    "# deriv will contain the data from the gradient of U (9 components)\n",
    "#deriv_point = lower_wall_point.compute_derivative(scalars=\"U\")\n",
    "\n",
    "#grad_point = gradients_to_dict(deriv_point[\"gradient\"])\n",
    "\n",
    "#lower_wall_point.point_data[\"dux/dx\"] = grad_point[\"dux/dx\"]\n",
    "#lower_wall_point.point_data[\"dux/dy\"] = grad_point[\"dux/dy\"]\n",
    "#lower_wall_point.point_data[\"dux/dz\"] = grad_point[\"dux/dz\"]\n",
    "#lower_wall_point.point_data[\"duy/dx\"] = grad_point[\"duy/dx\"]\n",
    "#lower_wall_point.point_data[\"duy/dy\"] = grad_point[\"duy/dy\"]\n",
    "#lower_wall_point.point_data[\"duy/dz\"] = grad_point[\"duy/dz\"]\n",
    "#lower_wall_point.point_data[\"duz/dx\"] = grad_point[\"duz/dx\"]\n",
    "#lower_wall_point.point_data[\"duz/dy\"] = grad_point[\"duz/dy\"]\n",
    "#lower_wall_point.point_data[\"duz/dz\"] = grad_point[\"duz/dz\"]\n",
    "\n",
    "#lower_wall_point"
   ]
  },
  {
   "cell_type": "code",
   "execution_count": 75,
   "id": "a3fc8b36",
   "metadata": {},
   "outputs": [],
   "source": [
    "#lower_wall_cell= lower_wall_cell.compute_normals()\n",
    "#normals_cell = lower_wall_cell.active_normals\n",
    "#normals_cell.shape"
   ]
  },
  {
   "cell_type": "code",
   "execution_count": 76,
   "id": "bb085c0a",
   "metadata": {},
   "outputs": [],
   "source": [
    "#lower_wall_cell"
   ]
  },
  {
   "cell_type": "code",
   "execution_count": 77,
   "id": "e62c1c5d",
   "metadata": {},
   "outputs": [],
   "source": [
    "#lower_wall_point= lower_wall_point.compute_normals()\n",
    "#normals_point = lower_wall_point.active_normals\n",
    "#normals_point.shape"
   ]
  },
  {
   "cell_type": "code",
   "execution_count": 78,
   "id": "583a32ba",
   "metadata": {},
   "outputs": [],
   "source": [
    "#lower_wall_point.clear_cell_data()\n",
    "#lower_wall_point"
   ]
  },
  {
   "cell_type": "code",
   "execution_count": 79,
   "id": "032b7e17",
   "metadata": {},
   "outputs": [
    {
     "data": {
      "text/html": [
       "<table><tr><th>Header</th><th>Data Arrays</th></tr><tr><td>\n",
       "<table>\n",
       "<tr><th>PolyData</th><th>Information</th></tr>\n",
       "<tr><td>N Cells</td><td>1</td></tr>\n",
       "<tr><td>N Points</td><td>37236</td></tr>\n",
       "<tr><td>X Bounds</td><td>0.000e+00, 2.900e-01</td></tr>\n",
       "<tr><td>Y Bounds</td><td>-1.500e-02, -1.500e-02</td></tr>\n",
       "<tr><td>Z Bounds</td><td>0.000e+00, 0.000e+00</td></tr>\n",
       "<tr><td>N Arrays</td><td>38</td></tr>\n",
       "</table>\n",
       "\n",
       "</td><td>\n",
       "<table>\n",
       "<tr><th>Name</th><th>Field</th><th>Type</th><th>N Comp</th><th>Min</th><th>Max</th></tr>\n",
       "<tr><td>U</td><td>Points</td><td>float32</td><td>3</td><td>-9.402e-01</td><td>6.110e+00</td></tr>\n",
       "<tr><td>U-normed</td><td>Points</td><td>float32</td><td>1</td><td>8.713e-02</td><td>6.127e+00</td></tr>\n",
       "<tr><td>dU/dx</td><td>Points</td><td>float32</td><td>1</td><td>-1.782e+01</td><td>1.002e+02</td></tr>\n",
       "<tr><td>dU/dy</td><td>Points</td><td>float32</td><td>1</td><td>-2.553e+02</td><td>2.386e+02</td></tr>\n",
       "<tr><td>dU/dz</td><td>Points</td><td>float32</td><td>1</td><td>-4.295e-14</td><td>0.000e+00</td></tr>\n",
       "<tr><td>dux/dx</td><td>Points</td><td>float32</td><td>1</td><td>-3.179e+01</td><td>5.703e+01</td></tr>\n",
       "<tr><td>dux/dx n</td><td>Points</td><td>float32</td><td>1</td><td>4.370e-01</td><td>4.958e-01</td></tr>\n",
       "<tr><td>dux/dy</td><td>Points</td><td>float32</td><td>1</td><td>2.482e-01</td><td>2.757e+02</td></tr>\n",
       "<tr><td>dux/dy n</td><td>Points</td><td>float32</td><td>1</td><td>3.733e-01</td><td>3.885e-01</td></tr>\n",
       "<tr><td>dux/dz</td><td>Points</td><td>float32</td><td>1</td><td>-4.346e-14</td><td>0.000e+00</td></tr>\n",
       "<tr><td>duy/dx</td><td>Points</td><td>float32</td><td>1</td><td>-1.047e+01</td><td>9.761e+01</td></tr>\n",
       "<tr><td>duy/dx n</td><td>Points</td><td>float32</td><td>1</td><td>4.572e-01</td><td>6.801e-01</td></tr>\n",
       "<tr><td>duy/dy</td><td>Points</td><td>float32</td><td>1</td><td>-6.319e+01</td><td>3.308e+01</td></tr>\n",
       "<tr><td>duy/dy n</td><td>Points</td><td>float32</td><td>1</td><td>3.730e-01</td><td>4.254e-01</td></tr>\n",
       "<tr><td>duy/dz</td><td>Points</td><td>float32</td><td>1</td><td>-7.458e-15</td><td>0.000e+00</td></tr>\n",
       "<tr><td>duz/dx</td><td>Points</td><td>float32</td><td>1</td><td>-1.921e-15</td><td>5.756e-16</td></tr>\n",
       "<tr><td>duz/dx n</td><td>Points</td><td>float32</td><td>1</td><td>4.674e-01</td><td>4.944e-01</td></tr>\n",
       "<tr><td>duz/dy</td><td>Points</td><td>float32</td><td>1</td><td>-6.169e-15</td><td>8.242e-15</td></tr>\n",
       "<tr><td>duz/dy n</td><td>Points</td><td>float32</td><td>1</td><td>5.037e-01</td><td>5.202e-01</td></tr>\n",
       "<tr><td>duz/dz</td><td>Points</td><td>float32</td><td>1</td><td>-6.435e-31</td><td>0.000e+00</td></tr>\n",
       "<tr><td>epsilon</td><td>Points</td><td>float32</td><td>1</td><td>2.298e+00</td><td>3.743e+02</td></tr>\n",
       "<tr><td>k</td><td>Points</td><td>float32</td><td>1</td><td>2.377e-02</td><td>4.478e+00</td></tr>\n",
       "<tr><td>nut</td><td>Points</td><td>float32</td><td>1</td><td>4.976e-06</td><td>4.963e-03</td></tr>\n",
       "<tr><td>p</td><td>Points</td><td>float32</td><td>1</td><td>-7.981e+00</td><td>1.188e+01</td></tr>\n",
       "<tr><td>ux</td><td>Points</td><td>float32</td><td>1</td><td>-9.402e-01</td><td>6.110e+00</td></tr>\n",
       "<tr><td>uy</td><td>Points</td><td>float32</td><td>1</td><td>-3.451e-01</td><td>4.520e-01</td></tr>\n",
       "<tr><td>uz</td><td>Points</td><td>float32</td><td>1</td><td>-1.038e-17</td><td>1.727e-18</td></tr>\n",
       "<tr><td>vort_x</td><td>Points</td><td>float32</td><td>1</td><td>-6.169e-15</td><td>8.784e-15</td></tr>\n",
       "<tr><td><b>vort_x n</b></td><td>Points</td><td>float32</td><td>1</td><td>5.037e-01</td><td>5.209e-01</td></tr>\n",
       "<tr><td>vort_y</td><td>Points</td><td>float32</td><td>1</td><td>-4.369e-14</td><td>1.921e-15</td></tr>\n",
       "<tr><td>vort_y n</td><td>Points</td><td>float32</td><td>1</td><td>4.764e-01</td><td>4.891e-01</td></tr>\n",
       "<tr><td>vort_z</td><td>Points</td><td>float32</td><td>1</td><td>-2.813e+02</td><td>9.710e+01</td></tr>\n",
       "<tr><td>vort_z n</td><td>Points</td><td>float32</td><td>1</td><td>6.098e-01</td><td>6.306e-01</td></tr>\n",
       "<tr><td>vtkValidPointMask</td><td>Points</td><td>int8</td><td>1</td><td>1.000e+00</td><td>1.000e+00</td></tr>\n",
       "<tr><td>Texture Coordinates</td><td>Points</td><td>float32</td><td>2</td><td>0.000e+00</td><td>1.000e+00</td></tr>\n",
       "<tr><td>Distance</td><td>Points</td><td>float64</td><td>1</td><td>3.353e-10</td><td>2.900e-01</td></tr>\n",
       "<tr><td>vtkGhostType</td><td>Points</td><td>uint8</td><td>1</td><td>0.000e+00</td><td>0.000e+00</td></tr>\n",
       "<tr><td>vtkGhostType</td><td>Cells</td><td>uint8</td><td>1</td><td>0.000e+00</td><td>0.000e+00</td></tr>\n",
       "</table>\n",
       "\n",
       "</td></tr> </table>"
      ],
      "text/plain": [
       "PolyData (0x2be675ff760)\n",
       "  N Cells:\t1\n",
       "  N Points:\t37236\n",
       "  X Bounds:\t0.000e+00, 2.900e-01\n",
       "  Y Bounds:\t-1.500e-02, -1.500e-02\n",
       "  Z Bounds:\t0.000e+00, 0.000e+00\n",
       "  N Arrays:\t38"
      ]
     },
     "execution_count": 79,
     "metadata": {},
     "output_type": "execute_result"
    }
   ],
   "source": [
    "data_line = mesh_point.sample_over_line(A, B)\n",
    "data_line"
   ]
  },
  {
   "cell_type": "code",
   "execution_count": null,
   "id": "e3735125",
   "metadata": {},
   "outputs": [],
   "source": []
  }
 ],
 "metadata": {
  "kernelspec": {
   "display_name": "Python 3",
   "language": "python",
   "name": "python3"
  },
  "language_info": {
   "codemirror_mode": {
    "name": "ipython",
    "version": 3
   },
   "file_extension": ".py",
   "mimetype": "text/x-python",
   "name": "python",
   "nbconvert_exporter": "python",
   "pygments_lexer": "ipython3",
   "version": "3.8.8"
  }
 },
 "nbformat": 4,
 "nbformat_minor": 5
}
